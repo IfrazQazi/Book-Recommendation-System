{
  "nbformat": 4,
  "nbformat_minor": 0,
  "metadata": {
    "colab": {
      "name": "Book Recommendation system.ipynb",
      "provenance": [],
      "mount_file_id": "1rXtE3ltiQeY7ryjbva5BlE5pDkkkBz1r",
      "authorship_tag": "ABX9TyOEGEkXCrRQJnpVboBuIPm3",
      "include_colab_link": true
    },
    "kernelspec": {
      "name": "python3",
      "display_name": "Python 3"
    },
    "language_info": {
      "name": "python"
    }
  },
  "cells": [
    {
      "cell_type": "markdown",
      "metadata": {
        "id": "view-in-github",
        "colab_type": "text"
      },
      "source": [
        "<a href=\"https://colab.research.google.com/github/IfrazQazi/Book-Recommendation-System/blob/main/Book_Recommendation_system.ipynb\" target=\"_parent\"><img src=\"https://colab.research.google.com/assets/colab-badge.svg\" alt=\"Open In Colab\"/></a>"
      ]
    },
    {
      "cell_type": "markdown",
      "source": [
        "#**BOOK RECOMMENDATION SYSTEM**\n",
        "##**Problem Statement**\n",
        "## During the last few decades, with the rise of Youtube, Amazon, Netflix, and many other such web services, recommender systems have taken more and more place in our lives. From e-commerce (suggest to buyers articles that could interest them) to online advertisement (suggest to users the right contents, matching their preferences), recommender systems are today unavoidable in our daily online journeys.\n",
        "##In a very general way, recommender systems are algorithms aimed at suggesting relevant items to users (items being movies to watch, text to read, products to buy, or anything else depending on industries).\n",
        "##Recommender systems are really critical in some industries as they can generate a huge amount of income when they are efficient or also be a way to stand out significantly from competitors. The main objective is to create a book recommendation system for users.\n",
        "\n",
        "## Content\n",
        "## The Book-Crossing dataset comprises 3 files.\n",
        "##● Users\n",
        "##Contains the users. Note that user IDs (User-ID) have been anonymized and map to integers. Demographic data is provided (Location, Age) if available. Otherwise, these fields contain NULL values.\n",
        "## ● Books\n",
        "## Books are identified by their respective ISBN. Invalid ISBNs have already been removed from the dataset. Moreover, some content-based information is given (Book-Title, Book-Author, Year-Of-Publication, Publisher), obtained from Amazon Web Services. Note that in the case of several authors, only the first is provided. URLs linking to cover images are also given, appearing in three different flavors (Image-URL-S, Image-URL-M, Image-URL-L), i.e., small, medium, large. These URLs point to the Amazon website.\n",
        "##● Ratings\n",
        "##Contains the book rating information. Ratings (Book-Rating) are either explicit, expressed on a scale from 1-10 (higher values denoting higher appreciation), or implicit, expressed by 0."
      ],
      "metadata": {
        "id": "HZ3qDOlMJ1qQ"
      }
    },
    {
      "cell_type": "code",
      "execution_count": null,
      "metadata": {
        "id": "QWE84hEtJ0zX"
      },
      "outputs": [],
      "source": [
        "#Importing libraries\n",
        "import pandas as pd\n",
        "import sys\n",
        "import numpy as np\n",
        "import matplotlib.pyplot as plt\n",
        "import seaborn as sns\n",
        "import plotly.express as px\n",
        "import plotly.graph_objects as go\n",
        "import random\n",
        "# This is to supress the warning messages (if any) generated in our code\n",
        "import warnings\n",
        "warnings.filterwarnings('ignore')"
      ]
    },
    {
      "cell_type": "code",
      "source": [
        "# Mounting drive with google colab notebook\n",
        "from google.colab import drive\n",
        "drive.mount('/content/drive')"
      ],
      "metadata": {
        "colab": {
          "base_uri": "https://localhost:8080/"
        },
        "id": "8Wffn1WeMb5e",
        "outputId": "5bd19cad-21a7-4e0c-be5f-d543fef6297e"
      },
      "execution_count": null,
      "outputs": [
        {
          "output_type": "stream",
          "name": "stdout",
          "text": [
            "Drive already mounted at /content/drive; to attempt to forcibly remount, call drive.mount(\"/content/drive\", force_remount=True).\n"
          ]
        }
      ]
    },
    {
      "cell_type": "markdown",
      "source": [
        "## Loading data"
      ],
      "metadata": {
        "id": "UANjHa7mOjNj"
      }
    },
    {
      "cell_type": "code",
      "source": [
        "## loading book data set\n",
        "books = pd.read_csv('/content/drive/MyDrive/AlmaBetter/Book Recommendation system/Books.csv')"
      ],
      "metadata": {
        "id": "tQKKkfTWL10U"
      },
      "execution_count": null,
      "outputs": []
    },
    {
      "cell_type": "code",
      "source": [
        "## loading users data set\n",
        "users = pd.read_csv('/content/drive/MyDrive/AlmaBetter/Book Recommendation system/Users.csv')"
      ],
      "metadata": {
        "id": "IKbC6qvOMjS3"
      },
      "execution_count": null,
      "outputs": []
    },
    {
      "cell_type": "code",
      "source": [
        "## loading Ratings data set\n",
        "ratings = pd.read_csv('/content/drive/MyDrive/AlmaBetter/Book Recommendation system/Ratings.csv')"
      ],
      "metadata": {
        "id": "gUivLtjBOWRm"
      },
      "execution_count": null,
      "outputs": []
    },
    {
      "cell_type": "markdown",
      "source": [
        "## Lets check Book data set"
      ],
      "metadata": {
        "id": "Wb905hpIO6mD"
      }
    },
    {
      "cell_type": "code",
      "source": [
        "books.shape"
      ],
      "metadata": {
        "colab": {
          "base_uri": "https://localhost:8080/"
        },
        "id": "aojajO0XO1St",
        "outputId": "f97a5a29-69f8-4438-9466-d406f39e90c5"
      },
      "execution_count": null,
      "outputs": [
        {
          "output_type": "execute_result",
          "data": {
            "text/plain": [
              "(271360, 8)"
            ]
          },
          "metadata": {},
          "execution_count": 6
        }
      ]
    },
    {
      "cell_type": "markdown",
      "source": [
        "## books data set is having shape of 271360 observation 8 columns."
      ],
      "metadata": {
        "id": "THbAW7IlPP_W"
      }
    },
    {
      "cell_type": "code",
      "source": [
        "print(\"Columns: \", list(books.columns))\n",
        "books.head()"
      ],
      "metadata": {
        "colab": {
          "base_uri": "https://localhost:8080/",
          "height": 496
        },
        "id": "6csWhQJUPMI-",
        "outputId": "4c1f0ece-7fbe-4066-c8bf-4a8db7c9757c"
      },
      "execution_count": null,
      "outputs": [
        {
          "output_type": "stream",
          "name": "stdout",
          "text": [
            "Columns:  ['ISBN', 'Book-Title', 'Book-Author', 'Year-Of-Publication', 'Publisher', 'Image-URL-S', 'Image-URL-M', 'Image-URL-L']\n"
          ]
        },
        {
          "output_type": "execute_result",
          "data": {
            "text/html": [
              "\n",
              "  <div id=\"df-f56d0b5b-fae4-4a53-a436-a463a8d252a3\">\n",
              "    <div class=\"colab-df-container\">\n",
              "      <div>\n",
              "<style scoped>\n",
              "    .dataframe tbody tr th:only-of-type {\n",
              "        vertical-align: middle;\n",
              "    }\n",
              "\n",
              "    .dataframe tbody tr th {\n",
              "        vertical-align: top;\n",
              "    }\n",
              "\n",
              "    .dataframe thead th {\n",
              "        text-align: right;\n",
              "    }\n",
              "</style>\n",
              "<table border=\"1\" class=\"dataframe\">\n",
              "  <thead>\n",
              "    <tr style=\"text-align: right;\">\n",
              "      <th></th>\n",
              "      <th>ISBN</th>\n",
              "      <th>Book-Title</th>\n",
              "      <th>Book-Author</th>\n",
              "      <th>Year-Of-Publication</th>\n",
              "      <th>Publisher</th>\n",
              "      <th>Image-URL-S</th>\n",
              "      <th>Image-URL-M</th>\n",
              "      <th>Image-URL-L</th>\n",
              "    </tr>\n",
              "  </thead>\n",
              "  <tbody>\n",
              "    <tr>\n",
              "      <th>0</th>\n",
              "      <td>0195153448</td>\n",
              "      <td>Classical Mythology</td>\n",
              "      <td>Mark P. O. Morford</td>\n",
              "      <td>2002</td>\n",
              "      <td>Oxford University Press</td>\n",
              "      <td>http://images.amazon.com/images/P/0195153448.0...</td>\n",
              "      <td>http://images.amazon.com/images/P/0195153448.0...</td>\n",
              "      <td>http://images.amazon.com/images/P/0195153448.0...</td>\n",
              "    </tr>\n",
              "    <tr>\n",
              "      <th>1</th>\n",
              "      <td>0002005018</td>\n",
              "      <td>Clara Callan</td>\n",
              "      <td>Richard Bruce Wright</td>\n",
              "      <td>2001</td>\n",
              "      <td>HarperFlamingo Canada</td>\n",
              "      <td>http://images.amazon.com/images/P/0002005018.0...</td>\n",
              "      <td>http://images.amazon.com/images/P/0002005018.0...</td>\n",
              "      <td>http://images.amazon.com/images/P/0002005018.0...</td>\n",
              "    </tr>\n",
              "    <tr>\n",
              "      <th>2</th>\n",
              "      <td>0060973129</td>\n",
              "      <td>Decision in Normandy</td>\n",
              "      <td>Carlo D'Este</td>\n",
              "      <td>1991</td>\n",
              "      <td>HarperPerennial</td>\n",
              "      <td>http://images.amazon.com/images/P/0060973129.0...</td>\n",
              "      <td>http://images.amazon.com/images/P/0060973129.0...</td>\n",
              "      <td>http://images.amazon.com/images/P/0060973129.0...</td>\n",
              "    </tr>\n",
              "    <tr>\n",
              "      <th>3</th>\n",
              "      <td>0374157065</td>\n",
              "      <td>Flu: The Story of the Great Influenza Pandemic...</td>\n",
              "      <td>Gina Bari Kolata</td>\n",
              "      <td>1999</td>\n",
              "      <td>Farrar Straus Giroux</td>\n",
              "      <td>http://images.amazon.com/images/P/0374157065.0...</td>\n",
              "      <td>http://images.amazon.com/images/P/0374157065.0...</td>\n",
              "      <td>http://images.amazon.com/images/P/0374157065.0...</td>\n",
              "    </tr>\n",
              "    <tr>\n",
              "      <th>4</th>\n",
              "      <td>0393045218</td>\n",
              "      <td>The Mummies of Urumchi</td>\n",
              "      <td>E. J. W. Barber</td>\n",
              "      <td>1999</td>\n",
              "      <td>W. W. Norton &amp;amp; Company</td>\n",
              "      <td>http://images.amazon.com/images/P/0393045218.0...</td>\n",
              "      <td>http://images.amazon.com/images/P/0393045218.0...</td>\n",
              "      <td>http://images.amazon.com/images/P/0393045218.0...</td>\n",
              "    </tr>\n",
              "  </tbody>\n",
              "</table>\n",
              "</div>\n",
              "      <button class=\"colab-df-convert\" onclick=\"convertToInteractive('df-f56d0b5b-fae4-4a53-a436-a463a8d252a3')\"\n",
              "              title=\"Convert this dataframe to an interactive table.\"\n",
              "              style=\"display:none;\">\n",
              "        \n",
              "  <svg xmlns=\"http://www.w3.org/2000/svg\" height=\"24px\"viewBox=\"0 0 24 24\"\n",
              "       width=\"24px\">\n",
              "    <path d=\"M0 0h24v24H0V0z\" fill=\"none\"/>\n",
              "    <path d=\"M18.56 5.44l.94 2.06.94-2.06 2.06-.94-2.06-.94-.94-2.06-.94 2.06-2.06.94zm-11 1L8.5 8.5l.94-2.06 2.06-.94-2.06-.94L8.5 2.5l-.94 2.06-2.06.94zm10 10l.94 2.06.94-2.06 2.06-.94-2.06-.94-.94-2.06-.94 2.06-2.06.94z\"/><path d=\"M17.41 7.96l-1.37-1.37c-.4-.4-.92-.59-1.43-.59-.52 0-1.04.2-1.43.59L10.3 9.45l-7.72 7.72c-.78.78-.78 2.05 0 2.83L4 21.41c.39.39.9.59 1.41.59.51 0 1.02-.2 1.41-.59l7.78-7.78 2.81-2.81c.8-.78.8-2.07 0-2.86zM5.41 20L4 18.59l7.72-7.72 1.47 1.35L5.41 20z\"/>\n",
              "  </svg>\n",
              "      </button>\n",
              "      \n",
              "  <style>\n",
              "    .colab-df-container {\n",
              "      display:flex;\n",
              "      flex-wrap:wrap;\n",
              "      gap: 12px;\n",
              "    }\n",
              "\n",
              "    .colab-df-convert {\n",
              "      background-color: #E8F0FE;\n",
              "      border: none;\n",
              "      border-radius: 50%;\n",
              "      cursor: pointer;\n",
              "      display: none;\n",
              "      fill: #1967D2;\n",
              "      height: 32px;\n",
              "      padding: 0 0 0 0;\n",
              "      width: 32px;\n",
              "    }\n",
              "\n",
              "    .colab-df-convert:hover {\n",
              "      background-color: #E2EBFA;\n",
              "      box-shadow: 0px 1px 2px rgba(60, 64, 67, 0.3), 0px 1px 3px 1px rgba(60, 64, 67, 0.15);\n",
              "      fill: #174EA6;\n",
              "    }\n",
              "\n",
              "    [theme=dark] .colab-df-convert {\n",
              "      background-color: #3B4455;\n",
              "      fill: #D2E3FC;\n",
              "    }\n",
              "\n",
              "    [theme=dark] .colab-df-convert:hover {\n",
              "      background-color: #434B5C;\n",
              "      box-shadow: 0px 1px 3px 1px rgba(0, 0, 0, 0.15);\n",
              "      filter: drop-shadow(0px 1px 2px rgba(0, 0, 0, 0.3));\n",
              "      fill: #FFFFFF;\n",
              "    }\n",
              "  </style>\n",
              "\n",
              "      <script>\n",
              "        const buttonEl =\n",
              "          document.querySelector('#df-f56d0b5b-fae4-4a53-a436-a463a8d252a3 button.colab-df-convert');\n",
              "        buttonEl.style.display =\n",
              "          google.colab.kernel.accessAllowed ? 'block' : 'none';\n",
              "\n",
              "        async function convertToInteractive(key) {\n",
              "          const element = document.querySelector('#df-f56d0b5b-fae4-4a53-a436-a463a8d252a3');\n",
              "          const dataTable =\n",
              "            await google.colab.kernel.invokeFunction('convertToInteractive',\n",
              "                                                     [key], {});\n",
              "          if (!dataTable) return;\n",
              "\n",
              "          const docLinkHtml = 'Like what you see? Visit the ' +\n",
              "            '<a target=\"_blank\" href=https://colab.research.google.com/notebooks/data_table.ipynb>data table notebook</a>'\n",
              "            + ' to learn more about interactive tables.';\n",
              "          element.innerHTML = '';\n",
              "          dataTable['output_type'] = 'display_data';\n",
              "          await google.colab.output.renderOutput(dataTable, element);\n",
              "          const docLink = document.createElement('div');\n",
              "          docLink.innerHTML = docLinkHtml;\n",
              "          element.appendChild(docLink);\n",
              "        }\n",
              "      </script>\n",
              "    </div>\n",
              "  </div>\n",
              "  "
            ],
            "text/plain": [
              "         ISBN  ...                                        Image-URL-L\n",
              "0  0195153448  ...  http://images.amazon.com/images/P/0195153448.0...\n",
              "1  0002005018  ...  http://images.amazon.com/images/P/0002005018.0...\n",
              "2  0060973129  ...  http://images.amazon.com/images/P/0060973129.0...\n",
              "3  0374157065  ...  http://images.amazon.com/images/P/0374157065.0...\n",
              "4  0393045218  ...  http://images.amazon.com/images/P/0393045218.0...\n",
              "\n",
              "[5 rows x 8 columns]"
            ]
          },
          "metadata": {},
          "execution_count": 7
        }
      ]
    },
    {
      "cell_type": "code",
      "source": [
        "books.describe()"
      ],
      "metadata": {
        "colab": {
          "base_uri": "https://localhost:8080/",
          "height": 274
        },
        "id": "tmip9o2EQErP",
        "outputId": "aefba18f-72bc-4554-a2d0-8064f5758a2b"
      },
      "execution_count": null,
      "outputs": [
        {
          "output_type": "execute_result",
          "data": {
            "text/html": [
              "\n",
              "  <div id=\"df-30a80747-3a12-45cd-a3c3-ba535a260a85\">\n",
              "    <div class=\"colab-df-container\">\n",
              "      <div>\n",
              "<style scoped>\n",
              "    .dataframe tbody tr th:only-of-type {\n",
              "        vertical-align: middle;\n",
              "    }\n",
              "\n",
              "    .dataframe tbody tr th {\n",
              "        vertical-align: top;\n",
              "    }\n",
              "\n",
              "    .dataframe thead th {\n",
              "        text-align: right;\n",
              "    }\n",
              "</style>\n",
              "<table border=\"1\" class=\"dataframe\">\n",
              "  <thead>\n",
              "    <tr style=\"text-align: right;\">\n",
              "      <th></th>\n",
              "      <th>ISBN</th>\n",
              "      <th>Book-Title</th>\n",
              "      <th>Book-Author</th>\n",
              "      <th>Year-Of-Publication</th>\n",
              "      <th>Publisher</th>\n",
              "      <th>Image-URL-S</th>\n",
              "      <th>Image-URL-M</th>\n",
              "      <th>Image-URL-L</th>\n",
              "    </tr>\n",
              "  </thead>\n",
              "  <tbody>\n",
              "    <tr>\n",
              "      <th>count</th>\n",
              "      <td>271360</td>\n",
              "      <td>271360</td>\n",
              "      <td>271359</td>\n",
              "      <td>271360</td>\n",
              "      <td>271358</td>\n",
              "      <td>271360</td>\n",
              "      <td>271360</td>\n",
              "      <td>271357</td>\n",
              "    </tr>\n",
              "    <tr>\n",
              "      <th>unique</th>\n",
              "      <td>271360</td>\n",
              "      <td>242135</td>\n",
              "      <td>102023</td>\n",
              "      <td>202</td>\n",
              "      <td>16807</td>\n",
              "      <td>271044</td>\n",
              "      <td>271044</td>\n",
              "      <td>271041</td>\n",
              "    </tr>\n",
              "    <tr>\n",
              "      <th>top</th>\n",
              "      <td>0195153448</td>\n",
              "      <td>Selected Poems</td>\n",
              "      <td>Agatha Christie</td>\n",
              "      <td>2002</td>\n",
              "      <td>Harlequin</td>\n",
              "      <td>http://images.amazon.com/images/P/185326119X.0...</td>\n",
              "      <td>http://images.amazon.com/images/P/185326119X.0...</td>\n",
              "      <td>http://images.amazon.com/images/P/225307649X.0...</td>\n",
              "    </tr>\n",
              "    <tr>\n",
              "      <th>freq</th>\n",
              "      <td>1</td>\n",
              "      <td>27</td>\n",
              "      <td>632</td>\n",
              "      <td>13903</td>\n",
              "      <td>7535</td>\n",
              "      <td>2</td>\n",
              "      <td>2</td>\n",
              "      <td>2</td>\n",
              "    </tr>\n",
              "  </tbody>\n",
              "</table>\n",
              "</div>\n",
              "      <button class=\"colab-df-convert\" onclick=\"convertToInteractive('df-30a80747-3a12-45cd-a3c3-ba535a260a85')\"\n",
              "              title=\"Convert this dataframe to an interactive table.\"\n",
              "              style=\"display:none;\">\n",
              "        \n",
              "  <svg xmlns=\"http://www.w3.org/2000/svg\" height=\"24px\"viewBox=\"0 0 24 24\"\n",
              "       width=\"24px\">\n",
              "    <path d=\"M0 0h24v24H0V0z\" fill=\"none\"/>\n",
              "    <path d=\"M18.56 5.44l.94 2.06.94-2.06 2.06-.94-2.06-.94-.94-2.06-.94 2.06-2.06.94zm-11 1L8.5 8.5l.94-2.06 2.06-.94-2.06-.94L8.5 2.5l-.94 2.06-2.06.94zm10 10l.94 2.06.94-2.06 2.06-.94-2.06-.94-.94-2.06-.94 2.06-2.06.94z\"/><path d=\"M17.41 7.96l-1.37-1.37c-.4-.4-.92-.59-1.43-.59-.52 0-1.04.2-1.43.59L10.3 9.45l-7.72 7.72c-.78.78-.78 2.05 0 2.83L4 21.41c.39.39.9.59 1.41.59.51 0 1.02-.2 1.41-.59l7.78-7.78 2.81-2.81c.8-.78.8-2.07 0-2.86zM5.41 20L4 18.59l7.72-7.72 1.47 1.35L5.41 20z\"/>\n",
              "  </svg>\n",
              "      </button>\n",
              "      \n",
              "  <style>\n",
              "    .colab-df-container {\n",
              "      display:flex;\n",
              "      flex-wrap:wrap;\n",
              "      gap: 12px;\n",
              "    }\n",
              "\n",
              "    .colab-df-convert {\n",
              "      background-color: #E8F0FE;\n",
              "      border: none;\n",
              "      border-radius: 50%;\n",
              "      cursor: pointer;\n",
              "      display: none;\n",
              "      fill: #1967D2;\n",
              "      height: 32px;\n",
              "      padding: 0 0 0 0;\n",
              "      width: 32px;\n",
              "    }\n",
              "\n",
              "    .colab-df-convert:hover {\n",
              "      background-color: #E2EBFA;\n",
              "      box-shadow: 0px 1px 2px rgba(60, 64, 67, 0.3), 0px 1px 3px 1px rgba(60, 64, 67, 0.15);\n",
              "      fill: #174EA6;\n",
              "    }\n",
              "\n",
              "    [theme=dark] .colab-df-convert {\n",
              "      background-color: #3B4455;\n",
              "      fill: #D2E3FC;\n",
              "    }\n",
              "\n",
              "    [theme=dark] .colab-df-convert:hover {\n",
              "      background-color: #434B5C;\n",
              "      box-shadow: 0px 1px 3px 1px rgba(0, 0, 0, 0.15);\n",
              "      filter: drop-shadow(0px 1px 2px rgba(0, 0, 0, 0.3));\n",
              "      fill: #FFFFFF;\n",
              "    }\n",
              "  </style>\n",
              "\n",
              "      <script>\n",
              "        const buttonEl =\n",
              "          document.querySelector('#df-30a80747-3a12-45cd-a3c3-ba535a260a85 button.colab-df-convert');\n",
              "        buttonEl.style.display =\n",
              "          google.colab.kernel.accessAllowed ? 'block' : 'none';\n",
              "\n",
              "        async function convertToInteractive(key) {\n",
              "          const element = document.querySelector('#df-30a80747-3a12-45cd-a3c3-ba535a260a85');\n",
              "          const dataTable =\n",
              "            await google.colab.kernel.invokeFunction('convertToInteractive',\n",
              "                                                     [key], {});\n",
              "          if (!dataTable) return;\n",
              "\n",
              "          const docLinkHtml = 'Like what you see? Visit the ' +\n",
              "            '<a target=\"_blank\" href=https://colab.research.google.com/notebooks/data_table.ipynb>data table notebook</a>'\n",
              "            + ' to learn more about interactive tables.';\n",
              "          element.innerHTML = '';\n",
              "          dataTable['output_type'] = 'display_data';\n",
              "          await google.colab.output.renderOutput(dataTable, element);\n",
              "          const docLink = document.createElement('div');\n",
              "          docLink.innerHTML = docLinkHtml;\n",
              "          element.appendChild(docLink);\n",
              "        }\n",
              "      </script>\n",
              "    </div>\n",
              "  </div>\n",
              "  "
            ],
            "text/plain": [
              "              ISBN  ...                                        Image-URL-L\n",
              "count       271360  ...                                             271357\n",
              "unique      271360  ...                                             271041\n",
              "top     0195153448  ...  http://images.amazon.com/images/P/225307649X.0...\n",
              "freq             1  ...                                                  2\n",
              "\n",
              "[4 rows x 8 columns]"
            ]
          },
          "metadata": {},
          "execution_count": 8
        }
      ]
    },
    {
      "cell_type": "markdown",
      "source": [
        "## **Observation**\n",
        "* we can see that ISBN is unique book number\n",
        "* 242135 unique book Title \n",
        "* 102023 Book author \n",
        "* Year of publication  is having 202 unique years\n",
        "* 16807 Publisher\n",
        "* we can see that 3 columns belongs to image URL \n",
        "* Image URL S and Image URL M is having same number of unique URL but Image URL L is having less number of URL as compare to Image URL S and M"
      ],
      "metadata": {
        "id": "bPCp2rxqP1nS"
      }
    },
    {
      "cell_type": "code",
      "source": [
        "#dropping last three columns containing image URLs which will not be required for analysis\n",
        "books.drop(['Image-URL-S', 'Image-URL-M', 'Image-URL-L'],axis=1,inplace=True)"
      ],
      "metadata": {
        "id": "cTXC8EfnZ0ds"
      },
      "execution_count": null,
      "outputs": []
    },
    {
      "cell_type": "code",
      "source": [
        "## Checking for null values\n",
        "books.isnull().sum() "
      ],
      "metadata": {
        "colab": {
          "base_uri": "https://localhost:8080/"
        },
        "id": "rZv_40bLTDMb",
        "outputId": "d37aaa48-a1fd-4a0f-dd9f-f4662f85cb07"
      },
      "execution_count": null,
      "outputs": [
        {
          "output_type": "execute_result",
          "data": {
            "text/plain": [
              "ISBN                   0\n",
              "Book-Title             0\n",
              "Book-Author            1\n",
              "Year-Of-Publication    0\n",
              "Publisher              2\n",
              "dtype: int64"
            ]
          },
          "metadata": {},
          "execution_count": 10
        }
      ]
    },
    {
      "cell_type": "code",
      "source": [
        "books.loc[books['Book-Author'].isnull(),:]"
      ],
      "metadata": {
        "colab": {
          "base_uri": "https://localhost:8080/",
          "height": 81
        },
        "id": "_A9Z3QktTskH",
        "outputId": "41e88367-efc3-49e9-80e1-aee90d564df1"
      },
      "execution_count": null,
      "outputs": [
        {
          "output_type": "execute_result",
          "data": {
            "text/html": [
              "\n",
              "  <div id=\"df-d67dba88-26fd-4159-925b-b19cd1610205\">\n",
              "    <div class=\"colab-df-container\">\n",
              "      <div>\n",
              "<style scoped>\n",
              "    .dataframe tbody tr th:only-of-type {\n",
              "        vertical-align: middle;\n",
              "    }\n",
              "\n",
              "    .dataframe tbody tr th {\n",
              "        vertical-align: top;\n",
              "    }\n",
              "\n",
              "    .dataframe thead th {\n",
              "        text-align: right;\n",
              "    }\n",
              "</style>\n",
              "<table border=\"1\" class=\"dataframe\">\n",
              "  <thead>\n",
              "    <tr style=\"text-align: right;\">\n",
              "      <th></th>\n",
              "      <th>ISBN</th>\n",
              "      <th>Book-Title</th>\n",
              "      <th>Book-Author</th>\n",
              "      <th>Year-Of-Publication</th>\n",
              "      <th>Publisher</th>\n",
              "    </tr>\n",
              "  </thead>\n",
              "  <tbody>\n",
              "    <tr>\n",
              "      <th>187689</th>\n",
              "      <td>9627982032</td>\n",
              "      <td>The Credit Suisse Guide to Managing Your Perso...</td>\n",
              "      <td>NaN</td>\n",
              "      <td>1995</td>\n",
              "      <td>Edinburgh Financial Publishing</td>\n",
              "    </tr>\n",
              "  </tbody>\n",
              "</table>\n",
              "</div>\n",
              "      <button class=\"colab-df-convert\" onclick=\"convertToInteractive('df-d67dba88-26fd-4159-925b-b19cd1610205')\"\n",
              "              title=\"Convert this dataframe to an interactive table.\"\n",
              "              style=\"display:none;\">\n",
              "        \n",
              "  <svg xmlns=\"http://www.w3.org/2000/svg\" height=\"24px\"viewBox=\"0 0 24 24\"\n",
              "       width=\"24px\">\n",
              "    <path d=\"M0 0h24v24H0V0z\" fill=\"none\"/>\n",
              "    <path d=\"M18.56 5.44l.94 2.06.94-2.06 2.06-.94-2.06-.94-.94-2.06-.94 2.06-2.06.94zm-11 1L8.5 8.5l.94-2.06 2.06-.94-2.06-.94L8.5 2.5l-.94 2.06-2.06.94zm10 10l.94 2.06.94-2.06 2.06-.94-2.06-.94-.94-2.06-.94 2.06-2.06.94z\"/><path d=\"M17.41 7.96l-1.37-1.37c-.4-.4-.92-.59-1.43-.59-.52 0-1.04.2-1.43.59L10.3 9.45l-7.72 7.72c-.78.78-.78 2.05 0 2.83L4 21.41c.39.39.9.59 1.41.59.51 0 1.02-.2 1.41-.59l7.78-7.78 2.81-2.81c.8-.78.8-2.07 0-2.86zM5.41 20L4 18.59l7.72-7.72 1.47 1.35L5.41 20z\"/>\n",
              "  </svg>\n",
              "      </button>\n",
              "      \n",
              "  <style>\n",
              "    .colab-df-container {\n",
              "      display:flex;\n",
              "      flex-wrap:wrap;\n",
              "      gap: 12px;\n",
              "    }\n",
              "\n",
              "    .colab-df-convert {\n",
              "      background-color: #E8F0FE;\n",
              "      border: none;\n",
              "      border-radius: 50%;\n",
              "      cursor: pointer;\n",
              "      display: none;\n",
              "      fill: #1967D2;\n",
              "      height: 32px;\n",
              "      padding: 0 0 0 0;\n",
              "      width: 32px;\n",
              "    }\n",
              "\n",
              "    .colab-df-convert:hover {\n",
              "      background-color: #E2EBFA;\n",
              "      box-shadow: 0px 1px 2px rgba(60, 64, 67, 0.3), 0px 1px 3px 1px rgba(60, 64, 67, 0.15);\n",
              "      fill: #174EA6;\n",
              "    }\n",
              "\n",
              "    [theme=dark] .colab-df-convert {\n",
              "      background-color: #3B4455;\n",
              "      fill: #D2E3FC;\n",
              "    }\n",
              "\n",
              "    [theme=dark] .colab-df-convert:hover {\n",
              "      background-color: #434B5C;\n",
              "      box-shadow: 0px 1px 3px 1px rgba(0, 0, 0, 0.15);\n",
              "      filter: drop-shadow(0px 1px 2px rgba(0, 0, 0, 0.3));\n",
              "      fill: #FFFFFF;\n",
              "    }\n",
              "  </style>\n",
              "\n",
              "      <script>\n",
              "        const buttonEl =\n",
              "          document.querySelector('#df-d67dba88-26fd-4159-925b-b19cd1610205 button.colab-df-convert');\n",
              "        buttonEl.style.display =\n",
              "          google.colab.kernel.accessAllowed ? 'block' : 'none';\n",
              "\n",
              "        async function convertToInteractive(key) {\n",
              "          const element = document.querySelector('#df-d67dba88-26fd-4159-925b-b19cd1610205');\n",
              "          const dataTable =\n",
              "            await google.colab.kernel.invokeFunction('convertToInteractive',\n",
              "                                                     [key], {});\n",
              "          if (!dataTable) return;\n",
              "\n",
              "          const docLinkHtml = 'Like what you see? Visit the ' +\n",
              "            '<a target=\"_blank\" href=https://colab.research.google.com/notebooks/data_table.ipynb>data table notebook</a>'\n",
              "            + ' to learn more about interactive tables.';\n",
              "          element.innerHTML = '';\n",
              "          dataTable['output_type'] = 'display_data';\n",
              "          await google.colab.output.renderOutput(dataTable, element);\n",
              "          const docLink = document.createElement('div');\n",
              "          docLink.innerHTML = docLinkHtml;\n",
              "          element.appendChild(docLink);\n",
              "        }\n",
              "      </script>\n",
              "    </div>\n",
              "  </div>\n",
              "  "
            ],
            "text/plain": [
              "              ISBN  ...                       Publisher\n",
              "187689  9627982032  ...  Edinburgh Financial Publishing\n",
              "\n",
              "[1 rows x 5 columns]"
            ]
          },
          "metadata": {},
          "execution_count": 11
        }
      ]
    },
    {
      "cell_type": "code",
      "source": [
        "books.loc[books['Book-Title']==books.iloc[187689,1]]"
      ],
      "metadata": {
        "colab": {
          "base_uri": "https://localhost:8080/",
          "height": 81
        },
        "id": "iSx9GC1FX3hk",
        "outputId": "27eee9be-b3c0-448b-e7d9-b1c6011e4056"
      },
      "execution_count": null,
      "outputs": [
        {
          "output_type": "execute_result",
          "data": {
            "text/html": [
              "\n",
              "  <div id=\"df-ec97af1e-51ac-477d-a9bc-b92117219369\">\n",
              "    <div class=\"colab-df-container\">\n",
              "      <div>\n",
              "<style scoped>\n",
              "    .dataframe tbody tr th:only-of-type {\n",
              "        vertical-align: middle;\n",
              "    }\n",
              "\n",
              "    .dataframe tbody tr th {\n",
              "        vertical-align: top;\n",
              "    }\n",
              "\n",
              "    .dataframe thead th {\n",
              "        text-align: right;\n",
              "    }\n",
              "</style>\n",
              "<table border=\"1\" class=\"dataframe\">\n",
              "  <thead>\n",
              "    <tr style=\"text-align: right;\">\n",
              "      <th></th>\n",
              "      <th>ISBN</th>\n",
              "      <th>Book-Title</th>\n",
              "      <th>Book-Author</th>\n",
              "      <th>Year-Of-Publication</th>\n",
              "      <th>Publisher</th>\n",
              "    </tr>\n",
              "  </thead>\n",
              "  <tbody>\n",
              "    <tr>\n",
              "      <th>187689</th>\n",
              "      <td>9627982032</td>\n",
              "      <td>The Credit Suisse Guide to Managing Your Perso...</td>\n",
              "      <td>NaN</td>\n",
              "      <td>1995</td>\n",
              "      <td>Edinburgh Financial Publishing</td>\n",
              "    </tr>\n",
              "  </tbody>\n",
              "</table>\n",
              "</div>\n",
              "      <button class=\"colab-df-convert\" onclick=\"convertToInteractive('df-ec97af1e-51ac-477d-a9bc-b92117219369')\"\n",
              "              title=\"Convert this dataframe to an interactive table.\"\n",
              "              style=\"display:none;\">\n",
              "        \n",
              "  <svg xmlns=\"http://www.w3.org/2000/svg\" height=\"24px\"viewBox=\"0 0 24 24\"\n",
              "       width=\"24px\">\n",
              "    <path d=\"M0 0h24v24H0V0z\" fill=\"none\"/>\n",
              "    <path d=\"M18.56 5.44l.94 2.06.94-2.06 2.06-.94-2.06-.94-.94-2.06-.94 2.06-2.06.94zm-11 1L8.5 8.5l.94-2.06 2.06-.94-2.06-.94L8.5 2.5l-.94 2.06-2.06.94zm10 10l.94 2.06.94-2.06 2.06-.94-2.06-.94-.94-2.06-.94 2.06-2.06.94z\"/><path d=\"M17.41 7.96l-1.37-1.37c-.4-.4-.92-.59-1.43-.59-.52 0-1.04.2-1.43.59L10.3 9.45l-7.72 7.72c-.78.78-.78 2.05 0 2.83L4 21.41c.39.39.9.59 1.41.59.51 0 1.02-.2 1.41-.59l7.78-7.78 2.81-2.81c.8-.78.8-2.07 0-2.86zM5.41 20L4 18.59l7.72-7.72 1.47 1.35L5.41 20z\"/>\n",
              "  </svg>\n",
              "      </button>\n",
              "      \n",
              "  <style>\n",
              "    .colab-df-container {\n",
              "      display:flex;\n",
              "      flex-wrap:wrap;\n",
              "      gap: 12px;\n",
              "    }\n",
              "\n",
              "    .colab-df-convert {\n",
              "      background-color: #E8F0FE;\n",
              "      border: none;\n",
              "      border-radius: 50%;\n",
              "      cursor: pointer;\n",
              "      display: none;\n",
              "      fill: #1967D2;\n",
              "      height: 32px;\n",
              "      padding: 0 0 0 0;\n",
              "      width: 32px;\n",
              "    }\n",
              "\n",
              "    .colab-df-convert:hover {\n",
              "      background-color: #E2EBFA;\n",
              "      box-shadow: 0px 1px 2px rgba(60, 64, 67, 0.3), 0px 1px 3px 1px rgba(60, 64, 67, 0.15);\n",
              "      fill: #174EA6;\n",
              "    }\n",
              "\n",
              "    [theme=dark] .colab-df-convert {\n",
              "      background-color: #3B4455;\n",
              "      fill: #D2E3FC;\n",
              "    }\n",
              "\n",
              "    [theme=dark] .colab-df-convert:hover {\n",
              "      background-color: #434B5C;\n",
              "      box-shadow: 0px 1px 3px 1px rgba(0, 0, 0, 0.15);\n",
              "      filter: drop-shadow(0px 1px 2px rgba(0, 0, 0, 0.3));\n",
              "      fill: #FFFFFF;\n",
              "    }\n",
              "  </style>\n",
              "\n",
              "      <script>\n",
              "        const buttonEl =\n",
              "          document.querySelector('#df-ec97af1e-51ac-477d-a9bc-b92117219369 button.colab-df-convert');\n",
              "        buttonEl.style.display =\n",
              "          google.colab.kernel.accessAllowed ? 'block' : 'none';\n",
              "\n",
              "        async function convertToInteractive(key) {\n",
              "          const element = document.querySelector('#df-ec97af1e-51ac-477d-a9bc-b92117219369');\n",
              "          const dataTable =\n",
              "            await google.colab.kernel.invokeFunction('convertToInteractive',\n",
              "                                                     [key], {});\n",
              "          if (!dataTable) return;\n",
              "\n",
              "          const docLinkHtml = 'Like what you see? Visit the ' +\n",
              "            '<a target=\"_blank\" href=https://colab.research.google.com/notebooks/data_table.ipynb>data table notebook</a>'\n",
              "            + ' to learn more about interactive tables.';\n",
              "          element.innerHTML = '';\n",
              "          dataTable['output_type'] = 'display_data';\n",
              "          await google.colab.output.renderOutput(dataTable, element);\n",
              "          const docLink = document.createElement('div');\n",
              "          docLink.innerHTML = docLinkHtml;\n",
              "          element.appendChild(docLink);\n",
              "        }\n",
              "      </script>\n",
              "    </div>\n",
              "  </div>\n",
              "  "
            ],
            "text/plain": [
              "              ISBN  ...                       Publisher\n",
              "187689  9627982032  ...  Edinburgh Financial Publishing\n",
              "\n",
              "[1 rows x 5 columns]"
            ]
          },
          "metadata": {},
          "execution_count": 12
        }
      ]
    },
    {
      "cell_type": "code",
      "source": [
        "books.loc[books['Publisher'].isnull(),:]"
      ],
      "metadata": {
        "colab": {
          "base_uri": "https://localhost:8080/",
          "height": 112
        },
        "id": "Nt-SHEngaIqu",
        "outputId": "2c960882-1f94-424a-e92a-127253c0a8a6"
      },
      "execution_count": null,
      "outputs": [
        {
          "output_type": "execute_result",
          "data": {
            "text/html": [
              "\n",
              "  <div id=\"df-403804ea-04bf-49f6-8c2f-5cc68a355f17\">\n",
              "    <div class=\"colab-df-container\">\n",
              "      <div>\n",
              "<style scoped>\n",
              "    .dataframe tbody tr th:only-of-type {\n",
              "        vertical-align: middle;\n",
              "    }\n",
              "\n",
              "    .dataframe tbody tr th {\n",
              "        vertical-align: top;\n",
              "    }\n",
              "\n",
              "    .dataframe thead th {\n",
              "        text-align: right;\n",
              "    }\n",
              "</style>\n",
              "<table border=\"1\" class=\"dataframe\">\n",
              "  <thead>\n",
              "    <tr style=\"text-align: right;\">\n",
              "      <th></th>\n",
              "      <th>ISBN</th>\n",
              "      <th>Book-Title</th>\n",
              "      <th>Book-Author</th>\n",
              "      <th>Year-Of-Publication</th>\n",
              "      <th>Publisher</th>\n",
              "    </tr>\n",
              "  </thead>\n",
              "  <tbody>\n",
              "    <tr>\n",
              "      <th>128890</th>\n",
              "      <td>193169656X</td>\n",
              "      <td>Tyrant Moon</td>\n",
              "      <td>Elaine Corvidae</td>\n",
              "      <td>2002</td>\n",
              "      <td>NaN</td>\n",
              "    </tr>\n",
              "    <tr>\n",
              "      <th>129037</th>\n",
              "      <td>1931696993</td>\n",
              "      <td>Finders Keepers</td>\n",
              "      <td>Linnea Sinclair</td>\n",
              "      <td>2001</td>\n",
              "      <td>NaN</td>\n",
              "    </tr>\n",
              "  </tbody>\n",
              "</table>\n",
              "</div>\n",
              "      <button class=\"colab-df-convert\" onclick=\"convertToInteractive('df-403804ea-04bf-49f6-8c2f-5cc68a355f17')\"\n",
              "              title=\"Convert this dataframe to an interactive table.\"\n",
              "              style=\"display:none;\">\n",
              "        \n",
              "  <svg xmlns=\"http://www.w3.org/2000/svg\" height=\"24px\"viewBox=\"0 0 24 24\"\n",
              "       width=\"24px\">\n",
              "    <path d=\"M0 0h24v24H0V0z\" fill=\"none\"/>\n",
              "    <path d=\"M18.56 5.44l.94 2.06.94-2.06 2.06-.94-2.06-.94-.94-2.06-.94 2.06-2.06.94zm-11 1L8.5 8.5l.94-2.06 2.06-.94-2.06-.94L8.5 2.5l-.94 2.06-2.06.94zm10 10l.94 2.06.94-2.06 2.06-.94-2.06-.94-.94-2.06-.94 2.06-2.06.94z\"/><path d=\"M17.41 7.96l-1.37-1.37c-.4-.4-.92-.59-1.43-.59-.52 0-1.04.2-1.43.59L10.3 9.45l-7.72 7.72c-.78.78-.78 2.05 0 2.83L4 21.41c.39.39.9.59 1.41.59.51 0 1.02-.2 1.41-.59l7.78-7.78 2.81-2.81c.8-.78.8-2.07 0-2.86zM5.41 20L4 18.59l7.72-7.72 1.47 1.35L5.41 20z\"/>\n",
              "  </svg>\n",
              "      </button>\n",
              "      \n",
              "  <style>\n",
              "    .colab-df-container {\n",
              "      display:flex;\n",
              "      flex-wrap:wrap;\n",
              "      gap: 12px;\n",
              "    }\n",
              "\n",
              "    .colab-df-convert {\n",
              "      background-color: #E8F0FE;\n",
              "      border: none;\n",
              "      border-radius: 50%;\n",
              "      cursor: pointer;\n",
              "      display: none;\n",
              "      fill: #1967D2;\n",
              "      height: 32px;\n",
              "      padding: 0 0 0 0;\n",
              "      width: 32px;\n",
              "    }\n",
              "\n",
              "    .colab-df-convert:hover {\n",
              "      background-color: #E2EBFA;\n",
              "      box-shadow: 0px 1px 2px rgba(60, 64, 67, 0.3), 0px 1px 3px 1px rgba(60, 64, 67, 0.15);\n",
              "      fill: #174EA6;\n",
              "    }\n",
              "\n",
              "    [theme=dark] .colab-df-convert {\n",
              "      background-color: #3B4455;\n",
              "      fill: #D2E3FC;\n",
              "    }\n",
              "\n",
              "    [theme=dark] .colab-df-convert:hover {\n",
              "      background-color: #434B5C;\n",
              "      box-shadow: 0px 1px 3px 1px rgba(0, 0, 0, 0.15);\n",
              "      filter: drop-shadow(0px 1px 2px rgba(0, 0, 0, 0.3));\n",
              "      fill: #FFFFFF;\n",
              "    }\n",
              "  </style>\n",
              "\n",
              "      <script>\n",
              "        const buttonEl =\n",
              "          document.querySelector('#df-403804ea-04bf-49f6-8c2f-5cc68a355f17 button.colab-df-convert');\n",
              "        buttonEl.style.display =\n",
              "          google.colab.kernel.accessAllowed ? 'block' : 'none';\n",
              "\n",
              "        async function convertToInteractive(key) {\n",
              "          const element = document.querySelector('#df-403804ea-04bf-49f6-8c2f-5cc68a355f17');\n",
              "          const dataTable =\n",
              "            await google.colab.kernel.invokeFunction('convertToInteractive',\n",
              "                                                     [key], {});\n",
              "          if (!dataTable) return;\n",
              "\n",
              "          const docLinkHtml = 'Like what you see? Visit the ' +\n",
              "            '<a target=\"_blank\" href=https://colab.research.google.com/notebooks/data_table.ipynb>data table notebook</a>'\n",
              "            + ' to learn more about interactive tables.';\n",
              "          element.innerHTML = '';\n",
              "          dataTable['output_type'] = 'display_data';\n",
              "          await google.colab.output.renderOutput(dataTable, element);\n",
              "          const docLink = document.createElement('div');\n",
              "          docLink.innerHTML = docLinkHtml;\n",
              "          element.appendChild(docLink);\n",
              "        }\n",
              "      </script>\n",
              "    </div>\n",
              "  </div>\n",
              "  "
            ],
            "text/plain": [
              "              ISBN       Book-Title  ... Year-Of-Publication Publisher\n",
              "128890  193169656X      Tyrant Moon  ...                2002       NaN\n",
              "129037  1931696993  Finders Keepers  ...                2001       NaN\n",
              "\n",
              "[2 rows x 5 columns]"
            ]
          },
          "metadata": {},
          "execution_count": 13
        }
      ]
    },
    {
      "cell_type": "code",
      "source": [
        "books.loc[books['Book-Title']==books.iloc[128890,1]]"
      ],
      "metadata": {
        "colab": {
          "base_uri": "https://localhost:8080/",
          "height": 81
        },
        "id": "AXi0PXxcaj-Q",
        "outputId": "7e5021d7-6649-4e1f-fa6d-29669eddae85"
      },
      "execution_count": null,
      "outputs": [
        {
          "output_type": "execute_result",
          "data": {
            "text/html": [
              "\n",
              "  <div id=\"df-2db54314-a39c-4f1e-b22b-a6524b95bde9\">\n",
              "    <div class=\"colab-df-container\">\n",
              "      <div>\n",
              "<style scoped>\n",
              "    .dataframe tbody tr th:only-of-type {\n",
              "        vertical-align: middle;\n",
              "    }\n",
              "\n",
              "    .dataframe tbody tr th {\n",
              "        vertical-align: top;\n",
              "    }\n",
              "\n",
              "    .dataframe thead th {\n",
              "        text-align: right;\n",
              "    }\n",
              "</style>\n",
              "<table border=\"1\" class=\"dataframe\">\n",
              "  <thead>\n",
              "    <tr style=\"text-align: right;\">\n",
              "      <th></th>\n",
              "      <th>ISBN</th>\n",
              "      <th>Book-Title</th>\n",
              "      <th>Book-Author</th>\n",
              "      <th>Year-Of-Publication</th>\n",
              "      <th>Publisher</th>\n",
              "    </tr>\n",
              "  </thead>\n",
              "  <tbody>\n",
              "    <tr>\n",
              "      <th>128890</th>\n",
              "      <td>193169656X</td>\n",
              "      <td>Tyrant Moon</td>\n",
              "      <td>Elaine Corvidae</td>\n",
              "      <td>2002</td>\n",
              "      <td>NaN</td>\n",
              "    </tr>\n",
              "  </tbody>\n",
              "</table>\n",
              "</div>\n",
              "      <button class=\"colab-df-convert\" onclick=\"convertToInteractive('df-2db54314-a39c-4f1e-b22b-a6524b95bde9')\"\n",
              "              title=\"Convert this dataframe to an interactive table.\"\n",
              "              style=\"display:none;\">\n",
              "        \n",
              "  <svg xmlns=\"http://www.w3.org/2000/svg\" height=\"24px\"viewBox=\"0 0 24 24\"\n",
              "       width=\"24px\">\n",
              "    <path d=\"M0 0h24v24H0V0z\" fill=\"none\"/>\n",
              "    <path d=\"M18.56 5.44l.94 2.06.94-2.06 2.06-.94-2.06-.94-.94-2.06-.94 2.06-2.06.94zm-11 1L8.5 8.5l.94-2.06 2.06-.94-2.06-.94L8.5 2.5l-.94 2.06-2.06.94zm10 10l.94 2.06.94-2.06 2.06-.94-2.06-.94-.94-2.06-.94 2.06-2.06.94z\"/><path d=\"M17.41 7.96l-1.37-1.37c-.4-.4-.92-.59-1.43-.59-.52 0-1.04.2-1.43.59L10.3 9.45l-7.72 7.72c-.78.78-.78 2.05 0 2.83L4 21.41c.39.39.9.59 1.41.59.51 0 1.02-.2 1.41-.59l7.78-7.78 2.81-2.81c.8-.78.8-2.07 0-2.86zM5.41 20L4 18.59l7.72-7.72 1.47 1.35L5.41 20z\"/>\n",
              "  </svg>\n",
              "      </button>\n",
              "      \n",
              "  <style>\n",
              "    .colab-df-container {\n",
              "      display:flex;\n",
              "      flex-wrap:wrap;\n",
              "      gap: 12px;\n",
              "    }\n",
              "\n",
              "    .colab-df-convert {\n",
              "      background-color: #E8F0FE;\n",
              "      border: none;\n",
              "      border-radius: 50%;\n",
              "      cursor: pointer;\n",
              "      display: none;\n",
              "      fill: #1967D2;\n",
              "      height: 32px;\n",
              "      padding: 0 0 0 0;\n",
              "      width: 32px;\n",
              "    }\n",
              "\n",
              "    .colab-df-convert:hover {\n",
              "      background-color: #E2EBFA;\n",
              "      box-shadow: 0px 1px 2px rgba(60, 64, 67, 0.3), 0px 1px 3px 1px rgba(60, 64, 67, 0.15);\n",
              "      fill: #174EA6;\n",
              "    }\n",
              "\n",
              "    [theme=dark] .colab-df-convert {\n",
              "      background-color: #3B4455;\n",
              "      fill: #D2E3FC;\n",
              "    }\n",
              "\n",
              "    [theme=dark] .colab-df-convert:hover {\n",
              "      background-color: #434B5C;\n",
              "      box-shadow: 0px 1px 3px 1px rgba(0, 0, 0, 0.15);\n",
              "      filter: drop-shadow(0px 1px 2px rgba(0, 0, 0, 0.3));\n",
              "      fill: #FFFFFF;\n",
              "    }\n",
              "  </style>\n",
              "\n",
              "      <script>\n",
              "        const buttonEl =\n",
              "          document.querySelector('#df-2db54314-a39c-4f1e-b22b-a6524b95bde9 button.colab-df-convert');\n",
              "        buttonEl.style.display =\n",
              "          google.colab.kernel.accessAllowed ? 'block' : 'none';\n",
              "\n",
              "        async function convertToInteractive(key) {\n",
              "          const element = document.querySelector('#df-2db54314-a39c-4f1e-b22b-a6524b95bde9');\n",
              "          const dataTable =\n",
              "            await google.colab.kernel.invokeFunction('convertToInteractive',\n",
              "                                                     [key], {});\n",
              "          if (!dataTable) return;\n",
              "\n",
              "          const docLinkHtml = 'Like what you see? Visit the ' +\n",
              "            '<a target=\"_blank\" href=https://colab.research.google.com/notebooks/data_table.ipynb>data table notebook</a>'\n",
              "            + ' to learn more about interactive tables.';\n",
              "          element.innerHTML = '';\n",
              "          dataTable['output_type'] = 'display_data';\n",
              "          await google.colab.output.renderOutput(dataTable, element);\n",
              "          const docLink = document.createElement('div');\n",
              "          docLink.innerHTML = docLinkHtml;\n",
              "          element.appendChild(docLink);\n",
              "        }\n",
              "      </script>\n",
              "    </div>\n",
              "  </div>\n",
              "  "
            ],
            "text/plain": [
              "              ISBN   Book-Title      Book-Author Year-Of-Publication Publisher\n",
              "128890  193169656X  Tyrant Moon  Elaine Corvidae                2002       NaN"
            ]
          },
          "metadata": {},
          "execution_count": 14
        }
      ]
    },
    {
      "cell_type": "code",
      "source": [
        "books.loc[books['Book-Title']==books.iloc[129037,1]]"
      ],
      "metadata": {
        "colab": {
          "base_uri": "https://localhost:8080/",
          "height": 331
        },
        "id": "-vD0plY9aODb",
        "outputId": "2b9621ad-5c11-45b4-b476-fda143d1b86f"
      },
      "execution_count": null,
      "outputs": [
        {
          "output_type": "execute_result",
          "data": {
            "text/html": [
              "\n",
              "  <div id=\"df-5f79c616-f07a-4fd1-9e9d-d6926fbc1120\">\n",
              "    <div class=\"colab-df-container\">\n",
              "      <div>\n",
              "<style scoped>\n",
              "    .dataframe tbody tr th:only-of-type {\n",
              "        vertical-align: middle;\n",
              "    }\n",
              "\n",
              "    .dataframe tbody tr th {\n",
              "        vertical-align: top;\n",
              "    }\n",
              "\n",
              "    .dataframe thead th {\n",
              "        text-align: right;\n",
              "    }\n",
              "</style>\n",
              "<table border=\"1\" class=\"dataframe\">\n",
              "  <thead>\n",
              "    <tr style=\"text-align: right;\">\n",
              "      <th></th>\n",
              "      <th>ISBN</th>\n",
              "      <th>Book-Title</th>\n",
              "      <th>Book-Author</th>\n",
              "      <th>Year-Of-Publication</th>\n",
              "      <th>Publisher</th>\n",
              "    </tr>\n",
              "  </thead>\n",
              "  <tbody>\n",
              "    <tr>\n",
              "      <th>10799</th>\n",
              "      <td>082177364X</td>\n",
              "      <td>Finders Keepers</td>\n",
              "      <td>Fern Michaels</td>\n",
              "      <td>2002</td>\n",
              "      <td>Zebra Books</td>\n",
              "    </tr>\n",
              "    <tr>\n",
              "      <th>42019</th>\n",
              "      <td>0070465037</td>\n",
              "      <td>Finders Keepers</td>\n",
              "      <td>Barbara Nickolae</td>\n",
              "      <td>1989</td>\n",
              "      <td>McGraw-Hill Companies</td>\n",
              "    </tr>\n",
              "    <tr>\n",
              "      <th>58264</th>\n",
              "      <td>0688118461</td>\n",
              "      <td>Finders Keepers</td>\n",
              "      <td>Emily Rodda</td>\n",
              "      <td>1993</td>\n",
              "      <td>Harpercollins Juvenile Books</td>\n",
              "    </tr>\n",
              "    <tr>\n",
              "      <th>66678</th>\n",
              "      <td>1575663236</td>\n",
              "      <td>Finders Keepers</td>\n",
              "      <td>Fern Michaels</td>\n",
              "      <td>1998</td>\n",
              "      <td>Kensington Publishing Corporation</td>\n",
              "    </tr>\n",
              "    <tr>\n",
              "      <th>129037</th>\n",
              "      <td>1931696993</td>\n",
              "      <td>Finders Keepers</td>\n",
              "      <td>Linnea Sinclair</td>\n",
              "      <td>2001</td>\n",
              "      <td>NaN</td>\n",
              "    </tr>\n",
              "    <tr>\n",
              "      <th>134309</th>\n",
              "      <td>0156309505</td>\n",
              "      <td>Finders Keepers</td>\n",
              "      <td>Will</td>\n",
              "      <td>1989</td>\n",
              "      <td>Voyager Books</td>\n",
              "    </tr>\n",
              "    <tr>\n",
              "      <th>173473</th>\n",
              "      <td>0973146907</td>\n",
              "      <td>Finders Keepers</td>\n",
              "      <td>Sean M. Costello</td>\n",
              "      <td>2002</td>\n",
              "      <td>Red Tower Publications</td>\n",
              "    </tr>\n",
              "    <tr>\n",
              "      <th>195885</th>\n",
              "      <td>0061083909</td>\n",
              "      <td>Finders Keepers</td>\n",
              "      <td>Sharon Sala</td>\n",
              "      <td>2003</td>\n",
              "      <td>HarperTorch</td>\n",
              "    </tr>\n",
              "    <tr>\n",
              "      <th>211874</th>\n",
              "      <td>0373261160</td>\n",
              "      <td>Finders Keepers</td>\n",
              "      <td>Elizabeth Travis</td>\n",
              "      <td>1993</td>\n",
              "      <td>Worldwide Library</td>\n",
              "    </tr>\n",
              "  </tbody>\n",
              "</table>\n",
              "</div>\n",
              "      <button class=\"colab-df-convert\" onclick=\"convertToInteractive('df-5f79c616-f07a-4fd1-9e9d-d6926fbc1120')\"\n",
              "              title=\"Convert this dataframe to an interactive table.\"\n",
              "              style=\"display:none;\">\n",
              "        \n",
              "  <svg xmlns=\"http://www.w3.org/2000/svg\" height=\"24px\"viewBox=\"0 0 24 24\"\n",
              "       width=\"24px\">\n",
              "    <path d=\"M0 0h24v24H0V0z\" fill=\"none\"/>\n",
              "    <path d=\"M18.56 5.44l.94 2.06.94-2.06 2.06-.94-2.06-.94-.94-2.06-.94 2.06-2.06.94zm-11 1L8.5 8.5l.94-2.06 2.06-.94-2.06-.94L8.5 2.5l-.94 2.06-2.06.94zm10 10l.94 2.06.94-2.06 2.06-.94-2.06-.94-.94-2.06-.94 2.06-2.06.94z\"/><path d=\"M17.41 7.96l-1.37-1.37c-.4-.4-.92-.59-1.43-.59-.52 0-1.04.2-1.43.59L10.3 9.45l-7.72 7.72c-.78.78-.78 2.05 0 2.83L4 21.41c.39.39.9.59 1.41.59.51 0 1.02-.2 1.41-.59l7.78-7.78 2.81-2.81c.8-.78.8-2.07 0-2.86zM5.41 20L4 18.59l7.72-7.72 1.47 1.35L5.41 20z\"/>\n",
              "  </svg>\n",
              "      </button>\n",
              "      \n",
              "  <style>\n",
              "    .colab-df-container {\n",
              "      display:flex;\n",
              "      flex-wrap:wrap;\n",
              "      gap: 12px;\n",
              "    }\n",
              "\n",
              "    .colab-df-convert {\n",
              "      background-color: #E8F0FE;\n",
              "      border: none;\n",
              "      border-radius: 50%;\n",
              "      cursor: pointer;\n",
              "      display: none;\n",
              "      fill: #1967D2;\n",
              "      height: 32px;\n",
              "      padding: 0 0 0 0;\n",
              "      width: 32px;\n",
              "    }\n",
              "\n",
              "    .colab-df-convert:hover {\n",
              "      background-color: #E2EBFA;\n",
              "      box-shadow: 0px 1px 2px rgba(60, 64, 67, 0.3), 0px 1px 3px 1px rgba(60, 64, 67, 0.15);\n",
              "      fill: #174EA6;\n",
              "    }\n",
              "\n",
              "    [theme=dark] .colab-df-convert {\n",
              "      background-color: #3B4455;\n",
              "      fill: #D2E3FC;\n",
              "    }\n",
              "\n",
              "    [theme=dark] .colab-df-convert:hover {\n",
              "      background-color: #434B5C;\n",
              "      box-shadow: 0px 1px 3px 1px rgba(0, 0, 0, 0.15);\n",
              "      filter: drop-shadow(0px 1px 2px rgba(0, 0, 0, 0.3));\n",
              "      fill: #FFFFFF;\n",
              "    }\n",
              "  </style>\n",
              "\n",
              "      <script>\n",
              "        const buttonEl =\n",
              "          document.querySelector('#df-5f79c616-f07a-4fd1-9e9d-d6926fbc1120 button.colab-df-convert');\n",
              "        buttonEl.style.display =\n",
              "          google.colab.kernel.accessAllowed ? 'block' : 'none';\n",
              "\n",
              "        async function convertToInteractive(key) {\n",
              "          const element = document.querySelector('#df-5f79c616-f07a-4fd1-9e9d-d6926fbc1120');\n",
              "          const dataTable =\n",
              "            await google.colab.kernel.invokeFunction('convertToInteractive',\n",
              "                                                     [key], {});\n",
              "          if (!dataTable) return;\n",
              "\n",
              "          const docLinkHtml = 'Like what you see? Visit the ' +\n",
              "            '<a target=\"_blank\" href=https://colab.research.google.com/notebooks/data_table.ipynb>data table notebook</a>'\n",
              "            + ' to learn more about interactive tables.';\n",
              "          element.innerHTML = '';\n",
              "          dataTable['output_type'] = 'display_data';\n",
              "          await google.colab.output.renderOutput(dataTable, element);\n",
              "          const docLink = document.createElement('div');\n",
              "          docLink.innerHTML = docLinkHtml;\n",
              "          element.appendChild(docLink);\n",
              "        }\n",
              "      </script>\n",
              "    </div>\n",
              "  </div>\n",
              "  "
            ],
            "text/plain": [
              "              ISBN  ...                          Publisher\n",
              "10799   082177364X  ...                        Zebra Books\n",
              "42019   0070465037  ...              McGraw-Hill Companies\n",
              "58264   0688118461  ...       Harpercollins Juvenile Books\n",
              "66678   1575663236  ...  Kensington Publishing Corporation\n",
              "129037  1931696993  ...                                NaN\n",
              "134309  0156309505  ...                      Voyager Books\n",
              "173473  0973146907  ...             Red Tower Publications\n",
              "195885  0061083909  ...                        HarperTorch\n",
              "211874  0373261160  ...                  Worldwide Library\n",
              "\n",
              "[9 rows x 5 columns]"
            ]
          },
          "metadata": {},
          "execution_count": 15
        }
      ]
    },
    {
      "cell_type": "code",
      "source": [
        "#Filling Nan of Book-Author with others\n",
        "books['Book-Author'].fillna('other',inplace=True)"
      ],
      "metadata": {
        "id": "7OD1kmt3bp9Q"
      },
      "execution_count": null,
      "outputs": []
    },
    {
      "cell_type": "code",
      "source": [
        "#Filling Nan of Publisher with others\n",
        "books.Publisher.fillna('other',inplace=True)"
      ],
      "metadata": {
        "id": "SRW_KpEEbvJz"
      },
      "execution_count": null,
      "outputs": []
    },
    {
      "cell_type": "code",
      "source": [
        "# checking null values\n",
        "books.isna().sum()"
      ],
      "metadata": {
        "colab": {
          "base_uri": "https://localhost:8080/"
        },
        "id": "yvpeM679cBlh",
        "outputId": "caa2afd4-6156-4665-f996-797cd8de8726"
      },
      "execution_count": null,
      "outputs": [
        {
          "output_type": "execute_result",
          "data": {
            "text/plain": [
              "ISBN                   0\n",
              "Book-Title             0\n",
              "Book-Author            0\n",
              "Year-Of-Publication    0\n",
              "Publisher              0\n",
              "dtype: int64"
            ]
          },
          "metadata": {},
          "execution_count": 18
        }
      ]
    },
    {
      "cell_type": "code",
      "source": [
        "## Checking for column Year-of-publication\n",
        "books['Year-Of-Publication'].unique()"
      ],
      "metadata": {
        "colab": {
          "base_uri": "https://localhost:8080/"
        },
        "id": "WgoLWUPHcKDI",
        "outputId": "9008591a-c10e-4879-cd05-05e24e2408b2"
      },
      "execution_count": null,
      "outputs": [
        {
          "output_type": "execute_result",
          "data": {
            "text/plain": [
              "array([2002, 2001, 1991, 1999, 2000, 1993, 1996, 1988, 2004, 1998, 1994,\n",
              "       2003, 1997, 1983, 1979, 1995, 1982, 1985, 1992, 1986, 1978, 1980,\n",
              "       1952, 1987, 1990, 1981, 1989, 1984, 0, 1968, 1961, 1958, 1974,\n",
              "       1976, 1971, 1977, 1975, 1965, 1941, 1970, 1962, 1973, 1972, 1960,\n",
              "       1966, 1920, 1956, 1959, 1953, 1951, 1942, 1963, 1964, 1969, 1954,\n",
              "       1950, 1967, 2005, 1957, 1940, 1937, 1955, 1946, 1936, 1930, 2011,\n",
              "       1925, 1948, 1943, 1947, 1945, 1923, 2020, 1939, 1926, 1938, 2030,\n",
              "       1911, 1904, 1949, 1932, 1928, 1929, 1927, 1931, 1914, 2050, 1934,\n",
              "       1910, 1933, 1902, 1924, 1921, 1900, 2038, 2026, 1944, 1917, 1901,\n",
              "       2010, 1908, 1906, 1935, 1806, 2021, '2000', '1995', '1999', '2004',\n",
              "       '2003', '1990', '1994', '1986', '1989', '2002', '1981', '1993',\n",
              "       '1983', '1982', '1976', '1991', '1977', '1998', '1992', '1996',\n",
              "       '0', '1997', '2001', '1974', '1968', '1987', '1984', '1988',\n",
              "       '1963', '1956', '1970', '1985', '1978', '1973', '1980', '1979',\n",
              "       '1975', '1969', '1961', '1965', '1939', '1958', '1950', '1953',\n",
              "       '1966', '1971', '1959', '1972', '1955', '1957', '1945', '1960',\n",
              "       '1967', '1932', '1924', '1964', '2012', '1911', '1927', '1948',\n",
              "       '1962', '2006', '1952', '1940', '1951', '1931', '1954', '2005',\n",
              "       '1930', '1941', '1944', 'DK Publishing Inc', '1943', '1938',\n",
              "       '1900', '1942', '1923', '1920', '1933', 'Gallimard', '1909',\n",
              "       '1946', '2008', '1378', '2030', '1936', '1947', '2011', '2020',\n",
              "       '1919', '1949', '1922', '1897', '2024', '1376', '1926', '2037'],\n",
              "      dtype=object)"
            ]
          },
          "metadata": {},
          "execution_count": 19
        }
      ]
    },
    {
      "cell_type": "markdown",
      "source": [
        "## We can see in the Year-Of-Publication column there is some string values in it. \n",
        "##So lets check it "
      ],
      "metadata": {
        "id": "U2mYehKOc6Xu"
      }
    },
    {
      "cell_type": "code",
      "source": [
        "books.loc[books['Year-Of-Publication'] == 'DK Publishing Inc',:]"
      ],
      "metadata": {
        "colab": {
          "base_uri": "https://localhost:8080/"
        },
        "id": "iVr51CA3dUCv",
        "outputId": "670f0c7d-93e1-4d23-b691-2f0e2d0ceed3"
      },
      "execution_count": null,
      "outputs": [
        {
          "output_type": "execute_result",
          "data": {
            "text/html": [
              "\n",
              "  <div id=\"df-6622a6a1-998b-4e82-aa69-c1339d7c09c0\">\n",
              "    <div class=\"colab-df-container\">\n",
              "      <div>\n",
              "<style scoped>\n",
              "    .dataframe tbody tr th:only-of-type {\n",
              "        vertical-align: middle;\n",
              "    }\n",
              "\n",
              "    .dataframe tbody tr th {\n",
              "        vertical-align: top;\n",
              "    }\n",
              "\n",
              "    .dataframe thead th {\n",
              "        text-align: right;\n",
              "    }\n",
              "</style>\n",
              "<table border=\"1\" class=\"dataframe\">\n",
              "  <thead>\n",
              "    <tr style=\"text-align: right;\">\n",
              "      <th></th>\n",
              "      <th>ISBN</th>\n",
              "      <th>Book-Title</th>\n",
              "      <th>Book-Author</th>\n",
              "      <th>Year-Of-Publication</th>\n",
              "      <th>Publisher</th>\n",
              "    </tr>\n",
              "  </thead>\n",
              "  <tbody>\n",
              "    <tr>\n",
              "      <th>209538</th>\n",
              "      <td>078946697X</td>\n",
              "      <td>DK Readers: Creating the X-Men, How It All Beg...</td>\n",
              "      <td>2000</td>\n",
              "      <td>DK Publishing Inc</td>\n",
              "      <td>http://images.amazon.com/images/P/078946697X.0...</td>\n",
              "    </tr>\n",
              "    <tr>\n",
              "      <th>221678</th>\n",
              "      <td>0789466953</td>\n",
              "      <td>DK Readers: Creating the X-Men, How Comic Book...</td>\n",
              "      <td>2000</td>\n",
              "      <td>DK Publishing Inc</td>\n",
              "      <td>http://images.amazon.com/images/P/0789466953.0...</td>\n",
              "    </tr>\n",
              "  </tbody>\n",
              "</table>\n",
              "</div>\n",
              "      <button class=\"colab-df-convert\" onclick=\"convertToInteractive('df-6622a6a1-998b-4e82-aa69-c1339d7c09c0')\"\n",
              "              title=\"Convert this dataframe to an interactive table.\"\n",
              "              style=\"display:none;\">\n",
              "        \n",
              "  <svg xmlns=\"http://www.w3.org/2000/svg\" height=\"24px\"viewBox=\"0 0 24 24\"\n",
              "       width=\"24px\">\n",
              "    <path d=\"M0 0h24v24H0V0z\" fill=\"none\"/>\n",
              "    <path d=\"M18.56 5.44l.94 2.06.94-2.06 2.06-.94-2.06-.94-.94-2.06-.94 2.06-2.06.94zm-11 1L8.5 8.5l.94-2.06 2.06-.94-2.06-.94L8.5 2.5l-.94 2.06-2.06.94zm10 10l.94 2.06.94-2.06 2.06-.94-2.06-.94-.94-2.06-.94 2.06-2.06.94z\"/><path d=\"M17.41 7.96l-1.37-1.37c-.4-.4-.92-.59-1.43-.59-.52 0-1.04.2-1.43.59L10.3 9.45l-7.72 7.72c-.78.78-.78 2.05 0 2.83L4 21.41c.39.39.9.59 1.41.59.51 0 1.02-.2 1.41-.59l7.78-7.78 2.81-2.81c.8-.78.8-2.07 0-2.86zM5.41 20L4 18.59l7.72-7.72 1.47 1.35L5.41 20z\"/>\n",
              "  </svg>\n",
              "      </button>\n",
              "      \n",
              "  <style>\n",
              "    .colab-df-container {\n",
              "      display:flex;\n",
              "      flex-wrap:wrap;\n",
              "      gap: 12px;\n",
              "    }\n",
              "\n",
              "    .colab-df-convert {\n",
              "      background-color: #E8F0FE;\n",
              "      border: none;\n",
              "      border-radius: 50%;\n",
              "      cursor: pointer;\n",
              "      display: none;\n",
              "      fill: #1967D2;\n",
              "      height: 32px;\n",
              "      padding: 0 0 0 0;\n",
              "      width: 32px;\n",
              "    }\n",
              "\n",
              "    .colab-df-convert:hover {\n",
              "      background-color: #E2EBFA;\n",
              "      box-shadow: 0px 1px 2px rgba(60, 64, 67, 0.3), 0px 1px 3px 1px rgba(60, 64, 67, 0.15);\n",
              "      fill: #174EA6;\n",
              "    }\n",
              "\n",
              "    [theme=dark] .colab-df-convert {\n",
              "      background-color: #3B4455;\n",
              "      fill: #D2E3FC;\n",
              "    }\n",
              "\n",
              "    [theme=dark] .colab-df-convert:hover {\n",
              "      background-color: #434B5C;\n",
              "      box-shadow: 0px 1px 3px 1px rgba(0, 0, 0, 0.15);\n",
              "      filter: drop-shadow(0px 1px 2px rgba(0, 0, 0, 0.3));\n",
              "      fill: #FFFFFF;\n",
              "    }\n",
              "  </style>\n",
              "\n",
              "      <script>\n",
              "        const buttonEl =\n",
              "          document.querySelector('#df-6622a6a1-998b-4e82-aa69-c1339d7c09c0 button.colab-df-convert');\n",
              "        buttonEl.style.display =\n",
              "          google.colab.kernel.accessAllowed ? 'block' : 'none';\n",
              "\n",
              "        async function convertToInteractive(key) {\n",
              "          const element = document.querySelector('#df-6622a6a1-998b-4e82-aa69-c1339d7c09c0');\n",
              "          const dataTable =\n",
              "            await google.colab.kernel.invokeFunction('convertToInteractive',\n",
              "                                                     [key], {});\n",
              "          if (!dataTable) return;\n",
              "\n",
              "          const docLinkHtml = 'Like what you see? Visit the ' +\n",
              "            '<a target=\"_blank\" href=https://colab.research.google.com/notebooks/data_table.ipynb>data table notebook</a>'\n",
              "            + ' to learn more about interactive tables.';\n",
              "          element.innerHTML = '';\n",
              "          dataTable['output_type'] = 'display_data';\n",
              "          await google.colab.output.renderOutput(dataTable, element);\n",
              "          const docLink = document.createElement('div');\n",
              "          docLink.innerHTML = docLinkHtml;\n",
              "          element.appendChild(docLink);\n",
              "        }\n",
              "      </script>\n",
              "    </div>\n",
              "  </div>\n",
              "  "
            ],
            "text/plain": [
              "              ISBN  ...                                          Publisher\n",
              "209538  078946697X  ...  http://images.amazon.com/images/P/078946697X.0...\n",
              "221678  0789466953  ...  http://images.amazon.com/images/P/0789466953.0...\n",
              "\n",
              "[2 rows x 5 columns]"
            ]
          },
          "metadata": {},
          "execution_count": 20
        }
      ]
    },
    {
      "cell_type": "code",
      "source": [
        "books.loc[books['Year-Of-Publication'] == 'Gallimard',:]"
      ],
      "metadata": {
        "colab": {
          "base_uri": "https://localhost:8080/"
        },
        "id": "NWvaRc68hUDG",
        "outputId": "2c9ec6a5-2a18-4a97-f23f-4ef0a11284a0"
      },
      "execution_count": null,
      "outputs": [
        {
          "output_type": "execute_result",
          "data": {
            "text/html": [
              "\n",
              "  <div id=\"df-08e0d56e-c4fc-401b-ab98-41af4e1945f8\">\n",
              "    <div class=\"colab-df-container\">\n",
              "      <div>\n",
              "<style scoped>\n",
              "    .dataframe tbody tr th:only-of-type {\n",
              "        vertical-align: middle;\n",
              "    }\n",
              "\n",
              "    .dataframe tbody tr th {\n",
              "        vertical-align: top;\n",
              "    }\n",
              "\n",
              "    .dataframe thead th {\n",
              "        text-align: right;\n",
              "    }\n",
              "</style>\n",
              "<table border=\"1\" class=\"dataframe\">\n",
              "  <thead>\n",
              "    <tr style=\"text-align: right;\">\n",
              "      <th></th>\n",
              "      <th>ISBN</th>\n",
              "      <th>Book-Title</th>\n",
              "      <th>Book-Author</th>\n",
              "      <th>Year-Of-Publication</th>\n",
              "      <th>Publisher</th>\n",
              "    </tr>\n",
              "  </thead>\n",
              "  <tbody>\n",
              "    <tr>\n",
              "      <th>220731</th>\n",
              "      <td>2070426769</td>\n",
              "      <td>Peuple du ciel, suivi de 'Les Bergers\\\";Jean-M...</td>\n",
              "      <td>2003</td>\n",
              "      <td>Gallimard</td>\n",
              "      <td>http://images.amazon.com/images/P/2070426769.0...</td>\n",
              "    </tr>\n",
              "  </tbody>\n",
              "</table>\n",
              "</div>\n",
              "      <button class=\"colab-df-convert\" onclick=\"convertToInteractive('df-08e0d56e-c4fc-401b-ab98-41af4e1945f8')\"\n",
              "              title=\"Convert this dataframe to an interactive table.\"\n",
              "              style=\"display:none;\">\n",
              "        \n",
              "  <svg xmlns=\"http://www.w3.org/2000/svg\" height=\"24px\"viewBox=\"0 0 24 24\"\n",
              "       width=\"24px\">\n",
              "    <path d=\"M0 0h24v24H0V0z\" fill=\"none\"/>\n",
              "    <path d=\"M18.56 5.44l.94 2.06.94-2.06 2.06-.94-2.06-.94-.94-2.06-.94 2.06-2.06.94zm-11 1L8.5 8.5l.94-2.06 2.06-.94-2.06-.94L8.5 2.5l-.94 2.06-2.06.94zm10 10l.94 2.06.94-2.06 2.06-.94-2.06-.94-.94-2.06-.94 2.06-2.06.94z\"/><path d=\"M17.41 7.96l-1.37-1.37c-.4-.4-.92-.59-1.43-.59-.52 0-1.04.2-1.43.59L10.3 9.45l-7.72 7.72c-.78.78-.78 2.05 0 2.83L4 21.41c.39.39.9.59 1.41.59.51 0 1.02-.2 1.41-.59l7.78-7.78 2.81-2.81c.8-.78.8-2.07 0-2.86zM5.41 20L4 18.59l7.72-7.72 1.47 1.35L5.41 20z\"/>\n",
              "  </svg>\n",
              "      </button>\n",
              "      \n",
              "  <style>\n",
              "    .colab-df-container {\n",
              "      display:flex;\n",
              "      flex-wrap:wrap;\n",
              "      gap: 12px;\n",
              "    }\n",
              "\n",
              "    .colab-df-convert {\n",
              "      background-color: #E8F0FE;\n",
              "      border: none;\n",
              "      border-radius: 50%;\n",
              "      cursor: pointer;\n",
              "      display: none;\n",
              "      fill: #1967D2;\n",
              "      height: 32px;\n",
              "      padding: 0 0 0 0;\n",
              "      width: 32px;\n",
              "    }\n",
              "\n",
              "    .colab-df-convert:hover {\n",
              "      background-color: #E2EBFA;\n",
              "      box-shadow: 0px 1px 2px rgba(60, 64, 67, 0.3), 0px 1px 3px 1px rgba(60, 64, 67, 0.15);\n",
              "      fill: #174EA6;\n",
              "    }\n",
              "\n",
              "    [theme=dark] .colab-df-convert {\n",
              "      background-color: #3B4455;\n",
              "      fill: #D2E3FC;\n",
              "    }\n",
              "\n",
              "    [theme=dark] .colab-df-convert:hover {\n",
              "      background-color: #434B5C;\n",
              "      box-shadow: 0px 1px 3px 1px rgba(0, 0, 0, 0.15);\n",
              "      filter: drop-shadow(0px 1px 2px rgba(0, 0, 0, 0.3));\n",
              "      fill: #FFFFFF;\n",
              "    }\n",
              "  </style>\n",
              "\n",
              "      <script>\n",
              "        const buttonEl =\n",
              "          document.querySelector('#df-08e0d56e-c4fc-401b-ab98-41af4e1945f8 button.colab-df-convert');\n",
              "        buttonEl.style.display =\n",
              "          google.colab.kernel.accessAllowed ? 'block' : 'none';\n",
              "\n",
              "        async function convertToInteractive(key) {\n",
              "          const element = document.querySelector('#df-08e0d56e-c4fc-401b-ab98-41af4e1945f8');\n",
              "          const dataTable =\n",
              "            await google.colab.kernel.invokeFunction('convertToInteractive',\n",
              "                                                     [key], {});\n",
              "          if (!dataTable) return;\n",
              "\n",
              "          const docLinkHtml = 'Like what you see? Visit the ' +\n",
              "            '<a target=\"_blank\" href=https://colab.research.google.com/notebooks/data_table.ipynb>data table notebook</a>'\n",
              "            + ' to learn more about interactive tables.';\n",
              "          element.innerHTML = '';\n",
              "          dataTable['output_type'] = 'display_data';\n",
              "          await google.colab.output.renderOutput(dataTable, element);\n",
              "          const docLink = document.createElement('div');\n",
              "          docLink.innerHTML = docLinkHtml;\n",
              "          element.appendChild(docLink);\n",
              "        }\n",
              "      </script>\n",
              "    </div>\n",
              "  </div>\n",
              "  "
            ],
            "text/plain": [
              "              ISBN  ...                                          Publisher\n",
              "220731  2070426769  ...  http://images.amazon.com/images/P/2070426769.0...\n",
              "\n",
              "[1 rows x 5 columns]"
            ]
          },
          "metadata": {},
          "execution_count": 21
        }
      ]
    },
    {
      "cell_type": "markdown",
      "source": [
        "##As it can be seen from above that there are some incorrect entries in Year-Of-Publication field. It looks like Publisher names 'DK Publishing Inc' and 'Gallimard' have been incorrectly loaded as Year-Of-Publication in dataset due to some errors in csv file"
      ],
      "metadata": {
        "id": "cV_QapsGdns7"
      }
    },
    {
      "cell_type": "code",
      "source": [
        "#making required corrections as above, keeping other fields intact\n",
        "\n",
        "books.at[209538 ,'Publisher'] = 'DK Publishing Inc'\n",
        "books.at[209538 ,'Year-Of-Publication'] = 2000\n",
        "books.at[209538 ,'Book-Title'] = 'DK Readers: Creating the X-Men, How It All Began (Level 4: Proficient Readers)'\n",
        "books.at[209538 ,'Book-Author'] = 'Michael Teitelbaum'\n",
        "\n",
        "books.at[221678 ,'Publisher'] = 'DK Publishing Inc'\n",
        "books.at[221678 ,'Year-Of-Publication'] = 2000\n",
        "books.at[209538 ,'Book-Title'] = 'DK Readers: Creating the X-Men, How Comic Books Come to Life (Level 4: Proficient Readers)'\n",
        "books.at[209538 ,'Book-Author'] = 'James Buckley'\n",
        "\n",
        "books.at[220731 ,'Publisher'] = 'Gallimard'\n",
        "books.at[220731 ,'Year-Of-Publication'] = '2003'\n",
        "books.at[209538 ,'Book-Title'] = 'Peuple du ciel - Suivi de Les bergers '\n",
        "books.at[209538 ,'Book-Author'] = 'Jean-Marie Gustave Le ClÃ?Â©zio'"
      ],
      "metadata": {
        "id": "eghkEdFaho8y"
      },
      "execution_count": null,
      "outputs": []
    },
    {
      "cell_type": "code",
      "source": [
        "## Converting year of publication in Numbers\n",
        "books['Year-Of-Publication'] = books['Year-Of-Publication'].astype(int)"
      ],
      "metadata": {
        "id": "Qu_5eyF1hvKV"
      },
      "execution_count": null,
      "outputs": []
    },
    {
      "cell_type": "code",
      "source": [
        "print(sorted(list(books['Year-Of-Publication'].unique())))"
      ],
      "metadata": {
        "colab": {
          "base_uri": "https://localhost:8080/"
        },
        "id": "CXSUr6Rhh-1Y",
        "outputId": "5ca2ffdf-c9df-460a-b2d0-c8259a69f21a"
      },
      "execution_count": null,
      "outputs": [
        {
          "output_type": "stream",
          "name": "stdout",
          "text": [
            "[0, 1376, 1378, 1806, 1897, 1900, 1901, 1902, 1904, 1906, 1908, 1909, 1910, 1911, 1914, 1917, 1919, 1920, 1921, 1922, 1923, 1924, 1925, 1926, 1927, 1928, 1929, 1930, 1931, 1932, 1933, 1934, 1935, 1936, 1937, 1938, 1939, 1940, 1941, 1942, 1943, 1944, 1945, 1946, 1947, 1948, 1949, 1950, 1951, 1952, 1953, 1954, 1955, 1956, 1957, 1958, 1959, 1960, 1961, 1962, 1963, 1964, 1965, 1966, 1967, 1968, 1969, 1970, 1971, 1972, 1973, 1974, 1975, 1976, 1977, 1978, 1979, 1980, 1981, 1982, 1983, 1984, 1985, 1986, 1987, 1988, 1989, 1990, 1991, 1992, 1993, 1994, 1995, 1996, 1997, 1998, 1999, 2000, 2001, 2002, 2003, 2004, 2005, 2006, 2008, 2010, 2011, 2012, 2020, 2021, 2024, 2026, 2030, 2037, 2038, 2050]\n"
          ]
        }
      ]
    },
    {
      "cell_type": "code",
      "source": [
        "books['Year-Of-Publication'].describe()"
      ],
      "metadata": {
        "colab": {
          "base_uri": "https://localhost:8080/"
        },
        "id": "6cFYM4UniO6y",
        "outputId": "bd487439-c5ae-45a3-f073-d28cafbed953"
      },
      "execution_count": null,
      "outputs": [
        {
          "output_type": "execute_result",
          "data": {
            "text/plain": [
              "count    271360.000000\n",
              "mean       1959.761273\n",
              "std         257.992836\n",
              "min           0.000000\n",
              "25%        1989.000000\n",
              "50%        1995.000000\n",
              "75%        2000.000000\n",
              "max        2050.000000\n",
              "Name: Year-Of-Publication, dtype: float64"
            ]
          },
          "metadata": {},
          "execution_count": 25
        }
      ]
    },
    {
      "cell_type": "markdown",
      "source": [
        "## we can see the minimum year of publication is 0 and maximum is 2050 which is not possible"
      ],
      "metadata": {
        "id": "R2AnCXVkjsc8"
      }
    },
    {
      "cell_type": "code",
      "source": [
        "# lets check how many values of year of publication are greater than 2022 years\n",
        "books.loc[books['Year-Of-Publication']>2022].count()"
      ],
      "metadata": {
        "colab": {
          "base_uri": "https://localhost:8080/"
        },
        "id": "-ZnyAGNEjNq6",
        "outputId": "c2ae9ccc-3c24-4a52-dfff-9d82e5abfec8"
      },
      "execution_count": null,
      "outputs": [
        {
          "output_type": "execute_result",
          "data": {
            "text/plain": [
              "ISBN                   13\n",
              "Book-Title             13\n",
              "Book-Author            13\n",
              "Year-Of-Publication    13\n",
              "Publisher              13\n",
              "dtype: int64"
            ]
          },
          "metadata": {},
          "execution_count": 26
        }
      ]
    },
    {
      "cell_type": "code",
      "source": [
        "# lets check how many values of year of publication are equal to zero\n",
        "books.loc[books['Year-Of-Publication']==0].count()"
      ],
      "metadata": {
        "colab": {
          "base_uri": "https://localhost:8080/"
        },
        "id": "WWq4RUrDjYJv",
        "outputId": "503e5851-7fe9-4b67-8368-64c72bbf0eb8"
      },
      "execution_count": null,
      "outputs": [
        {
          "output_type": "execute_result",
          "data": {
            "text/plain": [
              "ISBN                   4618\n",
              "Book-Title             4618\n",
              "Book-Author            4618\n",
              "Year-Of-Publication    4618\n",
              "Publisher              4618\n",
              "dtype: int64"
            ]
          },
          "metadata": {},
          "execution_count": 27
        }
      ]
    },
    {
      "cell_type": "markdown",
      "source": [
        "##So, we can see that there are 13 values which are greater than 2022 and 4618 values which are equal to zero in year of publication column which we have to treat before moving ahead."
      ],
      "metadata": {
        "id": "m6hvTYbOkG4B"
      }
    },
    {
      "cell_type": "code",
      "source": [
        "books['Year-Of-Publication'].mode()"
      ],
      "metadata": {
        "colab": {
          "base_uri": "https://localhost:8080/"
        },
        "id": "wbECsVC8iJd_",
        "outputId": "b57fd98e-25f7-4637-da02-9becc7cc5236"
      },
      "execution_count": null,
      "outputs": [
        {
          "output_type": "execute_result",
          "data": {
            "text/plain": [
              "0    2002\n",
              "dtype: int64"
            ]
          },
          "metadata": {},
          "execution_count": 28
        }
      ]
    },
    {
      "cell_type": "code",
      "source": [
        "# lets replace all values of year of publicaion which are greater than 2021 and equal to zero with maximum number of years\n",
        "books.loc[(books['Year-Of-Publication'] > 2021) | (books['Year-Of-Publication'] == 0),'Year-Of-Publication'] = 2002\n"
      ],
      "metadata": {
        "id": "JBszhZ8kkThD"
      },
      "execution_count": null,
      "outputs": []
    },
    {
      "cell_type": "code",
      "source": [
        "# now lets verify if there any value greater than 2022\n",
        "books.loc[books['Year-Of-Publication']>2022].count()"
      ],
      "metadata": {
        "colab": {
          "base_uri": "https://localhost:8080/"
        },
        "id": "GGgPvVMBkx2l",
        "outputId": "6ab574fb-58f1-48b3-d81a-020b418a4920"
      },
      "execution_count": null,
      "outputs": [
        {
          "output_type": "execute_result",
          "data": {
            "text/plain": [
              "ISBN                   0\n",
              "Book-Title             0\n",
              "Book-Author            0\n",
              "Year-Of-Publication    0\n",
              "Publisher              0\n",
              "dtype: int64"
            ]
          },
          "metadata": {},
          "execution_count": 30
        }
      ]
    },
    {
      "cell_type": "code",
      "source": [
        "# similarly lets verfy if there and value equal to zero in year of publication column\n",
        "books.loc[books['Year-Of-Publication']==0].count()"
      ],
      "metadata": {
        "colab": {
          "base_uri": "https://localhost:8080/"
        },
        "id": "8Sy9SYW4lFRA",
        "outputId": "f331d09d-2e73-486b-bc2e-32e527810da4"
      },
      "execution_count": null,
      "outputs": [
        {
          "output_type": "execute_result",
          "data": {
            "text/plain": [
              "ISBN                   0\n",
              "Book-Title             0\n",
              "Book-Author            0\n",
              "Year-Of-Publication    0\n",
              "Publisher              0\n",
              "dtype: int64"
            ]
          },
          "metadata": {},
          "execution_count": 31
        }
      ]
    },
    {
      "cell_type": "markdown",
      "source": [
        "## Now our Year Of Publication feature doesnt have any unnecessary values"
      ],
      "metadata": {
        "id": "KZweDbl0lr8K"
      }
    },
    {
      "cell_type": "code",
      "source": [
        "books.duplicated().sum()"
      ],
      "metadata": {
        "colab": {
          "base_uri": "https://localhost:8080/"
        },
        "id": "8zqm7JLGljJb",
        "outputId": "0d56f536-6a85-43bc-d42a-e5ef5348e3bd"
      },
      "execution_count": null,
      "outputs": [
        {
          "output_type": "execute_result",
          "data": {
            "text/plain": [
              "0"
            ]
          },
          "metadata": {},
          "execution_count": 32
        }
      ]
    },
    {
      "cell_type": "markdown",
      "source": [
        "## books data set doesnt have any duplicate values"
      ],
      "metadata": {
        "id": "ugxkFZpjmnfn"
      }
    },
    {
      "cell_type": "code",
      "source": [
        "books.info()"
      ],
      "metadata": {
        "colab": {
          "base_uri": "https://localhost:8080/"
        },
        "id": "sW61UhEKml-k",
        "outputId": "27361d41-6056-47e6-c202-727c66a7dfd2"
      },
      "execution_count": null,
      "outputs": [
        {
          "output_type": "stream",
          "name": "stdout",
          "text": [
            "<class 'pandas.core.frame.DataFrame'>\n",
            "RangeIndex: 271360 entries, 0 to 271359\n",
            "Data columns (total 5 columns):\n",
            " #   Column               Non-Null Count   Dtype \n",
            "---  ------               --------------   ----- \n",
            " 0   ISBN                 271360 non-null  object\n",
            " 1   Book-Title           271360 non-null  object\n",
            " 2   Book-Author          271360 non-null  object\n",
            " 3   Year-Of-Publication  271360 non-null  int64 \n",
            " 4   Publisher            271360 non-null  object\n",
            "dtypes: int64(1), object(4)\n",
            "memory usage: 10.4+ MB\n"
          ]
        }
      ]
    },
    {
      "cell_type": "markdown",
      "source": [
        "## **Visualization:**\n"
      ],
      "metadata": {
        "id": "Yq7tWqCu10XI"
      }
    },
    {
      "cell_type": "markdown",
      "source": [
        "## Top 10 publisher"
      ],
      "metadata": {
        "id": "4VeHfEWr2HmD"
      }
    },
    {
      "cell_type": "code",
      "source": [
        "# creating dataframe for top 10 publisher\n",
        "order=pd.value_counts(books['Publisher']).iloc[:10].reset_index().rename(columns={'index':'Publisher','Publisher':'Count'}).sort_values(by='Count',ascending=True)"
      ],
      "metadata": {
        "id": "hTcciVo53oXI"
      },
      "execution_count": null,
      "outputs": []
    },
    {
      "cell_type": "code",
      "source": [
        "# bar graph of top 10 publisher\n",
        "fig = px.histogram(x= order.Count,y=order.Publisher,orientation=None , width=650, height=450,\n",
        "              text_auto=True,color=order.Publisher\n",
        "             )\n",
        "fig.update_layout(\n",
        "    title='Top 10 Publishers',\n",
        "    xaxis_title=\"Count\",\n",
        "    yaxis_title=\"Publisher\",\n",
        "    template=\"plotly_dark\",\n",
        "    \n",
        ")\n",
        "fig.show()"
      ],
      "metadata": {
        "colab": {
          "base_uri": "https://localhost:8080/"
        },
        "id": "_29n9t8y2G7S",
        "outputId": "5e89b478-9d69-4676-d597-db85d40c6073"
      },
      "execution_count": null,
      "outputs": [
        {
          "output_type": "display_data",
          "data": {
            "text/html": [
              "<html>\n",
              "<head><meta charset=\"utf-8\" /></head>\n",
              "<body>\n",
              "    <div>            <script src=\"https://cdnjs.cloudflare.com/ajax/libs/mathjax/2.7.5/MathJax.js?config=TeX-AMS-MML_SVG\"></script><script type=\"text/javascript\">if (window.MathJax) {MathJax.Hub.Config({SVG: {font: \"STIX-Web\"}});}</script>                <script type=\"text/javascript\">window.PlotlyConfig = {MathJaxConfig: 'local'};</script>\n",
              "        <script src=\"https://cdn.plot.ly/plotly-2.8.3.min.js\"></script>                <div id=\"6f58bf94-4c7b-48f8-90d6-35857211f054\" class=\"plotly-graph-div\" style=\"height:450px; width:650px;\"></div>            <script type=\"text/javascript\">                                    window.PLOTLYENV=window.PLOTLYENV || {};                                    if (document.getElementById(\"6f58bf94-4c7b-48f8-90d6-35857211f054\")) {                    Plotly.newPlot(                        \"6f58bf94-4c7b-48f8-90d6-35857211f054\",                        [{\"alignmentgroup\":\"True\",\"bingroup\":\"y\",\"histfunc\":\"sum\",\"hovertemplate\":\"color=Warner Books<br>sum of x=%{x}<br>y=%{y}<extra></extra>\",\"legendgroup\":\"Warner Books\",\"marker\":{\"color\":\"#636efa\",\"pattern\":{\"shape\":\"\"}},\"name\":\"Warner Books\",\"offsetgroup\":\"Warner Books\",\"orientation\":\"h\",\"showlegend\":true,\"texttemplate\":\"%{value}\",\"x\":[2727],\"xaxis\":\"x\",\"y\":[\"Warner Books\"],\"yaxis\":\"y\",\"type\":\"histogram\"},{\"alignmentgroup\":\"True\",\"bingroup\":\"y\",\"histfunc\":\"sum\",\"hovertemplate\":\"color=Berkley Publishing Group<br>sum of x=%{x}<br>y=%{y}<extra></extra>\",\"legendgroup\":\"Berkley Publishing Group\",\"marker\":{\"color\":\"#EF553B\",\"pattern\":{\"shape\":\"\"}},\"name\":\"Berkley Publishing Group\",\"offsetgroup\":\"Berkley Publishing Group\",\"orientation\":\"h\",\"showlegend\":true,\"texttemplate\":\"%{value}\",\"x\":[2771],\"xaxis\":\"x\",\"y\":[\"Berkley Publishing Group\"],\"yaxis\":\"y\",\"type\":\"histogram\"},{\"alignmentgroup\":\"True\",\"bingroup\":\"y\",\"histfunc\":\"sum\",\"hovertemplate\":\"color=Penguin Books<br>sum of x=%{x}<br>y=%{y}<extra></extra>\",\"legendgroup\":\"Penguin Books\",\"marker\":{\"color\":\"#00cc96\",\"pattern\":{\"shape\":\"\"}},\"name\":\"Penguin Books\",\"offsetgroup\":\"Penguin Books\",\"orientation\":\"h\",\"showlegend\":true,\"texttemplate\":\"%{value}\",\"x\":[2844],\"xaxis\":\"x\",\"y\":[\"Penguin Books\"],\"yaxis\":\"y\",\"type\":\"histogram\"},{\"alignmentgroup\":\"True\",\"bingroup\":\"y\",\"histfunc\":\"sum\",\"hovertemplate\":\"color=Simon &amp; Schuster<br>sum of x=%{x}<br>y=%{y}<extra></extra>\",\"legendgroup\":\"Simon &amp; Schuster\",\"marker\":{\"color\":\"#ab63fa\",\"pattern\":{\"shape\":\"\"}},\"name\":\"Simon &amp; Schuster\",\"offsetgroup\":\"Simon &amp; Schuster\",\"orientation\":\"h\",\"showlegend\":true,\"texttemplate\":\"%{value}\",\"x\":[2971],\"xaxis\":\"x\",\"y\":[\"Simon &amp; Schuster\"],\"yaxis\":\"y\",\"type\":\"histogram\"},{\"alignmentgroup\":\"True\",\"bingroup\":\"y\",\"histfunc\":\"sum\",\"hovertemplate\":\"color=Scholastic<br>sum of x=%{x}<br>y=%{y}<extra></extra>\",\"legendgroup\":\"Scholastic\",\"marker\":{\"color\":\"#FFA15A\",\"pattern\":{\"shape\":\"\"}},\"name\":\"Scholastic\",\"offsetgroup\":\"Scholastic\",\"orientation\":\"h\",\"showlegend\":true,\"texttemplate\":\"%{value}\",\"x\":[3160],\"xaxis\":\"x\",\"y\":[\"Scholastic\"],\"yaxis\":\"y\",\"type\":\"histogram\"},{\"alignmentgroup\":\"True\",\"bingroup\":\"y\",\"histfunc\":\"sum\",\"hovertemplate\":\"color=Bantam Books<br>sum of x=%{x}<br>y=%{y}<extra></extra>\",\"legendgroup\":\"Bantam Books\",\"marker\":{\"color\":\"#19d3f3\",\"pattern\":{\"shape\":\"\"}},\"name\":\"Bantam Books\",\"offsetgroup\":\"Bantam Books\",\"orientation\":\"h\",\"showlegend\":true,\"texttemplate\":\"%{value}\",\"x\":[3646],\"xaxis\":\"x\",\"y\":[\"Bantam Books\"],\"yaxis\":\"y\",\"type\":\"histogram\"},{\"alignmentgroup\":\"True\",\"bingroup\":\"y\",\"histfunc\":\"sum\",\"hovertemplate\":\"color=Ballantine Books<br>sum of x=%{x}<br>y=%{y}<extra></extra>\",\"legendgroup\":\"Ballantine Books\",\"marker\":{\"color\":\"#FF6692\",\"pattern\":{\"shape\":\"\"}},\"name\":\"Ballantine Books\",\"offsetgroup\":\"Ballantine Books\",\"orientation\":\"h\",\"showlegend\":true,\"texttemplate\":\"%{value}\",\"x\":[3783],\"xaxis\":\"x\",\"y\":[\"Ballantine Books\"],\"yaxis\":\"y\",\"type\":\"histogram\"},{\"alignmentgroup\":\"True\",\"bingroup\":\"y\",\"histfunc\":\"sum\",\"hovertemplate\":\"color=Pocket<br>sum of x=%{x}<br>y=%{y}<extra></extra>\",\"legendgroup\":\"Pocket\",\"marker\":{\"color\":\"#B6E880\",\"pattern\":{\"shape\":\"\"}},\"name\":\"Pocket\",\"offsetgroup\":\"Pocket\",\"orientation\":\"h\",\"showlegend\":true,\"texttemplate\":\"%{value}\",\"x\":[3905],\"xaxis\":\"x\",\"y\":[\"Pocket\"],\"yaxis\":\"y\",\"type\":\"histogram\"},{\"alignmentgroup\":\"True\",\"bingroup\":\"y\",\"histfunc\":\"sum\",\"hovertemplate\":\"color=Silhouette<br>sum of x=%{x}<br>y=%{y}<extra></extra>\",\"legendgroup\":\"Silhouette\",\"marker\":{\"color\":\"#FF97FF\",\"pattern\":{\"shape\":\"\"}},\"name\":\"Silhouette\",\"offsetgroup\":\"Silhouette\",\"orientation\":\"h\",\"showlegend\":true,\"texttemplate\":\"%{value}\",\"x\":[4220],\"xaxis\":\"x\",\"y\":[\"Silhouette\"],\"yaxis\":\"y\",\"type\":\"histogram\"},{\"alignmentgroup\":\"True\",\"bingroup\":\"y\",\"histfunc\":\"sum\",\"hovertemplate\":\"color=Harlequin<br>sum of x=%{x}<br>y=%{y}<extra></extra>\",\"legendgroup\":\"Harlequin\",\"marker\":{\"color\":\"#FECB52\",\"pattern\":{\"shape\":\"\"}},\"name\":\"Harlequin\",\"offsetgroup\":\"Harlequin\",\"orientation\":\"h\",\"showlegend\":true,\"texttemplate\":\"%{value}\",\"x\":[7535],\"xaxis\":\"x\",\"y\":[\"Harlequin\"],\"yaxis\":\"y\",\"type\":\"histogram\"}],                        {\"template\":{\"data\":{\"barpolar\":[{\"marker\":{\"line\":{\"color\":\"rgb(17,17,17)\",\"width\":0.5},\"pattern\":{\"fillmode\":\"overlay\",\"size\":10,\"solidity\":0.2}},\"type\":\"barpolar\"}],\"bar\":[{\"error_x\":{\"color\":\"#f2f5fa\"},\"error_y\":{\"color\":\"#f2f5fa\"},\"marker\":{\"line\":{\"color\":\"rgb(17,17,17)\",\"width\":0.5},\"pattern\":{\"fillmode\":\"overlay\",\"size\":10,\"solidity\":0.2}},\"type\":\"bar\"}],\"carpet\":[{\"aaxis\":{\"endlinecolor\":\"#A2B1C6\",\"gridcolor\":\"#506784\",\"linecolor\":\"#506784\",\"minorgridcolor\":\"#506784\",\"startlinecolor\":\"#A2B1C6\"},\"baxis\":{\"endlinecolor\":\"#A2B1C6\",\"gridcolor\":\"#506784\",\"linecolor\":\"#506784\",\"minorgridcolor\":\"#506784\",\"startlinecolor\":\"#A2B1C6\"},\"type\":\"carpet\"}],\"choropleth\":[{\"colorbar\":{\"outlinewidth\":0,\"ticks\":\"\"},\"type\":\"choropleth\"}],\"contourcarpet\":[{\"colorbar\":{\"outlinewidth\":0,\"ticks\":\"\"},\"type\":\"contourcarpet\"}],\"contour\":[{\"colorbar\":{\"outlinewidth\":0,\"ticks\":\"\"},\"colorscale\":[[0.0,\"#0d0887\"],[0.1111111111111111,\"#46039f\"],[0.2222222222222222,\"#7201a8\"],[0.3333333333333333,\"#9c179e\"],[0.4444444444444444,\"#bd3786\"],[0.5555555555555556,\"#d8576b\"],[0.6666666666666666,\"#ed7953\"],[0.7777777777777778,\"#fb9f3a\"],[0.8888888888888888,\"#fdca26\"],[1.0,\"#f0f921\"]],\"type\":\"contour\"}],\"heatmapgl\":[{\"colorbar\":{\"outlinewidth\":0,\"ticks\":\"\"},\"colorscale\":[[0.0,\"#0d0887\"],[0.1111111111111111,\"#46039f\"],[0.2222222222222222,\"#7201a8\"],[0.3333333333333333,\"#9c179e\"],[0.4444444444444444,\"#bd3786\"],[0.5555555555555556,\"#d8576b\"],[0.6666666666666666,\"#ed7953\"],[0.7777777777777778,\"#fb9f3a\"],[0.8888888888888888,\"#fdca26\"],[1.0,\"#f0f921\"]],\"type\":\"heatmapgl\"}],\"heatmap\":[{\"colorbar\":{\"outlinewidth\":0,\"ticks\":\"\"},\"colorscale\":[[0.0,\"#0d0887\"],[0.1111111111111111,\"#46039f\"],[0.2222222222222222,\"#7201a8\"],[0.3333333333333333,\"#9c179e\"],[0.4444444444444444,\"#bd3786\"],[0.5555555555555556,\"#d8576b\"],[0.6666666666666666,\"#ed7953\"],[0.7777777777777778,\"#fb9f3a\"],[0.8888888888888888,\"#fdca26\"],[1.0,\"#f0f921\"]],\"type\":\"heatmap\"}],\"histogram2dcontour\":[{\"colorbar\":{\"outlinewidth\":0,\"ticks\":\"\"},\"colorscale\":[[0.0,\"#0d0887\"],[0.1111111111111111,\"#46039f\"],[0.2222222222222222,\"#7201a8\"],[0.3333333333333333,\"#9c179e\"],[0.4444444444444444,\"#bd3786\"],[0.5555555555555556,\"#d8576b\"],[0.6666666666666666,\"#ed7953\"],[0.7777777777777778,\"#fb9f3a\"],[0.8888888888888888,\"#fdca26\"],[1.0,\"#f0f921\"]],\"type\":\"histogram2dcontour\"}],\"histogram2d\":[{\"colorbar\":{\"outlinewidth\":0,\"ticks\":\"\"},\"colorscale\":[[0.0,\"#0d0887\"],[0.1111111111111111,\"#46039f\"],[0.2222222222222222,\"#7201a8\"],[0.3333333333333333,\"#9c179e\"],[0.4444444444444444,\"#bd3786\"],[0.5555555555555556,\"#d8576b\"],[0.6666666666666666,\"#ed7953\"],[0.7777777777777778,\"#fb9f3a\"],[0.8888888888888888,\"#fdca26\"],[1.0,\"#f0f921\"]],\"type\":\"histogram2d\"}],\"histogram\":[{\"marker\":{\"pattern\":{\"fillmode\":\"overlay\",\"size\":10,\"solidity\":0.2}},\"type\":\"histogram\"}],\"mesh3d\":[{\"colorbar\":{\"outlinewidth\":0,\"ticks\":\"\"},\"type\":\"mesh3d\"}],\"parcoords\":[{\"line\":{\"colorbar\":{\"outlinewidth\":0,\"ticks\":\"\"}},\"type\":\"parcoords\"}],\"pie\":[{\"automargin\":true,\"type\":\"pie\"}],\"scatter3d\":[{\"line\":{\"colorbar\":{\"outlinewidth\":0,\"ticks\":\"\"}},\"marker\":{\"colorbar\":{\"outlinewidth\":0,\"ticks\":\"\"}},\"type\":\"scatter3d\"}],\"scattercarpet\":[{\"marker\":{\"colorbar\":{\"outlinewidth\":0,\"ticks\":\"\"}},\"type\":\"scattercarpet\"}],\"scattergeo\":[{\"marker\":{\"colorbar\":{\"outlinewidth\":0,\"ticks\":\"\"}},\"type\":\"scattergeo\"}],\"scattergl\":[{\"marker\":{\"line\":{\"color\":\"#283442\"}},\"type\":\"scattergl\"}],\"scattermapbox\":[{\"marker\":{\"colorbar\":{\"outlinewidth\":0,\"ticks\":\"\"}},\"type\":\"scattermapbox\"}],\"scatterpolargl\":[{\"marker\":{\"colorbar\":{\"outlinewidth\":0,\"ticks\":\"\"}},\"type\":\"scatterpolargl\"}],\"scatterpolar\":[{\"marker\":{\"colorbar\":{\"outlinewidth\":0,\"ticks\":\"\"}},\"type\":\"scatterpolar\"}],\"scatter\":[{\"marker\":{\"line\":{\"color\":\"#283442\"}},\"type\":\"scatter\"}],\"scatterternary\":[{\"marker\":{\"colorbar\":{\"outlinewidth\":0,\"ticks\":\"\"}},\"type\":\"scatterternary\"}],\"surface\":[{\"colorbar\":{\"outlinewidth\":0,\"ticks\":\"\"},\"colorscale\":[[0.0,\"#0d0887\"],[0.1111111111111111,\"#46039f\"],[0.2222222222222222,\"#7201a8\"],[0.3333333333333333,\"#9c179e\"],[0.4444444444444444,\"#bd3786\"],[0.5555555555555556,\"#d8576b\"],[0.6666666666666666,\"#ed7953\"],[0.7777777777777778,\"#fb9f3a\"],[0.8888888888888888,\"#fdca26\"],[1.0,\"#f0f921\"]],\"type\":\"surface\"}],\"table\":[{\"cells\":{\"fill\":{\"color\":\"#506784\"},\"line\":{\"color\":\"rgb(17,17,17)\"}},\"header\":{\"fill\":{\"color\":\"#2a3f5f\"},\"line\":{\"color\":\"rgb(17,17,17)\"}},\"type\":\"table\"}]},\"layout\":{\"annotationdefaults\":{\"arrowcolor\":\"#f2f5fa\",\"arrowhead\":0,\"arrowwidth\":1},\"autotypenumbers\":\"strict\",\"coloraxis\":{\"colorbar\":{\"outlinewidth\":0,\"ticks\":\"\"}},\"colorscale\":{\"diverging\":[[0,\"#8e0152\"],[0.1,\"#c51b7d\"],[0.2,\"#de77ae\"],[0.3,\"#f1b6da\"],[0.4,\"#fde0ef\"],[0.5,\"#f7f7f7\"],[0.6,\"#e6f5d0\"],[0.7,\"#b8e186\"],[0.8,\"#7fbc41\"],[0.9,\"#4d9221\"],[1,\"#276419\"]],\"sequential\":[[0.0,\"#0d0887\"],[0.1111111111111111,\"#46039f\"],[0.2222222222222222,\"#7201a8\"],[0.3333333333333333,\"#9c179e\"],[0.4444444444444444,\"#bd3786\"],[0.5555555555555556,\"#d8576b\"],[0.6666666666666666,\"#ed7953\"],[0.7777777777777778,\"#fb9f3a\"],[0.8888888888888888,\"#fdca26\"],[1.0,\"#f0f921\"]],\"sequentialminus\":[[0.0,\"#0d0887\"],[0.1111111111111111,\"#46039f\"],[0.2222222222222222,\"#7201a8\"],[0.3333333333333333,\"#9c179e\"],[0.4444444444444444,\"#bd3786\"],[0.5555555555555556,\"#d8576b\"],[0.6666666666666666,\"#ed7953\"],[0.7777777777777778,\"#fb9f3a\"],[0.8888888888888888,\"#fdca26\"],[1.0,\"#f0f921\"]]},\"colorway\":[\"#636efa\",\"#EF553B\",\"#00cc96\",\"#ab63fa\",\"#FFA15A\",\"#19d3f3\",\"#FF6692\",\"#B6E880\",\"#FF97FF\",\"#FECB52\"],\"font\":{\"color\":\"#f2f5fa\"},\"geo\":{\"bgcolor\":\"rgb(17,17,17)\",\"lakecolor\":\"rgb(17,17,17)\",\"landcolor\":\"rgb(17,17,17)\",\"showlakes\":true,\"showland\":true,\"subunitcolor\":\"#506784\"},\"hoverlabel\":{\"align\":\"left\"},\"hovermode\":\"closest\",\"mapbox\":{\"style\":\"dark\"},\"paper_bgcolor\":\"rgb(17,17,17)\",\"plot_bgcolor\":\"rgb(17,17,17)\",\"polar\":{\"angularaxis\":{\"gridcolor\":\"#506784\",\"linecolor\":\"#506784\",\"ticks\":\"\"},\"bgcolor\":\"rgb(17,17,17)\",\"radialaxis\":{\"gridcolor\":\"#506784\",\"linecolor\":\"#506784\",\"ticks\":\"\"}},\"scene\":{\"xaxis\":{\"backgroundcolor\":\"rgb(17,17,17)\",\"gridcolor\":\"#506784\",\"gridwidth\":2,\"linecolor\":\"#506784\",\"showbackground\":true,\"ticks\":\"\",\"zerolinecolor\":\"#C8D4E3\"},\"yaxis\":{\"backgroundcolor\":\"rgb(17,17,17)\",\"gridcolor\":\"#506784\",\"gridwidth\":2,\"linecolor\":\"#506784\",\"showbackground\":true,\"ticks\":\"\",\"zerolinecolor\":\"#C8D4E3\"},\"zaxis\":{\"backgroundcolor\":\"rgb(17,17,17)\",\"gridcolor\":\"#506784\",\"gridwidth\":2,\"linecolor\":\"#506784\",\"showbackground\":true,\"ticks\":\"\",\"zerolinecolor\":\"#C8D4E3\"}},\"shapedefaults\":{\"line\":{\"color\":\"#f2f5fa\"}},\"sliderdefaults\":{\"bgcolor\":\"#C8D4E3\",\"bordercolor\":\"rgb(17,17,17)\",\"borderwidth\":1,\"tickwidth\":0},\"ternary\":{\"aaxis\":{\"gridcolor\":\"#506784\",\"linecolor\":\"#506784\",\"ticks\":\"\"},\"baxis\":{\"gridcolor\":\"#506784\",\"linecolor\":\"#506784\",\"ticks\":\"\"},\"bgcolor\":\"rgb(17,17,17)\",\"caxis\":{\"gridcolor\":\"#506784\",\"linecolor\":\"#506784\",\"ticks\":\"\"}},\"title\":{\"x\":0.05},\"updatemenudefaults\":{\"bgcolor\":\"#506784\",\"borderwidth\":0},\"xaxis\":{\"automargin\":true,\"gridcolor\":\"#283442\",\"linecolor\":\"#506784\",\"ticks\":\"\",\"title\":{\"standoff\":15},\"zerolinecolor\":\"#283442\",\"zerolinewidth\":2},\"yaxis\":{\"automargin\":true,\"gridcolor\":\"#283442\",\"linecolor\":\"#506784\",\"ticks\":\"\",\"title\":{\"standoff\":15},\"zerolinecolor\":\"#283442\",\"zerolinewidth\":2}}},\"xaxis\":{\"anchor\":\"y\",\"domain\":[0.0,1.0],\"title\":{\"text\":\"Count\"}},\"yaxis\":{\"anchor\":\"x\",\"domain\":[0.0,1.0],\"title\":{\"text\":\"Publisher\"}},\"legend\":{\"title\":{\"text\":\"color\"},\"tracegroupgap\":0},\"margin\":{\"t\":60},\"barmode\":\"relative\",\"height\":450,\"width\":650,\"title\":{\"text\":\"Top 10 Publishers\"}},                        {\"responsive\": true}                    ).then(function(){\n",
              "                            \n",
              "var gd = document.getElementById('6f58bf94-4c7b-48f8-90d6-35857211f054');\n",
              "var x = new MutationObserver(function (mutations, observer) {{\n",
              "        var display = window.getComputedStyle(gd).display;\n",
              "        if (!display || display === 'none') {{\n",
              "            console.log([gd, 'removed!']);\n",
              "            Plotly.purge(gd);\n",
              "            observer.disconnect();\n",
              "        }}\n",
              "}});\n",
              "\n",
              "// Listen for the removal of the full notebook cells\n",
              "var notebookContainer = gd.closest('#notebook-container');\n",
              "if (notebookContainer) {{\n",
              "    x.observe(notebookContainer, {childList: true});\n",
              "}}\n",
              "\n",
              "// Listen for the clearing of the current output cell\n",
              "var outputEl = gd.closest('.output');\n",
              "if (outputEl) {{\n",
              "    x.observe(outputEl, {childList: true});\n",
              "}}\n",
              "\n",
              "                        })                };                            </script>        </div>\n",
              "</body>\n",
              "</html>"
            ]
          },
          "metadata": {}
        }
      ]
    },
    {
      "cell_type": "markdown",
      "source": [
        "## From the graph above we can see the top 10 publishers and among them Harlequin publishers are the publishers of most books"
      ],
      "metadata": {
        "id": "FwCmgDX-8_1h"
      }
    },
    {
      "cell_type": "markdown",
      "source": [
        "## Top 10 Book Author"
      ],
      "metadata": {
        "id": "Dn4OYCgH-MWJ"
      }
    },
    {
      "cell_type": "code",
      "source": [
        "# creating dataframe for top 10 Author\n",
        "author=pd.value_counts(books['Book-Author']).iloc[:10].reset_index().rename(columns={'index':'Author','Book-Author':'Count'}).sort_values(by='Count',ascending=True)"
      ],
      "metadata": {
        "id": "SpmfTLeR-Rim"
      },
      "execution_count": null,
      "outputs": []
    },
    {
      "cell_type": "code",
      "source": [
        "# bar graph of top 10 publisher\n",
        "fig = px.histogram(x= author.Count,y=author.Author,orientation=None , width=650, height=450,\n",
        "              text_auto=True,color=author.Author\n",
        "             )\n",
        "fig.update_layout(\n",
        "    title='Top 10 Author',\n",
        "    xaxis_title=\"Count\",\n",
        "    yaxis_title=\"Author\",\n",
        "    template=\"plotly_dark\",\n",
        "    \n",
        ")\n",
        "fig.show()"
      ],
      "metadata": {
        "colab": {
          "base_uri": "https://localhost:8080/"
        },
        "id": "PqDWbUbR-_Vs",
        "outputId": "240b20ac-b76e-41e0-8424-76d308575092"
      },
      "execution_count": null,
      "outputs": [
        {
          "output_type": "display_data",
          "data": {
            "text/html": [
              "<html>\n",
              "<head><meta charset=\"utf-8\" /></head>\n",
              "<body>\n",
              "    <div>            <script src=\"https://cdnjs.cloudflare.com/ajax/libs/mathjax/2.7.5/MathJax.js?config=TeX-AMS-MML_SVG\"></script><script type=\"text/javascript\">if (window.MathJax) {MathJax.Hub.Config({SVG: {font: \"STIX-Web\"}});}</script>                <script type=\"text/javascript\">window.PlotlyConfig = {MathJaxConfig: 'local'};</script>\n",
              "        <script src=\"https://cdn.plot.ly/plotly-2.8.3.min.js\"></script>                <div id=\"a9f1c1e9-c1c3-4204-b666-a752c820f9a3\" class=\"plotly-graph-div\" style=\"height:450px; width:650px;\"></div>            <script type=\"text/javascript\">                                    window.PLOTLYENV=window.PLOTLYENV || {};                                    if (document.getElementById(\"a9f1c1e9-c1c3-4204-b666-a752c820f9a3\")) {                    Plotly.newPlot(                        \"a9f1c1e9-c1c3-4204-b666-a752c820f9a3\",                        [{\"alignmentgroup\":\"True\",\"bingroup\":\"y\",\"histfunc\":\"sum\",\"hovertemplate\":\"color=Charles Dickens<br>sum of x=%{x}<br>y=%{y}<extra></extra>\",\"legendgroup\":\"Charles Dickens\",\"marker\":{\"color\":\"#636efa\",\"pattern\":{\"shape\":\"\"}},\"name\":\"Charles Dickens\",\"offsetgroup\":\"Charles Dickens\",\"orientation\":\"h\",\"showlegend\":true,\"texttemplate\":\"%{value}\",\"x\":[302],\"xaxis\":\"x\",\"y\":[\"Charles Dickens\"],\"yaxis\":\"y\",\"type\":\"histogram\"},{\"alignmentgroup\":\"True\",\"bingroup\":\"y\",\"histfunc\":\"sum\",\"hovertemplate\":\"color=Barbara Cartland<br>sum of x=%{x}<br>y=%{y}<extra></extra>\",\"legendgroup\":\"Barbara Cartland\",\"marker\":{\"color\":\"#EF553B\",\"pattern\":{\"shape\":\"\"}},\"name\":\"Barbara Cartland\",\"offsetgroup\":\"Barbara Cartland\",\"orientation\":\"h\",\"showlegend\":true,\"texttemplate\":\"%{value}\",\"x\":[307],\"xaxis\":\"x\",\"y\":[\"Barbara Cartland\"],\"yaxis\":\"y\",\"type\":\"histogram\"},{\"alignmentgroup\":\"True\",\"bingroup\":\"y\",\"histfunc\":\"sum\",\"hovertemplate\":\"color=Nora Roberts<br>sum of x=%{x}<br>y=%{y}<extra></extra>\",\"legendgroup\":\"Nora Roberts\",\"marker\":{\"color\":\"#00cc96\",\"pattern\":{\"shape\":\"\"}},\"name\":\"Nora Roberts\",\"offsetgroup\":\"Nora Roberts\",\"orientation\":\"h\",\"showlegend\":true,\"texttemplate\":\"%{value}\",\"x\":[315],\"xaxis\":\"x\",\"y\":[\"Nora Roberts\"],\"yaxis\":\"y\",\"type\":\"histogram\"},{\"alignmentgroup\":\"True\",\"bingroup\":\"y\",\"histfunc\":\"sum\",\"hovertemplate\":\"color=Isaac Asimov<br>sum of x=%{x}<br>y=%{y}<extra></extra>\",\"legendgroup\":\"Isaac Asimov\",\"marker\":{\"color\":\"#ab63fa\",\"pattern\":{\"shape\":\"\"}},\"name\":\"Isaac Asimov\",\"offsetgroup\":\"Isaac Asimov\",\"orientation\":\"h\",\"showlegend\":true,\"texttemplate\":\"%{value}\",\"x\":[330],\"xaxis\":\"x\",\"y\":[\"Isaac Asimov\"],\"yaxis\":\"y\",\"type\":\"histogram\"},{\"alignmentgroup\":\"True\",\"bingroup\":\"y\",\"histfunc\":\"sum\",\"hovertemplate\":\"color=Francine Pascal<br>sum of x=%{x}<br>y=%{y}<extra></extra>\",\"legendgroup\":\"Francine Pascal\",\"marker\":{\"color\":\"#FFA15A\",\"pattern\":{\"shape\":\"\"}},\"name\":\"Francine Pascal\",\"offsetgroup\":\"Francine Pascal\",\"orientation\":\"h\",\"showlegend\":true,\"texttemplate\":\"%{value}\",\"x\":[372],\"xaxis\":\"x\",\"y\":[\"Francine Pascal\"],\"yaxis\":\"y\",\"type\":\"histogram\"},{\"alignmentgroup\":\"True\",\"bingroup\":\"y\",\"histfunc\":\"sum\",\"hovertemplate\":\"color=Carolyn Keene<br>sum of x=%{x}<br>y=%{y}<extra></extra>\",\"legendgroup\":\"Carolyn Keene\",\"marker\":{\"color\":\"#19d3f3\",\"pattern\":{\"shape\":\"\"}},\"name\":\"Carolyn Keene\",\"offsetgroup\":\"Carolyn Keene\",\"orientation\":\"h\",\"showlegend\":true,\"texttemplate\":\"%{value}\",\"x\":[373],\"xaxis\":\"x\",\"y\":[\"Carolyn Keene\"],\"yaxis\":\"y\",\"type\":\"histogram\"},{\"alignmentgroup\":\"True\",\"bingroup\":\"y\",\"histfunc\":\"sum\",\"hovertemplate\":\"color=Ann M. Martin<br>sum of x=%{x}<br>y=%{y}<extra></extra>\",\"legendgroup\":\"Ann M. Martin\",\"marker\":{\"color\":\"#FF6692\",\"pattern\":{\"shape\":\"\"}},\"name\":\"Ann M. Martin\",\"offsetgroup\":\"Ann M. Martin\",\"orientation\":\"h\",\"showlegend\":true,\"texttemplate\":\"%{value}\",\"x\":[423],\"xaxis\":\"x\",\"y\":[\"Ann M. Martin\"],\"yaxis\":\"y\",\"type\":\"histogram\"},{\"alignmentgroup\":\"True\",\"bingroup\":\"y\",\"histfunc\":\"sum\",\"hovertemplate\":\"color=Stephen King<br>sum of x=%{x}<br>y=%{y}<extra></extra>\",\"legendgroup\":\"Stephen King\",\"marker\":{\"color\":\"#B6E880\",\"pattern\":{\"shape\":\"\"}},\"name\":\"Stephen King\",\"offsetgroup\":\"Stephen King\",\"orientation\":\"h\",\"showlegend\":true,\"texttemplate\":\"%{value}\",\"x\":[524],\"xaxis\":\"x\",\"y\":[\"Stephen King\"],\"yaxis\":\"y\",\"type\":\"histogram\"},{\"alignmentgroup\":\"True\",\"bingroup\":\"y\",\"histfunc\":\"sum\",\"hovertemplate\":\"color=William Shakespeare<br>sum of x=%{x}<br>y=%{y}<extra></extra>\",\"legendgroup\":\"William Shakespeare\",\"marker\":{\"color\":\"#FF97FF\",\"pattern\":{\"shape\":\"\"}},\"name\":\"William Shakespeare\",\"offsetgroup\":\"William Shakespeare\",\"orientation\":\"h\",\"showlegend\":true,\"texttemplate\":\"%{value}\",\"x\":[567],\"xaxis\":\"x\",\"y\":[\"William Shakespeare\"],\"yaxis\":\"y\",\"type\":\"histogram\"},{\"alignmentgroup\":\"True\",\"bingroup\":\"y\",\"histfunc\":\"sum\",\"hovertemplate\":\"color=Agatha Christie<br>sum of x=%{x}<br>y=%{y}<extra></extra>\",\"legendgroup\":\"Agatha Christie\",\"marker\":{\"color\":\"#FECB52\",\"pattern\":{\"shape\":\"\"}},\"name\":\"Agatha Christie\",\"offsetgroup\":\"Agatha Christie\",\"orientation\":\"h\",\"showlegend\":true,\"texttemplate\":\"%{value}\",\"x\":[632],\"xaxis\":\"x\",\"y\":[\"Agatha Christie\"],\"yaxis\":\"y\",\"type\":\"histogram\"}],                        {\"template\":{\"data\":{\"barpolar\":[{\"marker\":{\"line\":{\"color\":\"rgb(17,17,17)\",\"width\":0.5},\"pattern\":{\"fillmode\":\"overlay\",\"size\":10,\"solidity\":0.2}},\"type\":\"barpolar\"}],\"bar\":[{\"error_x\":{\"color\":\"#f2f5fa\"},\"error_y\":{\"color\":\"#f2f5fa\"},\"marker\":{\"line\":{\"color\":\"rgb(17,17,17)\",\"width\":0.5},\"pattern\":{\"fillmode\":\"overlay\",\"size\":10,\"solidity\":0.2}},\"type\":\"bar\"}],\"carpet\":[{\"aaxis\":{\"endlinecolor\":\"#A2B1C6\",\"gridcolor\":\"#506784\",\"linecolor\":\"#506784\",\"minorgridcolor\":\"#506784\",\"startlinecolor\":\"#A2B1C6\"},\"baxis\":{\"endlinecolor\":\"#A2B1C6\",\"gridcolor\":\"#506784\",\"linecolor\":\"#506784\",\"minorgridcolor\":\"#506784\",\"startlinecolor\":\"#A2B1C6\"},\"type\":\"carpet\"}],\"choropleth\":[{\"colorbar\":{\"outlinewidth\":0,\"ticks\":\"\"},\"type\":\"choropleth\"}],\"contourcarpet\":[{\"colorbar\":{\"outlinewidth\":0,\"ticks\":\"\"},\"type\":\"contourcarpet\"}],\"contour\":[{\"colorbar\":{\"outlinewidth\":0,\"ticks\":\"\"},\"colorscale\":[[0.0,\"#0d0887\"],[0.1111111111111111,\"#46039f\"],[0.2222222222222222,\"#7201a8\"],[0.3333333333333333,\"#9c179e\"],[0.4444444444444444,\"#bd3786\"],[0.5555555555555556,\"#d8576b\"],[0.6666666666666666,\"#ed7953\"],[0.7777777777777778,\"#fb9f3a\"],[0.8888888888888888,\"#fdca26\"],[1.0,\"#f0f921\"]],\"type\":\"contour\"}],\"heatmapgl\":[{\"colorbar\":{\"outlinewidth\":0,\"ticks\":\"\"},\"colorscale\":[[0.0,\"#0d0887\"],[0.1111111111111111,\"#46039f\"],[0.2222222222222222,\"#7201a8\"],[0.3333333333333333,\"#9c179e\"],[0.4444444444444444,\"#bd3786\"],[0.5555555555555556,\"#d8576b\"],[0.6666666666666666,\"#ed7953\"],[0.7777777777777778,\"#fb9f3a\"],[0.8888888888888888,\"#fdca26\"],[1.0,\"#f0f921\"]],\"type\":\"heatmapgl\"}],\"heatmap\":[{\"colorbar\":{\"outlinewidth\":0,\"ticks\":\"\"},\"colorscale\":[[0.0,\"#0d0887\"],[0.1111111111111111,\"#46039f\"],[0.2222222222222222,\"#7201a8\"],[0.3333333333333333,\"#9c179e\"],[0.4444444444444444,\"#bd3786\"],[0.5555555555555556,\"#d8576b\"],[0.6666666666666666,\"#ed7953\"],[0.7777777777777778,\"#fb9f3a\"],[0.8888888888888888,\"#fdca26\"],[1.0,\"#f0f921\"]],\"type\":\"heatmap\"}],\"histogram2dcontour\":[{\"colorbar\":{\"outlinewidth\":0,\"ticks\":\"\"},\"colorscale\":[[0.0,\"#0d0887\"],[0.1111111111111111,\"#46039f\"],[0.2222222222222222,\"#7201a8\"],[0.3333333333333333,\"#9c179e\"],[0.4444444444444444,\"#bd3786\"],[0.5555555555555556,\"#d8576b\"],[0.6666666666666666,\"#ed7953\"],[0.7777777777777778,\"#fb9f3a\"],[0.8888888888888888,\"#fdca26\"],[1.0,\"#f0f921\"]],\"type\":\"histogram2dcontour\"}],\"histogram2d\":[{\"colorbar\":{\"outlinewidth\":0,\"ticks\":\"\"},\"colorscale\":[[0.0,\"#0d0887\"],[0.1111111111111111,\"#46039f\"],[0.2222222222222222,\"#7201a8\"],[0.3333333333333333,\"#9c179e\"],[0.4444444444444444,\"#bd3786\"],[0.5555555555555556,\"#d8576b\"],[0.6666666666666666,\"#ed7953\"],[0.7777777777777778,\"#fb9f3a\"],[0.8888888888888888,\"#fdca26\"],[1.0,\"#f0f921\"]],\"type\":\"histogram2d\"}],\"histogram\":[{\"marker\":{\"pattern\":{\"fillmode\":\"overlay\",\"size\":10,\"solidity\":0.2}},\"type\":\"histogram\"}],\"mesh3d\":[{\"colorbar\":{\"outlinewidth\":0,\"ticks\":\"\"},\"type\":\"mesh3d\"}],\"parcoords\":[{\"line\":{\"colorbar\":{\"outlinewidth\":0,\"ticks\":\"\"}},\"type\":\"parcoords\"}],\"pie\":[{\"automargin\":true,\"type\":\"pie\"}],\"scatter3d\":[{\"line\":{\"colorbar\":{\"outlinewidth\":0,\"ticks\":\"\"}},\"marker\":{\"colorbar\":{\"outlinewidth\":0,\"ticks\":\"\"}},\"type\":\"scatter3d\"}],\"scattercarpet\":[{\"marker\":{\"colorbar\":{\"outlinewidth\":0,\"ticks\":\"\"}},\"type\":\"scattercarpet\"}],\"scattergeo\":[{\"marker\":{\"colorbar\":{\"outlinewidth\":0,\"ticks\":\"\"}},\"type\":\"scattergeo\"}],\"scattergl\":[{\"marker\":{\"line\":{\"color\":\"#283442\"}},\"type\":\"scattergl\"}],\"scattermapbox\":[{\"marker\":{\"colorbar\":{\"outlinewidth\":0,\"ticks\":\"\"}},\"type\":\"scattermapbox\"}],\"scatterpolargl\":[{\"marker\":{\"colorbar\":{\"outlinewidth\":0,\"ticks\":\"\"}},\"type\":\"scatterpolargl\"}],\"scatterpolar\":[{\"marker\":{\"colorbar\":{\"outlinewidth\":0,\"ticks\":\"\"}},\"type\":\"scatterpolar\"}],\"scatter\":[{\"marker\":{\"line\":{\"color\":\"#283442\"}},\"type\":\"scatter\"}],\"scatterternary\":[{\"marker\":{\"colorbar\":{\"outlinewidth\":0,\"ticks\":\"\"}},\"type\":\"scatterternary\"}],\"surface\":[{\"colorbar\":{\"outlinewidth\":0,\"ticks\":\"\"},\"colorscale\":[[0.0,\"#0d0887\"],[0.1111111111111111,\"#46039f\"],[0.2222222222222222,\"#7201a8\"],[0.3333333333333333,\"#9c179e\"],[0.4444444444444444,\"#bd3786\"],[0.5555555555555556,\"#d8576b\"],[0.6666666666666666,\"#ed7953\"],[0.7777777777777778,\"#fb9f3a\"],[0.8888888888888888,\"#fdca26\"],[1.0,\"#f0f921\"]],\"type\":\"surface\"}],\"table\":[{\"cells\":{\"fill\":{\"color\":\"#506784\"},\"line\":{\"color\":\"rgb(17,17,17)\"}},\"header\":{\"fill\":{\"color\":\"#2a3f5f\"},\"line\":{\"color\":\"rgb(17,17,17)\"}},\"type\":\"table\"}]},\"layout\":{\"annotationdefaults\":{\"arrowcolor\":\"#f2f5fa\",\"arrowhead\":0,\"arrowwidth\":1},\"autotypenumbers\":\"strict\",\"coloraxis\":{\"colorbar\":{\"outlinewidth\":0,\"ticks\":\"\"}},\"colorscale\":{\"diverging\":[[0,\"#8e0152\"],[0.1,\"#c51b7d\"],[0.2,\"#de77ae\"],[0.3,\"#f1b6da\"],[0.4,\"#fde0ef\"],[0.5,\"#f7f7f7\"],[0.6,\"#e6f5d0\"],[0.7,\"#b8e186\"],[0.8,\"#7fbc41\"],[0.9,\"#4d9221\"],[1,\"#276419\"]],\"sequential\":[[0.0,\"#0d0887\"],[0.1111111111111111,\"#46039f\"],[0.2222222222222222,\"#7201a8\"],[0.3333333333333333,\"#9c179e\"],[0.4444444444444444,\"#bd3786\"],[0.5555555555555556,\"#d8576b\"],[0.6666666666666666,\"#ed7953\"],[0.7777777777777778,\"#fb9f3a\"],[0.8888888888888888,\"#fdca26\"],[1.0,\"#f0f921\"]],\"sequentialminus\":[[0.0,\"#0d0887\"],[0.1111111111111111,\"#46039f\"],[0.2222222222222222,\"#7201a8\"],[0.3333333333333333,\"#9c179e\"],[0.4444444444444444,\"#bd3786\"],[0.5555555555555556,\"#d8576b\"],[0.6666666666666666,\"#ed7953\"],[0.7777777777777778,\"#fb9f3a\"],[0.8888888888888888,\"#fdca26\"],[1.0,\"#f0f921\"]]},\"colorway\":[\"#636efa\",\"#EF553B\",\"#00cc96\",\"#ab63fa\",\"#FFA15A\",\"#19d3f3\",\"#FF6692\",\"#B6E880\",\"#FF97FF\",\"#FECB52\"],\"font\":{\"color\":\"#f2f5fa\"},\"geo\":{\"bgcolor\":\"rgb(17,17,17)\",\"lakecolor\":\"rgb(17,17,17)\",\"landcolor\":\"rgb(17,17,17)\",\"showlakes\":true,\"showland\":true,\"subunitcolor\":\"#506784\"},\"hoverlabel\":{\"align\":\"left\"},\"hovermode\":\"closest\",\"mapbox\":{\"style\":\"dark\"},\"paper_bgcolor\":\"rgb(17,17,17)\",\"plot_bgcolor\":\"rgb(17,17,17)\",\"polar\":{\"angularaxis\":{\"gridcolor\":\"#506784\",\"linecolor\":\"#506784\",\"ticks\":\"\"},\"bgcolor\":\"rgb(17,17,17)\",\"radialaxis\":{\"gridcolor\":\"#506784\",\"linecolor\":\"#506784\",\"ticks\":\"\"}},\"scene\":{\"xaxis\":{\"backgroundcolor\":\"rgb(17,17,17)\",\"gridcolor\":\"#506784\",\"gridwidth\":2,\"linecolor\":\"#506784\",\"showbackground\":true,\"ticks\":\"\",\"zerolinecolor\":\"#C8D4E3\"},\"yaxis\":{\"backgroundcolor\":\"rgb(17,17,17)\",\"gridcolor\":\"#506784\",\"gridwidth\":2,\"linecolor\":\"#506784\",\"showbackground\":true,\"ticks\":\"\",\"zerolinecolor\":\"#C8D4E3\"},\"zaxis\":{\"backgroundcolor\":\"rgb(17,17,17)\",\"gridcolor\":\"#506784\",\"gridwidth\":2,\"linecolor\":\"#506784\",\"showbackground\":true,\"ticks\":\"\",\"zerolinecolor\":\"#C8D4E3\"}},\"shapedefaults\":{\"line\":{\"color\":\"#f2f5fa\"}},\"sliderdefaults\":{\"bgcolor\":\"#C8D4E3\",\"bordercolor\":\"rgb(17,17,17)\",\"borderwidth\":1,\"tickwidth\":0},\"ternary\":{\"aaxis\":{\"gridcolor\":\"#506784\",\"linecolor\":\"#506784\",\"ticks\":\"\"},\"baxis\":{\"gridcolor\":\"#506784\",\"linecolor\":\"#506784\",\"ticks\":\"\"},\"bgcolor\":\"rgb(17,17,17)\",\"caxis\":{\"gridcolor\":\"#506784\",\"linecolor\":\"#506784\",\"ticks\":\"\"}},\"title\":{\"x\":0.05},\"updatemenudefaults\":{\"bgcolor\":\"#506784\",\"borderwidth\":0},\"xaxis\":{\"automargin\":true,\"gridcolor\":\"#283442\",\"linecolor\":\"#506784\",\"ticks\":\"\",\"title\":{\"standoff\":15},\"zerolinecolor\":\"#283442\",\"zerolinewidth\":2},\"yaxis\":{\"automargin\":true,\"gridcolor\":\"#283442\",\"linecolor\":\"#506784\",\"ticks\":\"\",\"title\":{\"standoff\":15},\"zerolinecolor\":\"#283442\",\"zerolinewidth\":2}}},\"xaxis\":{\"anchor\":\"y\",\"domain\":[0.0,1.0],\"title\":{\"text\":\"Count\"}},\"yaxis\":{\"anchor\":\"x\",\"domain\":[0.0,1.0],\"title\":{\"text\":\"Author\"}},\"legend\":{\"title\":{\"text\":\"color\"},\"tracegroupgap\":0},\"margin\":{\"t\":60},\"barmode\":\"relative\",\"height\":450,\"width\":650,\"title\":{\"text\":\"Top 10 Author\"}},                        {\"responsive\": true}                    ).then(function(){\n",
              "                            \n",
              "var gd = document.getElementById('a9f1c1e9-c1c3-4204-b666-a752c820f9a3');\n",
              "var x = new MutationObserver(function (mutations, observer) {{\n",
              "        var display = window.getComputedStyle(gd).display;\n",
              "        if (!display || display === 'none') {{\n",
              "            console.log([gd, 'removed!']);\n",
              "            Plotly.purge(gd);\n",
              "            observer.disconnect();\n",
              "        }}\n",
              "}});\n",
              "\n",
              "// Listen for the removal of the full notebook cells\n",
              "var notebookContainer = gd.closest('#notebook-container');\n",
              "if (notebookContainer) {{\n",
              "    x.observe(notebookContainer, {childList: true});\n",
              "}}\n",
              "\n",
              "// Listen for the clearing of the current output cell\n",
              "var outputEl = gd.closest('.output');\n",
              "if (outputEl) {{\n",
              "    x.observe(outputEl, {childList: true});\n",
              "}}\n",
              "\n",
              "                        })                };                            </script>        </div>\n",
              "</body>\n",
              "</html>"
            ]
          },
          "metadata": {}
        }
      ]
    },
    {
      "cell_type": "markdown",
      "source": [
        "## From the graph above we can see the top 10 Author"
      ],
      "metadata": {
        "id": "zAg9bwLMCC46"
      }
    },
    {
      "cell_type": "code",
      "source": [
        "year_book=books['Year-Of-Publication'].value_counts().reset_index().rename(columns={'index':'Year','Year-Of-Publication':'Count'}).sort_values(by='Year',ascending=False)\n"
      ],
      "metadata": {
        "id": "prLcLljvTF1p"
      },
      "execution_count": null,
      "outputs": []
    },
    {
      "cell_type": "code",
      "source": [
        "fig = go.Figure()\n",
        "fig.add_trace(go.Bar(x=year_book.Year, y=year_book.Count,\n",
        "                \n",
        "                marker_color='crimson',\n",
        "                name='expenses'))\n",
        "fig.update_layout(\n",
        "    \n",
        "    width=1000, height=450,\n",
        "    title='Number of book publish per year',\n",
        "    xaxis_title=\"Year\",\n",
        "    yaxis_title=\"Number of Books\",\n",
        "    template=\"plotly_dark\",\n",
        "    \n",
        ")\n",
        "fig.show()"
      ],
      "metadata": {
        "colab": {
          "base_uri": "https://localhost:8080/"
        },
        "id": "T8q7k70JaQ_d",
        "outputId": "659646f8-7e9d-4678-df0d-efce9ee05318"
      },
      "execution_count": null,
      "outputs": [
        {
          "output_type": "display_data",
          "data": {
            "text/html": [
              "<html>\n",
              "<head><meta charset=\"utf-8\" /></head>\n",
              "<body>\n",
              "    <div>            <script src=\"https://cdnjs.cloudflare.com/ajax/libs/mathjax/2.7.5/MathJax.js?config=TeX-AMS-MML_SVG\"></script><script type=\"text/javascript\">if (window.MathJax) {MathJax.Hub.Config({SVG: {font: \"STIX-Web\"}});}</script>                <script type=\"text/javascript\">window.PlotlyConfig = {MathJaxConfig: 'local'};</script>\n",
              "        <script src=\"https://cdn.plot.ly/plotly-2.8.3.min.js\"></script>                <div id=\"b8466a57-cf9a-4401-adf5-4a76ecdc0e97\" class=\"plotly-graph-div\" style=\"height:450px; width:1000px;\"></div>            <script type=\"text/javascript\">                                    window.PLOTLYENV=window.PLOTLYENV || {};                                    if (document.getElementById(\"b8466a57-cf9a-4401-adf5-4a76ecdc0e97\")) {                    Plotly.newPlot(                        \"b8466a57-cf9a-4401-adf5-4a76ecdc0e97\",                        [{\"marker\":{\"color\":\"crimson\"},\"name\":\"expenses\",\"x\":[2021,2020,2012,2011,2010,2008,2006,2005,2004,2003,2002,2001,2000,1999,1998,1997,1996,1995,1994,1993,1992,1991,1990,1989,1988,1987,1986,1985,1984,1983,1982,1981,1980,1979,1978,1977,1976,1975,1974,1973,1972,1971,1970,1969,1968,1967,1966,1965,1964,1963,1962,1961,1960,1959,1958,1957,1956,1955,1954,1953,1952,1951,1950,1949,1948,1947,1946,1945,1944,1943,1942,1941,1940,1939,1938,1937,1936,1935,1934,1933,1932,1931,1930,1929,1928,1927,1926,1925,1924,1923,1922,1921,1920,1919,1917,1914,1911,1910,1909,1908,1906,1904,1902,1901,1900,1897,1806,1378,1376],\"y\":[1,3,1,2,2,1,3,46,5839,14359,22258,17359,17234,17431,15766,14890,14030,13546,11796,10602,9906,9389,8660,7936,7492,6529,5841,5343,4986,4499,4197,3279,2676,2208,2131,1897,1597,1219,1023,923,772,540,459,339,233,176,183,173,149,132,123,132,133,103,77,76,74,70,54,63,34,40,32,11,9,14,13,8,4,8,14,10,36,9,7,5,7,3,1,4,5,3,13,7,2,2,2,2,2,11,2,2,33,1,1,1,19,1,2,1,1,1,2,7,3,1,1,1,1],\"type\":\"bar\"}],                        {\"template\":{\"data\":{\"barpolar\":[{\"marker\":{\"line\":{\"color\":\"rgb(17,17,17)\",\"width\":0.5},\"pattern\":{\"fillmode\":\"overlay\",\"size\":10,\"solidity\":0.2}},\"type\":\"barpolar\"}],\"bar\":[{\"error_x\":{\"color\":\"#f2f5fa\"},\"error_y\":{\"color\":\"#f2f5fa\"},\"marker\":{\"line\":{\"color\":\"rgb(17,17,17)\",\"width\":0.5},\"pattern\":{\"fillmode\":\"overlay\",\"size\":10,\"solidity\":0.2}},\"type\":\"bar\"}],\"carpet\":[{\"aaxis\":{\"endlinecolor\":\"#A2B1C6\",\"gridcolor\":\"#506784\",\"linecolor\":\"#506784\",\"minorgridcolor\":\"#506784\",\"startlinecolor\":\"#A2B1C6\"},\"baxis\":{\"endlinecolor\":\"#A2B1C6\",\"gridcolor\":\"#506784\",\"linecolor\":\"#506784\",\"minorgridcolor\":\"#506784\",\"startlinecolor\":\"#A2B1C6\"},\"type\":\"carpet\"}],\"choropleth\":[{\"colorbar\":{\"outlinewidth\":0,\"ticks\":\"\"},\"type\":\"choropleth\"}],\"contourcarpet\":[{\"colorbar\":{\"outlinewidth\":0,\"ticks\":\"\"},\"type\":\"contourcarpet\"}],\"contour\":[{\"colorbar\":{\"outlinewidth\":0,\"ticks\":\"\"},\"colorscale\":[[0.0,\"#0d0887\"],[0.1111111111111111,\"#46039f\"],[0.2222222222222222,\"#7201a8\"],[0.3333333333333333,\"#9c179e\"],[0.4444444444444444,\"#bd3786\"],[0.5555555555555556,\"#d8576b\"],[0.6666666666666666,\"#ed7953\"],[0.7777777777777778,\"#fb9f3a\"],[0.8888888888888888,\"#fdca26\"],[1.0,\"#f0f921\"]],\"type\":\"contour\"}],\"heatmapgl\":[{\"colorbar\":{\"outlinewidth\":0,\"ticks\":\"\"},\"colorscale\":[[0.0,\"#0d0887\"],[0.1111111111111111,\"#46039f\"],[0.2222222222222222,\"#7201a8\"],[0.3333333333333333,\"#9c179e\"],[0.4444444444444444,\"#bd3786\"],[0.5555555555555556,\"#d8576b\"],[0.6666666666666666,\"#ed7953\"],[0.7777777777777778,\"#fb9f3a\"],[0.8888888888888888,\"#fdca26\"],[1.0,\"#f0f921\"]],\"type\":\"heatmapgl\"}],\"heatmap\":[{\"colorbar\":{\"outlinewidth\":0,\"ticks\":\"\"},\"colorscale\":[[0.0,\"#0d0887\"],[0.1111111111111111,\"#46039f\"],[0.2222222222222222,\"#7201a8\"],[0.3333333333333333,\"#9c179e\"],[0.4444444444444444,\"#bd3786\"],[0.5555555555555556,\"#d8576b\"],[0.6666666666666666,\"#ed7953\"],[0.7777777777777778,\"#fb9f3a\"],[0.8888888888888888,\"#fdca26\"],[1.0,\"#f0f921\"]],\"type\":\"heatmap\"}],\"histogram2dcontour\":[{\"colorbar\":{\"outlinewidth\":0,\"ticks\":\"\"},\"colorscale\":[[0.0,\"#0d0887\"],[0.1111111111111111,\"#46039f\"],[0.2222222222222222,\"#7201a8\"],[0.3333333333333333,\"#9c179e\"],[0.4444444444444444,\"#bd3786\"],[0.5555555555555556,\"#d8576b\"],[0.6666666666666666,\"#ed7953\"],[0.7777777777777778,\"#fb9f3a\"],[0.8888888888888888,\"#fdca26\"],[1.0,\"#f0f921\"]],\"type\":\"histogram2dcontour\"}],\"histogram2d\":[{\"colorbar\":{\"outlinewidth\":0,\"ticks\":\"\"},\"colorscale\":[[0.0,\"#0d0887\"],[0.1111111111111111,\"#46039f\"],[0.2222222222222222,\"#7201a8\"],[0.3333333333333333,\"#9c179e\"],[0.4444444444444444,\"#bd3786\"],[0.5555555555555556,\"#d8576b\"],[0.6666666666666666,\"#ed7953\"],[0.7777777777777778,\"#fb9f3a\"],[0.8888888888888888,\"#fdca26\"],[1.0,\"#f0f921\"]],\"type\":\"histogram2d\"}],\"histogram\":[{\"marker\":{\"pattern\":{\"fillmode\":\"overlay\",\"size\":10,\"solidity\":0.2}},\"type\":\"histogram\"}],\"mesh3d\":[{\"colorbar\":{\"outlinewidth\":0,\"ticks\":\"\"},\"type\":\"mesh3d\"}],\"parcoords\":[{\"line\":{\"colorbar\":{\"outlinewidth\":0,\"ticks\":\"\"}},\"type\":\"parcoords\"}],\"pie\":[{\"automargin\":true,\"type\":\"pie\"}],\"scatter3d\":[{\"line\":{\"colorbar\":{\"outlinewidth\":0,\"ticks\":\"\"}},\"marker\":{\"colorbar\":{\"outlinewidth\":0,\"ticks\":\"\"}},\"type\":\"scatter3d\"}],\"scattercarpet\":[{\"marker\":{\"colorbar\":{\"outlinewidth\":0,\"ticks\":\"\"}},\"type\":\"scattercarpet\"}],\"scattergeo\":[{\"marker\":{\"colorbar\":{\"outlinewidth\":0,\"ticks\":\"\"}},\"type\":\"scattergeo\"}],\"scattergl\":[{\"marker\":{\"line\":{\"color\":\"#283442\"}},\"type\":\"scattergl\"}],\"scattermapbox\":[{\"marker\":{\"colorbar\":{\"outlinewidth\":0,\"ticks\":\"\"}},\"type\":\"scattermapbox\"}],\"scatterpolargl\":[{\"marker\":{\"colorbar\":{\"outlinewidth\":0,\"ticks\":\"\"}},\"type\":\"scatterpolargl\"}],\"scatterpolar\":[{\"marker\":{\"colorbar\":{\"outlinewidth\":0,\"ticks\":\"\"}},\"type\":\"scatterpolar\"}],\"scatter\":[{\"marker\":{\"line\":{\"color\":\"#283442\"}},\"type\":\"scatter\"}],\"scatterternary\":[{\"marker\":{\"colorbar\":{\"outlinewidth\":0,\"ticks\":\"\"}},\"type\":\"scatterternary\"}],\"surface\":[{\"colorbar\":{\"outlinewidth\":0,\"ticks\":\"\"},\"colorscale\":[[0.0,\"#0d0887\"],[0.1111111111111111,\"#46039f\"],[0.2222222222222222,\"#7201a8\"],[0.3333333333333333,\"#9c179e\"],[0.4444444444444444,\"#bd3786\"],[0.5555555555555556,\"#d8576b\"],[0.6666666666666666,\"#ed7953\"],[0.7777777777777778,\"#fb9f3a\"],[0.8888888888888888,\"#fdca26\"],[1.0,\"#f0f921\"]],\"type\":\"surface\"}],\"table\":[{\"cells\":{\"fill\":{\"color\":\"#506784\"},\"line\":{\"color\":\"rgb(17,17,17)\"}},\"header\":{\"fill\":{\"color\":\"#2a3f5f\"},\"line\":{\"color\":\"rgb(17,17,17)\"}},\"type\":\"table\"}]},\"layout\":{\"annotationdefaults\":{\"arrowcolor\":\"#f2f5fa\",\"arrowhead\":0,\"arrowwidth\":1},\"autotypenumbers\":\"strict\",\"coloraxis\":{\"colorbar\":{\"outlinewidth\":0,\"ticks\":\"\"}},\"colorscale\":{\"diverging\":[[0,\"#8e0152\"],[0.1,\"#c51b7d\"],[0.2,\"#de77ae\"],[0.3,\"#f1b6da\"],[0.4,\"#fde0ef\"],[0.5,\"#f7f7f7\"],[0.6,\"#e6f5d0\"],[0.7,\"#b8e186\"],[0.8,\"#7fbc41\"],[0.9,\"#4d9221\"],[1,\"#276419\"]],\"sequential\":[[0.0,\"#0d0887\"],[0.1111111111111111,\"#46039f\"],[0.2222222222222222,\"#7201a8\"],[0.3333333333333333,\"#9c179e\"],[0.4444444444444444,\"#bd3786\"],[0.5555555555555556,\"#d8576b\"],[0.6666666666666666,\"#ed7953\"],[0.7777777777777778,\"#fb9f3a\"],[0.8888888888888888,\"#fdca26\"],[1.0,\"#f0f921\"]],\"sequentialminus\":[[0.0,\"#0d0887\"],[0.1111111111111111,\"#46039f\"],[0.2222222222222222,\"#7201a8\"],[0.3333333333333333,\"#9c179e\"],[0.4444444444444444,\"#bd3786\"],[0.5555555555555556,\"#d8576b\"],[0.6666666666666666,\"#ed7953\"],[0.7777777777777778,\"#fb9f3a\"],[0.8888888888888888,\"#fdca26\"],[1.0,\"#f0f921\"]]},\"colorway\":[\"#636efa\",\"#EF553B\",\"#00cc96\",\"#ab63fa\",\"#FFA15A\",\"#19d3f3\",\"#FF6692\",\"#B6E880\",\"#FF97FF\",\"#FECB52\"],\"font\":{\"color\":\"#f2f5fa\"},\"geo\":{\"bgcolor\":\"rgb(17,17,17)\",\"lakecolor\":\"rgb(17,17,17)\",\"landcolor\":\"rgb(17,17,17)\",\"showlakes\":true,\"showland\":true,\"subunitcolor\":\"#506784\"},\"hoverlabel\":{\"align\":\"left\"},\"hovermode\":\"closest\",\"mapbox\":{\"style\":\"dark\"},\"paper_bgcolor\":\"rgb(17,17,17)\",\"plot_bgcolor\":\"rgb(17,17,17)\",\"polar\":{\"angularaxis\":{\"gridcolor\":\"#506784\",\"linecolor\":\"#506784\",\"ticks\":\"\"},\"bgcolor\":\"rgb(17,17,17)\",\"radialaxis\":{\"gridcolor\":\"#506784\",\"linecolor\":\"#506784\",\"ticks\":\"\"}},\"scene\":{\"xaxis\":{\"backgroundcolor\":\"rgb(17,17,17)\",\"gridcolor\":\"#506784\",\"gridwidth\":2,\"linecolor\":\"#506784\",\"showbackground\":true,\"ticks\":\"\",\"zerolinecolor\":\"#C8D4E3\"},\"yaxis\":{\"backgroundcolor\":\"rgb(17,17,17)\",\"gridcolor\":\"#506784\",\"gridwidth\":2,\"linecolor\":\"#506784\",\"showbackground\":true,\"ticks\":\"\",\"zerolinecolor\":\"#C8D4E3\"},\"zaxis\":{\"backgroundcolor\":\"rgb(17,17,17)\",\"gridcolor\":\"#506784\",\"gridwidth\":2,\"linecolor\":\"#506784\",\"showbackground\":true,\"ticks\":\"\",\"zerolinecolor\":\"#C8D4E3\"}},\"shapedefaults\":{\"line\":{\"color\":\"#f2f5fa\"}},\"sliderdefaults\":{\"bgcolor\":\"#C8D4E3\",\"bordercolor\":\"rgb(17,17,17)\",\"borderwidth\":1,\"tickwidth\":0},\"ternary\":{\"aaxis\":{\"gridcolor\":\"#506784\",\"linecolor\":\"#506784\",\"ticks\":\"\"},\"baxis\":{\"gridcolor\":\"#506784\",\"linecolor\":\"#506784\",\"ticks\":\"\"},\"bgcolor\":\"rgb(17,17,17)\",\"caxis\":{\"gridcolor\":\"#506784\",\"linecolor\":\"#506784\",\"ticks\":\"\"}},\"title\":{\"x\":0.05},\"updatemenudefaults\":{\"bgcolor\":\"#506784\",\"borderwidth\":0},\"xaxis\":{\"automargin\":true,\"gridcolor\":\"#283442\",\"linecolor\":\"#506784\",\"ticks\":\"\",\"title\":{\"standoff\":15},\"zerolinecolor\":\"#283442\",\"zerolinewidth\":2},\"yaxis\":{\"automargin\":true,\"gridcolor\":\"#283442\",\"linecolor\":\"#506784\",\"ticks\":\"\",\"title\":{\"standoff\":15},\"zerolinecolor\":\"#283442\",\"zerolinewidth\":2}}},\"width\":1000,\"height\":450,\"title\":{\"text\":\"Number of book publish per year\"},\"xaxis\":{\"title\":{\"text\":\"Year\"}},\"yaxis\":{\"title\":{\"text\":\"Number of Books\"}}},                        {\"responsive\": true}                    ).then(function(){\n",
              "                            \n",
              "var gd = document.getElementById('b8466a57-cf9a-4401-adf5-4a76ecdc0e97');\n",
              "var x = new MutationObserver(function (mutations, observer) {{\n",
              "        var display = window.getComputedStyle(gd).display;\n",
              "        if (!display || display === 'none') {{\n",
              "            console.log([gd, 'removed!']);\n",
              "            Plotly.purge(gd);\n",
              "            observer.disconnect();\n",
              "        }}\n",
              "}});\n",
              "\n",
              "// Listen for the removal of the full notebook cells\n",
              "var notebookContainer = gd.closest('#notebook-container');\n",
              "if (notebookContainer) {{\n",
              "    x.observe(notebookContainer, {childList: true});\n",
              "}}\n",
              "\n",
              "// Listen for the clearing of the current output cell\n",
              "var outputEl = gd.closest('.output');\n",
              "if (outputEl) {{\n",
              "    x.observe(outputEl, {childList: true});\n",
              "}}\n",
              "\n",
              "                        })                };                            </script>        </div>\n",
              "</body>\n",
              "</html>"
            ]
          },
          "metadata": {}
        }
      ]
    },
    {
      "cell_type": "markdown",
      "source": [
        "## From the above graph we can see that most of the books are published between 1980-2000"
      ],
      "metadata": {
        "id": "foXnTfYLb-3G"
      }
    },
    {
      "cell_type": "markdown",
      "source": [
        "## Users Dataset Pre-processing"
      ],
      "metadata": {
        "id": "fhE1OdKKhwQ7"
      }
    },
    {
      "cell_type": "code",
      "source": [
        "print(\"Columns: \", list(users.columns))\n",
        "users.head()"
      ],
      "metadata": {
        "colab": {
          "base_uri": "https://localhost:8080/"
        },
        "id": "TGsfzV-ehj_j",
        "outputId": "5ea2b9e6-cc9e-4c1d-a7f1-9e81361fbaaa"
      },
      "execution_count": null,
      "outputs": [
        {
          "output_type": "stream",
          "name": "stdout",
          "text": [
            "Columns:  ['User-ID', 'Location', 'Age']\n"
          ]
        },
        {
          "output_type": "execute_result",
          "data": {
            "text/html": [
              "\n",
              "  <div id=\"df-203c7ad0-acde-4759-9b45-0d84e0698b71\">\n",
              "    <div class=\"colab-df-container\">\n",
              "      <div>\n",
              "<style scoped>\n",
              "    .dataframe tbody tr th:only-of-type {\n",
              "        vertical-align: middle;\n",
              "    }\n",
              "\n",
              "    .dataframe tbody tr th {\n",
              "        vertical-align: top;\n",
              "    }\n",
              "\n",
              "    .dataframe thead th {\n",
              "        text-align: right;\n",
              "    }\n",
              "</style>\n",
              "<table border=\"1\" class=\"dataframe\">\n",
              "  <thead>\n",
              "    <tr style=\"text-align: right;\">\n",
              "      <th></th>\n",
              "      <th>User-ID</th>\n",
              "      <th>Location</th>\n",
              "      <th>Age</th>\n",
              "    </tr>\n",
              "  </thead>\n",
              "  <tbody>\n",
              "    <tr>\n",
              "      <th>0</th>\n",
              "      <td>1</td>\n",
              "      <td>nyc, new york, usa</td>\n",
              "      <td>NaN</td>\n",
              "    </tr>\n",
              "    <tr>\n",
              "      <th>1</th>\n",
              "      <td>2</td>\n",
              "      <td>stockton, california, usa</td>\n",
              "      <td>18.0</td>\n",
              "    </tr>\n",
              "    <tr>\n",
              "      <th>2</th>\n",
              "      <td>3</td>\n",
              "      <td>moscow, yukon territory, russia</td>\n",
              "      <td>NaN</td>\n",
              "    </tr>\n",
              "    <tr>\n",
              "      <th>3</th>\n",
              "      <td>4</td>\n",
              "      <td>porto, v.n.gaia, portugal</td>\n",
              "      <td>17.0</td>\n",
              "    </tr>\n",
              "    <tr>\n",
              "      <th>4</th>\n",
              "      <td>5</td>\n",
              "      <td>farnborough, hants, united kingdom</td>\n",
              "      <td>NaN</td>\n",
              "    </tr>\n",
              "  </tbody>\n",
              "</table>\n",
              "</div>\n",
              "      <button class=\"colab-df-convert\" onclick=\"convertToInteractive('df-203c7ad0-acde-4759-9b45-0d84e0698b71')\"\n",
              "              title=\"Convert this dataframe to an interactive table.\"\n",
              "              style=\"display:none;\">\n",
              "        \n",
              "  <svg xmlns=\"http://www.w3.org/2000/svg\" height=\"24px\"viewBox=\"0 0 24 24\"\n",
              "       width=\"24px\">\n",
              "    <path d=\"M0 0h24v24H0V0z\" fill=\"none\"/>\n",
              "    <path d=\"M18.56 5.44l.94 2.06.94-2.06 2.06-.94-2.06-.94-.94-2.06-.94 2.06-2.06.94zm-11 1L8.5 8.5l.94-2.06 2.06-.94-2.06-.94L8.5 2.5l-.94 2.06-2.06.94zm10 10l.94 2.06.94-2.06 2.06-.94-2.06-.94-.94-2.06-.94 2.06-2.06.94z\"/><path d=\"M17.41 7.96l-1.37-1.37c-.4-.4-.92-.59-1.43-.59-.52 0-1.04.2-1.43.59L10.3 9.45l-7.72 7.72c-.78.78-.78 2.05 0 2.83L4 21.41c.39.39.9.59 1.41.59.51 0 1.02-.2 1.41-.59l7.78-7.78 2.81-2.81c.8-.78.8-2.07 0-2.86zM5.41 20L4 18.59l7.72-7.72 1.47 1.35L5.41 20z\"/>\n",
              "  </svg>\n",
              "      </button>\n",
              "      \n",
              "  <style>\n",
              "    .colab-df-container {\n",
              "      display:flex;\n",
              "      flex-wrap:wrap;\n",
              "      gap: 12px;\n",
              "    }\n",
              "\n",
              "    .colab-df-convert {\n",
              "      background-color: #E8F0FE;\n",
              "      border: none;\n",
              "      border-radius: 50%;\n",
              "      cursor: pointer;\n",
              "      display: none;\n",
              "      fill: #1967D2;\n",
              "      height: 32px;\n",
              "      padding: 0 0 0 0;\n",
              "      width: 32px;\n",
              "    }\n",
              "\n",
              "    .colab-df-convert:hover {\n",
              "      background-color: #E2EBFA;\n",
              "      box-shadow: 0px 1px 2px rgba(60, 64, 67, 0.3), 0px 1px 3px 1px rgba(60, 64, 67, 0.15);\n",
              "      fill: #174EA6;\n",
              "    }\n",
              "\n",
              "    [theme=dark] .colab-df-convert {\n",
              "      background-color: #3B4455;\n",
              "      fill: #D2E3FC;\n",
              "    }\n",
              "\n",
              "    [theme=dark] .colab-df-convert:hover {\n",
              "      background-color: #434B5C;\n",
              "      box-shadow: 0px 1px 3px 1px rgba(0, 0, 0, 0.15);\n",
              "      filter: drop-shadow(0px 1px 2px rgba(0, 0, 0, 0.3));\n",
              "      fill: #FFFFFF;\n",
              "    }\n",
              "  </style>\n",
              "\n",
              "      <script>\n",
              "        const buttonEl =\n",
              "          document.querySelector('#df-203c7ad0-acde-4759-9b45-0d84e0698b71 button.colab-df-convert');\n",
              "        buttonEl.style.display =\n",
              "          google.colab.kernel.accessAllowed ? 'block' : 'none';\n",
              "\n",
              "        async function convertToInteractive(key) {\n",
              "          const element = document.querySelector('#df-203c7ad0-acde-4759-9b45-0d84e0698b71');\n",
              "          const dataTable =\n",
              "            await google.colab.kernel.invokeFunction('convertToInteractive',\n",
              "                                                     [key], {});\n",
              "          if (!dataTable) return;\n",
              "\n",
              "          const docLinkHtml = 'Like what you see? Visit the ' +\n",
              "            '<a target=\"_blank\" href=https://colab.research.google.com/notebooks/data_table.ipynb>data table notebook</a>'\n",
              "            + ' to learn more about interactive tables.';\n",
              "          element.innerHTML = '';\n",
              "          dataTable['output_type'] = 'display_data';\n",
              "          await google.colab.output.renderOutput(dataTable, element);\n",
              "          const docLink = document.createElement('div');\n",
              "          docLink.innerHTML = docLinkHtml;\n",
              "          element.appendChild(docLink);\n",
              "        }\n",
              "      </script>\n",
              "    </div>\n",
              "  </div>\n",
              "  "
            ],
            "text/plain": [
              "   User-ID                            Location   Age\n",
              "0        1                  nyc, new york, usa   NaN\n",
              "1        2           stockton, california, usa  18.0\n",
              "2        3     moscow, yukon territory, russia   NaN\n",
              "3        4           porto, v.n.gaia, portugal  17.0\n",
              "4        5  farnborough, hants, united kingdom   NaN"
            ]
          },
          "metadata": {},
          "execution_count": 40
        }
      ]
    },
    {
      "cell_type": "code",
      "source": [
        "## Checking null values\n",
        "print(users.isna().sum())   "
      ],
      "metadata": {
        "colab": {
          "base_uri": "https://localhost:8080/"
        },
        "id": "Ee9oJ-NZjNmK",
        "outputId": "8956e2d5-19d6-4e9d-a38e-fa3dd604ee65"
      },
      "execution_count": null,
      "outputs": [
        {
          "output_type": "stream",
          "name": "stdout",
          "text": [
            "User-ID          0\n",
            "Location         0\n",
            "Age         110762\n",
            "dtype: int64\n"
          ]
        }
      ]
    },
    {
      "cell_type": "code",
      "source": [
        "## Check for all values present in Age column\n",
        "print(sorted(list(users['Age'].unique())))"
      ],
      "metadata": {
        "colab": {
          "base_uri": "https://localhost:8080/"
        },
        "id": "VU8sbAsfjtYy",
        "outputId": "e3706035-720b-4f14-8e49-c4d5ae24d1d3"
      },
      "execution_count": null,
      "outputs": [
        {
          "output_type": "stream",
          "name": "stdout",
          "text": [
            "[nan, 0.0, 1.0, 2.0, 3.0, 4.0, 5.0, 6.0, 7.0, 8.0, 9.0, 10.0, 11.0, 12.0, 13.0, 14.0, 15.0, 16.0, 17.0, 18.0, 19.0, 20.0, 21.0, 22.0, 23.0, 24.0, 25.0, 26.0, 27.0, 28.0, 29.0, 30.0, 31.0, 32.0, 33.0, 34.0, 35.0, 36.0, 37.0, 38.0, 39.0, 40.0, 41.0, 42.0, 43.0, 44.0, 45.0, 46.0, 47.0, 48.0, 49.0, 50.0, 51.0, 52.0, 53.0, 54.0, 55.0, 56.0, 57.0, 58.0, 59.0, 60.0, 61.0, 62.0, 63.0, 64.0, 65.0, 66.0, 67.0, 68.0, 69.0, 70.0, 71.0, 72.0, 73.0, 74.0, 75.0, 76.0, 77.0, 78.0, 79.0, 80.0, 81.0, 82.0, 83.0, 84.0, 85.0, 86.0, 87.0, 88.0, 89.0, 90.0, 91.0, 92.0, 93.0, 94.0, 95.0, 96.0, 97.0, 98.0, 99.0, 100.0, 101.0, 102.0, 103.0, 104.0, 105.0, 106.0, 107.0, 108.0, 109.0, 110.0, 111.0, 113.0, 114.0, 115.0, 116.0, 118.0, 119.0, 123.0, 124.0, 127.0, 128.0, 132.0, 133.0, 136.0, 137.0, 138.0, 140.0, 141.0, 143.0, 146.0, 147.0, 148.0, 151.0, 152.0, 156.0, 157.0, 159.0, 162.0, 168.0, 172.0, 175.0, 183.0, 186.0, 189.0, 199.0, 200.0, 201.0, 204.0, 207.0, 208.0, 209.0, 210.0, 212.0, 219.0, 220.0, 223.0, 226.0, 228.0, 229.0, 230.0, 231.0, 237.0, 239.0, 244.0]\n"
          ]
        }
      ]
    },
    {
      "cell_type": "code",
      "source": [
        "users.describe()"
      ],
      "metadata": {
        "colab": {
          "base_uri": "https://localhost:8080/"
        },
        "id": "LFRq5ECTlHIA",
        "outputId": "23c493ca-14e1-4ca0-8f67-1024f38ab948"
      },
      "execution_count": null,
      "outputs": [
        {
          "output_type": "execute_result",
          "data": {
            "text/html": [
              "\n",
              "  <div id=\"df-0e7c5a55-5158-4655-abef-ec3781d0edbf\">\n",
              "    <div class=\"colab-df-container\">\n",
              "      <div>\n",
              "<style scoped>\n",
              "    .dataframe tbody tr th:only-of-type {\n",
              "        vertical-align: middle;\n",
              "    }\n",
              "\n",
              "    .dataframe tbody tr th {\n",
              "        vertical-align: top;\n",
              "    }\n",
              "\n",
              "    .dataframe thead th {\n",
              "        text-align: right;\n",
              "    }\n",
              "</style>\n",
              "<table border=\"1\" class=\"dataframe\">\n",
              "  <thead>\n",
              "    <tr style=\"text-align: right;\">\n",
              "      <th></th>\n",
              "      <th>User-ID</th>\n",
              "      <th>Age</th>\n",
              "    </tr>\n",
              "  </thead>\n",
              "  <tbody>\n",
              "    <tr>\n",
              "      <th>count</th>\n",
              "      <td>278858.00000</td>\n",
              "      <td>168096.000000</td>\n",
              "    </tr>\n",
              "    <tr>\n",
              "      <th>mean</th>\n",
              "      <td>139429.50000</td>\n",
              "      <td>34.751434</td>\n",
              "    </tr>\n",
              "    <tr>\n",
              "      <th>std</th>\n",
              "      <td>80499.51502</td>\n",
              "      <td>14.428097</td>\n",
              "    </tr>\n",
              "    <tr>\n",
              "      <th>min</th>\n",
              "      <td>1.00000</td>\n",
              "      <td>0.000000</td>\n",
              "    </tr>\n",
              "    <tr>\n",
              "      <th>25%</th>\n",
              "      <td>69715.25000</td>\n",
              "      <td>24.000000</td>\n",
              "    </tr>\n",
              "    <tr>\n",
              "      <th>50%</th>\n",
              "      <td>139429.50000</td>\n",
              "      <td>32.000000</td>\n",
              "    </tr>\n",
              "    <tr>\n",
              "      <th>75%</th>\n",
              "      <td>209143.75000</td>\n",
              "      <td>44.000000</td>\n",
              "    </tr>\n",
              "    <tr>\n",
              "      <th>max</th>\n",
              "      <td>278858.00000</td>\n",
              "      <td>244.000000</td>\n",
              "    </tr>\n",
              "  </tbody>\n",
              "</table>\n",
              "</div>\n",
              "      <button class=\"colab-df-convert\" onclick=\"convertToInteractive('df-0e7c5a55-5158-4655-abef-ec3781d0edbf')\"\n",
              "              title=\"Convert this dataframe to an interactive table.\"\n",
              "              style=\"display:none;\">\n",
              "        \n",
              "  <svg xmlns=\"http://www.w3.org/2000/svg\" height=\"24px\"viewBox=\"0 0 24 24\"\n",
              "       width=\"24px\">\n",
              "    <path d=\"M0 0h24v24H0V0z\" fill=\"none\"/>\n",
              "    <path d=\"M18.56 5.44l.94 2.06.94-2.06 2.06-.94-2.06-.94-.94-2.06-.94 2.06-2.06.94zm-11 1L8.5 8.5l.94-2.06 2.06-.94-2.06-.94L8.5 2.5l-.94 2.06-2.06.94zm10 10l.94 2.06.94-2.06 2.06-.94-2.06-.94-.94-2.06-.94 2.06-2.06.94z\"/><path d=\"M17.41 7.96l-1.37-1.37c-.4-.4-.92-.59-1.43-.59-.52 0-1.04.2-1.43.59L10.3 9.45l-7.72 7.72c-.78.78-.78 2.05 0 2.83L4 21.41c.39.39.9.59 1.41.59.51 0 1.02-.2 1.41-.59l7.78-7.78 2.81-2.81c.8-.78.8-2.07 0-2.86zM5.41 20L4 18.59l7.72-7.72 1.47 1.35L5.41 20z\"/>\n",
              "  </svg>\n",
              "      </button>\n",
              "      \n",
              "  <style>\n",
              "    .colab-df-container {\n",
              "      display:flex;\n",
              "      flex-wrap:wrap;\n",
              "      gap: 12px;\n",
              "    }\n",
              "\n",
              "    .colab-df-convert {\n",
              "      background-color: #E8F0FE;\n",
              "      border: none;\n",
              "      border-radius: 50%;\n",
              "      cursor: pointer;\n",
              "      display: none;\n",
              "      fill: #1967D2;\n",
              "      height: 32px;\n",
              "      padding: 0 0 0 0;\n",
              "      width: 32px;\n",
              "    }\n",
              "\n",
              "    .colab-df-convert:hover {\n",
              "      background-color: #E2EBFA;\n",
              "      box-shadow: 0px 1px 2px rgba(60, 64, 67, 0.3), 0px 1px 3px 1px rgba(60, 64, 67, 0.15);\n",
              "      fill: #174EA6;\n",
              "    }\n",
              "\n",
              "    [theme=dark] .colab-df-convert {\n",
              "      background-color: #3B4455;\n",
              "      fill: #D2E3FC;\n",
              "    }\n",
              "\n",
              "    [theme=dark] .colab-df-convert:hover {\n",
              "      background-color: #434B5C;\n",
              "      box-shadow: 0px 1px 3px 1px rgba(0, 0, 0, 0.15);\n",
              "      filter: drop-shadow(0px 1px 2px rgba(0, 0, 0, 0.3));\n",
              "      fill: #FFFFFF;\n",
              "    }\n",
              "  </style>\n",
              "\n",
              "      <script>\n",
              "        const buttonEl =\n",
              "          document.querySelector('#df-0e7c5a55-5158-4655-abef-ec3781d0edbf button.colab-df-convert');\n",
              "        buttonEl.style.display =\n",
              "          google.colab.kernel.accessAllowed ? 'block' : 'none';\n",
              "\n",
              "        async function convertToInteractive(key) {\n",
              "          const element = document.querySelector('#df-0e7c5a55-5158-4655-abef-ec3781d0edbf');\n",
              "          const dataTable =\n",
              "            await google.colab.kernel.invokeFunction('convertToInteractive',\n",
              "                                                     [key], {});\n",
              "          if (!dataTable) return;\n",
              "\n",
              "          const docLinkHtml = 'Like what you see? Visit the ' +\n",
              "            '<a target=\"_blank\" href=https://colab.research.google.com/notebooks/data_table.ipynb>data table notebook</a>'\n",
              "            + ' to learn more about interactive tables.';\n",
              "          element.innerHTML = '';\n",
              "          dataTable['output_type'] = 'display_data';\n",
              "          await google.colab.output.renderOutput(dataTable, element);\n",
              "          const docLink = document.createElement('div');\n",
              "          docLink.innerHTML = docLinkHtml;\n",
              "          element.appendChild(docLink);\n",
              "        }\n",
              "      </script>\n",
              "    </div>\n",
              "  </div>\n",
              "  "
            ],
            "text/plain": [
              "            User-ID            Age\n",
              "count  278858.00000  168096.000000\n",
              "mean   139429.50000      34.751434\n",
              "std     80499.51502      14.428097\n",
              "min         1.00000       0.000000\n",
              "25%     69715.25000      24.000000\n",
              "50%    139429.50000      32.000000\n",
              "75%    209143.75000      44.000000\n",
              "max    278858.00000     244.000000"
            ]
          },
          "metadata": {},
          "execution_count": 43
        }
      ]
    },
    {
      "cell_type": "markdown",
      "source": [
        "## We can see some invalid data in age column\n",
        "## minimum age is 0 and Maximum is 244"
      ],
      "metadata": {
        "id": "dum3bZS-laFq"
      }
    },
    {
      "cell_type": "markdown",
      "source": [
        "## We assume that for reading a book age should be between 10-90"
      ],
      "metadata": {
        "id": "hsA3_5BWn1JL"
      }
    },
    {
      "cell_type": "code",
      "source": [
        "# mean of age between 10-90\n",
        "users.loc[(users['Age']<=90)&(users['Age']>=10),['Age']].mean().round()"
      ],
      "metadata": {
        "colab": {
          "base_uri": "https://localhost:8080/"
        },
        "id": "py8s9x9vlYXt",
        "outputId": "fae400b9-4acf-4841-a6bf-94c87ce9e4a3"
      },
      "execution_count": null,
      "outputs": [
        {
          "output_type": "execute_result",
          "data": {
            "text/plain": [
              "Age    35.0\n",
              "dtype: float64"
            ]
          },
          "metadata": {},
          "execution_count": 44
        }
      ]
    },
    {
      "cell_type": "markdown",
      "source": [
        "## Replacing outliers and filling Null values with mean"
      ],
      "metadata": {
        "id": "SZ0E-QyuqDXt"
      }
    },
    {
      "cell_type": "code",
      "source": [
        "users.loc[users['Age'] > 90, 'Age'] = 35    #outliers with age grater than 90 are substituted with mean \n",
        "users.loc[users['Age'] < 10, 'Age'] = 35    #outliers with age less than 10 years are substitued with mean\n",
        "users['Age'] = users['Age'].fillna(35)      #filling null values with mean\n",
        "users['Age'] = users['Age'].astype(int)       #changing Datatype to int"
      ],
      "metadata": {
        "id": "6QWc32i2o3CJ"
      },
      "execution_count": null,
      "outputs": []
    },
    {
      "cell_type": "markdown",
      "source": [
        "##Age Distribution"
      ],
      "metadata": {
        "id": "YpNegi8yrjQL"
      }
    },
    {
      "cell_type": "code",
      "source": [
        "users.Age.hist(bins=[0, 10, 20, 30, 40, 50, 100])\n",
        "plt.title('Age Distribution\\n')\n",
        "plt.xlabel('Age')\n",
        "plt.ylabel('Count')\n",
        "plt.show()"
      ],
      "metadata": {
        "colab": {
          "base_uri": "https://localhost:8080/"
        },
        "id": "_OfYql2Xrbsw",
        "outputId": "8fc698cd-eb28-40ec-efcc-0b66f4c3e4b3"
      },
      "execution_count": null,
      "outputs": [
        {
          "output_type": "display_data",
          "data": {
            "image/png": "[encoded data removed]",
            "text/plain": [
              "<Figure size 432x288 with 1 Axes>"
            ]
          },
          "metadata": {
            "needs_background": "light"
          }
        }
      ]
    },
    {
      "cell_type": "markdown",
      "source": [
        "## Let's find our unique value in Location column"
      ],
      "metadata": {
        "id": "SUnrCMF2rwbE"
      }
    },
    {
      "cell_type": "code",
      "source": [
        "users.Location.unique()"
      ],
      "metadata": {
        "colab": {
          "base_uri": "https://localhost:8080/"
        },
        "id": "1KxUwLsXrvRs",
        "outputId": "22539a46-3591-4047-b94a-dc7a6e04a5d8"
      },
      "execution_count": null,
      "outputs": [
        {
          "output_type": "execute_result",
          "data": {
            "text/plain": [
              "array(['nyc, new york, usa', 'stockton, california, usa',\n",
              "       'moscow, yukon territory, russia', ...,\n",
              "       'sergnano, lombardia, italy', 'stranraer, n/a, united kingdom',\n",
              "       'tacoma, washington, united kingdom'], dtype=object)"
            ]
          },
          "metadata": {},
          "execution_count": 47
        }
      ]
    },
    {
      "cell_type": "code",
      "source": [
        "users.Location.nunique()"
      ],
      "metadata": {
        "colab": {
          "base_uri": "https://localhost:8080/"
        },
        "id": "kLMIG5besHBQ",
        "outputId": "2ebc2249-19d7-46dc-afa5-34b3dea2c194"
      },
      "execution_count": null,
      "outputs": [
        {
          "output_type": "execute_result",
          "data": {
            "text/plain": [
              "57339"
            ]
          },
          "metadata": {},
          "execution_count": 48
        }
      ]
    },
    {
      "cell_type": "code",
      "source": [
        "## Extracting  city state and country from location column\n",
        "\n",
        "list_ = users.Location.str.split(', ')\n",
        "\n",
        "city = []\n",
        "state = []\n",
        "country = []\n",
        "count_no_state = 0    \n",
        "count_no_country = 0\n",
        "\n",
        "for i in range(0,len(list_)):\n",
        "    if list_[i][0] == ' ' or list_[i][0] == '' or list_[i][0]=='n/a' or list_[i][0] == ',':  #removing invalid entries too\n",
        "        city.append('other')\n",
        "    else:\n",
        "        city.append(list_[i][0].lower())\n",
        "\n",
        "    if(len(list_[i])<2):\n",
        "        state.append('other')\n",
        "        country.append('other')\n",
        "        count_no_state += 1\n",
        "        count_no_country += 1\n",
        "    else:\n",
        "        if list_[i][1] == ' ' or list_[i][1] == '' or list_[i][1]=='n/a' or list_[i][1] == ',':   #removing invalid entries \n",
        "            state.append('other')\n",
        "            count_no_state += 1            \n",
        "        else:\n",
        "            state.append(list_[i][1].lower())\n",
        "        \n",
        "        if(len(list_[i])<3):\n",
        "            country.append('other')\n",
        "            count_no_country += 1\n",
        "        else:\n",
        "            if list_[i][2] == ''or list_[i][1] == ',' or list_[i][2] == ' ' or list_[i][2] == 'n/a':\n",
        "                country.append('other')\n",
        "                count_no_country += 1\n",
        "            else:\n",
        "                country.append(list_[i][2].lower())\n",
        "        \n",
        "users = users.drop('Location',axis=1)\n",
        "temp = []\n",
        "for ent in city:\n",
        "    c = ent.split('/')            #handling cases where city/state entries from city list as state is already given \n",
        "    temp.append(c[0])\n",
        "\n",
        "df_city = pd.DataFrame(temp,columns=['City'])\n",
        "df_state = pd.DataFrame(state,columns=['State'])\n",
        "df_country = pd.DataFrame(country,columns=['Country'])\n",
        "\n",
        "users = pd.concat([users, df_city], axis=1)\n",
        "users = pd.concat([users, df_state], axis=1)\n",
        "users = pd.concat([users, df_country], axis=1)\n",
        "\n",
        "print(count_no_country)   #printing the number of countries didnt have any values \n",
        "print(count_no_state)     #printing the states which didnt have any values"
      ],
      "metadata": {
        "colab": {
          "base_uri": "https://localhost:8080/"
        },
        "id": "iUaGuyk1sbuS",
        "outputId": "b7feef3d-daed-41cb-bbc4-456aaa39afa1"
      },
      "execution_count": null,
      "outputs": [
        {
          "output_type": "stream",
          "name": "stdout",
          "text": [
            "4659\n",
            "16044\n"
          ]
        }
      ]
    },
    {
      "cell_type": "code",
      "source": [
        "users.head()"
      ],
      "metadata": {
        "colab": {
          "base_uri": "https://localhost:8080/"
        },
        "id": "CSxP7cNDtiBh",
        "outputId": "6cc82620-178f-427c-c71d-c8b59dbc27b5"
      },
      "execution_count": null,
      "outputs": [
        {
          "output_type": "execute_result",
          "data": {
            "text/html": [
              "\n",
              "  <div id=\"df-b2170bdb-e46c-4e3e-9715-46cc8a0559fc\">\n",
              "    <div class=\"colab-df-container\">\n",
              "      <div>\n",
              "<style scoped>\n",
              "    .dataframe tbody tr th:only-of-type {\n",
              "        vertical-align: middle;\n",
              "    }\n",
              "\n",
              "    .dataframe tbody tr th {\n",
              "        vertical-align: top;\n",
              "    }\n",
              "\n",
              "    .dataframe thead th {\n",
              "        text-align: right;\n",
              "    }\n",
              "</style>\n",
              "<table border=\"1\" class=\"dataframe\">\n",
              "  <thead>\n",
              "    <tr style=\"text-align: right;\">\n",
              "      <th></th>\n",
              "      <th>User-ID</th>\n",
              "      <th>Age</th>\n",
              "      <th>City</th>\n",
              "      <th>State</th>\n",
              "      <th>Country</th>\n",
              "    </tr>\n",
              "  </thead>\n",
              "  <tbody>\n",
              "    <tr>\n",
              "      <th>0</th>\n",
              "      <td>1</td>\n",
              "      <td>35</td>\n",
              "      <td>nyc</td>\n",
              "      <td>new york</td>\n",
              "      <td>usa</td>\n",
              "    </tr>\n",
              "    <tr>\n",
              "      <th>1</th>\n",
              "      <td>2</td>\n",
              "      <td>18</td>\n",
              "      <td>stockton</td>\n",
              "      <td>california</td>\n",
              "      <td>usa</td>\n",
              "    </tr>\n",
              "    <tr>\n",
              "      <th>2</th>\n",
              "      <td>3</td>\n",
              "      <td>35</td>\n",
              "      <td>moscow</td>\n",
              "      <td>yukon territory</td>\n",
              "      <td>russia</td>\n",
              "    </tr>\n",
              "    <tr>\n",
              "      <th>3</th>\n",
              "      <td>4</td>\n",
              "      <td>17</td>\n",
              "      <td>porto</td>\n",
              "      <td>v.n.gaia</td>\n",
              "      <td>portugal</td>\n",
              "    </tr>\n",
              "    <tr>\n",
              "      <th>4</th>\n",
              "      <td>5</td>\n",
              "      <td>35</td>\n",
              "      <td>farnborough</td>\n",
              "      <td>hants</td>\n",
              "      <td>united kingdom</td>\n",
              "    </tr>\n",
              "  </tbody>\n",
              "</table>\n",
              "</div>\n",
              "      <button class=\"colab-df-convert\" onclick=\"convertToInteractive('df-b2170bdb-e46c-4e3e-9715-46cc8a0559fc')\"\n",
              "              title=\"Convert this dataframe to an interactive table.\"\n",
              "              style=\"display:none;\">\n",
              "        \n",
              "  <svg xmlns=\"http://www.w3.org/2000/svg\" height=\"24px\"viewBox=\"0 0 24 24\"\n",
              "       width=\"24px\">\n",
              "    <path d=\"M0 0h24v24H0V0z\" fill=\"none\"/>\n",
              "    <path d=\"M18.56 5.44l.94 2.06.94-2.06 2.06-.94-2.06-.94-.94-2.06-.94 2.06-2.06.94zm-11 1L8.5 8.5l.94-2.06 2.06-.94-2.06-.94L8.5 2.5l-.94 2.06-2.06.94zm10 10l.94 2.06.94-2.06 2.06-.94-2.06-.94-.94-2.06-.94 2.06-2.06.94z\"/><path d=\"M17.41 7.96l-1.37-1.37c-.4-.4-.92-.59-1.43-.59-.52 0-1.04.2-1.43.59L10.3 9.45l-7.72 7.72c-.78.78-.78 2.05 0 2.83L4 21.41c.39.39.9.59 1.41.59.51 0 1.02-.2 1.41-.59l7.78-7.78 2.81-2.81c.8-.78.8-2.07 0-2.86zM5.41 20L4 18.59l7.72-7.72 1.47 1.35L5.41 20z\"/>\n",
              "  </svg>\n",
              "      </button>\n",
              "      \n",
              "  <style>\n",
              "    .colab-df-container {\n",
              "      display:flex;\n",
              "      flex-wrap:wrap;\n",
              "      gap: 12px;\n",
              "    }\n",
              "\n",
              "    .colab-df-convert {\n",
              "      background-color: #E8F0FE;\n",
              "      border: none;\n",
              "      border-radius: 50%;\n",
              "      cursor: pointer;\n",
              "      display: none;\n",
              "      fill: #1967D2;\n",
              "      height: 32px;\n",
              "      padding: 0 0 0 0;\n",
              "      width: 32px;\n",
              "    }\n",
              "\n",
              "    .colab-df-convert:hover {\n",
              "      background-color: #E2EBFA;\n",
              "      box-shadow: 0px 1px 2px rgba(60, 64, 67, 0.3), 0px 1px 3px 1px rgba(60, 64, 67, 0.15);\n",
              "      fill: #174EA6;\n",
              "    }\n",
              "\n",
              "    [theme=dark] .colab-df-convert {\n",
              "      background-color: #3B4455;\n",
              "      fill: #D2E3FC;\n",
              "    }\n",
              "\n",
              "    [theme=dark] .colab-df-convert:hover {\n",
              "      background-color: #434B5C;\n",
              "      box-shadow: 0px 1px 3px 1px rgba(0, 0, 0, 0.15);\n",
              "      filter: drop-shadow(0px 1px 2px rgba(0, 0, 0, 0.3));\n",
              "      fill: #FFFFFF;\n",
              "    }\n",
              "  </style>\n",
              "\n",
              "      <script>\n",
              "        const buttonEl =\n",
              "          document.querySelector('#df-b2170bdb-e46c-4e3e-9715-46cc8a0559fc button.colab-df-convert');\n",
              "        buttonEl.style.display =\n",
              "          google.colab.kernel.accessAllowed ? 'block' : 'none';\n",
              "\n",
              "        async function convertToInteractive(key) {\n",
              "          const element = document.querySelector('#df-b2170bdb-e46c-4e3e-9715-46cc8a0559fc');\n",
              "          const dataTable =\n",
              "            await google.colab.kernel.invokeFunction('convertToInteractive',\n",
              "                                                     [key], {});\n",
              "          if (!dataTable) return;\n",
              "\n",
              "          const docLinkHtml = 'Like what you see? Visit the ' +\n",
              "            '<a target=\"_blank\" href=https://colab.research.google.com/notebooks/data_table.ipynb>data table notebook</a>'\n",
              "            + ' to learn more about interactive tables.';\n",
              "          element.innerHTML = '';\n",
              "          dataTable['output_type'] = 'display_data';\n",
              "          await google.colab.output.renderOutput(dataTable, element);\n",
              "          const docLink = document.createElement('div');\n",
              "          docLink.innerHTML = docLinkHtml;\n",
              "          element.appendChild(docLink);\n",
              "        }\n",
              "      </script>\n",
              "    </div>\n",
              "  </div>\n",
              "  "
            ],
            "text/plain": [
              "   User-ID  Age         City            State         Country\n",
              "0        1   35          nyc         new york             usa\n",
              "1        2   18     stockton       california             usa\n",
              "2        3   35       moscow  yukon territory          russia\n",
              "3        4   17        porto         v.n.gaia        portugal\n",
              "4        5   35  farnborough            hants  united kingdom"
            ]
          },
          "metadata": {},
          "execution_count": 50
        }
      ]
    },
    {
      "cell_type": "code",
      "source": [
        "users.info()"
      ],
      "metadata": {
        "colab": {
          "base_uri": "https://localhost:8080/"
        },
        "id": "Gv2NtWaVtmQz",
        "outputId": "5663d542-8694-484a-c3cb-1e359b8966b7"
      },
      "execution_count": null,
      "outputs": [
        {
          "output_type": "stream",
          "name": "stdout",
          "text": [
            "<class 'pandas.core.frame.DataFrame'>\n",
            "RangeIndex: 278858 entries, 0 to 278857\n",
            "Data columns (total 5 columns):\n",
            " #   Column   Non-Null Count   Dtype \n",
            "---  ------   --------------   ----- \n",
            " 0   User-ID  278858 non-null  int64 \n",
            " 1   Age      278858 non-null  int64 \n",
            " 2   City     278858 non-null  object\n",
            " 3   State    278858 non-null  object\n",
            " 4   Country  278858 non-null  object\n",
            "dtypes: int64(2), object(3)\n",
            "memory usage: 10.6+ MB\n"
          ]
        }
      ]
    },
    {
      "cell_type": "code",
      "source": [
        "# checking duplicate values\n",
        "users.duplicated().sum()"
      ],
      "metadata": {
        "colab": {
          "base_uri": "https://localhost:8080/"
        },
        "id": "JHmdvP-Zt-y-",
        "outputId": "61b0d8a0-eb5c-4632-e062-c15aa87a09b6"
      },
      "execution_count": null,
      "outputs": [
        {
          "output_type": "execute_result",
          "data": {
            "text/plain": [
              "0"
            ]
          },
          "metadata": {},
          "execution_count": 52
        }
      ]
    },
    {
      "cell_type": "markdown",
      "source": [
        "## users data set doesnt have any null values and duplicate values\n",
        "## We succefully cleaned our Users data set so lets move forward"
      ],
      "metadata": {
        "id": "LFGp3efaupV0"
      }
    },
    {
      "cell_type": "markdown",
      "source": [
        "## **Visualization:**"
      ],
      "metadata": {
        "id": "fRSlgivLDrKN"
      }
    },
    {
      "cell_type": "code",
      "source": [
        "# top 10 Country \n",
        "country_count=users['Country'].value_counts()[:10].reset_index().rename(columns={'index':'country','Country':'count'}).sort_values(by='count',ascending=False)"
      ],
      "metadata": {
        "id": "s75hoZDED4wx"
      },
      "execution_count": null,
      "outputs": []
    },
    {
      "cell_type": "code",
      "source": [
        "## top 10 country based on number of readers\n",
        "fig = px.histogram(x= country_count['country'],y=country_count['count'],orientation=None , width=650, height=450,\n",
        "              text_auto=True, color=country_count['country']\n",
        "             )\n",
        "fig.update_layout(\n",
        "    title='Top 10 Country having highest number of reader',\n",
        "    xaxis_title=\"country\",\n",
        "    yaxis_title=\"Number of readers\",\n",
        "    template=\"plotly_dark\",\n",
        "    \n",
        ")\n",
        "fig.show()"
      ],
      "metadata": {
        "colab": {
          "base_uri": "https://localhost:8080/"
        },
        "id": "rNR1thppF8rH",
        "outputId": "bd888f53-bb55-4bb3-976b-3e7121e75a86"
      },
      "execution_count": null,
      "outputs": [
        {
          "output_type": "display_data",
          "data": {
            "text/html": [
              "<html>\n",
              "<head><meta charset=\"utf-8\" /></head>\n",
              "<body>\n",
              "    <div>            <script src=\"https://cdnjs.cloudflare.com/ajax/libs/mathjax/2.7.5/MathJax.js?config=TeX-AMS-MML_SVG\"></script><script type=\"text/javascript\">if (window.MathJax) {MathJax.Hub.Config({SVG: {font: \"STIX-Web\"}});}</script>                <script type=\"text/javascript\">window.PlotlyConfig = {MathJaxConfig: 'local'};</script>\n",
              "        <script src=\"https://cdn.plot.ly/plotly-2.8.3.min.js\"></script>                <div id=\"e2072e0c-f24b-4a34-8725-99bbf2ddc51a\" class=\"plotly-graph-div\" style=\"height:450px; width:650px;\"></div>            <script type=\"text/javascript\">                                    window.PLOTLYENV=window.PLOTLYENV || {};                                    if (document.getElementById(\"e2072e0c-f24b-4a34-8725-99bbf2ddc51a\")) {                    Plotly.newPlot(                        \"e2072e0c-f24b-4a34-8725-99bbf2ddc51a\",                        [{\"alignmentgroup\":\"True\",\"bingroup\":\"x\",\"histfunc\":\"sum\",\"hovertemplate\":\"color=usa<br>x=%{x}<br>sum of y=%{y}<extra></extra>\",\"legendgroup\":\"usa\",\"marker\":{\"color\":\"#636efa\",\"pattern\":{\"shape\":\"\"}},\"name\":\"usa\",\"offsetgroup\":\"usa\",\"orientation\":\"v\",\"showlegend\":true,\"texttemplate\":\"%{value}\",\"x\":[\"usa\"],\"xaxis\":\"x\",\"y\":[139425],\"yaxis\":\"y\",\"type\":\"histogram\"},{\"alignmentgroup\":\"True\",\"bingroup\":\"x\",\"histfunc\":\"sum\",\"hovertemplate\":\"color=canada<br>x=%{x}<br>sum of y=%{y}<extra></extra>\",\"legendgroup\":\"canada\",\"marker\":{\"color\":\"#EF553B\",\"pattern\":{\"shape\":\"\"}},\"name\":\"canada\",\"offsetgroup\":\"canada\",\"orientation\":\"v\",\"showlegend\":true,\"texttemplate\":\"%{value}\",\"x\":[\"canada\"],\"xaxis\":\"x\",\"y\":[21603],\"yaxis\":\"y\",\"type\":\"histogram\"},{\"alignmentgroup\":\"True\",\"bingroup\":\"x\",\"histfunc\":\"sum\",\"hovertemplate\":\"color=united kingdom<br>x=%{x}<br>sum of y=%{y}<extra></extra>\",\"legendgroup\":\"united kingdom\",\"marker\":{\"color\":\"#00cc96\",\"pattern\":{\"shape\":\"\"}},\"name\":\"united kingdom\",\"offsetgroup\":\"united kingdom\",\"orientation\":\"v\",\"showlegend\":true,\"texttemplate\":\"%{value}\",\"x\":[\"united kingdom\"],\"xaxis\":\"x\",\"y\":[18313],\"yaxis\":\"y\",\"type\":\"histogram\"},{\"alignmentgroup\":\"True\",\"bingroup\":\"x\",\"histfunc\":\"sum\",\"hovertemplate\":\"color=germany<br>x=%{x}<br>sum of y=%{y}<extra></extra>\",\"legendgroup\":\"germany\",\"marker\":{\"color\":\"#ab63fa\",\"pattern\":{\"shape\":\"\"}},\"name\":\"germany\",\"offsetgroup\":\"germany\",\"orientation\":\"v\",\"showlegend\":true,\"texttemplate\":\"%{value}\",\"x\":[\"germany\"],\"xaxis\":\"x\",\"y\":[17025],\"yaxis\":\"y\",\"type\":\"histogram\"},{\"alignmentgroup\":\"True\",\"bingroup\":\"x\",\"histfunc\":\"sum\",\"hovertemplate\":\"color=spain<br>x=%{x}<br>sum of y=%{y}<extra></extra>\",\"legendgroup\":\"spain\",\"marker\":{\"color\":\"#FFA15A\",\"pattern\":{\"shape\":\"\"}},\"name\":\"spain\",\"offsetgroup\":\"spain\",\"orientation\":\"v\",\"showlegend\":true,\"texttemplate\":\"%{value}\",\"x\":[\"spain\"],\"xaxis\":\"x\",\"y\":[13103],\"yaxis\":\"y\",\"type\":\"histogram\"},{\"alignmentgroup\":\"True\",\"bingroup\":\"x\",\"histfunc\":\"sum\",\"hovertemplate\":\"color=australia<br>x=%{x}<br>sum of y=%{y}<extra></extra>\",\"legendgroup\":\"australia\",\"marker\":{\"color\":\"#19d3f3\",\"pattern\":{\"shape\":\"\"}},\"name\":\"australia\",\"offsetgroup\":\"australia\",\"orientation\":\"v\",\"showlegend\":true,\"texttemplate\":\"%{value}\",\"x\":[\"australia\"],\"xaxis\":\"x\",\"y\":[11733],\"yaxis\":\"y\",\"type\":\"histogram\"},{\"alignmentgroup\":\"True\",\"bingroup\":\"x\",\"histfunc\":\"sum\",\"hovertemplate\":\"color=italy<br>x=%{x}<br>sum of y=%{y}<extra></extra>\",\"legendgroup\":\"italy\",\"marker\":{\"color\":\"#FF6692\",\"pattern\":{\"shape\":\"\"}},\"name\":\"italy\",\"offsetgroup\":\"italy\",\"orientation\":\"v\",\"showlegend\":true,\"texttemplate\":\"%{value}\",\"x\":[\"italy\"],\"xaxis\":\"x\",\"y\":[11247],\"yaxis\":\"y\",\"type\":\"histogram\"},{\"alignmentgroup\":\"True\",\"bingroup\":\"x\",\"histfunc\":\"sum\",\"hovertemplate\":\"color=other<br>x=%{x}<br>sum of y=%{y}<extra></extra>\",\"legendgroup\":\"other\",\"marker\":{\"color\":\"#B6E880\",\"pattern\":{\"shape\":\"\"}},\"name\":\"other\",\"offsetgroup\":\"other\",\"orientation\":\"v\",\"showlegend\":true,\"texttemplate\":\"%{value}\",\"x\":[\"other\"],\"xaxis\":\"x\",\"y\":[4659],\"yaxis\":\"y\",\"type\":\"histogram\"},{\"alignmentgroup\":\"True\",\"bingroup\":\"x\",\"histfunc\":\"sum\",\"hovertemplate\":\"color=france<br>x=%{x}<br>sum of y=%{y}<extra></extra>\",\"legendgroup\":\"france\",\"marker\":{\"color\":\"#FF97FF\",\"pattern\":{\"shape\":\"\"}},\"name\":\"france\",\"offsetgroup\":\"france\",\"orientation\":\"v\",\"showlegend\":true,\"texttemplate\":\"%{value}\",\"x\":[\"france\"],\"xaxis\":\"x\",\"y\":[3442],\"yaxis\":\"y\",\"type\":\"histogram\"},{\"alignmentgroup\":\"True\",\"bingroup\":\"x\",\"histfunc\":\"sum\",\"hovertemplate\":\"color=portugal<br>x=%{x}<br>sum of y=%{y}<extra></extra>\",\"legendgroup\":\"portugal\",\"marker\":{\"color\":\"#FECB52\",\"pattern\":{\"shape\":\"\"}},\"name\":\"portugal\",\"offsetgroup\":\"portugal\",\"orientation\":\"v\",\"showlegend\":true,\"texttemplate\":\"%{value}\",\"x\":[\"portugal\"],\"xaxis\":\"x\",\"y\":[3313],\"yaxis\":\"y\",\"type\":\"histogram\"}],                        {\"template\":{\"data\":{\"barpolar\":[{\"marker\":{\"line\":{\"color\":\"rgb(17,17,17)\",\"width\":0.5},\"pattern\":{\"fillmode\":\"overlay\",\"size\":10,\"solidity\":0.2}},\"type\":\"barpolar\"}],\"bar\":[{\"error_x\":{\"color\":\"#f2f5fa\"},\"error_y\":{\"color\":\"#f2f5fa\"},\"marker\":{\"line\":{\"color\":\"rgb(17,17,17)\",\"width\":0.5},\"pattern\":{\"fillmode\":\"overlay\",\"size\":10,\"solidity\":0.2}},\"type\":\"bar\"}],\"carpet\":[{\"aaxis\":{\"endlinecolor\":\"#A2B1C6\",\"gridcolor\":\"#506784\",\"linecolor\":\"#506784\",\"minorgridcolor\":\"#506784\",\"startlinecolor\":\"#A2B1C6\"},\"baxis\":{\"endlinecolor\":\"#A2B1C6\",\"gridcolor\":\"#506784\",\"linecolor\":\"#506784\",\"minorgridcolor\":\"#506784\",\"startlinecolor\":\"#A2B1C6\"},\"type\":\"carpet\"}],\"choropleth\":[{\"colorbar\":{\"outlinewidth\":0,\"ticks\":\"\"},\"type\":\"choropleth\"}],\"contourcarpet\":[{\"colorbar\":{\"outlinewidth\":0,\"ticks\":\"\"},\"type\":\"contourcarpet\"}],\"contour\":[{\"colorbar\":{\"outlinewidth\":0,\"ticks\":\"\"},\"colorscale\":[[0.0,\"#0d0887\"],[0.1111111111111111,\"#46039f\"],[0.2222222222222222,\"#7201a8\"],[0.3333333333333333,\"#9c179e\"],[0.4444444444444444,\"#bd3786\"],[0.5555555555555556,\"#d8576b\"],[0.6666666666666666,\"#ed7953\"],[0.7777777777777778,\"#fb9f3a\"],[0.8888888888888888,\"#fdca26\"],[1.0,\"#f0f921\"]],\"type\":\"contour\"}],\"heatmapgl\":[{\"colorbar\":{\"outlinewidth\":0,\"ticks\":\"\"},\"colorscale\":[[0.0,\"#0d0887\"],[0.1111111111111111,\"#46039f\"],[0.2222222222222222,\"#7201a8\"],[0.3333333333333333,\"#9c179e\"],[0.4444444444444444,\"#bd3786\"],[0.5555555555555556,\"#d8576b\"],[0.6666666666666666,\"#ed7953\"],[0.7777777777777778,\"#fb9f3a\"],[0.8888888888888888,\"#fdca26\"],[1.0,\"#f0f921\"]],\"type\":\"heatmapgl\"}],\"heatmap\":[{\"colorbar\":{\"outlinewidth\":0,\"ticks\":\"\"},\"colorscale\":[[0.0,\"#0d0887\"],[0.1111111111111111,\"#46039f\"],[0.2222222222222222,\"#7201a8\"],[0.3333333333333333,\"#9c179e\"],[0.4444444444444444,\"#bd3786\"],[0.5555555555555556,\"#d8576b\"],[0.6666666666666666,\"#ed7953\"],[0.7777777777777778,\"#fb9f3a\"],[0.8888888888888888,\"#fdca26\"],[1.0,\"#f0f921\"]],\"type\":\"heatmap\"}],\"histogram2dcontour\":[{\"colorbar\":{\"outlinewidth\":0,\"ticks\":\"\"},\"colorscale\":[[0.0,\"#0d0887\"],[0.1111111111111111,\"#46039f\"],[0.2222222222222222,\"#7201a8\"],[0.3333333333333333,\"#9c179e\"],[0.4444444444444444,\"#bd3786\"],[0.5555555555555556,\"#d8576b\"],[0.6666666666666666,\"#ed7953\"],[0.7777777777777778,\"#fb9f3a\"],[0.8888888888888888,\"#fdca26\"],[1.0,\"#f0f921\"]],\"type\":\"histogram2dcontour\"}],\"histogram2d\":[{\"colorbar\":{\"outlinewidth\":0,\"ticks\":\"\"},\"colorscale\":[[0.0,\"#0d0887\"],[0.1111111111111111,\"#46039f\"],[0.2222222222222222,\"#7201a8\"],[0.3333333333333333,\"#9c179e\"],[0.4444444444444444,\"#bd3786\"],[0.5555555555555556,\"#d8576b\"],[0.6666666666666666,\"#ed7953\"],[0.7777777777777778,\"#fb9f3a\"],[0.8888888888888888,\"#fdca26\"],[1.0,\"#f0f921\"]],\"type\":\"histogram2d\"}],\"histogram\":[{\"marker\":{\"pattern\":{\"fillmode\":\"overlay\",\"size\":10,\"solidity\":0.2}},\"type\":\"histogram\"}],\"mesh3d\":[{\"colorbar\":{\"outlinewidth\":0,\"ticks\":\"\"},\"type\":\"mesh3d\"}],\"parcoords\":[{\"line\":{\"colorbar\":{\"outlinewidth\":0,\"ticks\":\"\"}},\"type\":\"parcoords\"}],\"pie\":[{\"automargin\":true,\"type\":\"pie\"}],\"scatter3d\":[{\"line\":{\"colorbar\":{\"outlinewidth\":0,\"ticks\":\"\"}},\"marker\":{\"colorbar\":{\"outlinewidth\":0,\"ticks\":\"\"}},\"type\":\"scatter3d\"}],\"scattercarpet\":[{\"marker\":{\"colorbar\":{\"outlinewidth\":0,\"ticks\":\"\"}},\"type\":\"scattercarpet\"}],\"scattergeo\":[{\"marker\":{\"colorbar\":{\"outlinewidth\":0,\"ticks\":\"\"}},\"type\":\"scattergeo\"}],\"scattergl\":[{\"marker\":{\"line\":{\"color\":\"#283442\"}},\"type\":\"scattergl\"}],\"scattermapbox\":[{\"marker\":{\"colorbar\":{\"outlinewidth\":0,\"ticks\":\"\"}},\"type\":\"scattermapbox\"}],\"scatterpolargl\":[{\"marker\":{\"colorbar\":{\"outlinewidth\":0,\"ticks\":\"\"}},\"type\":\"scatterpolargl\"}],\"scatterpolar\":[{\"marker\":{\"colorbar\":{\"outlinewidth\":0,\"ticks\":\"\"}},\"type\":\"scatterpolar\"}],\"scatter\":[{\"marker\":{\"line\":{\"color\":\"#283442\"}},\"type\":\"scatter\"}],\"scatterternary\":[{\"marker\":{\"colorbar\":{\"outlinewidth\":0,\"ticks\":\"\"}},\"type\":\"scatterternary\"}],\"surface\":[{\"colorbar\":{\"outlinewidth\":0,\"ticks\":\"\"},\"colorscale\":[[0.0,\"#0d0887\"],[0.1111111111111111,\"#46039f\"],[0.2222222222222222,\"#7201a8\"],[0.3333333333333333,\"#9c179e\"],[0.4444444444444444,\"#bd3786\"],[0.5555555555555556,\"#d8576b\"],[0.6666666666666666,\"#ed7953\"],[0.7777777777777778,\"#fb9f3a\"],[0.8888888888888888,\"#fdca26\"],[1.0,\"#f0f921\"]],\"type\":\"surface\"}],\"table\":[{\"cells\":{\"fill\":{\"color\":\"#506784\"},\"line\":{\"color\":\"rgb(17,17,17)\"}},\"header\":{\"fill\":{\"color\":\"#2a3f5f\"},\"line\":{\"color\":\"rgb(17,17,17)\"}},\"type\":\"table\"}]},\"layout\":{\"annotationdefaults\":{\"arrowcolor\":\"#f2f5fa\",\"arrowhead\":0,\"arrowwidth\":1},\"autotypenumbers\":\"strict\",\"coloraxis\":{\"colorbar\":{\"outlinewidth\":0,\"ticks\":\"\"}},\"colorscale\":{\"diverging\":[[0,\"#8e0152\"],[0.1,\"#c51b7d\"],[0.2,\"#de77ae\"],[0.3,\"#f1b6da\"],[0.4,\"#fde0ef\"],[0.5,\"#f7f7f7\"],[0.6,\"#e6f5d0\"],[0.7,\"#b8e186\"],[0.8,\"#7fbc41\"],[0.9,\"#4d9221\"],[1,\"#276419\"]],\"sequential\":[[0.0,\"#0d0887\"],[0.1111111111111111,\"#46039f\"],[0.2222222222222222,\"#7201a8\"],[0.3333333333333333,\"#9c179e\"],[0.4444444444444444,\"#bd3786\"],[0.5555555555555556,\"#d8576b\"],[0.6666666666666666,\"#ed7953\"],[0.7777777777777778,\"#fb9f3a\"],[0.8888888888888888,\"#fdca26\"],[1.0,\"#f0f921\"]],\"sequentialminus\":[[0.0,\"#0d0887\"],[0.1111111111111111,\"#46039f\"],[0.2222222222222222,\"#7201a8\"],[0.3333333333333333,\"#9c179e\"],[0.4444444444444444,\"#bd3786\"],[0.5555555555555556,\"#d8576b\"],[0.6666666666666666,\"#ed7953\"],[0.7777777777777778,\"#fb9f3a\"],[0.8888888888888888,\"#fdca26\"],[1.0,\"#f0f921\"]]},\"colorway\":[\"#636efa\",\"#EF553B\",\"#00cc96\",\"#ab63fa\",\"#FFA15A\",\"#19d3f3\",\"#FF6692\",\"#B6E880\",\"#FF97FF\",\"#FECB52\"],\"font\":{\"color\":\"#f2f5fa\"},\"geo\":{\"bgcolor\":\"rgb(17,17,17)\",\"lakecolor\":\"rgb(17,17,17)\",\"landcolor\":\"rgb(17,17,17)\",\"showlakes\":true,\"showland\":true,\"subunitcolor\":\"#506784\"},\"hoverlabel\":{\"align\":\"left\"},\"hovermode\":\"closest\",\"mapbox\":{\"style\":\"dark\"},\"paper_bgcolor\":\"rgb(17,17,17)\",\"plot_bgcolor\":\"rgb(17,17,17)\",\"polar\":{\"angularaxis\":{\"gridcolor\":\"#506784\",\"linecolor\":\"#506784\",\"ticks\":\"\"},\"bgcolor\":\"rgb(17,17,17)\",\"radialaxis\":{\"gridcolor\":\"#506784\",\"linecolor\":\"#506784\",\"ticks\":\"\"}},\"scene\":{\"xaxis\":{\"backgroundcolor\":\"rgb(17,17,17)\",\"gridcolor\":\"#506784\",\"gridwidth\":2,\"linecolor\":\"#506784\",\"showbackground\":true,\"ticks\":\"\",\"zerolinecolor\":\"#C8D4E3\"},\"yaxis\":{\"backgroundcolor\":\"rgb(17,17,17)\",\"gridcolor\":\"#506784\",\"gridwidth\":2,\"linecolor\":\"#506784\",\"showbackground\":true,\"ticks\":\"\",\"zerolinecolor\":\"#C8D4E3\"},\"zaxis\":{\"backgroundcolor\":\"rgb(17,17,17)\",\"gridcolor\":\"#506784\",\"gridwidth\":2,\"linecolor\":\"#506784\",\"showbackground\":true,\"ticks\":\"\",\"zerolinecolor\":\"#C8D4E3\"}},\"shapedefaults\":{\"line\":{\"color\":\"#f2f5fa\"}},\"sliderdefaults\":{\"bgcolor\":\"#C8D4E3\",\"bordercolor\":\"rgb(17,17,17)\",\"borderwidth\":1,\"tickwidth\":0},\"ternary\":{\"aaxis\":{\"gridcolor\":\"#506784\",\"linecolor\":\"#506784\",\"ticks\":\"\"},\"baxis\":{\"gridcolor\":\"#506784\",\"linecolor\":\"#506784\",\"ticks\":\"\"},\"bgcolor\":\"rgb(17,17,17)\",\"caxis\":{\"gridcolor\":\"#506784\",\"linecolor\":\"#506784\",\"ticks\":\"\"}},\"title\":{\"x\":0.05},\"updatemenudefaults\":{\"bgcolor\":\"#506784\",\"borderwidth\":0},\"xaxis\":{\"automargin\":true,\"gridcolor\":\"#283442\",\"linecolor\":\"#506784\",\"ticks\":\"\",\"title\":{\"standoff\":15},\"zerolinecolor\":\"#283442\",\"zerolinewidth\":2},\"yaxis\":{\"automargin\":true,\"gridcolor\":\"#283442\",\"linecolor\":\"#506784\",\"ticks\":\"\",\"title\":{\"standoff\":15},\"zerolinecolor\":\"#283442\",\"zerolinewidth\":2}}},\"xaxis\":{\"anchor\":\"y\",\"domain\":[0.0,1.0],\"title\":{\"text\":\"country\"}},\"yaxis\":{\"anchor\":\"x\",\"domain\":[0.0,1.0],\"title\":{\"text\":\"Number of readers\"}},\"legend\":{\"title\":{\"text\":\"color\"},\"tracegroupgap\":0},\"margin\":{\"t\":60},\"barmode\":\"relative\",\"height\":450,\"width\":650,\"title\":{\"text\":\"Top 10 Country having highest number of reader\"}},                        {\"responsive\": true}                    ).then(function(){\n",
              "                            \n",
              "var gd = document.getElementById('e2072e0c-f24b-4a34-8725-99bbf2ddc51a');\n",
              "var x = new MutationObserver(function (mutations, observer) {{\n",
              "        var display = window.getComputedStyle(gd).display;\n",
              "        if (!display || display === 'none') {{\n",
              "            console.log([gd, 'removed!']);\n",
              "            Plotly.purge(gd);\n",
              "            observer.disconnect();\n",
              "        }}\n",
              "}});\n",
              "\n",
              "// Listen for the removal of the full notebook cells\n",
              "var notebookContainer = gd.closest('#notebook-container');\n",
              "if (notebookContainer) {{\n",
              "    x.observe(notebookContainer, {childList: true});\n",
              "}}\n",
              "\n",
              "// Listen for the clearing of the current output cell\n",
              "var outputEl = gd.closest('.output');\n",
              "if (outputEl) {{\n",
              "    x.observe(outputEl, {childList: true});\n",
              "}}\n",
              "\n",
              "                        })                };                            </script>        </div>\n",
              "</body>\n",
              "</html>"
            ]
          },
          "metadata": {}
        }
      ]
    },
    {
      "cell_type": "markdown",
      "source": [
        "## as we can see from above plot most of the readers are from USA"
      ],
      "metadata": {
        "id": "qsOHhGIdIPMY"
      }
    },
    {
      "cell_type": "markdown",
      "source": [
        "## Lets see Top 10 state of USA having highest number of readers"
      ],
      "metadata": {
        "id": "Use4bPRCIjeZ"
      }
    },
    {
      "cell_type": "code",
      "source": [
        "# top 10 State of USA\n",
        "state_usa=users.loc[users['Country']=='usa',['State']].value_counts()[:10].reset_index().rename(columns={0:'count'})\n"
      ],
      "metadata": {
        "id": "lQm-q16BIh24"
      },
      "execution_count": null,
      "outputs": []
    },
    {
      "cell_type": "code",
      "source": [
        "## top 10  States of USA based on number of readers\n",
        "fig = px.histogram(x= state_usa['State'],y=state_usa['count'],orientation=None , width=650, height=450,\n",
        "              text_auto=True, color=state_usa['State']\n",
        "             )\n",
        "fig.update_layout(\n",
        "    title='Top 10 States of USA having highest number of reader',\n",
        "    xaxis_title=\"States\",\n",
        "    yaxis_title=\"Number of readers\",\n",
        "    template=\"plotly_dark\",\n",
        "    \n",
        ")\n",
        "fig.show()"
      ],
      "metadata": {
        "colab": {
          "base_uri": "https://localhost:8080/"
        },
        "id": "9yApoUUlJyJP",
        "outputId": "31c56f98-2ab4-43da-9040-729bd770ef4c"
      },
      "execution_count": null,
      "outputs": [
        {
          "output_type": "display_data",
          "data": {
            "text/html": [
              "<html>\n",
              "<head><meta charset=\"utf-8\" /></head>\n",
              "<body>\n",
              "    <div>            <script src=\"https://cdnjs.cloudflare.com/ajax/libs/mathjax/2.7.5/MathJax.js?config=TeX-AMS-MML_SVG\"></script><script type=\"text/javascript\">if (window.MathJax) {MathJax.Hub.Config({SVG: {font: \"STIX-Web\"}});}</script>                <script type=\"text/javascript\">window.PlotlyConfig = {MathJaxConfig: 'local'};</script>\n",
              "        <script src=\"https://cdn.plot.ly/plotly-2.8.3.min.js\"></script>                <div id=\"f6c95d58-2e38-4585-b4b9-9dacc3e24db1\" class=\"plotly-graph-div\" style=\"height:450px; width:650px;\"></div>            <script type=\"text/javascript\">                                    window.PLOTLYENV=window.PLOTLYENV || {};                                    if (document.getElementById(\"f6c95d58-2e38-4585-b4b9-9dacc3e24db1\")) {                    Plotly.newPlot(                        \"f6c95d58-2e38-4585-b4b9-9dacc3e24db1\",                        [{\"alignmentgroup\":\"True\",\"bingroup\":\"x\",\"histfunc\":\"sum\",\"hovertemplate\":\"color=california<br>x=%{x}<br>sum of y=%{y}<extra></extra>\",\"legendgroup\":\"california\",\"marker\":{\"color\":\"#636efa\",\"pattern\":{\"shape\":\"\"}},\"name\":\"california\",\"offsetgroup\":\"california\",\"orientation\":\"v\",\"showlegend\":true,\"texttemplate\":\"%{value}\",\"x\":[\"california\"],\"xaxis\":\"x\",\"y\":[19691],\"yaxis\":\"y\",\"type\":\"histogram\"},{\"alignmentgroup\":\"True\",\"bingroup\":\"x\",\"histfunc\":\"sum\",\"hovertemplate\":\"color=texas<br>x=%{x}<br>sum of y=%{y}<extra></extra>\",\"legendgroup\":\"texas\",\"marker\":{\"color\":\"#EF553B\",\"pattern\":{\"shape\":\"\"}},\"name\":\"texas\",\"offsetgroup\":\"texas\",\"orientation\":\"v\",\"showlegend\":true,\"texttemplate\":\"%{value}\",\"x\":[\"texas\"],\"xaxis\":\"x\",\"y\":[8308],\"yaxis\":\"y\",\"type\":\"histogram\"},{\"alignmentgroup\":\"True\",\"bingroup\":\"x\",\"histfunc\":\"sum\",\"hovertemplate\":\"color=new york<br>x=%{x}<br>sum of y=%{y}<extra></extra>\",\"legendgroup\":\"new york\",\"marker\":{\"color\":\"#00cc96\",\"pattern\":{\"shape\":\"\"}},\"name\":\"new york\",\"offsetgroup\":\"new york\",\"orientation\":\"v\",\"showlegend\":true,\"texttemplate\":\"%{value}\",\"x\":[\"new york\"],\"xaxis\":\"x\",\"y\":[7771],\"yaxis\":\"y\",\"type\":\"histogram\"},{\"alignmentgroup\":\"True\",\"bingroup\":\"x\",\"histfunc\":\"sum\",\"hovertemplate\":\"color=florida<br>x=%{x}<br>sum of y=%{y}<extra></extra>\",\"legendgroup\":\"florida\",\"marker\":{\"color\":\"#ab63fa\",\"pattern\":{\"shape\":\"\"}},\"name\":\"florida\",\"offsetgroup\":\"florida\",\"orientation\":\"v\",\"showlegend\":true,\"texttemplate\":\"%{value}\",\"x\":[\"florida\"],\"xaxis\":\"x\",\"y\":[6941],\"yaxis\":\"y\",\"type\":\"histogram\"},{\"alignmentgroup\":\"True\",\"bingroup\":\"x\",\"histfunc\":\"sum\",\"hovertemplate\":\"color=pennsylvania<br>x=%{x}<br>sum of y=%{y}<extra></extra>\",\"legendgroup\":\"pennsylvania\",\"marker\":{\"color\":\"#FFA15A\",\"pattern\":{\"shape\":\"\"}},\"name\":\"pennsylvania\",\"offsetgroup\":\"pennsylvania\",\"orientation\":\"v\",\"showlegend\":true,\"texttemplate\":\"%{value}\",\"x\":[\"pennsylvania\"],\"xaxis\":\"x\",\"y\":[5980],\"yaxis\":\"y\",\"type\":\"histogram\"},{\"alignmentgroup\":\"True\",\"bingroup\":\"x\",\"histfunc\":\"sum\",\"hovertemplate\":\"color=illinois<br>x=%{x}<br>sum of y=%{y}<extra></extra>\",\"legendgroup\":\"illinois\",\"marker\":{\"color\":\"#19d3f3\",\"pattern\":{\"shape\":\"\"}},\"name\":\"illinois\",\"offsetgroup\":\"illinois\",\"orientation\":\"v\",\"showlegend\":true,\"texttemplate\":\"%{value}\",\"x\":[\"illinois\"],\"xaxis\":\"x\",\"y\":[5799],\"yaxis\":\"y\",\"type\":\"histogram\"},{\"alignmentgroup\":\"True\",\"bingroup\":\"x\",\"histfunc\":\"sum\",\"hovertemplate\":\"color=washington<br>x=%{x}<br>sum of y=%{y}<extra></extra>\",\"legendgroup\":\"washington\",\"marker\":{\"color\":\"#FF6692\",\"pattern\":{\"shape\":\"\"}},\"name\":\"washington\",\"offsetgroup\":\"washington\",\"orientation\":\"v\",\"showlegend\":true,\"texttemplate\":\"%{value}\",\"x\":[\"washington\"],\"xaxis\":\"x\",\"y\":[5741],\"yaxis\":\"y\",\"type\":\"histogram\"},{\"alignmentgroup\":\"True\",\"bingroup\":\"x\",\"histfunc\":\"sum\",\"hovertemplate\":\"color=ohio<br>x=%{x}<br>sum of y=%{y}<extra></extra>\",\"legendgroup\":\"ohio\",\"marker\":{\"color\":\"#B6E880\",\"pattern\":{\"shape\":\"\"}},\"name\":\"ohio\",\"offsetgroup\":\"ohio\",\"orientation\":\"v\",\"showlegend\":true,\"texttemplate\":\"%{value}\",\"x\":[\"ohio\"],\"xaxis\":\"x\",\"y\":[4608],\"yaxis\":\"y\",\"type\":\"histogram\"},{\"alignmentgroup\":\"True\",\"bingroup\":\"x\",\"histfunc\":\"sum\",\"hovertemplate\":\"color=michigan<br>x=%{x}<br>sum of y=%{y}<extra></extra>\",\"legendgroup\":\"michigan\",\"marker\":{\"color\":\"#FF97FF\",\"pattern\":{\"shape\":\"\"}},\"name\":\"michigan\",\"offsetgroup\":\"michigan\",\"orientation\":\"v\",\"showlegend\":true,\"texttemplate\":\"%{value}\",\"x\":[\"michigan\"],\"xaxis\":\"x\",\"y\":[4545],\"yaxis\":\"y\",\"type\":\"histogram\"},{\"alignmentgroup\":\"True\",\"bingroup\":\"x\",\"histfunc\":\"sum\",\"hovertemplate\":\"color=oregon<br>x=%{x}<br>sum of y=%{y}<extra></extra>\",\"legendgroup\":\"oregon\",\"marker\":{\"color\":\"#FECB52\",\"pattern\":{\"shape\":\"\"}},\"name\":\"oregon\",\"offsetgroup\":\"oregon\",\"orientation\":\"v\",\"showlegend\":true,\"texttemplate\":\"%{value}\",\"x\":[\"oregon\"],\"xaxis\":\"x\",\"y\":[4281],\"yaxis\":\"y\",\"type\":\"histogram\"}],                        {\"template\":{\"data\":{\"barpolar\":[{\"marker\":{\"line\":{\"color\":\"rgb(17,17,17)\",\"width\":0.5},\"pattern\":{\"fillmode\":\"overlay\",\"size\":10,\"solidity\":0.2}},\"type\":\"barpolar\"}],\"bar\":[{\"error_x\":{\"color\":\"#f2f5fa\"},\"error_y\":{\"color\":\"#f2f5fa\"},\"marker\":{\"line\":{\"color\":\"rgb(17,17,17)\",\"width\":0.5},\"pattern\":{\"fillmode\":\"overlay\",\"size\":10,\"solidity\":0.2}},\"type\":\"bar\"}],\"carpet\":[{\"aaxis\":{\"endlinecolor\":\"#A2B1C6\",\"gridcolor\":\"#506784\",\"linecolor\":\"#506784\",\"minorgridcolor\":\"#506784\",\"startlinecolor\":\"#A2B1C6\"},\"baxis\":{\"endlinecolor\":\"#A2B1C6\",\"gridcolor\":\"#506784\",\"linecolor\":\"#506784\",\"minorgridcolor\":\"#506784\",\"startlinecolor\":\"#A2B1C6\"},\"type\":\"carpet\"}],\"choropleth\":[{\"colorbar\":{\"outlinewidth\":0,\"ticks\":\"\"},\"type\":\"choropleth\"}],\"contourcarpet\":[{\"colorbar\":{\"outlinewidth\":0,\"ticks\":\"\"},\"type\":\"contourcarpet\"}],\"contour\":[{\"colorbar\":{\"outlinewidth\":0,\"ticks\":\"\"},\"colorscale\":[[0.0,\"#0d0887\"],[0.1111111111111111,\"#46039f\"],[0.2222222222222222,\"#7201a8\"],[0.3333333333333333,\"#9c179e\"],[0.4444444444444444,\"#bd3786\"],[0.5555555555555556,\"#d8576b\"],[0.6666666666666666,\"#ed7953\"],[0.7777777777777778,\"#fb9f3a\"],[0.8888888888888888,\"#fdca26\"],[1.0,\"#f0f921\"]],\"type\":\"contour\"}],\"heatmapgl\":[{\"colorbar\":{\"outlinewidth\":0,\"ticks\":\"\"},\"colorscale\":[[0.0,\"#0d0887\"],[0.1111111111111111,\"#46039f\"],[0.2222222222222222,\"#7201a8\"],[0.3333333333333333,\"#9c179e\"],[0.4444444444444444,\"#bd3786\"],[0.5555555555555556,\"#d8576b\"],[0.6666666666666666,\"#ed7953\"],[0.7777777777777778,\"#fb9f3a\"],[0.8888888888888888,\"#fdca26\"],[1.0,\"#f0f921\"]],\"type\":\"heatmapgl\"}],\"heatmap\":[{\"colorbar\":{\"outlinewidth\":0,\"ticks\":\"\"},\"colorscale\":[[0.0,\"#0d0887\"],[0.1111111111111111,\"#46039f\"],[0.2222222222222222,\"#7201a8\"],[0.3333333333333333,\"#9c179e\"],[0.4444444444444444,\"#bd3786\"],[0.5555555555555556,\"#d8576b\"],[0.6666666666666666,\"#ed7953\"],[0.7777777777777778,\"#fb9f3a\"],[0.8888888888888888,\"#fdca26\"],[1.0,\"#f0f921\"]],\"type\":\"heatmap\"}],\"histogram2dcontour\":[{\"colorbar\":{\"outlinewidth\":0,\"ticks\":\"\"},\"colorscale\":[[0.0,\"#0d0887\"],[0.1111111111111111,\"#46039f\"],[0.2222222222222222,\"#7201a8\"],[0.3333333333333333,\"#9c179e\"],[0.4444444444444444,\"#bd3786\"],[0.5555555555555556,\"#d8576b\"],[0.6666666666666666,\"#ed7953\"],[0.7777777777777778,\"#fb9f3a\"],[0.8888888888888888,\"#fdca26\"],[1.0,\"#f0f921\"]],\"type\":\"histogram2dcontour\"}],\"histogram2d\":[{\"colorbar\":{\"outlinewidth\":0,\"ticks\":\"\"},\"colorscale\":[[0.0,\"#0d0887\"],[0.1111111111111111,\"#46039f\"],[0.2222222222222222,\"#7201a8\"],[0.3333333333333333,\"#9c179e\"],[0.4444444444444444,\"#bd3786\"],[0.5555555555555556,\"#d8576b\"],[0.6666666666666666,\"#ed7953\"],[0.7777777777777778,\"#fb9f3a\"],[0.8888888888888888,\"#fdca26\"],[1.0,\"#f0f921\"]],\"type\":\"histogram2d\"}],\"histogram\":[{\"marker\":{\"pattern\":{\"fillmode\":\"overlay\",\"size\":10,\"solidity\":0.2}},\"type\":\"histogram\"}],\"mesh3d\":[{\"colorbar\":{\"outlinewidth\":0,\"ticks\":\"\"},\"type\":\"mesh3d\"}],\"parcoords\":[{\"line\":{\"colorbar\":{\"outlinewidth\":0,\"ticks\":\"\"}},\"type\":\"parcoords\"}],\"pie\":[{\"automargin\":true,\"type\":\"pie\"}],\"scatter3d\":[{\"line\":{\"colorbar\":{\"outlinewidth\":0,\"ticks\":\"\"}},\"marker\":{\"colorbar\":{\"outlinewidth\":0,\"ticks\":\"\"}},\"type\":\"scatter3d\"}],\"scattercarpet\":[{\"marker\":{\"colorbar\":{\"outlinewidth\":0,\"ticks\":\"\"}},\"type\":\"scattercarpet\"}],\"scattergeo\":[{\"marker\":{\"colorbar\":{\"outlinewidth\":0,\"ticks\":\"\"}},\"type\":\"scattergeo\"}],\"scattergl\":[{\"marker\":{\"line\":{\"color\":\"#283442\"}},\"type\":\"scattergl\"}],\"scattermapbox\":[{\"marker\":{\"colorbar\":{\"outlinewidth\":0,\"ticks\":\"\"}},\"type\":\"scattermapbox\"}],\"scatterpolargl\":[{\"marker\":{\"colorbar\":{\"outlinewidth\":0,\"ticks\":\"\"}},\"type\":\"scatterpolargl\"}],\"scatterpolar\":[{\"marker\":{\"colorbar\":{\"outlinewidth\":0,\"ticks\":\"\"}},\"type\":\"scatterpolar\"}],\"scatter\":[{\"marker\":{\"line\":{\"color\":\"#283442\"}},\"type\":\"scatter\"}],\"scatterternary\":[{\"marker\":{\"colorbar\":{\"outlinewidth\":0,\"ticks\":\"\"}},\"type\":\"scatterternary\"}],\"surface\":[{\"colorbar\":{\"outlinewidth\":0,\"ticks\":\"\"},\"colorscale\":[[0.0,\"#0d0887\"],[0.1111111111111111,\"#46039f\"],[0.2222222222222222,\"#7201a8\"],[0.3333333333333333,\"#9c179e\"],[0.4444444444444444,\"#bd3786\"],[0.5555555555555556,\"#d8576b\"],[0.6666666666666666,\"#ed7953\"],[0.7777777777777778,\"#fb9f3a\"],[0.8888888888888888,\"#fdca26\"],[1.0,\"#f0f921\"]],\"type\":\"surface\"}],\"table\":[{\"cells\":{\"fill\":{\"color\":\"#506784\"},\"line\":{\"color\":\"rgb(17,17,17)\"}},\"header\":{\"fill\":{\"color\":\"#2a3f5f\"},\"line\":{\"color\":\"rgb(17,17,17)\"}},\"type\":\"table\"}]},\"layout\":{\"annotationdefaults\":{\"arrowcolor\":\"#f2f5fa\",\"arrowhead\":0,\"arrowwidth\":1},\"autotypenumbers\":\"strict\",\"coloraxis\":{\"colorbar\":{\"outlinewidth\":0,\"ticks\":\"\"}},\"colorscale\":{\"diverging\":[[0,\"#8e0152\"],[0.1,\"#c51b7d\"],[0.2,\"#de77ae\"],[0.3,\"#f1b6da\"],[0.4,\"#fde0ef\"],[0.5,\"#f7f7f7\"],[0.6,\"#e6f5d0\"],[0.7,\"#b8e186\"],[0.8,\"#7fbc41\"],[0.9,\"#4d9221\"],[1,\"#276419\"]],\"sequential\":[[0.0,\"#0d0887\"],[0.1111111111111111,\"#46039f\"],[0.2222222222222222,\"#7201a8\"],[0.3333333333333333,\"#9c179e\"],[0.4444444444444444,\"#bd3786\"],[0.5555555555555556,\"#d8576b\"],[0.6666666666666666,\"#ed7953\"],[0.7777777777777778,\"#fb9f3a\"],[0.8888888888888888,\"#fdca26\"],[1.0,\"#f0f921\"]],\"sequentialminus\":[[0.0,\"#0d0887\"],[0.1111111111111111,\"#46039f\"],[0.2222222222222222,\"#7201a8\"],[0.3333333333333333,\"#9c179e\"],[0.4444444444444444,\"#bd3786\"],[0.5555555555555556,\"#d8576b\"],[0.6666666666666666,\"#ed7953\"],[0.7777777777777778,\"#fb9f3a\"],[0.8888888888888888,\"#fdca26\"],[1.0,\"#f0f921\"]]},\"colorway\":[\"#636efa\",\"#EF553B\",\"#00cc96\",\"#ab63fa\",\"#FFA15A\",\"#19d3f3\",\"#FF6692\",\"#B6E880\",\"#FF97FF\",\"#FECB52\"],\"font\":{\"color\":\"#f2f5fa\"},\"geo\":{\"bgcolor\":\"rgb(17,17,17)\",\"lakecolor\":\"rgb(17,17,17)\",\"landcolor\":\"rgb(17,17,17)\",\"showlakes\":true,\"showland\":true,\"subunitcolor\":\"#506784\"},\"hoverlabel\":{\"align\":\"left\"},\"hovermode\":\"closest\",\"mapbox\":{\"style\":\"dark\"},\"paper_bgcolor\":\"rgb(17,17,17)\",\"plot_bgcolor\":\"rgb(17,17,17)\",\"polar\":{\"angularaxis\":{\"gridcolor\":\"#506784\",\"linecolor\":\"#506784\",\"ticks\":\"\"},\"bgcolor\":\"rgb(17,17,17)\",\"radialaxis\":{\"gridcolor\":\"#506784\",\"linecolor\":\"#506784\",\"ticks\":\"\"}},\"scene\":{\"xaxis\":{\"backgroundcolor\":\"rgb(17,17,17)\",\"gridcolor\":\"#506784\",\"gridwidth\":2,\"linecolor\":\"#506784\",\"showbackground\":true,\"ticks\":\"\",\"zerolinecolor\":\"#C8D4E3\"},\"yaxis\":{\"backgroundcolor\":\"rgb(17,17,17)\",\"gridcolor\":\"#506784\",\"gridwidth\":2,\"linecolor\":\"#506784\",\"showbackground\":true,\"ticks\":\"\",\"zerolinecolor\":\"#C8D4E3\"},\"zaxis\":{\"backgroundcolor\":\"rgb(17,17,17)\",\"gridcolor\":\"#506784\",\"gridwidth\":2,\"linecolor\":\"#506784\",\"showbackground\":true,\"ticks\":\"\",\"zerolinecolor\":\"#C8D4E3\"}},\"shapedefaults\":{\"line\":{\"color\":\"#f2f5fa\"}},\"sliderdefaults\":{\"bgcolor\":\"#C8D4E3\",\"bordercolor\":\"rgb(17,17,17)\",\"borderwidth\":1,\"tickwidth\":0},\"ternary\":{\"aaxis\":{\"gridcolor\":\"#506784\",\"linecolor\":\"#506784\",\"ticks\":\"\"},\"baxis\":{\"gridcolor\":\"#506784\",\"linecolor\":\"#506784\",\"ticks\":\"\"},\"bgcolor\":\"rgb(17,17,17)\",\"caxis\":{\"gridcolor\":\"#506784\",\"linecolor\":\"#506784\",\"ticks\":\"\"}},\"title\":{\"x\":0.05},\"updatemenudefaults\":{\"bgcolor\":\"#506784\",\"borderwidth\":0},\"xaxis\":{\"automargin\":true,\"gridcolor\":\"#283442\",\"linecolor\":\"#506784\",\"ticks\":\"\",\"title\":{\"standoff\":15},\"zerolinecolor\":\"#283442\",\"zerolinewidth\":2},\"yaxis\":{\"automargin\":true,\"gridcolor\":\"#283442\",\"linecolor\":\"#506784\",\"ticks\":\"\",\"title\":{\"standoff\":15},\"zerolinecolor\":\"#283442\",\"zerolinewidth\":2}}},\"xaxis\":{\"anchor\":\"y\",\"domain\":[0.0,1.0],\"title\":{\"text\":\"States\"}},\"yaxis\":{\"anchor\":\"x\",\"domain\":[0.0,1.0],\"title\":{\"text\":\"Number of readers\"}},\"legend\":{\"title\":{\"text\":\"color\"},\"tracegroupgap\":0},\"margin\":{\"t\":60},\"barmode\":\"relative\",\"height\":450,\"width\":650,\"title\":{\"text\":\"Top 10 States of USA having highest number of reader\"}},                        {\"responsive\": true}                    ).then(function(){\n",
              "                            \n",
              "var gd = document.getElementById('f6c95d58-2e38-4585-b4b9-9dacc3e24db1');\n",
              "var x = new MutationObserver(function (mutations, observer) {{\n",
              "        var display = window.getComputedStyle(gd).display;\n",
              "        if (!display || display === 'none') {{\n",
              "            console.log([gd, 'removed!']);\n",
              "            Plotly.purge(gd);\n",
              "            observer.disconnect();\n",
              "        }}\n",
              "}});\n",
              "\n",
              "// Listen for the removal of the full notebook cells\n",
              "var notebookContainer = gd.closest('#notebook-container');\n",
              "if (notebookContainer) {{\n",
              "    x.observe(notebookContainer, {childList: true});\n",
              "}}\n",
              "\n",
              "// Listen for the clearing of the current output cell\n",
              "var outputEl = gd.closest('.output');\n",
              "if (outputEl) {{\n",
              "    x.observe(outputEl, {childList: true});\n",
              "}}\n",
              "\n",
              "                        })                };                            </script>        </div>\n",
              "</body>\n",
              "</html>"
            ]
          },
          "metadata": {}
        }
      ]
    },
    {
      "cell_type": "markdown",
      "source": [
        "## From above plot we can see that in USA california is having highest number of readers"
      ],
      "metadata": {
        "id": "Zy_nWc21LB_5"
      }
    },
    {
      "cell_type": "markdown",
      "source": [
        "## lets see Top 10 city of California which is having highest number of readers"
      ],
      "metadata": {
        "id": "8lRmG3xtL0Sw"
      }
    },
    {
      "cell_type": "code",
      "source": [
        "## Top 10 cities\n",
        "cities=users.loc[(users['State']=='california'),['City']].value_counts()[:10].reset_index().rename(columns={0:'count'})"
      ],
      "metadata": {
        "id": "UKmJD9kZLztO"
      },
      "execution_count": null,
      "outputs": []
    },
    {
      "cell_type": "code",
      "source": [
        "fig = px.histogram(x= cities['City'],y=cities['count'],orientation=None , width=650, height=450,\n",
        "              text_auto=True, color=cities['City']\n",
        "             )\n",
        "fig.update_layout(\n",
        "    title='Top 10 cities of USA having highest number of reader',\n",
        "    xaxis_title=\"cities\",\n",
        "    yaxis_title=\"Number of readers\",\n",
        "    template=\"plotly_dark\",\n",
        "    \n",
        ")\n",
        "fig.show()"
      ],
      "metadata": {
        "colab": {
          "base_uri": "https://localhost:8080/"
        },
        "id": "V8rdem3bNj-u",
        "outputId": "ba58f602-7078-4ac9-9fef-3f70cc085038"
      },
      "execution_count": null,
      "outputs": [
        {
          "output_type": "display_data",
          "data": {
            "text/html": [
              "<html>\n",
              "<head><meta charset=\"utf-8\" /></head>\n",
              "<body>\n",
              "    <div>            <script src=\"https://cdnjs.cloudflare.com/ajax/libs/mathjax/2.7.5/MathJax.js?config=TeX-AMS-MML_SVG\"></script><script type=\"text/javascript\">if (window.MathJax) {MathJax.Hub.Config({SVG: {font: \"STIX-Web\"}});}</script>                <script type=\"text/javascript\">window.PlotlyConfig = {MathJaxConfig: 'local'};</script>\n",
              "        <script src=\"https://cdn.plot.ly/plotly-2.8.3.min.js\"></script>                <div id=\"cf7c2ca1-2426-4a7e-b3cc-ebddd7e0121d\" class=\"plotly-graph-div\" style=\"height:450px; width:650px;\"></div>            <script type=\"text/javascript\">                                    window.PLOTLYENV=window.PLOTLYENV || {};                                    if (document.getElementById(\"cf7c2ca1-2426-4a7e-b3cc-ebddd7e0121d\")) {                    Plotly.newPlot(                        \"cf7c2ca1-2426-4a7e-b3cc-ebddd7e0121d\",                        [{\"alignmentgroup\":\"True\",\"bingroup\":\"x\",\"histfunc\":\"sum\",\"hovertemplate\":\"color=san diego<br>x=%{x}<br>sum of y=%{y}<extra></extra>\",\"legendgroup\":\"san diego\",\"marker\":{\"color\":\"#636efa\",\"pattern\":{\"shape\":\"\"}},\"name\":\"san diego\",\"offsetgroup\":\"san diego\",\"orientation\":\"v\",\"showlegend\":true,\"texttemplate\":\"%{value}\",\"x\":[\"san diego\"],\"xaxis\":\"x\",\"y\":[1284],\"yaxis\":\"y\",\"type\":\"histogram\"},{\"alignmentgroup\":\"True\",\"bingroup\":\"x\",\"histfunc\":\"sum\",\"hovertemplate\":\"color=san francisco<br>x=%{x}<br>sum of y=%{y}<extra></extra>\",\"legendgroup\":\"san francisco\",\"marker\":{\"color\":\"#EF553B\",\"pattern\":{\"shape\":\"\"}},\"name\":\"san francisco\",\"offsetgroup\":\"san francisco\",\"orientation\":\"v\",\"showlegend\":true,\"texttemplate\":\"%{value}\",\"x\":[\"san francisco\"],\"xaxis\":\"x\",\"y\":[1271],\"yaxis\":\"y\",\"type\":\"histogram\"},{\"alignmentgroup\":\"True\",\"bingroup\":\"x\",\"histfunc\":\"sum\",\"hovertemplate\":\"color=los angeles<br>x=%{x}<br>sum of y=%{y}<extra></extra>\",\"legendgroup\":\"los angeles\",\"marker\":{\"color\":\"#00cc96\",\"pattern\":{\"shape\":\"\"}},\"name\":\"los angeles\",\"offsetgroup\":\"los angeles\",\"orientation\":\"v\",\"showlegend\":true,\"texttemplate\":\"%{value}\",\"x\":[\"los angeles\"],\"xaxis\":\"x\",\"y\":[1008],\"yaxis\":\"y\",\"type\":\"histogram\"},{\"alignmentgroup\":\"True\",\"bingroup\":\"x\",\"histfunc\":\"sum\",\"hovertemplate\":\"color=sacramento<br>x=%{x}<br>sum of y=%{y}<extra></extra>\",\"legendgroup\":\"sacramento\",\"marker\":{\"color\":\"#ab63fa\",\"pattern\":{\"shape\":\"\"}},\"name\":\"sacramento\",\"offsetgroup\":\"sacramento\",\"orientation\":\"v\",\"showlegend\":true,\"texttemplate\":\"%{value}\",\"x\":[\"sacramento\"],\"xaxis\":\"x\",\"y\":[490],\"yaxis\":\"y\",\"type\":\"histogram\"},{\"alignmentgroup\":\"True\",\"bingroup\":\"x\",\"histfunc\":\"sum\",\"hovertemplate\":\"color=san jose<br>x=%{x}<br>sum of y=%{y}<extra></extra>\",\"legendgroup\":\"san jose\",\"marker\":{\"color\":\"#FFA15A\",\"pattern\":{\"shape\":\"\"}},\"name\":\"san jose\",\"offsetgroup\":\"san jose\",\"orientation\":\"v\",\"showlegend\":true,\"texttemplate\":\"%{value}\",\"x\":[\"san jose\"],\"xaxis\":\"x\",\"y\":[436],\"yaxis\":\"y\",\"type\":\"histogram\"},{\"alignmentgroup\":\"True\",\"bingroup\":\"x\",\"histfunc\":\"sum\",\"hovertemplate\":\"color=oakland<br>x=%{x}<br>sum of y=%{y}<extra></extra>\",\"legendgroup\":\"oakland\",\"marker\":{\"color\":\"#19d3f3\",\"pattern\":{\"shape\":\"\"}},\"name\":\"oakland\",\"offsetgroup\":\"oakland\",\"orientation\":\"v\",\"showlegend\":true,\"texttemplate\":\"%{value}\",\"x\":[\"oakland\"],\"xaxis\":\"x\",\"y\":[384],\"yaxis\":\"y\",\"type\":\"histogram\"},{\"alignmentgroup\":\"True\",\"bingroup\":\"x\",\"histfunc\":\"sum\",\"hovertemplate\":\"color=carlsbad<br>x=%{x}<br>sum of y=%{y}<extra></extra>\",\"legendgroup\":\"carlsbad\",\"marker\":{\"color\":\"#FF6692\",\"pattern\":{\"shape\":\"\"}},\"name\":\"carlsbad\",\"offsetgroup\":\"carlsbad\",\"orientation\":\"v\",\"showlegend\":true,\"texttemplate\":\"%{value}\",\"x\":[\"carlsbad\"],\"xaxis\":\"x\",\"y\":[287],\"yaxis\":\"y\",\"type\":\"histogram\"},{\"alignmentgroup\":\"True\",\"bingroup\":\"x\",\"histfunc\":\"sum\",\"hovertemplate\":\"color=encinitas<br>x=%{x}<br>sum of y=%{y}<extra></extra>\",\"legendgroup\":\"encinitas\",\"marker\":{\"color\":\"#B6E880\",\"pattern\":{\"shape\":\"\"}},\"name\":\"encinitas\",\"offsetgroup\":\"encinitas\",\"orientation\":\"v\",\"showlegend\":true,\"texttemplate\":\"%{value}\",\"x\":[\"encinitas\"],\"xaxis\":\"x\",\"y\":[280],\"yaxis\":\"y\",\"type\":\"histogram\"},{\"alignmentgroup\":\"True\",\"bingroup\":\"x\",\"histfunc\":\"sum\",\"hovertemplate\":\"color=berkeley<br>x=%{x}<br>sum of y=%{y}<extra></extra>\",\"legendgroup\":\"berkeley\",\"marker\":{\"color\":\"#FF97FF\",\"pattern\":{\"shape\":\"\"}},\"name\":\"berkeley\",\"offsetgroup\":\"berkeley\",\"orientation\":\"v\",\"showlegend\":true,\"texttemplate\":\"%{value}\",\"x\":[\"berkeley\"],\"xaxis\":\"x\",\"y\":[279],\"yaxis\":\"y\",\"type\":\"histogram\"},{\"alignmentgroup\":\"True\",\"bingroup\":\"x\",\"histfunc\":\"sum\",\"hovertemplate\":\"color=santa rosa<br>x=%{x}<br>sum of y=%{y}<extra></extra>\",\"legendgroup\":\"santa rosa\",\"marker\":{\"color\":\"#FECB52\",\"pattern\":{\"shape\":\"\"}},\"name\":\"santa rosa\",\"offsetgroup\":\"santa rosa\",\"orientation\":\"v\",\"showlegend\":true,\"texttemplate\":\"%{value}\",\"x\":[\"santa rosa\"],\"xaxis\":\"x\",\"y\":[202],\"yaxis\":\"y\",\"type\":\"histogram\"}],                        {\"template\":{\"data\":{\"barpolar\":[{\"marker\":{\"line\":{\"color\":\"rgb(17,17,17)\",\"width\":0.5},\"pattern\":{\"fillmode\":\"overlay\",\"size\":10,\"solidity\":0.2}},\"type\":\"barpolar\"}],\"bar\":[{\"error_x\":{\"color\":\"#f2f5fa\"},\"error_y\":{\"color\":\"#f2f5fa\"},\"marker\":{\"line\":{\"color\":\"rgb(17,17,17)\",\"width\":0.5},\"pattern\":{\"fillmode\":\"overlay\",\"size\":10,\"solidity\":0.2}},\"type\":\"bar\"}],\"carpet\":[{\"aaxis\":{\"endlinecolor\":\"#A2B1C6\",\"gridcolor\":\"#506784\",\"linecolor\":\"#506784\",\"minorgridcolor\":\"#506784\",\"startlinecolor\":\"#A2B1C6\"},\"baxis\":{\"endlinecolor\":\"#A2B1C6\",\"gridcolor\":\"#506784\",\"linecolor\":\"#506784\",\"minorgridcolor\":\"#506784\",\"startlinecolor\":\"#A2B1C6\"},\"type\":\"carpet\"}],\"choropleth\":[{\"colorbar\":{\"outlinewidth\":0,\"ticks\":\"\"},\"type\":\"choropleth\"}],\"contourcarpet\":[{\"colorbar\":{\"outlinewidth\":0,\"ticks\":\"\"},\"type\":\"contourcarpet\"}],\"contour\":[{\"colorbar\":{\"outlinewidth\":0,\"ticks\":\"\"},\"colorscale\":[[0.0,\"#0d0887\"],[0.1111111111111111,\"#46039f\"],[0.2222222222222222,\"#7201a8\"],[0.3333333333333333,\"#9c179e\"],[0.4444444444444444,\"#bd3786\"],[0.5555555555555556,\"#d8576b\"],[0.6666666666666666,\"#ed7953\"],[0.7777777777777778,\"#fb9f3a\"],[0.8888888888888888,\"#fdca26\"],[1.0,\"#f0f921\"]],\"type\":\"contour\"}],\"heatmapgl\":[{\"colorbar\":{\"outlinewidth\":0,\"ticks\":\"\"},\"colorscale\":[[0.0,\"#0d0887\"],[0.1111111111111111,\"#46039f\"],[0.2222222222222222,\"#7201a8\"],[0.3333333333333333,\"#9c179e\"],[0.4444444444444444,\"#bd3786\"],[0.5555555555555556,\"#d8576b\"],[0.6666666666666666,\"#ed7953\"],[0.7777777777777778,\"#fb9f3a\"],[0.8888888888888888,\"#fdca26\"],[1.0,\"#f0f921\"]],\"type\":\"heatmapgl\"}],\"heatmap\":[{\"colorbar\":{\"outlinewidth\":0,\"ticks\":\"\"},\"colorscale\":[[0.0,\"#0d0887\"],[0.1111111111111111,\"#46039f\"],[0.2222222222222222,\"#7201a8\"],[0.3333333333333333,\"#9c179e\"],[0.4444444444444444,\"#bd3786\"],[0.5555555555555556,\"#d8576b\"],[0.6666666666666666,\"#ed7953\"],[0.7777777777777778,\"#fb9f3a\"],[0.8888888888888888,\"#fdca26\"],[1.0,\"#f0f921\"]],\"type\":\"heatmap\"}],\"histogram2dcontour\":[{\"colorbar\":{\"outlinewidth\":0,\"ticks\":\"\"},\"colorscale\":[[0.0,\"#0d0887\"],[0.1111111111111111,\"#46039f\"],[0.2222222222222222,\"#7201a8\"],[0.3333333333333333,\"#9c179e\"],[0.4444444444444444,\"#bd3786\"],[0.5555555555555556,\"#d8576b\"],[0.6666666666666666,\"#ed7953\"],[0.7777777777777778,\"#fb9f3a\"],[0.8888888888888888,\"#fdca26\"],[1.0,\"#f0f921\"]],\"type\":\"histogram2dcontour\"}],\"histogram2d\":[{\"colorbar\":{\"outlinewidth\":0,\"ticks\":\"\"},\"colorscale\":[[0.0,\"#0d0887\"],[0.1111111111111111,\"#46039f\"],[0.2222222222222222,\"#7201a8\"],[0.3333333333333333,\"#9c179e\"],[0.4444444444444444,\"#bd3786\"],[0.5555555555555556,\"#d8576b\"],[0.6666666666666666,\"#ed7953\"],[0.7777777777777778,\"#fb9f3a\"],[0.8888888888888888,\"#fdca26\"],[1.0,\"#f0f921\"]],\"type\":\"histogram2d\"}],\"histogram\":[{\"marker\":{\"pattern\":{\"fillmode\":\"overlay\",\"size\":10,\"solidity\":0.2}},\"type\":\"histogram\"}],\"mesh3d\":[{\"colorbar\":{\"outlinewidth\":0,\"ticks\":\"\"},\"type\":\"mesh3d\"}],\"parcoords\":[{\"line\":{\"colorbar\":{\"outlinewidth\":0,\"ticks\":\"\"}},\"type\":\"parcoords\"}],\"pie\":[{\"automargin\":true,\"type\":\"pie\"}],\"scatter3d\":[{\"line\":{\"colorbar\":{\"outlinewidth\":0,\"ticks\":\"\"}},\"marker\":{\"colorbar\":{\"outlinewidth\":0,\"ticks\":\"\"}},\"type\":\"scatter3d\"}],\"scattercarpet\":[{\"marker\":{\"colorbar\":{\"outlinewidth\":0,\"ticks\":\"\"}},\"type\":\"scattercarpet\"}],\"scattergeo\":[{\"marker\":{\"colorbar\":{\"outlinewidth\":0,\"ticks\":\"\"}},\"type\":\"scattergeo\"}],\"scattergl\":[{\"marker\":{\"line\":{\"color\":\"#283442\"}},\"type\":\"scattergl\"}],\"scattermapbox\":[{\"marker\":{\"colorbar\":{\"outlinewidth\":0,\"ticks\":\"\"}},\"type\":\"scattermapbox\"}],\"scatterpolargl\":[{\"marker\":{\"colorbar\":{\"outlinewidth\":0,\"ticks\":\"\"}},\"type\":\"scatterpolargl\"}],\"scatterpolar\":[{\"marker\":{\"colorbar\":{\"outlinewidth\":0,\"ticks\":\"\"}},\"type\":\"scatterpolar\"}],\"scatter\":[{\"marker\":{\"line\":{\"color\":\"#283442\"}},\"type\":\"scatter\"}],\"scatterternary\":[{\"marker\":{\"colorbar\":{\"outlinewidth\":0,\"ticks\":\"\"}},\"type\":\"scatterternary\"}],\"surface\":[{\"colorbar\":{\"outlinewidth\":0,\"ticks\":\"\"},\"colorscale\":[[0.0,\"#0d0887\"],[0.1111111111111111,\"#46039f\"],[0.2222222222222222,\"#7201a8\"],[0.3333333333333333,\"#9c179e\"],[0.4444444444444444,\"#bd3786\"],[0.5555555555555556,\"#d8576b\"],[0.6666666666666666,\"#ed7953\"],[0.7777777777777778,\"#fb9f3a\"],[0.8888888888888888,\"#fdca26\"],[1.0,\"#f0f921\"]],\"type\":\"surface\"}],\"table\":[{\"cells\":{\"fill\":{\"color\":\"#506784\"},\"line\":{\"color\":\"rgb(17,17,17)\"}},\"header\":{\"fill\":{\"color\":\"#2a3f5f\"},\"line\":{\"color\":\"rgb(17,17,17)\"}},\"type\":\"table\"}]},\"layout\":{\"annotationdefaults\":{\"arrowcolor\":\"#f2f5fa\",\"arrowhead\":0,\"arrowwidth\":1},\"autotypenumbers\":\"strict\",\"coloraxis\":{\"colorbar\":{\"outlinewidth\":0,\"ticks\":\"\"}},\"colorscale\":{\"diverging\":[[0,\"#8e0152\"],[0.1,\"#c51b7d\"],[0.2,\"#de77ae\"],[0.3,\"#f1b6da\"],[0.4,\"#fde0ef\"],[0.5,\"#f7f7f7\"],[0.6,\"#e6f5d0\"],[0.7,\"#b8e186\"],[0.8,\"#7fbc41\"],[0.9,\"#4d9221\"],[1,\"#276419\"]],\"sequential\":[[0.0,\"#0d0887\"],[0.1111111111111111,\"#46039f\"],[0.2222222222222222,\"#7201a8\"],[0.3333333333333333,\"#9c179e\"],[0.4444444444444444,\"#bd3786\"],[0.5555555555555556,\"#d8576b\"],[0.6666666666666666,\"#ed7953\"],[0.7777777777777778,\"#fb9f3a\"],[0.8888888888888888,\"#fdca26\"],[1.0,\"#f0f921\"]],\"sequentialminus\":[[0.0,\"#0d0887\"],[0.1111111111111111,\"#46039f\"],[0.2222222222222222,\"#7201a8\"],[0.3333333333333333,\"#9c179e\"],[0.4444444444444444,\"#bd3786\"],[0.5555555555555556,\"#d8576b\"],[0.6666666666666666,\"#ed7953\"],[0.7777777777777778,\"#fb9f3a\"],[0.8888888888888888,\"#fdca26\"],[1.0,\"#f0f921\"]]},\"colorway\":[\"#636efa\",\"#EF553B\",\"#00cc96\",\"#ab63fa\",\"#FFA15A\",\"#19d3f3\",\"#FF6692\",\"#B6E880\",\"#FF97FF\",\"#FECB52\"],\"font\":{\"color\":\"#f2f5fa\"},\"geo\":{\"bgcolor\":\"rgb(17,17,17)\",\"lakecolor\":\"rgb(17,17,17)\",\"landcolor\":\"rgb(17,17,17)\",\"showlakes\":true,\"showland\":true,\"subunitcolor\":\"#506784\"},\"hoverlabel\":{\"align\":\"left\"},\"hovermode\":\"closest\",\"mapbox\":{\"style\":\"dark\"},\"paper_bgcolor\":\"rgb(17,17,17)\",\"plot_bgcolor\":\"rgb(17,17,17)\",\"polar\":{\"angularaxis\":{\"gridcolor\":\"#506784\",\"linecolor\":\"#506784\",\"ticks\":\"\"},\"bgcolor\":\"rgb(17,17,17)\",\"radialaxis\":{\"gridcolor\":\"#506784\",\"linecolor\":\"#506784\",\"ticks\":\"\"}},\"scene\":{\"xaxis\":{\"backgroundcolor\":\"rgb(17,17,17)\",\"gridcolor\":\"#506784\",\"gridwidth\":2,\"linecolor\":\"#506784\",\"showbackground\":true,\"ticks\":\"\",\"zerolinecolor\":\"#C8D4E3\"},\"yaxis\":{\"backgroundcolor\":\"rgb(17,17,17)\",\"gridcolor\":\"#506784\",\"gridwidth\":2,\"linecolor\":\"#506784\",\"showbackground\":true,\"ticks\":\"\",\"zerolinecolor\":\"#C8D4E3\"},\"zaxis\":{\"backgroundcolor\":\"rgb(17,17,17)\",\"gridcolor\":\"#506784\",\"gridwidth\":2,\"linecolor\":\"#506784\",\"showbackground\":true,\"ticks\":\"\",\"zerolinecolor\":\"#C8D4E3\"}},\"shapedefaults\":{\"line\":{\"color\":\"#f2f5fa\"}},\"sliderdefaults\":{\"bgcolor\":\"#C8D4E3\",\"bordercolor\":\"rgb(17,17,17)\",\"borderwidth\":1,\"tickwidth\":0},\"ternary\":{\"aaxis\":{\"gridcolor\":\"#506784\",\"linecolor\":\"#506784\",\"ticks\":\"\"},\"baxis\":{\"gridcolor\":\"#506784\",\"linecolor\":\"#506784\",\"ticks\":\"\"},\"bgcolor\":\"rgb(17,17,17)\",\"caxis\":{\"gridcolor\":\"#506784\",\"linecolor\":\"#506784\",\"ticks\":\"\"}},\"title\":{\"x\":0.05},\"updatemenudefaults\":{\"bgcolor\":\"#506784\",\"borderwidth\":0},\"xaxis\":{\"automargin\":true,\"gridcolor\":\"#283442\",\"linecolor\":\"#506784\",\"ticks\":\"\",\"title\":{\"standoff\":15},\"zerolinecolor\":\"#283442\",\"zerolinewidth\":2},\"yaxis\":{\"automargin\":true,\"gridcolor\":\"#283442\",\"linecolor\":\"#506784\",\"ticks\":\"\",\"title\":{\"standoff\":15},\"zerolinecolor\":\"#283442\",\"zerolinewidth\":2}}},\"xaxis\":{\"anchor\":\"y\",\"domain\":[0.0,1.0],\"title\":{\"text\":\"cities\"}},\"yaxis\":{\"anchor\":\"x\",\"domain\":[0.0,1.0],\"title\":{\"text\":\"Number of readers\"}},\"legend\":{\"title\":{\"text\":\"color\"},\"tracegroupgap\":0},\"margin\":{\"t\":60},\"barmode\":\"relative\",\"height\":450,\"width\":650,\"title\":{\"text\":\"Top 10 cities of USA having highest number of reader\"}},                        {\"responsive\": true}                    ).then(function(){\n",
              "                            \n",
              "var gd = document.getElementById('cf7c2ca1-2426-4a7e-b3cc-ebddd7e0121d');\n",
              "var x = new MutationObserver(function (mutations, observer) {{\n",
              "        var display = window.getComputedStyle(gd).display;\n",
              "        if (!display || display === 'none') {{\n",
              "            console.log([gd, 'removed!']);\n",
              "            Plotly.purge(gd);\n",
              "            observer.disconnect();\n",
              "        }}\n",
              "}});\n",
              "\n",
              "// Listen for the removal of the full notebook cells\n",
              "var notebookContainer = gd.closest('#notebook-container');\n",
              "if (notebookContainer) {{\n",
              "    x.observe(notebookContainer, {childList: true});\n",
              "}}\n",
              "\n",
              "// Listen for the clearing of the current output cell\n",
              "var outputEl = gd.closest('.output');\n",
              "if (outputEl) {{\n",
              "    x.observe(outputEl, {childList: true});\n",
              "}}\n",
              "\n",
              "                        })                };                            </script>        </div>\n",
              "</body>\n",
              "</html>"
            ]
          },
          "metadata": {}
        }
      ]
    },
    {
      "cell_type": "markdown",
      "source": [
        "## In USA San diego  is having highest number of reader followed by san francisco and Los Angeles"
      ],
      "metadata": {
        "id": "5cnPVv2gPyoo"
      }
    },
    {
      "cell_type": "markdown",
      "source": [
        "## lets see worldwide which is state is having highest number of readers\n"
      ],
      "metadata": {
        "id": "spCQyOvTQYRx"
      }
    },
    {
      "cell_type": "code",
      "source": [
        "## top 10 States of world based on number of readers\n",
        "top_10_states=users['State'].value_counts()[:10].reset_index().rename(columns={'index':'state','State':'count'})"
      ],
      "metadata": {
        "id": "7-JLx83WPxyO"
      },
      "execution_count": null,
      "outputs": []
    },
    {
      "cell_type": "code",
      "source": [
        "# plot for top 10 state\n",
        "fig = px.histogram(x= top_10_states['state'],y=top_10_states['count'],orientation=None , width=650, height=450,\n",
        "              text_auto=True, color=top_10_states['state']\n",
        "             )\n",
        "fig.update_layout(\n",
        "    title='Top 10 State in the World having highest number of reader',\n",
        "    xaxis_title=\"States\",\n",
        "    yaxis_title=\"Number of readers\",\n",
        "    template=\"plotly_dark\",\n",
        "    \n",
        ")\n",
        "fig.show()"
      ],
      "metadata": {
        "colab": {
          "base_uri": "https://localhost:8080/"
        },
        "id": "L_o-tdI0ROci",
        "outputId": "6e7bb3b8-21d4-407c-e546-c9b585e06d8c"
      },
      "execution_count": null,
      "outputs": [
        {
          "output_type": "display_data",
          "data": {
            "text/html": [
              "<html>\n",
              "<head><meta charset=\"utf-8\" /></head>\n",
              "<body>\n",
              "    <div>            <script src=\"https://cdnjs.cloudflare.com/ajax/libs/mathjax/2.7.5/MathJax.js?config=TeX-AMS-MML_SVG\"></script><script type=\"text/javascript\">if (window.MathJax) {MathJax.Hub.Config({SVG: {font: \"STIX-Web\"}});}</script>                <script type=\"text/javascript\">window.PlotlyConfig = {MathJaxConfig: 'local'};</script>\n",
              "        <script src=\"https://cdn.plot.ly/plotly-2.8.3.min.js\"></script>                <div id=\"84cbdd94-fb89-49b4-92c3-ca2a620e295c\" class=\"plotly-graph-div\" style=\"height:450px; width:650px;\"></div>            <script type=\"text/javascript\">                                    window.PLOTLYENV=window.PLOTLYENV || {};                                    if (document.getElementById(\"84cbdd94-fb89-49b4-92c3-ca2a620e295c\")) {                    Plotly.newPlot(                        \"84cbdd94-fb89-49b4-92c3-ca2a620e295c\",                        [{\"alignmentgroup\":\"True\",\"bingroup\":\"x\",\"histfunc\":\"sum\",\"hovertemplate\":\"color=california<br>x=%{x}<br>sum of y=%{y}<extra></extra>\",\"legendgroup\":\"california\",\"marker\":{\"color\":\"#636efa\",\"pattern\":{\"shape\":\"\"}},\"name\":\"california\",\"offsetgroup\":\"california\",\"orientation\":\"v\",\"showlegend\":true,\"texttemplate\":\"%{value}\",\"x\":[\"california\"],\"xaxis\":\"x\",\"y\":[19839],\"yaxis\":\"y\",\"type\":\"histogram\"},{\"alignmentgroup\":\"True\",\"bingroup\":\"x\",\"histfunc\":\"sum\",\"hovertemplate\":\"color=other<br>x=%{x}<br>sum of y=%{y}<extra></extra>\",\"legendgroup\":\"other\",\"marker\":{\"color\":\"#EF553B\",\"pattern\":{\"shape\":\"\"}},\"name\":\"other\",\"offsetgroup\":\"other\",\"orientation\":\"v\",\"showlegend\":true,\"texttemplate\":\"%{value}\",\"x\":[\"other\"],\"xaxis\":\"x\",\"y\":[16046],\"yaxis\":\"y\",\"type\":\"histogram\"},{\"alignmentgroup\":\"True\",\"bingroup\":\"x\",\"histfunc\":\"sum\",\"hovertemplate\":\"color=england<br>x=%{x}<br>sum of y=%{y}<extra></extra>\",\"legendgroup\":\"england\",\"marker\":{\"color\":\"#00cc96\",\"pattern\":{\"shape\":\"\"}},\"name\":\"england\",\"offsetgroup\":\"england\",\"orientation\":\"v\",\"showlegend\":true,\"texttemplate\":\"%{value}\",\"x\":[\"england\"],\"xaxis\":\"x\",\"y\":[10656],\"yaxis\":\"y\",\"type\":\"histogram\"},{\"alignmentgroup\":\"True\",\"bingroup\":\"x\",\"histfunc\":\"sum\",\"hovertemplate\":\"color=ontario<br>x=%{x}<br>sum of y=%{y}<extra></extra>\",\"legendgroup\":\"ontario\",\"marker\":{\"color\":\"#ab63fa\",\"pattern\":{\"shape\":\"\"}},\"name\":\"ontario\",\"offsetgroup\":\"ontario\",\"orientation\":\"v\",\"showlegend\":true,\"texttemplate\":\"%{value}\",\"x\":[\"ontario\"],\"xaxis\":\"x\",\"y\":[8717],\"yaxis\":\"y\",\"type\":\"histogram\"},{\"alignmentgroup\":\"True\",\"bingroup\":\"x\",\"histfunc\":\"sum\",\"hovertemplate\":\"color=texas<br>x=%{x}<br>sum of y=%{y}<extra></extra>\",\"legendgroup\":\"texas\",\"marker\":{\"color\":\"#FFA15A\",\"pattern\":{\"shape\":\"\"}},\"name\":\"texas\",\"offsetgroup\":\"texas\",\"orientation\":\"v\",\"showlegend\":true,\"texttemplate\":\"%{value}\",\"x\":[\"texas\"],\"xaxis\":\"x\",\"y\":[8376],\"yaxis\":\"y\",\"type\":\"histogram\"},{\"alignmentgroup\":\"True\",\"bingroup\":\"x\",\"histfunc\":\"sum\",\"hovertemplate\":\"color=new york<br>x=%{x}<br>sum of y=%{y}<extra></extra>\",\"legendgroup\":\"new york\",\"marker\":{\"color\":\"#19d3f3\",\"pattern\":{\"shape\":\"\"}},\"name\":\"new york\",\"offsetgroup\":\"new york\",\"orientation\":\"v\",\"showlegend\":true,\"texttemplate\":\"%{value}\",\"x\":[\"new york\"],\"xaxis\":\"x\",\"y\":[7853],\"yaxis\":\"y\",\"type\":\"histogram\"},{\"alignmentgroup\":\"True\",\"bingroup\":\"x\",\"histfunc\":\"sum\",\"hovertemplate\":\"color=florida<br>x=%{x}<br>sum of y=%{y}<extra></extra>\",\"legendgroup\":\"florida\",\"marker\":{\"color\":\"#FF6692\",\"pattern\":{\"shape\":\"\"}},\"name\":\"florida\",\"offsetgroup\":\"florida\",\"orientation\":\"v\",\"showlegend\":true,\"texttemplate\":\"%{value}\",\"x\":[\"florida\"],\"xaxis\":\"x\",\"y\":[7014],\"yaxis\":\"y\",\"type\":\"histogram\"},{\"alignmentgroup\":\"True\",\"bingroup\":\"x\",\"histfunc\":\"sum\",\"hovertemplate\":\"color=pennsylvania<br>x=%{x}<br>sum of y=%{y}<extra></extra>\",\"legendgroup\":\"pennsylvania\",\"marker\":{\"color\":\"#B6E880\",\"pattern\":{\"shape\":\"\"}},\"name\":\"pennsylvania\",\"offsetgroup\":\"pennsylvania\",\"orientation\":\"v\",\"showlegend\":true,\"texttemplate\":\"%{value}\",\"x\":[\"pennsylvania\"],\"xaxis\":\"x\",\"y\":[6059],\"yaxis\":\"y\",\"type\":\"histogram\"},{\"alignmentgroup\":\"True\",\"bingroup\":\"x\",\"histfunc\":\"sum\",\"hovertemplate\":\"color=illinois<br>x=%{x}<br>sum of y=%{y}<extra></extra>\",\"legendgroup\":\"illinois\",\"marker\":{\"color\":\"#FF97FF\",\"pattern\":{\"shape\":\"\"}},\"name\":\"illinois\",\"offsetgroup\":\"illinois\",\"orientation\":\"v\",\"showlegend\":true,\"texttemplate\":\"%{value}\",\"x\":[\"illinois\"],\"xaxis\":\"x\",\"y\":[5845],\"yaxis\":\"y\",\"type\":\"histogram\"},{\"alignmentgroup\":\"True\",\"bingroup\":\"x\",\"histfunc\":\"sum\",\"hovertemplate\":\"color=washington<br>x=%{x}<br>sum of y=%{y}<extra></extra>\",\"legendgroup\":\"washington\",\"marker\":{\"color\":\"#FECB52\",\"pattern\":{\"shape\":\"\"}},\"name\":\"washington\",\"offsetgroup\":\"washington\",\"orientation\":\"v\",\"showlegend\":true,\"texttemplate\":\"%{value}\",\"x\":[\"washington\"],\"xaxis\":\"x\",\"y\":[5807],\"yaxis\":\"y\",\"type\":\"histogram\"}],                        {\"template\":{\"data\":{\"barpolar\":[{\"marker\":{\"line\":{\"color\":\"rgb(17,17,17)\",\"width\":0.5},\"pattern\":{\"fillmode\":\"overlay\",\"size\":10,\"solidity\":0.2}},\"type\":\"barpolar\"}],\"bar\":[{\"error_x\":{\"color\":\"#f2f5fa\"},\"error_y\":{\"color\":\"#f2f5fa\"},\"marker\":{\"line\":{\"color\":\"rgb(17,17,17)\",\"width\":0.5},\"pattern\":{\"fillmode\":\"overlay\",\"size\":10,\"solidity\":0.2}},\"type\":\"bar\"}],\"carpet\":[{\"aaxis\":{\"endlinecolor\":\"#A2B1C6\",\"gridcolor\":\"#506784\",\"linecolor\":\"#506784\",\"minorgridcolor\":\"#506784\",\"startlinecolor\":\"#A2B1C6\"},\"baxis\":{\"endlinecolor\":\"#A2B1C6\",\"gridcolor\":\"#506784\",\"linecolor\":\"#506784\",\"minorgridcolor\":\"#506784\",\"startlinecolor\":\"#A2B1C6\"},\"type\":\"carpet\"}],\"choropleth\":[{\"colorbar\":{\"outlinewidth\":0,\"ticks\":\"\"},\"type\":\"choropleth\"}],\"contourcarpet\":[{\"colorbar\":{\"outlinewidth\":0,\"ticks\":\"\"},\"type\":\"contourcarpet\"}],\"contour\":[{\"colorbar\":{\"outlinewidth\":0,\"ticks\":\"\"},\"colorscale\":[[0.0,\"#0d0887\"],[0.1111111111111111,\"#46039f\"],[0.2222222222222222,\"#7201a8\"],[0.3333333333333333,\"#9c179e\"],[0.4444444444444444,\"#bd3786\"],[0.5555555555555556,\"#d8576b\"],[0.6666666666666666,\"#ed7953\"],[0.7777777777777778,\"#fb9f3a\"],[0.8888888888888888,\"#fdca26\"],[1.0,\"#f0f921\"]],\"type\":\"contour\"}],\"heatmapgl\":[{\"colorbar\":{\"outlinewidth\":0,\"ticks\":\"\"},\"colorscale\":[[0.0,\"#0d0887\"],[0.1111111111111111,\"#46039f\"],[0.2222222222222222,\"#7201a8\"],[0.3333333333333333,\"#9c179e\"],[0.4444444444444444,\"#bd3786\"],[0.5555555555555556,\"#d8576b\"],[0.6666666666666666,\"#ed7953\"],[0.7777777777777778,\"#fb9f3a\"],[0.8888888888888888,\"#fdca26\"],[1.0,\"#f0f921\"]],\"type\":\"heatmapgl\"}],\"heatmap\":[{\"colorbar\":{\"outlinewidth\":0,\"ticks\":\"\"},\"colorscale\":[[0.0,\"#0d0887\"],[0.1111111111111111,\"#46039f\"],[0.2222222222222222,\"#7201a8\"],[0.3333333333333333,\"#9c179e\"],[0.4444444444444444,\"#bd3786\"],[0.5555555555555556,\"#d8576b\"],[0.6666666666666666,\"#ed7953\"],[0.7777777777777778,\"#fb9f3a\"],[0.8888888888888888,\"#fdca26\"],[1.0,\"#f0f921\"]],\"type\":\"heatmap\"}],\"histogram2dcontour\":[{\"colorbar\":{\"outlinewidth\":0,\"ticks\":\"\"},\"colorscale\":[[0.0,\"#0d0887\"],[0.1111111111111111,\"#46039f\"],[0.2222222222222222,\"#7201a8\"],[0.3333333333333333,\"#9c179e\"],[0.4444444444444444,\"#bd3786\"],[0.5555555555555556,\"#d8576b\"],[0.6666666666666666,\"#ed7953\"],[0.7777777777777778,\"#fb9f3a\"],[0.8888888888888888,\"#fdca26\"],[1.0,\"#f0f921\"]],\"type\":\"histogram2dcontour\"}],\"histogram2d\":[{\"colorbar\":{\"outlinewidth\":0,\"ticks\":\"\"},\"colorscale\":[[0.0,\"#0d0887\"],[0.1111111111111111,\"#46039f\"],[0.2222222222222222,\"#7201a8\"],[0.3333333333333333,\"#9c179e\"],[0.4444444444444444,\"#bd3786\"],[0.5555555555555556,\"#d8576b\"],[0.6666666666666666,\"#ed7953\"],[0.7777777777777778,\"#fb9f3a\"],[0.8888888888888888,\"#fdca26\"],[1.0,\"#f0f921\"]],\"type\":\"histogram2d\"}],\"histogram\":[{\"marker\":{\"pattern\":{\"fillmode\":\"overlay\",\"size\":10,\"solidity\":0.2}},\"type\":\"histogram\"}],\"mesh3d\":[{\"colorbar\":{\"outlinewidth\":0,\"ticks\":\"\"},\"type\":\"mesh3d\"}],\"parcoords\":[{\"line\":{\"colorbar\":{\"outlinewidth\":0,\"ticks\":\"\"}},\"type\":\"parcoords\"}],\"pie\":[{\"automargin\":true,\"type\":\"pie\"}],\"scatter3d\":[{\"line\":{\"colorbar\":{\"outlinewidth\":0,\"ticks\":\"\"}},\"marker\":{\"colorbar\":{\"outlinewidth\":0,\"ticks\":\"\"}},\"type\":\"scatter3d\"}],\"scattercarpet\":[{\"marker\":{\"colorbar\":{\"outlinewidth\":0,\"ticks\":\"\"}},\"type\":\"scattercarpet\"}],\"scattergeo\":[{\"marker\":{\"colorbar\":{\"outlinewidth\":0,\"ticks\":\"\"}},\"type\":\"scattergeo\"}],\"scattergl\":[{\"marker\":{\"line\":{\"color\":\"#283442\"}},\"type\":\"scattergl\"}],\"scattermapbox\":[{\"marker\":{\"colorbar\":{\"outlinewidth\":0,\"ticks\":\"\"}},\"type\":\"scattermapbox\"}],\"scatterpolargl\":[{\"marker\":{\"colorbar\":{\"outlinewidth\":0,\"ticks\":\"\"}},\"type\":\"scatterpolargl\"}],\"scatterpolar\":[{\"marker\":{\"colorbar\":{\"outlinewidth\":0,\"ticks\":\"\"}},\"type\":\"scatterpolar\"}],\"scatter\":[{\"marker\":{\"line\":{\"color\":\"#283442\"}},\"type\":\"scatter\"}],\"scatterternary\":[{\"marker\":{\"colorbar\":{\"outlinewidth\":0,\"ticks\":\"\"}},\"type\":\"scatterternary\"}],\"surface\":[{\"colorbar\":{\"outlinewidth\":0,\"ticks\":\"\"},\"colorscale\":[[0.0,\"#0d0887\"],[0.1111111111111111,\"#46039f\"],[0.2222222222222222,\"#7201a8\"],[0.3333333333333333,\"#9c179e\"],[0.4444444444444444,\"#bd3786\"],[0.5555555555555556,\"#d8576b\"],[0.6666666666666666,\"#ed7953\"],[0.7777777777777778,\"#fb9f3a\"],[0.8888888888888888,\"#fdca26\"],[1.0,\"#f0f921\"]],\"type\":\"surface\"}],\"table\":[{\"cells\":{\"fill\":{\"color\":\"#506784\"},\"line\":{\"color\":\"rgb(17,17,17)\"}},\"header\":{\"fill\":{\"color\":\"#2a3f5f\"},\"line\":{\"color\":\"rgb(17,17,17)\"}},\"type\":\"table\"}]},\"layout\":{\"annotationdefaults\":{\"arrowcolor\":\"#f2f5fa\",\"arrowhead\":0,\"arrowwidth\":1},\"autotypenumbers\":\"strict\",\"coloraxis\":{\"colorbar\":{\"outlinewidth\":0,\"ticks\":\"\"}},\"colorscale\":{\"diverging\":[[0,\"#8e0152\"],[0.1,\"#c51b7d\"],[0.2,\"#de77ae\"],[0.3,\"#f1b6da\"],[0.4,\"#fde0ef\"],[0.5,\"#f7f7f7\"],[0.6,\"#e6f5d0\"],[0.7,\"#b8e186\"],[0.8,\"#7fbc41\"],[0.9,\"#4d9221\"],[1,\"#276419\"]],\"sequential\":[[0.0,\"#0d0887\"],[0.1111111111111111,\"#46039f\"],[0.2222222222222222,\"#7201a8\"],[0.3333333333333333,\"#9c179e\"],[0.4444444444444444,\"#bd3786\"],[0.5555555555555556,\"#d8576b\"],[0.6666666666666666,\"#ed7953\"],[0.7777777777777778,\"#fb9f3a\"],[0.8888888888888888,\"#fdca26\"],[1.0,\"#f0f921\"]],\"sequentialminus\":[[0.0,\"#0d0887\"],[0.1111111111111111,\"#46039f\"],[0.2222222222222222,\"#7201a8\"],[0.3333333333333333,\"#9c179e\"],[0.4444444444444444,\"#bd3786\"],[0.5555555555555556,\"#d8576b\"],[0.6666666666666666,\"#ed7953\"],[0.7777777777777778,\"#fb9f3a\"],[0.8888888888888888,\"#fdca26\"],[1.0,\"#f0f921\"]]},\"colorway\":[\"#636efa\",\"#EF553B\",\"#00cc96\",\"#ab63fa\",\"#FFA15A\",\"#19d3f3\",\"#FF6692\",\"#B6E880\",\"#FF97FF\",\"#FECB52\"],\"font\":{\"color\":\"#f2f5fa\"},\"geo\":{\"bgcolor\":\"rgb(17,17,17)\",\"lakecolor\":\"rgb(17,17,17)\",\"landcolor\":\"rgb(17,17,17)\",\"showlakes\":true,\"showland\":true,\"subunitcolor\":\"#506784\"},\"hoverlabel\":{\"align\":\"left\"},\"hovermode\":\"closest\",\"mapbox\":{\"style\":\"dark\"},\"paper_bgcolor\":\"rgb(17,17,17)\",\"plot_bgcolor\":\"rgb(17,17,17)\",\"polar\":{\"angularaxis\":{\"gridcolor\":\"#506784\",\"linecolor\":\"#506784\",\"ticks\":\"\"},\"bgcolor\":\"rgb(17,17,17)\",\"radialaxis\":{\"gridcolor\":\"#506784\",\"linecolor\":\"#506784\",\"ticks\":\"\"}},\"scene\":{\"xaxis\":{\"backgroundcolor\":\"rgb(17,17,17)\",\"gridcolor\":\"#506784\",\"gridwidth\":2,\"linecolor\":\"#506784\",\"showbackground\":true,\"ticks\":\"\",\"zerolinecolor\":\"#C8D4E3\"},\"yaxis\":{\"backgroundcolor\":\"rgb(17,17,17)\",\"gridcolor\":\"#506784\",\"gridwidth\":2,\"linecolor\":\"#506784\",\"showbackground\":true,\"ticks\":\"\",\"zerolinecolor\":\"#C8D4E3\"},\"zaxis\":{\"backgroundcolor\":\"rgb(17,17,17)\",\"gridcolor\":\"#506784\",\"gridwidth\":2,\"linecolor\":\"#506784\",\"showbackground\":true,\"ticks\":\"\",\"zerolinecolor\":\"#C8D4E3\"}},\"shapedefaults\":{\"line\":{\"color\":\"#f2f5fa\"}},\"sliderdefaults\":{\"bgcolor\":\"#C8D4E3\",\"bordercolor\":\"rgb(17,17,17)\",\"borderwidth\":1,\"tickwidth\":0},\"ternary\":{\"aaxis\":{\"gridcolor\":\"#506784\",\"linecolor\":\"#506784\",\"ticks\":\"\"},\"baxis\":{\"gridcolor\":\"#506784\",\"linecolor\":\"#506784\",\"ticks\":\"\"},\"bgcolor\":\"rgb(17,17,17)\",\"caxis\":{\"gridcolor\":\"#506784\",\"linecolor\":\"#506784\",\"ticks\":\"\"}},\"title\":{\"x\":0.05},\"updatemenudefaults\":{\"bgcolor\":\"#506784\",\"borderwidth\":0},\"xaxis\":{\"automargin\":true,\"gridcolor\":\"#283442\",\"linecolor\":\"#506784\",\"ticks\":\"\",\"title\":{\"standoff\":15},\"zerolinecolor\":\"#283442\",\"zerolinewidth\":2},\"yaxis\":{\"automargin\":true,\"gridcolor\":\"#283442\",\"linecolor\":\"#506784\",\"ticks\":\"\",\"title\":{\"standoff\":15},\"zerolinecolor\":\"#283442\",\"zerolinewidth\":2}}},\"xaxis\":{\"anchor\":\"y\",\"domain\":[0.0,1.0],\"title\":{\"text\":\"States\"}},\"yaxis\":{\"anchor\":\"x\",\"domain\":[0.0,1.0],\"title\":{\"text\":\"Number of readers\"}},\"legend\":{\"title\":{\"text\":\"color\"},\"tracegroupgap\":0},\"margin\":{\"t\":60},\"barmode\":\"relative\",\"height\":450,\"width\":650,\"title\":{\"text\":\"Top 10 State in the World having highest number of reader\"}},                        {\"responsive\": true}                    ).then(function(){\n",
              "                            \n",
              "var gd = document.getElementById('84cbdd94-fb89-49b4-92c3-ca2a620e295c');\n",
              "var x = new MutationObserver(function (mutations, observer) {{\n",
              "        var display = window.getComputedStyle(gd).display;\n",
              "        if (!display || display === 'none') {{\n",
              "            console.log([gd, 'removed!']);\n",
              "            Plotly.purge(gd);\n",
              "            observer.disconnect();\n",
              "        }}\n",
              "}});\n",
              "\n",
              "// Listen for the removal of the full notebook cells\n",
              "var notebookContainer = gd.closest('#notebook-container');\n",
              "if (notebookContainer) {{\n",
              "    x.observe(notebookContainer, {childList: true});\n",
              "}}\n",
              "\n",
              "// Listen for the clearing of the current output cell\n",
              "var outputEl = gd.closest('.output');\n",
              "if (outputEl) {{\n",
              "    x.observe(outputEl, {childList: true});\n",
              "}}\n",
              "\n",
              "                        })                };                            </script>        </div>\n",
              "</body>\n",
              "</html>"
            ]
          },
          "metadata": {}
        }
      ]
    },
    {
      "cell_type": "markdown",
      "source": [
        "## here we can see that California is stil having highest number of reader"
      ],
      "metadata": {
        "id": "gPZdHoAzRjmz"
      }
    },
    {
      "cell_type": "markdown",
      "source": [
        "## Lets see world wide which city is having highest number of reader"
      ],
      "metadata": {
        "id": "onA-fTJ9SBL4"
      }
    },
    {
      "cell_type": "code",
      "source": [
        "# top 10 cities of world based on number of readers\n",
        "top_10_cities=users['City'].value_counts()[:10].reset_index().rename(columns={'index':'city','City':'count'})"
      ],
      "metadata": {
        "id": "s5130BYrSAnS"
      },
      "execution_count": null,
      "outputs": []
    },
    {
      "cell_type": "code",
      "source": [
        "# plot for top 10 Cities\n",
        "fig = px.histogram(x= top_10_cities['city'],y=top_10_cities['count'],orientation=None , width=650, height=450,\n",
        "              text_auto=True, color=top_10_cities['city']\n",
        "             )\n",
        "fig.update_layout(\n",
        "    title='Top 10 Cities in the World having highest number of reader',\n",
        "    xaxis_title=\"Cities\",\n",
        "    yaxis_title=\"Number of readers\",\n",
        "    template=\"plotly_dark\",\n",
        "    \n",
        ")\n",
        "fig.show()"
      ],
      "metadata": {
        "colab": {
          "base_uri": "https://localhost:8080/"
        },
        "id": "jS94GG07TJ63",
        "outputId": "5b5a690e-53b1-42be-f1f4-d74e504d2817"
      },
      "execution_count": null,
      "outputs": [
        {
          "output_type": "display_data",
          "data": {
            "text/html": [
              "<html>\n",
              "<head><meta charset=\"utf-8\" /></head>\n",
              "<body>\n",
              "    <div>            <script src=\"https://cdnjs.cloudflare.com/ajax/libs/mathjax/2.7.5/MathJax.js?config=TeX-AMS-MML_SVG\"></script><script type=\"text/javascript\">if (window.MathJax) {MathJax.Hub.Config({SVG: {font: \"STIX-Web\"}});}</script>                <script type=\"text/javascript\">window.PlotlyConfig = {MathJaxConfig: 'local'};</script>\n",
              "        <script src=\"https://cdn.plot.ly/plotly-2.8.3.min.js\"></script>                <div id=\"4eeb6ac3-9bb9-4bc6-9e55-d8a25e23660e\" class=\"plotly-graph-div\" style=\"height:450px; width:650px;\"></div>            <script type=\"text/javascript\">                                    window.PLOTLYENV=window.PLOTLYENV || {};                                    if (document.getElementById(\"4eeb6ac3-9bb9-4bc6-9e55-d8a25e23660e\")) {                    Plotly.newPlot(                        \"4eeb6ac3-9bb9-4bc6-9e55-d8a25e23660e\",                        [{\"alignmentgroup\":\"True\",\"bingroup\":\"x\",\"histfunc\":\"sum\",\"hovertemplate\":\"color=london<br>x=%{x}<br>sum of y=%{y}<extra></extra>\",\"legendgroup\":\"london\",\"marker\":{\"color\":\"#636efa\",\"pattern\":{\"shape\":\"\"}},\"name\":\"london\",\"offsetgroup\":\"london\",\"orientation\":\"v\",\"showlegend\":true,\"texttemplate\":\"%{value}\",\"x\":[\"london\"],\"xaxis\":\"x\",\"y\":[4110],\"yaxis\":\"y\",\"type\":\"histogram\"},{\"alignmentgroup\":\"True\",\"bingroup\":\"x\",\"histfunc\":\"sum\",\"hovertemplate\":\"color=barcelona<br>x=%{x}<br>sum of y=%{y}<extra></extra>\",\"legendgroup\":\"barcelona\",\"marker\":{\"color\":\"#EF553B\",\"pattern\":{\"shape\":\"\"}},\"name\":\"barcelona\",\"offsetgroup\":\"barcelona\",\"orientation\":\"v\",\"showlegend\":true,\"texttemplate\":\"%{value}\",\"x\":[\"barcelona\"],\"xaxis\":\"x\",\"y\":[2666],\"yaxis\":\"y\",\"type\":\"histogram\"},{\"alignmentgroup\":\"True\",\"bingroup\":\"x\",\"histfunc\":\"sum\",\"hovertemplate\":\"color=toronto<br>x=%{x}<br>sum of y=%{y}<extra></extra>\",\"legendgroup\":\"toronto\",\"marker\":{\"color\":\"#00cc96\",\"pattern\":{\"shape\":\"\"}},\"name\":\"toronto\",\"offsetgroup\":\"toronto\",\"orientation\":\"v\",\"showlegend\":true,\"texttemplate\":\"%{value}\",\"x\":[\"toronto\"],\"xaxis\":\"x\",\"y\":[2342],\"yaxis\":\"y\",\"type\":\"histogram\"},{\"alignmentgroup\":\"True\",\"bingroup\":\"x\",\"histfunc\":\"sum\",\"hovertemplate\":\"color=madrid<br>x=%{x}<br>sum of y=%{y}<extra></extra>\",\"legendgroup\":\"madrid\",\"marker\":{\"color\":\"#ab63fa\",\"pattern\":{\"shape\":\"\"}},\"name\":\"madrid\",\"offsetgroup\":\"madrid\",\"orientation\":\"v\",\"showlegend\":true,\"texttemplate\":\"%{value}\",\"x\":[\"madrid\"],\"xaxis\":\"x\",\"y\":[1935],\"yaxis\":\"y\",\"type\":\"histogram\"},{\"alignmentgroup\":\"True\",\"bingroup\":\"x\",\"histfunc\":\"sum\",\"hovertemplate\":\"color=sydney<br>x=%{x}<br>sum of y=%{y}<extra></extra>\",\"legendgroup\":\"sydney\",\"marker\":{\"color\":\"#FFA15A\",\"pattern\":{\"shape\":\"\"}},\"name\":\"sydney\",\"offsetgroup\":\"sydney\",\"orientation\":\"v\",\"showlegend\":true,\"texttemplate\":\"%{value}\",\"x\":[\"sydney\"],\"xaxis\":\"x\",\"y\":[1884],\"yaxis\":\"y\",\"type\":\"histogram\"},{\"alignmentgroup\":\"True\",\"bingroup\":\"x\",\"histfunc\":\"sum\",\"hovertemplate\":\"color=portland<br>x=%{x}<br>sum of y=%{y}<extra></extra>\",\"legendgroup\":\"portland\",\"marker\":{\"color\":\"#19d3f3\",\"pattern\":{\"shape\":\"\"}},\"name\":\"portland\",\"offsetgroup\":\"portland\",\"orientation\":\"v\",\"showlegend\":true,\"texttemplate\":\"%{value}\",\"x\":[\"portland\"],\"xaxis\":\"x\",\"y\":[1866],\"yaxis\":\"y\",\"type\":\"histogram\"},{\"alignmentgroup\":\"True\",\"bingroup\":\"x\",\"histfunc\":\"sum\",\"hovertemplate\":\"color=melbourne<br>x=%{x}<br>sum of y=%{y}<extra></extra>\",\"legendgroup\":\"melbourne\",\"marker\":{\"color\":\"#FF6692\",\"pattern\":{\"shape\":\"\"}},\"name\":\"melbourne\",\"offsetgroup\":\"melbourne\",\"orientation\":\"v\",\"showlegend\":true,\"texttemplate\":\"%{value}\",\"x\":[\"melbourne\"],\"xaxis\":\"x\",\"y\":[1861],\"yaxis\":\"y\",\"type\":\"histogram\"},{\"alignmentgroup\":\"True\",\"bingroup\":\"x\",\"histfunc\":\"sum\",\"hovertemplate\":\"color=vancouver<br>x=%{x}<br>sum of y=%{y}<extra></extra>\",\"legendgroup\":\"vancouver\",\"marker\":{\"color\":\"#B6E880\",\"pattern\":{\"shape\":\"\"}},\"name\":\"vancouver\",\"offsetgroup\":\"vancouver\",\"orientation\":\"v\",\"showlegend\":true,\"texttemplate\":\"%{value}\",\"x\":[\"vancouver\"],\"xaxis\":\"x\",\"y\":[1697],\"yaxis\":\"y\",\"type\":\"histogram\"},{\"alignmentgroup\":\"True\",\"bingroup\":\"x\",\"histfunc\":\"sum\",\"hovertemplate\":\"color=chicago<br>x=%{x}<br>sum of y=%{y}<extra></extra>\",\"legendgroup\":\"chicago\",\"marker\":{\"color\":\"#FF97FF\",\"pattern\":{\"shape\":\"\"}},\"name\":\"chicago\",\"offsetgroup\":\"chicago\",\"orientation\":\"v\",\"showlegend\":true,\"texttemplate\":\"%{value}\",\"x\":[\"chicago\"],\"xaxis\":\"x\",\"y\":[1568],\"yaxis\":\"y\",\"type\":\"histogram\"},{\"alignmentgroup\":\"True\",\"bingroup\":\"x\",\"histfunc\":\"sum\",\"hovertemplate\":\"color=seattle<br>x=%{x}<br>sum of y=%{y}<extra></extra>\",\"legendgroup\":\"seattle\",\"marker\":{\"color\":\"#FECB52\",\"pattern\":{\"shape\":\"\"}},\"name\":\"seattle\",\"offsetgroup\":\"seattle\",\"orientation\":\"v\",\"showlegend\":true,\"texttemplate\":\"%{value}\",\"x\":[\"seattle\"],\"xaxis\":\"x\",\"y\":[1541],\"yaxis\":\"y\",\"type\":\"histogram\"}],                        {\"template\":{\"data\":{\"barpolar\":[{\"marker\":{\"line\":{\"color\":\"rgb(17,17,17)\",\"width\":0.5},\"pattern\":{\"fillmode\":\"overlay\",\"size\":10,\"solidity\":0.2}},\"type\":\"barpolar\"}],\"bar\":[{\"error_x\":{\"color\":\"#f2f5fa\"},\"error_y\":{\"color\":\"#f2f5fa\"},\"marker\":{\"line\":{\"color\":\"rgb(17,17,17)\",\"width\":0.5},\"pattern\":{\"fillmode\":\"overlay\",\"size\":10,\"solidity\":0.2}},\"type\":\"bar\"}],\"carpet\":[{\"aaxis\":{\"endlinecolor\":\"#A2B1C6\",\"gridcolor\":\"#506784\",\"linecolor\":\"#506784\",\"minorgridcolor\":\"#506784\",\"startlinecolor\":\"#A2B1C6\"},\"baxis\":{\"endlinecolor\":\"#A2B1C6\",\"gridcolor\":\"#506784\",\"linecolor\":\"#506784\",\"minorgridcolor\":\"#506784\",\"startlinecolor\":\"#A2B1C6\"},\"type\":\"carpet\"}],\"choropleth\":[{\"colorbar\":{\"outlinewidth\":0,\"ticks\":\"\"},\"type\":\"choropleth\"}],\"contourcarpet\":[{\"colorbar\":{\"outlinewidth\":0,\"ticks\":\"\"},\"type\":\"contourcarpet\"}],\"contour\":[{\"colorbar\":{\"outlinewidth\":0,\"ticks\":\"\"},\"colorscale\":[[0.0,\"#0d0887\"],[0.1111111111111111,\"#46039f\"],[0.2222222222222222,\"#7201a8\"],[0.3333333333333333,\"#9c179e\"],[0.4444444444444444,\"#bd3786\"],[0.5555555555555556,\"#d8576b\"],[0.6666666666666666,\"#ed7953\"],[0.7777777777777778,\"#fb9f3a\"],[0.8888888888888888,\"#fdca26\"],[1.0,\"#f0f921\"]],\"type\":\"contour\"}],\"heatmapgl\":[{\"colorbar\":{\"outlinewidth\":0,\"ticks\":\"\"},\"colorscale\":[[0.0,\"#0d0887\"],[0.1111111111111111,\"#46039f\"],[0.2222222222222222,\"#7201a8\"],[0.3333333333333333,\"#9c179e\"],[0.4444444444444444,\"#bd3786\"],[0.5555555555555556,\"#d8576b\"],[0.6666666666666666,\"#ed7953\"],[0.7777777777777778,\"#fb9f3a\"],[0.8888888888888888,\"#fdca26\"],[1.0,\"#f0f921\"]],\"type\":\"heatmapgl\"}],\"heatmap\":[{\"colorbar\":{\"outlinewidth\":0,\"ticks\":\"\"},\"colorscale\":[[0.0,\"#0d0887\"],[0.1111111111111111,\"#46039f\"],[0.2222222222222222,\"#7201a8\"],[0.3333333333333333,\"#9c179e\"],[0.4444444444444444,\"#bd3786\"],[0.5555555555555556,\"#d8576b\"],[0.6666666666666666,\"#ed7953\"],[0.7777777777777778,\"#fb9f3a\"],[0.8888888888888888,\"#fdca26\"],[1.0,\"#f0f921\"]],\"type\":\"heatmap\"}],\"histogram2dcontour\":[{\"colorbar\":{\"outlinewidth\":0,\"ticks\":\"\"},\"colorscale\":[[0.0,\"#0d0887\"],[0.1111111111111111,\"#46039f\"],[0.2222222222222222,\"#7201a8\"],[0.3333333333333333,\"#9c179e\"],[0.4444444444444444,\"#bd3786\"],[0.5555555555555556,\"#d8576b\"],[0.6666666666666666,\"#ed7953\"],[0.7777777777777778,\"#fb9f3a\"],[0.8888888888888888,\"#fdca26\"],[1.0,\"#f0f921\"]],\"type\":\"histogram2dcontour\"}],\"histogram2d\":[{\"colorbar\":{\"outlinewidth\":0,\"ticks\":\"\"},\"colorscale\":[[0.0,\"#0d0887\"],[0.1111111111111111,\"#46039f\"],[0.2222222222222222,\"#7201a8\"],[0.3333333333333333,\"#9c179e\"],[0.4444444444444444,\"#bd3786\"],[0.5555555555555556,\"#d8576b\"],[0.6666666666666666,\"#ed7953\"],[0.7777777777777778,\"#fb9f3a\"],[0.8888888888888888,\"#fdca26\"],[1.0,\"#f0f921\"]],\"type\":\"histogram2d\"}],\"histogram\":[{\"marker\":{\"pattern\":{\"fillmode\":\"overlay\",\"size\":10,\"solidity\":0.2}},\"type\":\"histogram\"}],\"mesh3d\":[{\"colorbar\":{\"outlinewidth\":0,\"ticks\":\"\"},\"type\":\"mesh3d\"}],\"parcoords\":[{\"line\":{\"colorbar\":{\"outlinewidth\":0,\"ticks\":\"\"}},\"type\":\"parcoords\"}],\"pie\":[{\"automargin\":true,\"type\":\"pie\"}],\"scatter3d\":[{\"line\":{\"colorbar\":{\"outlinewidth\":0,\"ticks\":\"\"}},\"marker\":{\"colorbar\":{\"outlinewidth\":0,\"ticks\":\"\"}},\"type\":\"scatter3d\"}],\"scattercarpet\":[{\"marker\":{\"colorbar\":{\"outlinewidth\":0,\"ticks\":\"\"}},\"type\":\"scattercarpet\"}],\"scattergeo\":[{\"marker\":{\"colorbar\":{\"outlinewidth\":0,\"ticks\":\"\"}},\"type\":\"scattergeo\"}],\"scattergl\":[{\"marker\":{\"line\":{\"color\":\"#283442\"}},\"type\":\"scattergl\"}],\"scattermapbox\":[{\"marker\":{\"colorbar\":{\"outlinewidth\":0,\"ticks\":\"\"}},\"type\":\"scattermapbox\"}],\"scatterpolargl\":[{\"marker\":{\"colorbar\":{\"outlinewidth\":0,\"ticks\":\"\"}},\"type\":\"scatterpolargl\"}],\"scatterpolar\":[{\"marker\":{\"colorbar\":{\"outlinewidth\":0,\"ticks\":\"\"}},\"type\":\"scatterpolar\"}],\"scatter\":[{\"marker\":{\"line\":{\"color\":\"#283442\"}},\"type\":\"scatter\"}],\"scatterternary\":[{\"marker\":{\"colorbar\":{\"outlinewidth\":0,\"ticks\":\"\"}},\"type\":\"scatterternary\"}],\"surface\":[{\"colorbar\":{\"outlinewidth\":0,\"ticks\":\"\"},\"colorscale\":[[0.0,\"#0d0887\"],[0.1111111111111111,\"#46039f\"],[0.2222222222222222,\"#7201a8\"],[0.3333333333333333,\"#9c179e\"],[0.4444444444444444,\"#bd3786\"],[0.5555555555555556,\"#d8576b\"],[0.6666666666666666,\"#ed7953\"],[0.7777777777777778,\"#fb9f3a\"],[0.8888888888888888,\"#fdca26\"],[1.0,\"#f0f921\"]],\"type\":\"surface\"}],\"table\":[{\"cells\":{\"fill\":{\"color\":\"#506784\"},\"line\":{\"color\":\"rgb(17,17,17)\"}},\"header\":{\"fill\":{\"color\":\"#2a3f5f\"},\"line\":{\"color\":\"rgb(17,17,17)\"}},\"type\":\"table\"}]},\"layout\":{\"annotationdefaults\":{\"arrowcolor\":\"#f2f5fa\",\"arrowhead\":0,\"arrowwidth\":1},\"autotypenumbers\":\"strict\",\"coloraxis\":{\"colorbar\":{\"outlinewidth\":0,\"ticks\":\"\"}},\"colorscale\":{\"diverging\":[[0,\"#8e0152\"],[0.1,\"#c51b7d\"],[0.2,\"#de77ae\"],[0.3,\"#f1b6da\"],[0.4,\"#fde0ef\"],[0.5,\"#f7f7f7\"],[0.6,\"#e6f5d0\"],[0.7,\"#b8e186\"],[0.8,\"#7fbc41\"],[0.9,\"#4d9221\"],[1,\"#276419\"]],\"sequential\":[[0.0,\"#0d0887\"],[0.1111111111111111,\"#46039f\"],[0.2222222222222222,\"#7201a8\"],[0.3333333333333333,\"#9c179e\"],[0.4444444444444444,\"#bd3786\"],[0.5555555555555556,\"#d8576b\"],[0.6666666666666666,\"#ed7953\"],[0.7777777777777778,\"#fb9f3a\"],[0.8888888888888888,\"#fdca26\"],[1.0,\"#f0f921\"]],\"sequentialminus\":[[0.0,\"#0d0887\"],[0.1111111111111111,\"#46039f\"],[0.2222222222222222,\"#7201a8\"],[0.3333333333333333,\"#9c179e\"],[0.4444444444444444,\"#bd3786\"],[0.5555555555555556,\"#d8576b\"],[0.6666666666666666,\"#ed7953\"],[0.7777777777777778,\"#fb9f3a\"],[0.8888888888888888,\"#fdca26\"],[1.0,\"#f0f921\"]]},\"colorway\":[\"#636efa\",\"#EF553B\",\"#00cc96\",\"#ab63fa\",\"#FFA15A\",\"#19d3f3\",\"#FF6692\",\"#B6E880\",\"#FF97FF\",\"#FECB52\"],\"font\":{\"color\":\"#f2f5fa\"},\"geo\":{\"bgcolor\":\"rgb(17,17,17)\",\"lakecolor\":\"rgb(17,17,17)\",\"landcolor\":\"rgb(17,17,17)\",\"showlakes\":true,\"showland\":true,\"subunitcolor\":\"#506784\"},\"hoverlabel\":{\"align\":\"left\"},\"hovermode\":\"closest\",\"mapbox\":{\"style\":\"dark\"},\"paper_bgcolor\":\"rgb(17,17,17)\",\"plot_bgcolor\":\"rgb(17,17,17)\",\"polar\":{\"angularaxis\":{\"gridcolor\":\"#506784\",\"linecolor\":\"#506784\",\"ticks\":\"\"},\"bgcolor\":\"rgb(17,17,17)\",\"radialaxis\":{\"gridcolor\":\"#506784\",\"linecolor\":\"#506784\",\"ticks\":\"\"}},\"scene\":{\"xaxis\":{\"backgroundcolor\":\"rgb(17,17,17)\",\"gridcolor\":\"#506784\",\"gridwidth\":2,\"linecolor\":\"#506784\",\"showbackground\":true,\"ticks\":\"\",\"zerolinecolor\":\"#C8D4E3\"},\"yaxis\":{\"backgroundcolor\":\"rgb(17,17,17)\",\"gridcolor\":\"#506784\",\"gridwidth\":2,\"linecolor\":\"#506784\",\"showbackground\":true,\"ticks\":\"\",\"zerolinecolor\":\"#C8D4E3\"},\"zaxis\":{\"backgroundcolor\":\"rgb(17,17,17)\",\"gridcolor\":\"#506784\",\"gridwidth\":2,\"linecolor\":\"#506784\",\"showbackground\":true,\"ticks\":\"\",\"zerolinecolor\":\"#C8D4E3\"}},\"shapedefaults\":{\"line\":{\"color\":\"#f2f5fa\"}},\"sliderdefaults\":{\"bgcolor\":\"#C8D4E3\",\"bordercolor\":\"rgb(17,17,17)\",\"borderwidth\":1,\"tickwidth\":0},\"ternary\":{\"aaxis\":{\"gridcolor\":\"#506784\",\"linecolor\":\"#506784\",\"ticks\":\"\"},\"baxis\":{\"gridcolor\":\"#506784\",\"linecolor\":\"#506784\",\"ticks\":\"\"},\"bgcolor\":\"rgb(17,17,17)\",\"caxis\":{\"gridcolor\":\"#506784\",\"linecolor\":\"#506784\",\"ticks\":\"\"}},\"title\":{\"x\":0.05},\"updatemenudefaults\":{\"bgcolor\":\"#506784\",\"borderwidth\":0},\"xaxis\":{\"automargin\":true,\"gridcolor\":\"#283442\",\"linecolor\":\"#506784\",\"ticks\":\"\",\"title\":{\"standoff\":15},\"zerolinecolor\":\"#283442\",\"zerolinewidth\":2},\"yaxis\":{\"automargin\":true,\"gridcolor\":\"#283442\",\"linecolor\":\"#506784\",\"ticks\":\"\",\"title\":{\"standoff\":15},\"zerolinecolor\":\"#283442\",\"zerolinewidth\":2}}},\"xaxis\":{\"anchor\":\"y\",\"domain\":[0.0,1.0],\"title\":{\"text\":\"Cities\"}},\"yaxis\":{\"anchor\":\"x\",\"domain\":[0.0,1.0],\"title\":{\"text\":\"Number of readers\"}},\"legend\":{\"title\":{\"text\":\"color\"},\"tracegroupgap\":0},\"margin\":{\"t\":60},\"barmode\":\"relative\",\"height\":450,\"width\":650,\"title\":{\"text\":\"Top 10 Cities in the World having highest number of reader\"}},                        {\"responsive\": true}                    ).then(function(){\n",
              "                            \n",
              "var gd = document.getElementById('4eeb6ac3-9bb9-4bc6-9e55-d8a25e23660e');\n",
              "var x = new MutationObserver(function (mutations, observer) {{\n",
              "        var display = window.getComputedStyle(gd).display;\n",
              "        if (!display || display === 'none') {{\n",
              "            console.log([gd, 'removed!']);\n",
              "            Plotly.purge(gd);\n",
              "            observer.disconnect();\n",
              "        }}\n",
              "}});\n",
              "\n",
              "// Listen for the removal of the full notebook cells\n",
              "var notebookContainer = gd.closest('#notebook-container');\n",
              "if (notebookContainer) {{\n",
              "    x.observe(notebookContainer, {childList: true});\n",
              "}}\n",
              "\n",
              "// Listen for the clearing of the current output cell\n",
              "var outputEl = gd.closest('.output');\n",
              "if (outputEl) {{\n",
              "    x.observe(outputEl, {childList: true});\n",
              "}}\n",
              "\n",
              "                        })                };                            </script>        </div>\n",
              "</body>\n",
              "</html>"
            ]
          },
          "metadata": {}
        }
      ]
    },
    {
      "cell_type": "markdown",
      "source": [
        "## Here we can see that unlike cities in the United States, we have the largest number of readers here in London, followed by Barcelona."
      ],
      "metadata": {
        "id": "RCdOof2jU6As"
      }
    },
    {
      "cell_type": "markdown",
      "source": [
        "##Books-Ratings Dataset Pre-processing:"
      ],
      "metadata": {
        "id": "BFVkHKgbnIdc"
      }
    },
    {
      "cell_type": "code",
      "source": [
        "print(\"Columns: \", list(ratings.columns))\n",
        "ratings.head(3)"
      ],
      "metadata": {
        "colab": {
          "base_uri": "https://localhost:8080/"
        },
        "id": "o7Yx-8conL0t",
        "outputId": "51e50cc2-f71c-41db-b0dd-0fd6635f8f9c"
      },
      "execution_count": null,
      "outputs": [
        {
          "output_type": "stream",
          "name": "stdout",
          "text": [
            "Columns:  ['User-ID', 'ISBN', 'Book-Rating']\n"
          ]
        },
        {
          "output_type": "execute_result",
          "data": {
            "text/html": [
              "\n",
              "  <div id=\"df-684ccde7-0010-432c-9431-0f05264bb611\">\n",
              "    <div class=\"colab-df-container\">\n",
              "      <div>\n",
              "<style scoped>\n",
              "    .dataframe tbody tr th:only-of-type {\n",
              "        vertical-align: middle;\n",
              "    }\n",
              "\n",
              "    .dataframe tbody tr th {\n",
              "        vertical-align: top;\n",
              "    }\n",
              "\n",
              "    .dataframe thead th {\n",
              "        text-align: right;\n",
              "    }\n",
              "</style>\n",
              "<table border=\"1\" class=\"dataframe\">\n",
              "  <thead>\n",
              "    <tr style=\"text-align: right;\">\n",
              "      <th></th>\n",
              "      <th>User-ID</th>\n",
              "      <th>ISBN</th>\n",
              "      <th>Book-Rating</th>\n",
              "    </tr>\n",
              "  </thead>\n",
              "  <tbody>\n",
              "    <tr>\n",
              "      <th>0</th>\n",
              "      <td>276725</td>\n",
              "      <td>034545104X</td>\n",
              "      <td>0</td>\n",
              "    </tr>\n",
              "    <tr>\n",
              "      <th>1</th>\n",
              "      <td>276726</td>\n",
              "      <td>0155061224</td>\n",
              "      <td>5</td>\n",
              "    </tr>\n",
              "    <tr>\n",
              "      <th>2</th>\n",
              "      <td>276727</td>\n",
              "      <td>0446520802</td>\n",
              "      <td>0</td>\n",
              "    </tr>\n",
              "  </tbody>\n",
              "</table>\n",
              "</div>\n",
              "      <button class=\"colab-df-convert\" onclick=\"convertToInteractive('df-684ccde7-0010-432c-9431-0f05264bb611')\"\n",
              "              title=\"Convert this dataframe to an interactive table.\"\n",
              "              style=\"display:none;\">\n",
              "        \n",
              "  <svg xmlns=\"http://www.w3.org/2000/svg\" height=\"24px\"viewBox=\"0 0 24 24\"\n",
              "       width=\"24px\">\n",
              "    <path d=\"M0 0h24v24H0V0z\" fill=\"none\"/>\n",
              "    <path d=\"M18.56 5.44l.94 2.06.94-2.06 2.06-.94-2.06-.94-.94-2.06-.94 2.06-2.06.94zm-11 1L8.5 8.5l.94-2.06 2.06-.94-2.06-.94L8.5 2.5l-.94 2.06-2.06.94zm10 10l.94 2.06.94-2.06 2.06-.94-2.06-.94-.94-2.06-.94 2.06-2.06.94z\"/><path d=\"M17.41 7.96l-1.37-1.37c-.4-.4-.92-.59-1.43-.59-.52 0-1.04.2-1.43.59L10.3 9.45l-7.72 7.72c-.78.78-.78 2.05 0 2.83L4 21.41c.39.39.9.59 1.41.59.51 0 1.02-.2 1.41-.59l7.78-7.78 2.81-2.81c.8-.78.8-2.07 0-2.86zM5.41 20L4 18.59l7.72-7.72 1.47 1.35L5.41 20z\"/>\n",
              "  </svg>\n",
              "      </button>\n",
              "      \n",
              "  <style>\n",
              "    .colab-df-container {\n",
              "      display:flex;\n",
              "      flex-wrap:wrap;\n",
              "      gap: 12px;\n",
              "    }\n",
              "\n",
              "    .colab-df-convert {\n",
              "      background-color: #E8F0FE;\n",
              "      border: none;\n",
              "      border-radius: 50%;\n",
              "      cursor: pointer;\n",
              "      display: none;\n",
              "      fill: #1967D2;\n",
              "      height: 32px;\n",
              "      padding: 0 0 0 0;\n",
              "      width: 32px;\n",
              "    }\n",
              "\n",
              "    .colab-df-convert:hover {\n",
              "      background-color: #E2EBFA;\n",
              "      box-shadow: 0px 1px 2px rgba(60, 64, 67, 0.3), 0px 1px 3px 1px rgba(60, 64, 67, 0.15);\n",
              "      fill: #174EA6;\n",
              "    }\n",
              "\n",
              "    [theme=dark] .colab-df-convert {\n",
              "      background-color: #3B4455;\n",
              "      fill: #D2E3FC;\n",
              "    }\n",
              "\n",
              "    [theme=dark] .colab-df-convert:hover {\n",
              "      background-color: #434B5C;\n",
              "      box-shadow: 0px 1px 3px 1px rgba(0, 0, 0, 0.15);\n",
              "      filter: drop-shadow(0px 1px 2px rgba(0, 0, 0, 0.3));\n",
              "      fill: #FFFFFF;\n",
              "    }\n",
              "  </style>\n",
              "\n",
              "      <script>\n",
              "        const buttonEl =\n",
              "          document.querySelector('#df-684ccde7-0010-432c-9431-0f05264bb611 button.colab-df-convert');\n",
              "        buttonEl.style.display =\n",
              "          google.colab.kernel.accessAllowed ? 'block' : 'none';\n",
              "\n",
              "        async function convertToInteractive(key) {\n",
              "          const element = document.querySelector('#df-684ccde7-0010-432c-9431-0f05264bb611');\n",
              "          const dataTable =\n",
              "            await google.colab.kernel.invokeFunction('convertToInteractive',\n",
              "                                                     [key], {});\n",
              "          if (!dataTable) return;\n",
              "\n",
              "          const docLinkHtml = 'Like what you see? Visit the ' +\n",
              "            '<a target=\"_blank\" href=https://colab.research.google.com/notebooks/data_table.ipynb>data table notebook</a>'\n",
              "            + ' to learn more about interactive tables.';\n",
              "          element.innerHTML = '';\n",
              "          dataTable['output_type'] = 'display_data';\n",
              "          await google.colab.output.renderOutput(dataTable, element);\n",
              "          const docLink = document.createElement('div');\n",
              "          docLink.innerHTML = docLinkHtml;\n",
              "          element.appendChild(docLink);\n",
              "        }\n",
              "      </script>\n",
              "    </div>\n",
              "  </div>\n",
              "  "
            ],
            "text/plain": [
              "   User-ID        ISBN  Book-Rating\n",
              "0   276725  034545104X            0\n",
              "1   276726  0155061224            5\n",
              "2   276727  0446520802            0"
            ]
          },
          "metadata": {},
          "execution_count": 63
        }
      ]
    },
    {
      "cell_type": "code",
      "source": [
        "ratings.info()"
      ],
      "metadata": {
        "colab": {
          "base_uri": "https://localhost:8080/"
        },
        "id": "UD1gUAron11I",
        "outputId": "e63eb327-8a94-4657-df86-3f8d2f493358"
      },
      "execution_count": null,
      "outputs": [
        {
          "output_type": "stream",
          "name": "stdout",
          "text": [
            "<class 'pandas.core.frame.DataFrame'>\n",
            "RangeIndex: 1149780 entries, 0 to 1149779\n",
            "Data columns (total 3 columns):\n",
            " #   Column       Non-Null Count    Dtype \n",
            "---  ------       --------------    ----- \n",
            " 0   User-ID      1149780 non-null  int64 \n",
            " 1   ISBN         1149780 non-null  object\n",
            " 2   Book-Rating  1149780 non-null  int64 \n",
            "dtypes: int64(2), object(1)\n",
            "memory usage: 26.3+ MB\n"
          ]
        }
      ]
    },
    {
      "cell_type": "code",
      "source": [
        "## checking shape of ratings data\n",
        "ratings.shape"
      ],
      "metadata": {
        "colab": {
          "base_uri": "https://localhost:8080/"
        },
        "id": "pgsCyZ-go0X1",
        "outputId": "b46d6d7b-cc30-470c-da32-d0008eb76315"
      },
      "execution_count": null,
      "outputs": [
        {
          "output_type": "execute_result",
          "data": {
            "text/plain": [
              "(1149780, 3)"
            ]
          },
          "metadata": {},
          "execution_count": 65
        }
      ]
    },
    {
      "cell_type": "markdown",
      "source": [
        "## we can see the shape of **ratings** data set is 1149780 observation and 3 features"
      ],
      "metadata": {
        "id": "UHDx59arpDOO"
      }
    },
    {
      "cell_type": "markdown",
      "source": [
        "##Ratings dataset should have books only which exist in our books dataset"
      ],
      "metadata": {
        "id": "ML0O2KOeZOde"
      }
    },
    {
      "cell_type": "code",
      "source": [
        "ratings = ratings[ratings.ISBN.isin(books.ISBN)]\n",
        "ratings.shape"
      ],
      "metadata": {
        "colab": {
          "base_uri": "https://localhost:8080/"
        },
        "id": "aV6z1ZtrZI77",
        "outputId": "f7734520-9360-4787-eb9f-4d58f7568b39"
      },
      "execution_count": null,
      "outputs": [
        {
          "output_type": "execute_result",
          "data": {
            "text/plain": [
              "(1031136, 3)"
            ]
          },
          "metadata": {},
          "execution_count": 66
        }
      ]
    },
    {
      "cell_type": "code",
      "source": [
        "## Checking for null values\n",
        "ratings.isnull().sum() "
      ],
      "metadata": {
        "colab": {
          "base_uri": "https://localhost:8080/"
        },
        "id": "R4PMPSM-n8ug",
        "outputId": "dc34563e-c10e-4bac-8568-f9d847be79ee"
      },
      "execution_count": null,
      "outputs": [
        {
          "output_type": "execute_result",
          "data": {
            "text/plain": [
              "User-ID        0\n",
              "ISBN           0\n",
              "Book-Rating    0\n",
              "dtype: int64"
            ]
          },
          "metadata": {},
          "execution_count": 67
        }
      ]
    },
    {
      "cell_type": "markdown",
      "source": [
        "## ratings data set doesnt have any null values"
      ],
      "metadata": {
        "id": "GTJbZIRjpUZ3"
      }
    },
    {
      "cell_type": "code",
      "source": [
        "## checking duplicate values in ratings data set\n",
        "ratings.duplicated().sum()"
      ],
      "metadata": {
        "colab": {
          "base_uri": "https://localhost:8080/"
        },
        "id": "Hcc52-tvppkS",
        "outputId": "f8166f4c-a522-4e8a-d023-8b3c857afa2d"
      },
      "execution_count": null,
      "outputs": [
        {
          "output_type": "execute_result",
          "data": {
            "text/plain": [
              "0"
            ]
          },
          "metadata": {},
          "execution_count": 68
        }
      ]
    },
    {
      "cell_type": "markdown",
      "source": [
        "## ratings data set doesnt have any duplicate values"
      ],
      "metadata": {
        "id": "0tjrcSDep1YK"
      }
    },
    {
      "cell_type": "code",
      "source": [
        "# Renaming feature name\n",
        "ratings.rename(columns={'Book-Rating':'rating'},inplace=True)"
      ],
      "metadata": {
        "id": "b1KVNEmeqlp6"
      },
      "execution_count": null,
      "outputs": []
    },
    {
      "cell_type": "code",
      "source": [
        "print(sorted(ratings.rating.unique()))"
      ],
      "metadata": {
        "colab": {
          "base_uri": "https://localhost:8080/"
        },
        "id": "74ufdTlcqYJn",
        "outputId": "af1b372b-2d54-47bf-9be8-f344a33b0729"
      },
      "execution_count": null,
      "outputs": [
        {
          "output_type": "stream",
          "name": "stdout",
          "text": [
            "[0, 1, 2, 3, 4, 5, 6, 7, 8, 9, 10]\n"
          ]
        }
      ]
    },
    {
      "cell_type": "markdown",
      "source": [
        "## Book rating is between 0-10"
      ],
      "metadata": {
        "id": "8nND1qDrrPcB"
      }
    },
    {
      "cell_type": "code",
      "source": [
        "ratings['rating'].describe()"
      ],
      "metadata": {
        "colab": {
          "base_uri": "https://localhost:8080/"
        },
        "id": "FuW8NsGlraso",
        "outputId": "84989055-1722-4fc4-b0a8-83086cb9ba5b"
      },
      "execution_count": null,
      "outputs": [
        {
          "output_type": "execute_result",
          "data": {
            "text/plain": [
              "count    1.031136e+06\n",
              "mean     2.839051e+00\n",
              "std      3.854157e+00\n",
              "min      0.000000e+00\n",
              "25%      0.000000e+00\n",
              "50%      0.000000e+00\n",
              "75%      7.000000e+00\n",
              "max      1.000000e+01\n",
              "Name: rating, dtype: float64"
            ]
          },
          "metadata": {},
          "execution_count": 71
        }
      ]
    },
    {
      "cell_type": "markdown",
      "source": [
        "## **Visulization :**"
      ],
      "metadata": {
        "id": "-Ti9JjKt0omB"
      }
    },
    {
      "cell_type": "code",
      "source": [
        "sns.distplot(x=ratings['rating'], hist= True)"
      ],
      "metadata": {
        "colab": {
          "base_uri": "https://localhost:8080/"
        },
        "id": "KanpuwEWrpm2",
        "outputId": "0ac995fd-a251-4fa4-edeb-3cd7349d005d"
      },
      "execution_count": null,
      "outputs": [
        {
          "output_type": "execute_result",
          "data": {
            "text/plain": [
              "<matplotlib.axes._subplots.AxesSubplot at 0x7f7ce36f2f10>"
            ]
          },
          "metadata": {},
          "execution_count": 72
        },
        {
          "output_type": "display_data",
          "data": {
            "image/png": "[encoded data removed]",
            "text/plain": [
              "<Figure size 432x288 with 1 Axes>"
            ]
          },
          "metadata": {
            "needs_background": "light"
          }
        }
      ]
    },
    {
      "cell_type": "markdown",
      "source": [
        "## Let's see how many users have rated more than 100 books"
      ],
      "metadata": {
        "id": "TXneL5Sq0Hb3"
      }
    },
    {
      "cell_type": "code",
      "source": [
        "rate=ratings['User-ID'].value_counts()>100"
      ],
      "metadata": {
        "id": "RW58HT6qtqas"
      },
      "execution_count": null,
      "outputs": []
    },
    {
      "cell_type": "code",
      "source": [
        "rate[rate].shape"
      ],
      "metadata": {
        "colab": {
          "base_uri": "https://localhost:8080/"
        },
        "id": "57zFmn2n6PTx",
        "outputId": "5c334f6c-62ad-42d6-a2fe-97441f98731d"
      },
      "execution_count": null,
      "outputs": [
        {
          "output_type": "execute_result",
          "data": {
            "text/plain": [
              "(1648,)"
            ]
          },
          "metadata": {},
          "execution_count": 74
        }
      ]
    },
    {
      "cell_type": "markdown",
      "source": [
        "## We can see that 1648 users have rated more than 100 books"
      ],
      "metadata": {
        "id": "oxA0032r6lyd"
      }
    },
    {
      "cell_type": "code",
      "source": [
        "rate2=rate[rate].index"
      ],
      "metadata": {
        "id": "6EE_DTDL2IZ6"
      },
      "execution_count": null,
      "outputs": []
    },
    {
      "cell_type": "code",
      "source": [
        "ratings[ratings['User-ID'].isin(rate2)]['User-ID'].shape"
      ],
      "metadata": {
        "colab": {
          "base_uri": "https://localhost:8080/"
        },
        "id": "56uvqrrb5jFQ",
        "outputId": "8ebeaa39-f059-490a-ee30-512e8e40f2ce"
      },
      "execution_count": null,
      "outputs": [
        {
          "output_type": "execute_result",
          "data": {
            "text/plain": [
              "(591896,)"
            ]
          },
          "metadata": {},
          "execution_count": 76
        }
      ]
    },
    {
      "cell_type": "code",
      "source": [
        "top_users=ratings[ratings['User-ID'].isin(rate2)]"
      ],
      "metadata": {
        "id": "E0PyauvH2YMg"
      },
      "execution_count": null,
      "outputs": []
    },
    {
      "cell_type": "code",
      "source": [
        "# lets define a function to calculate percentage of book rating\n",
        "def without_hue(ax, feature):\n",
        "    total = len(feature)\n",
        "    for p in ax.patches:\n",
        "        percentage = '{:.1f}%'.format(100 * p.get_height()/total)\n",
        "        x = p.get_x() + p.get_width() / 2 - 0.05\n",
        "        y = p.get_y() + p.get_height()\n",
        "        ax.annotate(percentage, (x, y), size = 12)"
      ],
      "metadata": {
        "id": "-oGsyb4y7NZ4"
      },
      "execution_count": null,
      "outputs": []
    },
    {
      "cell_type": "code",
      "source": [
        "# lets plot a bar graph for number of books of different ratings\n",
        "plt.figure(figsize=(10,6))\n",
        "ax=sns.countplot(x=\"rating\", data=top_users,palette='gist_earth_r')\n",
        "plt.title('Rating Given by Top Users')\n",
        "without_hue(ax,top_users['rating'])"
      ],
      "metadata": {
        "colab": {
          "base_uri": "https://localhost:8080/"
        },
        "id": "C9O2PjVe8XYf",
        "outputId": "3869d378-0925-433f-902b-c3bf9c986db1"
      },
      "execution_count": null,
      "outputs": [
        {
          "output_type": "display_data",
          "data": {
            "image/png": "[encoded data removed]",
            "text/plain": [
              "<Figure size 720x432 with 1 Axes>"
            ]
          },
          "metadata": {
            "needs_background": "light"
          }
        }
      ]
    },
    {
      "cell_type": "code",
      "source": [
        "# lets plot a bar graph for number of books of different ratings\n",
        "plt.figure(figsize=(10,6))\n",
        "ax=sns.countplot(x=\"rating\", data=ratings,palette='gist_earth_r')\n",
        "plt.title('Rating Given by All Users')\n",
        "without_hue(ax,ratings['rating'])"
      ],
      "metadata": {
        "colab": {
          "base_uri": "https://localhost:8080/"
        },
        "id": "PKf7NOao7QnO",
        "outputId": "75dc509c-0e5f-49be-8e6e-d6cf0e53c589"
      },
      "execution_count": null,
      "outputs": [
        {
          "output_type": "display_data",
          "data": {
            "image/png": "[encoded data removed]",
            "text/plain": [
              "<Figure size 720x432 with 1 Axes>"
            ]
          },
          "metadata": {
            "needs_background": "light"
          }
        }
      ]
    },
    {
      "cell_type": "markdown",
      "source": [
        "## The ratings are very unevenly distributed, and the vast majority of ratings are 0 .As quoted in the description of the dataset - BX-Book-Ratings contains the book rating information. Ratings are either explicit, expressed on a scale from 1-10 higher values denoting higher appreciation, or implicit, expressed by 0.Hence segragating implicit and explict ratings datasets"
      ],
      "metadata": {
        "id": "cpHCnalCYABA"
      }
    },
    {
      "cell_type": "code",
      "source": [
        "#Hence segragating implicit and explict ratings datasets\n",
        "ratings_explicit = ratings[ratings['rating'] != 0]\n",
        "ratings_implicit = ratings[ratings['rating'] == 0]"
      ],
      "metadata": {
        "id": "Bmh7QU4sYG3r"
      },
      "execution_count": null,
      "outputs": []
    },
    {
      "cell_type": "code",
      "source": [
        "print('ratings_explicit dataset shape',ratings_explicit.shape)\n",
        "print('ratings_implicit dataset',ratings_implicit.shape)"
      ],
      "metadata": {
        "colab": {
          "base_uri": "https://localhost:8080/"
        },
        "id": "BcXtwAH3Yrsf",
        "outputId": "5e984122-c633-46c8-be75-26e6dc162deb"
      },
      "execution_count": null,
      "outputs": [
        {
          "output_type": "stream",
          "name": "stdout",
          "text": [
            "ratings_explicit dataset shape (383842, 3)\n",
            "ratings_implicit dataset (647294, 3)\n"
          ]
        }
      ]
    },
    {
      "cell_type": "code",
      "source": [
        "plt.style.use('fivethirtyeight')\n",
        "plt.figure(figsize=(12, 8))\n",
        "sns.countplot(data=ratings_explicit , x='rating', palette='rocket_r')"
      ],
      "metadata": {
        "colab": {
          "base_uri": "https://localhost:8080/"
        },
        "id": "DpxowKxHabhS",
        "outputId": "2c2fe269-5b2a-4370-edb7-8e8bff071991"
      },
      "execution_count": null,
      "outputs": [
        {
          "output_type": "execute_result",
          "data": {
            "text/plain": [
              "<matplotlib.axes._subplots.AxesSubplot at 0x7f7cdeb9cc50>"
            ]
          },
          "metadata": {},
          "execution_count": 83
        },
        {
          "output_type": "display_data",
          "data": {
            "image/png": "[encoded data removed]",
            "text/plain": [
              "<Figure size 864x576 with 1 Axes>"
            ]
          },
          "metadata": {}
        }
      ]
    },
    {
      "cell_type": "markdown",
      "source": [
        "##It can be observe that higher ratings are more common amongst users and rating 8 has been rated highest number of times"
      ],
      "metadata": {
        "id": "hTcxdjL0as3I"
      }
    },
    {
      "cell_type": "markdown",
      "source": [
        "## **Merging of all three Tables**\n",
        "##Merging Books, Users and Rating Tables in One"
      ],
      "metadata": {
        "id": "418s1sNWPKJG"
      }
    },
    {
      "cell_type": "code",
      "source": [
        "# Create column Rating average \n",
        "ratings_explicit['Avg_Rating']=ratings_explicit.groupby('ISBN')['rating'].transform('mean')\n",
        "# Create column Rating sum\n",
        "ratings_explicit['Total_No_Of_Users_Rated']=ratings_explicit.groupby('ISBN')['rating'].transform('count')"
      ],
      "metadata": {
        "id": "NPlLxdUve4KQ"
      },
      "execution_count": null,
      "outputs": []
    },
    {
      "cell_type": "code",
      "source": [
        "# merging data set\n",
        "dataset = pd.merge(books, ratings_explicit, on='ISBN', how='inner')\n",
        "dataset = pd.merge(dataset, users, on='User-ID', how='inner')\n",
        "dataset.info()"
      ],
      "metadata": {
        "colab": {
          "base_uri": "https://localhost:8080/"
        },
        "id": "ks0GnhFFOGuA",
        "outputId": "6c75c85a-4f45-417d-8014-df0cb0a36a7e"
      },
      "execution_count": null,
      "outputs": [
        {
          "output_type": "stream",
          "name": "stdout",
          "text": [
            "<class 'pandas.core.frame.DataFrame'>\n",
            "Int64Index: 383842 entries, 0 to 383841\n",
            "Data columns (total 13 columns):\n",
            " #   Column                   Non-Null Count   Dtype  \n",
            "---  ------                   --------------   -----  \n",
            " 0   ISBN                     383842 non-null  object \n",
            " 1   Book-Title               383842 non-null  object \n",
            " 2   Book-Author              383842 non-null  object \n",
            " 3   Year-Of-Publication      383842 non-null  int64  \n",
            " 4   Publisher                383842 non-null  object \n",
            " 5   User-ID                  383842 non-null  int64  \n",
            " 6   rating                   383842 non-null  int64  \n",
            " 7   Avg_Rating               383842 non-null  float64\n",
            " 8   Total_No_Of_Users_Rated  383842 non-null  int64  \n",
            " 9   Age                      383842 non-null  int64  \n",
            " 10  City                     383842 non-null  object \n",
            " 11  State                    383842 non-null  object \n",
            " 12  Country                  383842 non-null  object \n",
            "dtypes: float64(1), int64(5), object(7)\n",
            "memory usage: 41.0+ MB\n"
          ]
        }
      ]
    },
    {
      "cell_type": "code",
      "source": [
        "book_rating=dataset.groupby('Book-Title')['rating'].count().reset_index().sort_values(by='rating',ascending=False)[:15]"
      ],
      "metadata": {
        "id": "4nEOqMERPY_i"
      },
      "execution_count": null,
      "outputs": []
    },
    {
      "cell_type": "code",
      "source": [
        "fig = px.histogram(x= book_rating['Book-Title'],y=book_rating['rating'],orientation=None , width=850, height=600,\n",
        "              text_auto=True,\n",
        "             )\n",
        "fig.update_layout(\n",
        "    title='Top 15 books',\n",
        "    xaxis_title=\"Books\",\n",
        "    yaxis_title=\"Number of Ratings\",\n",
        "    template=\"plotly_dark\",\n",
        "    \n",
        ")\n",
        "fig.show()"
      ],
      "metadata": {
        "colab": {
          "base_uri": "https://localhost:8080/"
        },
        "id": "dNSZwcvvQgEZ",
        "outputId": "6c94c74b-a6d5-4961-85db-4e1dac0432c8"
      },
      "execution_count": null,
      "outputs": [
        {
          "output_type": "display_data",
          "data": {
            "text/html": [
              "<html>\n",
              "<head><meta charset=\"utf-8\" /></head>\n",
              "<body>\n",
              "    <div>            <script src=\"https://cdnjs.cloudflare.com/ajax/libs/mathjax/2.7.5/MathJax.js?config=TeX-AMS-MML_SVG\"></script><script type=\"text/javascript\">if (window.MathJax) {MathJax.Hub.Config({SVG: {font: \"STIX-Web\"}});}</script>                <script type=\"text/javascript\">window.PlotlyConfig = {MathJaxConfig: 'local'};</script>\n",
              "        <script src=\"https://cdn.plot.ly/plotly-2.8.3.min.js\"></script>                <div id=\"61d3be96-b74d-4090-9f57-1dd16c85ce6c\" class=\"plotly-graph-div\" style=\"height:600px; width:850px;\"></div>            <script type=\"text/javascript\">                                    window.PLOTLYENV=window.PLOTLYENV || {};                                    if (document.getElementById(\"61d3be96-b74d-4090-9f57-1dd16c85ce6c\")) {                    Plotly.newPlot(                        \"61d3be96-b74d-4090-9f57-1dd16c85ce6c\",                        [{\"alignmentgroup\":\"True\",\"bingroup\":\"x\",\"histfunc\":\"sum\",\"hovertemplate\":\"x=%{x}<br>sum of y=%{y}<extra></extra>\",\"legendgroup\":\"\",\"marker\":{\"color\":\"#636efa\",\"pattern\":{\"shape\":\"\"}},\"name\":\"\",\"offsetgroup\":\"\",\"orientation\":\"v\",\"showlegend\":false,\"texttemplate\":\"%{value}\",\"x\":[\"The Lovely Bones: A Novel\",\"Wild Animus\",\"The Da Vinci Code\",\"The Secret Life of Bees\",\"The Nanny Diaries: A Novel\",\"The Red Tent (Bestselling Backlist)\",\"Bridget Jones's Diary\",\"A Painted House\",\"Life of Pi\",\"Harry Potter and the Chamber of Secrets (Book 2)\",\"Divine Secrets of the Ya-Ya Sisterhood: A Novel\",\"Harry Potter and the Sorcerer's Stone (Harry Potter (Paperback))\",\"Angels &amp; Demons\",\"The Summons\",\"Where the Heart Is (Oprah's Book Club (Paperback))\"],\"xaxis\":\"x\",\"y\":[707,581,494,406,393,383,377,366,336,326,323,315,310,309,295],\"yaxis\":\"y\",\"type\":\"histogram\"}],                        {\"template\":{\"data\":{\"barpolar\":[{\"marker\":{\"line\":{\"color\":\"rgb(17,17,17)\",\"width\":0.5},\"pattern\":{\"fillmode\":\"overlay\",\"size\":10,\"solidity\":0.2}},\"type\":\"barpolar\"}],\"bar\":[{\"error_x\":{\"color\":\"#f2f5fa\"},\"error_y\":{\"color\":\"#f2f5fa\"},\"marker\":{\"line\":{\"color\":\"rgb(17,17,17)\",\"width\":0.5},\"pattern\":{\"fillmode\":\"overlay\",\"size\":10,\"solidity\":0.2}},\"type\":\"bar\"}],\"carpet\":[{\"aaxis\":{\"endlinecolor\":\"#A2B1C6\",\"gridcolor\":\"#506784\",\"linecolor\":\"#506784\",\"minorgridcolor\":\"#506784\",\"startlinecolor\":\"#A2B1C6\"},\"baxis\":{\"endlinecolor\":\"#A2B1C6\",\"gridcolor\":\"#506784\",\"linecolor\":\"#506784\",\"minorgridcolor\":\"#506784\",\"startlinecolor\":\"#A2B1C6\"},\"type\":\"carpet\"}],\"choropleth\":[{\"colorbar\":{\"outlinewidth\":0,\"ticks\":\"\"},\"type\":\"choropleth\"}],\"contourcarpet\":[{\"colorbar\":{\"outlinewidth\":0,\"ticks\":\"\"},\"type\":\"contourcarpet\"}],\"contour\":[{\"colorbar\":{\"outlinewidth\":0,\"ticks\":\"\"},\"colorscale\":[[0.0,\"#0d0887\"],[0.1111111111111111,\"#46039f\"],[0.2222222222222222,\"#7201a8\"],[0.3333333333333333,\"#9c179e\"],[0.4444444444444444,\"#bd3786\"],[0.5555555555555556,\"#d8576b\"],[0.6666666666666666,\"#ed7953\"],[0.7777777777777778,\"#fb9f3a\"],[0.8888888888888888,\"#fdca26\"],[1.0,\"#f0f921\"]],\"type\":\"contour\"}],\"heatmapgl\":[{\"colorbar\":{\"outlinewidth\":0,\"ticks\":\"\"},\"colorscale\":[[0.0,\"#0d0887\"],[0.1111111111111111,\"#46039f\"],[0.2222222222222222,\"#7201a8\"],[0.3333333333333333,\"#9c179e\"],[0.4444444444444444,\"#bd3786\"],[0.5555555555555556,\"#d8576b\"],[0.6666666666666666,\"#ed7953\"],[0.7777777777777778,\"#fb9f3a\"],[0.8888888888888888,\"#fdca26\"],[1.0,\"#f0f921\"]],\"type\":\"heatmapgl\"}],\"heatmap\":[{\"colorbar\":{\"outlinewidth\":0,\"ticks\":\"\"},\"colorscale\":[[0.0,\"#0d0887\"],[0.1111111111111111,\"#46039f\"],[0.2222222222222222,\"#7201a8\"],[0.3333333333333333,\"#9c179e\"],[0.4444444444444444,\"#bd3786\"],[0.5555555555555556,\"#d8576b\"],[0.6666666666666666,\"#ed7953\"],[0.7777777777777778,\"#fb9f3a\"],[0.8888888888888888,\"#fdca26\"],[1.0,\"#f0f921\"]],\"type\":\"heatmap\"}],\"histogram2dcontour\":[{\"colorbar\":{\"outlinewidth\":0,\"ticks\":\"\"},\"colorscale\":[[0.0,\"#0d0887\"],[0.1111111111111111,\"#46039f\"],[0.2222222222222222,\"#7201a8\"],[0.3333333333333333,\"#9c179e\"],[0.4444444444444444,\"#bd3786\"],[0.5555555555555556,\"#d8576b\"],[0.6666666666666666,\"#ed7953\"],[0.7777777777777778,\"#fb9f3a\"],[0.8888888888888888,\"#fdca26\"],[1.0,\"#f0f921\"]],\"type\":\"histogram2dcontour\"}],\"histogram2d\":[{\"colorbar\":{\"outlinewidth\":0,\"ticks\":\"\"},\"colorscale\":[[0.0,\"#0d0887\"],[0.1111111111111111,\"#46039f\"],[0.2222222222222222,\"#7201a8\"],[0.3333333333333333,\"#9c179e\"],[0.4444444444444444,\"#bd3786\"],[0.5555555555555556,\"#d8576b\"],[0.6666666666666666,\"#ed7953\"],[0.7777777777777778,\"#fb9f3a\"],[0.8888888888888888,\"#fdca26\"],[1.0,\"#f0f921\"]],\"type\":\"histogram2d\"}],\"histogram\":[{\"marker\":{\"pattern\":{\"fillmode\":\"overlay\",\"size\":10,\"solidity\":0.2}},\"type\":\"histogram\"}],\"mesh3d\":[{\"colorbar\":{\"outlinewidth\":0,\"ticks\":\"\"},\"type\":\"mesh3d\"}],\"parcoords\":[{\"line\":{\"colorbar\":{\"outlinewidth\":0,\"ticks\":\"\"}},\"type\":\"parcoords\"}],\"pie\":[{\"automargin\":true,\"type\":\"pie\"}],\"scatter3d\":[{\"line\":{\"colorbar\":{\"outlinewidth\":0,\"ticks\":\"\"}},\"marker\":{\"colorbar\":{\"outlinewidth\":0,\"ticks\":\"\"}},\"type\":\"scatter3d\"}],\"scattercarpet\":[{\"marker\":{\"colorbar\":{\"outlinewidth\":0,\"ticks\":\"\"}},\"type\":\"scattercarpet\"}],\"scattergeo\":[{\"marker\":{\"colorbar\":{\"outlinewidth\":0,\"ticks\":\"\"}},\"type\":\"scattergeo\"}],\"scattergl\":[{\"marker\":{\"line\":{\"color\":\"#283442\"}},\"type\":\"scattergl\"}],\"scattermapbox\":[{\"marker\":{\"colorbar\":{\"outlinewidth\":0,\"ticks\":\"\"}},\"type\":\"scattermapbox\"}],\"scatterpolargl\":[{\"marker\":{\"colorbar\":{\"outlinewidth\":0,\"ticks\":\"\"}},\"type\":\"scatterpolargl\"}],\"scatterpolar\":[{\"marker\":{\"colorbar\":{\"outlinewidth\":0,\"ticks\":\"\"}},\"type\":\"scatterpolar\"}],\"scatter\":[{\"marker\":{\"line\":{\"color\":\"#283442\"}},\"type\":\"scatter\"}],\"scatterternary\":[{\"marker\":{\"colorbar\":{\"outlinewidth\":0,\"ticks\":\"\"}},\"type\":\"scatterternary\"}],\"surface\":[{\"colorbar\":{\"outlinewidth\":0,\"ticks\":\"\"},\"colorscale\":[[0.0,\"#0d0887\"],[0.1111111111111111,\"#46039f\"],[0.2222222222222222,\"#7201a8\"],[0.3333333333333333,\"#9c179e\"],[0.4444444444444444,\"#bd3786\"],[0.5555555555555556,\"#d8576b\"],[0.6666666666666666,\"#ed7953\"],[0.7777777777777778,\"#fb9f3a\"],[0.8888888888888888,\"#fdca26\"],[1.0,\"#f0f921\"]],\"type\":\"surface\"}],\"table\":[{\"cells\":{\"fill\":{\"color\":\"#506784\"},\"line\":{\"color\":\"rgb(17,17,17)\"}},\"header\":{\"fill\":{\"color\":\"#2a3f5f\"},\"line\":{\"color\":\"rgb(17,17,17)\"}},\"type\":\"table\"}]},\"layout\":{\"annotationdefaults\":{\"arrowcolor\":\"#f2f5fa\",\"arrowhead\":0,\"arrowwidth\":1},\"autotypenumbers\":\"strict\",\"coloraxis\":{\"colorbar\":{\"outlinewidth\":0,\"ticks\":\"\"}},\"colorscale\":{\"diverging\":[[0,\"#8e0152\"],[0.1,\"#c51b7d\"],[0.2,\"#de77ae\"],[0.3,\"#f1b6da\"],[0.4,\"#fde0ef\"],[0.5,\"#f7f7f7\"],[0.6,\"#e6f5d0\"],[0.7,\"#b8e186\"],[0.8,\"#7fbc41\"],[0.9,\"#4d9221\"],[1,\"#276419\"]],\"sequential\":[[0.0,\"#0d0887\"],[0.1111111111111111,\"#46039f\"],[0.2222222222222222,\"#7201a8\"],[0.3333333333333333,\"#9c179e\"],[0.4444444444444444,\"#bd3786\"],[0.5555555555555556,\"#d8576b\"],[0.6666666666666666,\"#ed7953\"],[0.7777777777777778,\"#fb9f3a\"],[0.8888888888888888,\"#fdca26\"],[1.0,\"#f0f921\"]],\"sequentialminus\":[[0.0,\"#0d0887\"],[0.1111111111111111,\"#46039f\"],[0.2222222222222222,\"#7201a8\"],[0.3333333333333333,\"#9c179e\"],[0.4444444444444444,\"#bd3786\"],[0.5555555555555556,\"#d8576b\"],[0.6666666666666666,\"#ed7953\"],[0.7777777777777778,\"#fb9f3a\"],[0.8888888888888888,\"#fdca26\"],[1.0,\"#f0f921\"]]},\"colorway\":[\"#636efa\",\"#EF553B\",\"#00cc96\",\"#ab63fa\",\"#FFA15A\",\"#19d3f3\",\"#FF6692\",\"#B6E880\",\"#FF97FF\",\"#FECB52\"],\"font\":{\"color\":\"#f2f5fa\"},\"geo\":{\"bgcolor\":\"rgb(17,17,17)\",\"lakecolor\":\"rgb(17,17,17)\",\"landcolor\":\"rgb(17,17,17)\",\"showlakes\":true,\"showland\":true,\"subunitcolor\":\"#506784\"},\"hoverlabel\":{\"align\":\"left\"},\"hovermode\":\"closest\",\"mapbox\":{\"style\":\"dark\"},\"paper_bgcolor\":\"rgb(17,17,17)\",\"plot_bgcolor\":\"rgb(17,17,17)\",\"polar\":{\"angularaxis\":{\"gridcolor\":\"#506784\",\"linecolor\":\"#506784\",\"ticks\":\"\"},\"bgcolor\":\"rgb(17,17,17)\",\"radialaxis\":{\"gridcolor\":\"#506784\",\"linecolor\":\"#506784\",\"ticks\":\"\"}},\"scene\":{\"xaxis\":{\"backgroundcolor\":\"rgb(17,17,17)\",\"gridcolor\":\"#506784\",\"gridwidth\":2,\"linecolor\":\"#506784\",\"showbackground\":true,\"ticks\":\"\",\"zerolinecolor\":\"#C8D4E3\"},\"yaxis\":{\"backgroundcolor\":\"rgb(17,17,17)\",\"gridcolor\":\"#506784\",\"gridwidth\":2,\"linecolor\":\"#506784\",\"showbackground\":true,\"ticks\":\"\",\"zerolinecolor\":\"#C8D4E3\"},\"zaxis\":{\"backgroundcolor\":\"rgb(17,17,17)\",\"gridcolor\":\"#506784\",\"gridwidth\":2,\"linecolor\":\"#506784\",\"showbackground\":true,\"ticks\":\"\",\"zerolinecolor\":\"#C8D4E3\"}},\"shapedefaults\":{\"line\":{\"color\":\"#f2f5fa\"}},\"sliderdefaults\":{\"bgcolor\":\"#C8D4E3\",\"bordercolor\":\"rgb(17,17,17)\",\"borderwidth\":1,\"tickwidth\":0},\"ternary\":{\"aaxis\":{\"gridcolor\":\"#506784\",\"linecolor\":\"#506784\",\"ticks\":\"\"},\"baxis\":{\"gridcolor\":\"#506784\",\"linecolor\":\"#506784\",\"ticks\":\"\"},\"bgcolor\":\"rgb(17,17,17)\",\"caxis\":{\"gridcolor\":\"#506784\",\"linecolor\":\"#506784\",\"ticks\":\"\"}},\"title\":{\"x\":0.05},\"updatemenudefaults\":{\"bgcolor\":\"#506784\",\"borderwidth\":0},\"xaxis\":{\"automargin\":true,\"gridcolor\":\"#283442\",\"linecolor\":\"#506784\",\"ticks\":\"\",\"title\":{\"standoff\":15},\"zerolinecolor\":\"#283442\",\"zerolinewidth\":2},\"yaxis\":{\"automargin\":true,\"gridcolor\":\"#283442\",\"linecolor\":\"#506784\",\"ticks\":\"\",\"title\":{\"standoff\":15},\"zerolinecolor\":\"#283442\",\"zerolinewidth\":2}}},\"xaxis\":{\"anchor\":\"y\",\"domain\":[0.0,1.0],\"title\":{\"text\":\"Books\"}},\"yaxis\":{\"anchor\":\"x\",\"domain\":[0.0,1.0],\"title\":{\"text\":\"Number of Ratings\"}},\"legend\":{\"tracegroupgap\":0},\"margin\":{\"t\":60},\"barmode\":\"relative\",\"height\":600,\"width\":850,\"title\":{\"text\":\"Top 15 books\"}},                        {\"responsive\": true}                    ).then(function(){\n",
              "                            \n",
              "var gd = document.getElementById('61d3be96-b74d-4090-9f57-1dd16c85ce6c');\n",
              "var x = new MutationObserver(function (mutations, observer) {{\n",
              "        var display = window.getComputedStyle(gd).display;\n",
              "        if (!display || display === 'none') {{\n",
              "            console.log([gd, 'removed!']);\n",
              "            Plotly.purge(gd);\n",
              "            observer.disconnect();\n",
              "        }}\n",
              "}});\n",
              "\n",
              "// Listen for the removal of the full notebook cells\n",
              "var notebookContainer = gd.closest('#notebook-container');\n",
              "if (notebookContainer) {{\n",
              "    x.observe(notebookContainer, {childList: true});\n",
              "}}\n",
              "\n",
              "// Listen for the clearing of the current output cell\n",
              "var outputEl = gd.closest('.output');\n",
              "if (outputEl) {{\n",
              "    x.observe(outputEl, {childList: true});\n",
              "}}\n",
              "\n",
              "                        })                };                            </script>        </div>\n",
              "</body>\n",
              "</html>"
            ]
          },
          "metadata": {}
        }
      ]
    },
    {
      "cell_type": "markdown",
      "source": [
        "## The book that received the most rating counts in this data set is **The Lovely Bones: A Novel**"
      ],
      "metadata": {
        "id": "qHRGmkIwch4v"
      }
    },
    {
      "cell_type": "code",
      "source": [
        "dataset.head()"
      ],
      "metadata": {
        "colab": {
          "base_uri": "https://localhost:8080/"
        },
        "id": "Ar27o6dNXimS",
        "outputId": "01286f33-f23d-4235-fc0e-25f20d273df2"
      },
      "execution_count": null,
      "outputs": [
        {
          "output_type": "execute_result",
          "data": {
            "text/html": [
              "\n",
              "  <div id=\"df-f211f35a-56e7-4e57-9320-a73917edf4f3\">\n",
              "    <div class=\"colab-df-container\">\n",
              "      <div>\n",
              "<style scoped>\n",
              "    .dataframe tbody tr th:only-of-type {\n",
              "        vertical-align: middle;\n",
              "    }\n",
              "\n",
              "    .dataframe tbody tr th {\n",
              "        vertical-align: top;\n",
              "    }\n",
              "\n",
              "    .dataframe thead th {\n",
              "        text-align: right;\n",
              "    }\n",
              "</style>\n",
              "<table border=\"1\" class=\"dataframe\">\n",
              "  <thead>\n",
              "    <tr style=\"text-align: right;\">\n",
              "      <th></th>\n",
              "      <th>ISBN</th>\n",
              "      <th>Book-Title</th>\n",
              "      <th>Book-Author</th>\n",
              "      <th>Year-Of-Publication</th>\n",
              "      <th>Publisher</th>\n",
              "      <th>User-ID</th>\n",
              "      <th>rating</th>\n",
              "      <th>Avg_Rating</th>\n",
              "      <th>Total_No_Of_Users_Rated</th>\n",
              "      <th>Age</th>\n",
              "      <th>City</th>\n",
              "      <th>State</th>\n",
              "      <th>Country</th>\n",
              "    </tr>\n",
              "  </thead>\n",
              "  <tbody>\n",
              "    <tr>\n",
              "      <th>0</th>\n",
              "      <td>0002005018</td>\n",
              "      <td>Clara Callan</td>\n",
              "      <td>Richard Bruce Wright</td>\n",
              "      <td>2001</td>\n",
              "      <td>HarperFlamingo Canada</td>\n",
              "      <td>8</td>\n",
              "      <td>5</td>\n",
              "      <td>7.666667</td>\n",
              "      <td>9</td>\n",
              "      <td>35</td>\n",
              "      <td>timmins</td>\n",
              "      <td>ontario</td>\n",
              "      <td>canada</td>\n",
              "    </tr>\n",
              "    <tr>\n",
              "      <th>1</th>\n",
              "      <td>074322678X</td>\n",
              "      <td>Where You'll Find Me: And Other Stories</td>\n",
              "      <td>Ann Beattie</td>\n",
              "      <td>2002</td>\n",
              "      <td>Scribner</td>\n",
              "      <td>8</td>\n",
              "      <td>5</td>\n",
              "      <td>5.000000</td>\n",
              "      <td>1</td>\n",
              "      <td>35</td>\n",
              "      <td>timmins</td>\n",
              "      <td>ontario</td>\n",
              "      <td>canada</td>\n",
              "    </tr>\n",
              "    <tr>\n",
              "      <th>2</th>\n",
              "      <td>0887841740</td>\n",
              "      <td>The Middle Stories</td>\n",
              "      <td>Sheila Heti</td>\n",
              "      <td>2004</td>\n",
              "      <td>House of Anansi Press</td>\n",
              "      <td>8</td>\n",
              "      <td>5</td>\n",
              "      <td>5.000000</td>\n",
              "      <td>1</td>\n",
              "      <td>35</td>\n",
              "      <td>timmins</td>\n",
              "      <td>ontario</td>\n",
              "      <td>canada</td>\n",
              "    </tr>\n",
              "    <tr>\n",
              "      <th>3</th>\n",
              "      <td>1552041778</td>\n",
              "      <td>Jane Doe</td>\n",
              "      <td>R. J. Kaiser</td>\n",
              "      <td>1999</td>\n",
              "      <td>Mira Books</td>\n",
              "      <td>8</td>\n",
              "      <td>5</td>\n",
              "      <td>5.000000</td>\n",
              "      <td>1</td>\n",
              "      <td>35</td>\n",
              "      <td>timmins</td>\n",
              "      <td>ontario</td>\n",
              "      <td>canada</td>\n",
              "    </tr>\n",
              "    <tr>\n",
              "      <th>4</th>\n",
              "      <td>1567407781</td>\n",
              "      <td>The Witchfinder (Amos Walker Mystery Series)</td>\n",
              "      <td>Loren D. Estleman</td>\n",
              "      <td>1998</td>\n",
              "      <td>Brilliance Audio - Trade</td>\n",
              "      <td>8</td>\n",
              "      <td>6</td>\n",
              "      <td>6.000000</td>\n",
              "      <td>1</td>\n",
              "      <td>35</td>\n",
              "      <td>timmins</td>\n",
              "      <td>ontario</td>\n",
              "      <td>canada</td>\n",
              "    </tr>\n",
              "  </tbody>\n",
              "</table>\n",
              "</div>\n",
              "      <button class=\"colab-df-convert\" onclick=\"convertToInteractive('df-f211f35a-56e7-4e57-9320-a73917edf4f3')\"\n",
              "              title=\"Convert this dataframe to an interactive table.\"\n",
              "              style=\"display:none;\">\n",
              "        \n",
              "  <svg xmlns=\"http://www.w3.org/2000/svg\" height=\"24px\"viewBox=\"0 0 24 24\"\n",
              "       width=\"24px\">\n",
              "    <path d=\"M0 0h24v24H0V0z\" fill=\"none\"/>\n",
              "    <path d=\"M18.56 5.44l.94 2.06.94-2.06 2.06-.94-2.06-.94-.94-2.06-.94 2.06-2.06.94zm-11 1L8.5 8.5l.94-2.06 2.06-.94-2.06-.94L8.5 2.5l-.94 2.06-2.06.94zm10 10l.94 2.06.94-2.06 2.06-.94-2.06-.94-.94-2.06-.94 2.06-2.06.94z\"/><path d=\"M17.41 7.96l-1.37-1.37c-.4-.4-.92-.59-1.43-.59-.52 0-1.04.2-1.43.59L10.3 9.45l-7.72 7.72c-.78.78-.78 2.05 0 2.83L4 21.41c.39.39.9.59 1.41.59.51 0 1.02-.2 1.41-.59l7.78-7.78 2.81-2.81c.8-.78.8-2.07 0-2.86zM5.41 20L4 18.59l7.72-7.72 1.47 1.35L5.41 20z\"/>\n",
              "  </svg>\n",
              "      </button>\n",
              "      \n",
              "  <style>\n",
              "    .colab-df-container {\n",
              "      display:flex;\n",
              "      flex-wrap:wrap;\n",
              "      gap: 12px;\n",
              "    }\n",
              "\n",
              "    .colab-df-convert {\n",
              "      background-color: #E8F0FE;\n",
              "      border: none;\n",
              "      border-radius: 50%;\n",
              "      cursor: pointer;\n",
              "      display: none;\n",
              "      fill: #1967D2;\n",
              "      height: 32px;\n",
              "      padding: 0 0 0 0;\n",
              "      width: 32px;\n",
              "    }\n",
              "\n",
              "    .colab-df-convert:hover {\n",
              "      background-color: #E2EBFA;\n",
              "      box-shadow: 0px 1px 2px rgba(60, 64, 67, 0.3), 0px 1px 3px 1px rgba(60, 64, 67, 0.15);\n",
              "      fill: #174EA6;\n",
              "    }\n",
              "\n",
              "    [theme=dark] .colab-df-convert {\n",
              "      background-color: #3B4455;\n",
              "      fill: #D2E3FC;\n",
              "    }\n",
              "\n",
              "    [theme=dark] .colab-df-convert:hover {\n",
              "      background-color: #434B5C;\n",
              "      box-shadow: 0px 1px 3px 1px rgba(0, 0, 0, 0.15);\n",
              "      filter: drop-shadow(0px 1px 2px rgba(0, 0, 0, 0.3));\n",
              "      fill: #FFFFFF;\n",
              "    }\n",
              "  </style>\n",
              "\n",
              "      <script>\n",
              "        const buttonEl =\n",
              "          document.querySelector('#df-f211f35a-56e7-4e57-9320-a73917edf4f3 button.colab-df-convert');\n",
              "        buttonEl.style.display =\n",
              "          google.colab.kernel.accessAllowed ? 'block' : 'none';\n",
              "\n",
              "        async function convertToInteractive(key) {\n",
              "          const element = document.querySelector('#df-f211f35a-56e7-4e57-9320-a73917edf4f3');\n",
              "          const dataTable =\n",
              "            await google.colab.kernel.invokeFunction('convertToInteractive',\n",
              "                                                     [key], {});\n",
              "          if (!dataTable) return;\n",
              "\n",
              "          const docLinkHtml = 'Like what you see? Visit the ' +\n",
              "            '<a target=\"_blank\" href=https://colab.research.google.com/notebooks/data_table.ipynb>data table notebook</a>'\n",
              "            + ' to learn more about interactive tables.';\n",
              "          element.innerHTML = '';\n",
              "          dataTable['output_type'] = 'display_data';\n",
              "          await google.colab.output.renderOutput(dataTable, element);\n",
              "          const docLink = document.createElement('div');\n",
              "          docLink.innerHTML = docLinkHtml;\n",
              "          element.appendChild(docLink);\n",
              "        }\n",
              "      </script>\n",
              "    </div>\n",
              "  </div>\n",
              "  "
            ],
            "text/plain": [
              "         ISBN                                    Book-Title  ...    State  Country\n",
              "0  0002005018                                  Clara Callan  ...  ontario   canada\n",
              "1  074322678X       Where You'll Find Me: And Other Stories  ...  ontario   canada\n",
              "2  0887841740                            The Middle Stories  ...  ontario   canada\n",
              "3  1552041778                                      Jane Doe  ...  ontario   canada\n",
              "4  1567407781  The Witchfinder (Amos Walker Mystery Series)  ...  ontario   canada\n",
              "\n",
              "[5 rows x 13 columns]"
            ]
          },
          "metadata": {},
          "execution_count": 88
        }
      ]
    },
    {
      "cell_type": "code",
      "source": [
        "dataset.shape"
      ],
      "metadata": {
        "colab": {
          "base_uri": "https://localhost:8080/"
        },
        "id": "BBIzkOPHb7M1",
        "outputId": "f7959986-7c97-4f30-ec5f-7d4c1035bc4d"
      },
      "execution_count": null,
      "outputs": [
        {
          "output_type": "execute_result",
          "data": {
            "text/plain": [
              "(383842, 13)"
            ]
          },
          "metadata": {},
          "execution_count": 89
        }
      ]
    },
    {
      "cell_type": "markdown",
      "source": [
        "##**Popularity Based Filtering**\n",
        "\n",
        "## As the name suggests Popularity based recommendation system works with the trend. It basically uses the items which are in trend right now. For example, if any book which is usually bought by every new user then there are chances that it may suggest that book to the user who just signed up.\n",
        "\n",
        "##Book weighted avg formula:\n",
        "##Weighted Rating(WR)=[vR/(v+m)]+[mC/(v+m)]\n",
        "##where,\n",
        "## **v** is the number of votes for the books;\n",
        "## **m** is the minimum votes required to be listed in the chart;\n",
        "## **R** is the average rating of the book; and\n",
        "## **C** is the mean vote across the whole report.\n",
        "## Now we find the values of v,m,R,C."
      ],
      "metadata": {
        "id": "nsOEZ8vu3eOR"
      }
    },
    {
      "cell_type": "code",
      "source": [
        "C= dataset['Avg_Rating'].mean()\n",
        "m= dataset['Total_No_Of_Users_Rated'].quantile(0.90)\n",
        "Top_Books = dataset.loc[dataset['Total_No_Of_Users_Rated'] >= m]\n",
        "print(f'C={C} , m={m}')\n",
        "Top_Books.shape"
      ],
      "metadata": {
        "colab": {
          "base_uri": "https://localhost:8080/"
        },
        "id": "4Z3ahtMf4JMk",
        "outputId": "4fcc0b70-20c6-47fc-8eee-301c7f4d6015"
      },
      "execution_count": null,
      "outputs": [
        {
          "output_type": "stream",
          "name": "stdout",
          "text": [
            "C=7.626700569504972 , m=64.0\n"
          ]
        },
        {
          "output_type": "execute_result",
          "data": {
            "text/plain": [
              "(38570, 13)"
            ]
          },
          "metadata": {},
          "execution_count": 90
        }
      ]
    },
    {
      "cell_type": "markdown",
      "source": [
        "##Here we used 90th percentile as our cutoff. In other words, for a book to feature in the charts, it must have more votes than at least 90% of the books in the list.\n",
        "##We see that there are 38570 books which qualify to be in this list. Now, we need to calculate our metric for each qualified book. To do this, we will define a function, weighted_rating() and define a new feature score, of which we’ll calculate the value by applying this function to our DataFrame of qualified books:"
      ],
      "metadata": {
        "id": "dAHLS-8_4q1b"
      }
    },
    {
      "cell_type": "code",
      "source": [
        "def weighted_rating(x, m=m, C=C):\n",
        "    v = x['Total_No_Of_Users_Rated']\n",
        "    R = x['Avg_Rating']\n",
        "    return (v/(v+m) * R) + (m/(m+v) * C)\n",
        "    \n",
        " \n",
        "Top_Books['Score'] = Top_Books.apply(weighted_rating,axis=1)\n",
        " \n",
        " \n",
        "#Sorting books based on score calculated above\n",
        "Top_Books = Top_Books.sort_values('Score', ascending=False)"
      ],
      "metadata": {
        "id": "_9te_Vti4pTP"
      },
      "execution_count": null,
      "outputs": []
    },
    {
      "cell_type": "code",
      "source": [
        "#Keeping only one entry of each book\n",
        "Top_Books=Top_Books.sort_values('Score', ascending=False).drop_duplicates('ISBN').sort_index()\n",
        "cm=sns.light_palette('green',as_cmap=True)\n",
        "#Sorting books based on score calculated above\n",
        "Top_Books = Top_Books.sort_values('Score', ascending=False)\n",
        "\n",
        "#Printing the top 20 books\n",
        "Top_Books[['Book-Title', 'Total_No_Of_Users_Rated', 'Avg_Rating', 'Score']].reset_index(drop=True).head(20).style.background_gradient(cmap=cm)\n"
      ],
      "metadata": {
        "colab": {
          "base_uri": "https://localhost:8080/"
        },
        "id": "R5graMji5ctU",
        "outputId": "db0bbd59-01e6-495e-da53-4d3dd1ea5706"
      },
      "execution_count": null,
      "outputs": [
        {
          "output_type": "execute_result",
          "data": {
            "text/html": [
              "<style type=\"text/css\">\n",
              "#T_a6d0e_row0_col1 {\n",
              "  background-color: #a8d2a8;\n",
              "  color: #000000;\n",
              "}\n",
              "#T_a6d0e_row0_col2 {\n",
              "  background-color: #299429;\n",
              "  color: #f1f1f1;\n",
              "}\n",
              "#T_a6d0e_row0_col3, #T_a6d0e_row1_col1, #T_a6d0e_row5_col2 {\n",
              "  background-color: #008000;\n",
              "  color: #f1f1f1;\n",
              "}\n",
              "#T_a6d0e_row1_col2 {\n",
              "  background-color: #89c389;\n",
              "  color: #000000;\n",
              "}\n",
              "#T_a6d0e_row1_col3 {\n",
              "  background-color: #0f870f;\n",
              "  color: #f1f1f1;\n",
              "}\n",
              "#T_a6d0e_row2_col1 {\n",
              "  background-color: #66b266;\n",
              "  color: #f1f1f1;\n",
              "}\n",
              "#T_a6d0e_row2_col2, #T_a6d0e_row6_col2, #T_a6d0e_row15_col1 {\n",
              "  background-color: #6db56d;\n",
              "  color: #f1f1f1;\n",
              "}\n",
              "#T_a6d0e_row2_col3 {\n",
              "  background-color: #188c18;\n",
              "  color: #f1f1f1;\n",
              "}\n",
              "#T_a6d0e_row3_col1, #T_a6d0e_row4_col2 {\n",
              "  background-color: #5fae5f;\n",
              "  color: #f1f1f1;\n",
              "}\n",
              "#T_a6d0e_row3_col2 {\n",
              "  background-color: #87c287;\n",
              "  color: #000000;\n",
              "}\n",
              "#T_a6d0e_row3_col3 {\n",
              "  background-color: #3c9d3c;\n",
              "  color: #f1f1f1;\n",
              "}\n",
              "#T_a6d0e_row4_col1 {\n",
              "  background-color: #add5ad;\n",
              "  color: #000000;\n",
              "}\n",
              "#T_a6d0e_row4_col3 {\n",
              "  background-color: #4ea64e;\n",
              "  color: #f1f1f1;\n",
              "}\n",
              "#T_a6d0e_row5_col1 {\n",
              "  background-color: #e2efe2;\n",
              "  color: #000000;\n",
              "}\n",
              "#T_a6d0e_row5_col3, #T_a6d0e_row6_col3 {\n",
              "  background-color: #56aa56;\n",
              "  color: #f1f1f1;\n",
              "}\n",
              "#T_a6d0e_row6_col1 {\n",
              "  background-color: #a5d1a5;\n",
              "  color: #000000;\n",
              "}\n",
              "#T_a6d0e_row7_col1 {\n",
              "  background-color: #badbba;\n",
              "  color: #000000;\n",
              "}\n",
              "#T_a6d0e_row7_col2 {\n",
              "  background-color: #7cbd7c;\n",
              "  color: #000000;\n",
              "}\n",
              "#T_a6d0e_row7_col3 {\n",
              "  background-color: #8bc48b;\n",
              "  color: #000000;\n",
              "}\n",
              "#T_a6d0e_row8_col1 {\n",
              "  background-color: #77ba77;\n",
              "  color: #f1f1f1;\n",
              "}\n",
              "#T_a6d0e_row8_col2 {\n",
              "  background-color: #b7dab7;\n",
              "  color: #000000;\n",
              "}\n",
              "#T_a6d0e_row8_col3 {\n",
              "  background-color: #95c995;\n",
              "  color: #000000;\n",
              "}\n",
              "#T_a6d0e_row9_col1 {\n",
              "  background-color: #b3d8b3;\n",
              "  color: #000000;\n",
              "}\n",
              "#T_a6d0e_row9_col2, #T_a6d0e_row19_col1 {\n",
              "  background-color: #8fc68f;\n",
              "  color: #000000;\n",
              "}\n",
              "#T_a6d0e_row9_col3 {\n",
              "  background-color: #99cb99;\n",
              "  color: #000000;\n",
              "}\n",
              "#T_a6d0e_row10_col1 {\n",
              "  background-color: #ddecdd;\n",
              "  color: #000000;\n",
              "}\n",
              "#T_a6d0e_row10_col2 {\n",
              "  background-color: #53a953;\n",
              "  color: #f1f1f1;\n",
              "}\n",
              "#T_a6d0e_row10_col3 {\n",
              "  background-color: #a2cfa2;\n",
              "  color: #000000;\n",
              "}\n",
              "#T_a6d0e_row11_col1 {\n",
              "  background-color: #c3e0c3;\n",
              "  color: #000000;\n",
              "}\n",
              "#T_a6d0e_row11_col2 {\n",
              "  background-color: #84c184;\n",
              "  color: #000000;\n",
              "}\n",
              "#T_a6d0e_row11_col3 {\n",
              "  background-color: #a4d0a4;\n",
              "  color: #000000;\n",
              "}\n",
              "#T_a6d0e_row12_col1 {\n",
              "  background-color: #afd6af;\n",
              "  color: #000000;\n",
              "}\n",
              "#T_a6d0e_row12_col2, #T_a6d0e_row14_col2 {\n",
              "  background-color: #a6d2a6;\n",
              "  color: #000000;\n",
              "}\n",
              "#T_a6d0e_row12_col3 {\n",
              "  background-color: #b2d7b2;\n",
              "  color: #000000;\n",
              "}\n",
              "#T_a6d0e_row13_col1 {\n",
              "  background-color: #91c791;\n",
              "  color: #000000;\n",
              "}\n",
              "#T_a6d0e_row13_col2 {\n",
              "  background-color: #c4e0c4;\n",
              "  color: #000000;\n",
              "}\n",
              "#T_a6d0e_row13_col3 {\n",
              "  background-color: #bdddbd;\n",
              "  color: #000000;\n",
              "}\n",
              "#T_a6d0e_row14_col1 {\n",
              "  background-color: #bcdcbc;\n",
              "  color: #000000;\n",
              "}\n",
              "#T_a6d0e_row14_col3 {\n",
              "  background-color: #c6e1c6;\n",
              "  color: #000000;\n",
              "}\n",
              "#T_a6d0e_row15_col2, #T_a6d0e_row18_col3 {\n",
              "  background-color: #e9f2e9;\n",
              "  color: #000000;\n",
              "}\n",
              "#T_a6d0e_row15_col3 {\n",
              "  background-color: #daebda;\n",
              "  color: #000000;\n",
              "}\n",
              "#T_a6d0e_row16_col1, #T_a6d0e_row18_col2, #T_a6d0e_row19_col3 {\n",
              "  background-color: #ebf3eb;\n",
              "  color: #000000;\n",
              "}\n",
              "#T_a6d0e_row16_col2 {\n",
              "  background-color: #61af61;\n",
              "  color: #f1f1f1;\n",
              "}\n",
              "#T_a6d0e_row16_col3 {\n",
              "  background-color: #dcecdc;\n",
              "  color: #000000;\n",
              "}\n",
              "#T_a6d0e_row17_col1 {\n",
              "  background-color: #e4f0e4;\n",
              "  color: #000000;\n",
              "}\n",
              "#T_a6d0e_row17_col2 {\n",
              "  background-color: #7fbe7f;\n",
              "  color: #000000;\n",
              "}\n",
              "#T_a6d0e_row17_col3 {\n",
              "  background-color: #e7f1e7;\n",
              "  color: #000000;\n",
              "}\n",
              "#T_a6d0e_row18_col1 {\n",
              "  background-color: #7ebe7e;\n",
              "  color: #000000;\n",
              "}\n",
              "#T_a6d0e_row19_col2 {\n",
              "  background-color: #e5f0e5;\n",
              "  color: #000000;\n",
              "}\n",
              "</style>\n",
              "<table id=\"T_a6d0e_\" class=\"dataframe\">\n",
              "  <thead>\n",
              "    <tr>\n",
              "      <th class=\"blank level0\" >&nbsp;</th>\n",
              "      <th class=\"col_heading level0 col0\" >Book-Title</th>\n",
              "      <th class=\"col_heading level0 col1\" >Total_No_Of_Users_Rated</th>\n",
              "      <th class=\"col_heading level0 col2\" >Avg_Rating</th>\n",
              "      <th class=\"col_heading level0 col3\" >Score</th>\n",
              "    </tr>\n",
              "  </thead>\n",
              "  <tbody>\n",
              "    <tr>\n",
              "      <th id=\"T_a6d0e_level0_row0\" class=\"row_heading level0 row0\" >0</th>\n",
              "      <td id=\"T_a6d0e_row0_col0\" class=\"data row0 col0\" >Harry Potter and the Goblet of Fire (Book 4)</td>\n",
              "      <td id=\"T_a6d0e_row0_col1\" class=\"data row0 col1\" >137</td>\n",
              "      <td id=\"T_a6d0e_row0_col2\" class=\"data row0 col2\" >9.262774</td>\n",
              "      <td id=\"T_a6d0e_row0_col3\" class=\"data row0 col3\" >8.741835</td>\n",
              "    </tr>\n",
              "    <tr>\n",
              "      <th id=\"T_a6d0e_level0_row1\" class=\"row_heading level0 row1\" >1</th>\n",
              "      <td id=\"T_a6d0e_row1_col0\" class=\"data row1 col0\" >Harry Potter and the Sorcerer's Stone (Harry Potter (Paperback))</td>\n",
              "      <td id=\"T_a6d0e_row1_col1\" class=\"data row1 col1\" >313</td>\n",
              "      <td id=\"T_a6d0e_row1_col2\" class=\"data row1 col2\" >8.939297</td>\n",
              "      <td id=\"T_a6d0e_row1_col3\" class=\"data row1 col3\" >8.716469</td>\n",
              "    </tr>\n",
              "    <tr>\n",
              "      <th id=\"T_a6d0e_level0_row2\" class=\"row_heading level0 row2\" >2</th>\n",
              "      <td id=\"T_a6d0e_row2_col0\" class=\"data row2 col0\" >Harry Potter and the Order of the Phoenix (Book 5)</td>\n",
              "      <td id=\"T_a6d0e_row2_col1\" class=\"data row2 col1\" >206</td>\n",
              "      <td id=\"T_a6d0e_row2_col2\" class=\"data row2 col2\" >9.033981</td>\n",
              "      <td id=\"T_a6d0e_row2_col3\" class=\"data row2 col3\" >8.700403</td>\n",
              "    </tr>\n",
              "    <tr>\n",
              "      <th id=\"T_a6d0e_level0_row3\" class=\"row_heading level0 row3\" >3</th>\n",
              "      <td id=\"T_a6d0e_row3_col0\" class=\"data row3 col0\" >To Kill a Mockingbird</td>\n",
              "      <td id=\"T_a6d0e_row3_col1\" class=\"data row3 col1\" >214</td>\n",
              "      <td id=\"T_a6d0e_row3_col2\" class=\"data row3 col2\" >8.943925</td>\n",
              "      <td id=\"T_a6d0e_row3_col3\" class=\"data row3 col3\" >8.640679</td>\n",
              "    </tr>\n",
              "    <tr>\n",
              "      <th id=\"T_a6d0e_level0_row4\" class=\"row_heading level0 row4\" >4</th>\n",
              "      <td id=\"T_a6d0e_row4_col0\" class=\"data row4 col0\" >Harry Potter and the Prisoner of Azkaban (Book 3)</td>\n",
              "      <td id=\"T_a6d0e_row4_col1\" class=\"data row4 col1\" >133</td>\n",
              "      <td id=\"T_a6d0e_row4_col2\" class=\"data row4 col2\" >9.082707</td>\n",
              "      <td id=\"T_a6d0e_row4_col3\" class=\"data row4 col3\" >8.609690</td>\n",
              "    </tr>\n",
              "    <tr>\n",
              "      <th id=\"T_a6d0e_level0_row5\" class=\"row_heading level0 row5\" >5</th>\n",
              "      <td id=\"T_a6d0e_row5_col0\" class=\"data row5 col0\" >The Return of the King (The Lord of the Rings, Part 3)</td>\n",
              "      <td id=\"T_a6d0e_row5_col1\" class=\"data row5 col1\" >77</td>\n",
              "      <td id=\"T_a6d0e_row5_col2\" class=\"data row5 col2\" >9.402597</td>\n",
              "      <td id=\"T_a6d0e_row5_col3\" class=\"data row5 col3\" >8.596517</td>\n",
              "    </tr>\n",
              "    <tr>\n",
              "      <th id=\"T_a6d0e_level0_row6\" class=\"row_heading level0 row6\" >6</th>\n",
              "      <td id=\"T_a6d0e_row6_col0\" class=\"data row6 col0\" >Harry Potter and the Prisoner of Azkaban (Book 3)</td>\n",
              "      <td id=\"T_a6d0e_row6_col1\" class=\"data row6 col1\" >141</td>\n",
              "      <td id=\"T_a6d0e_row6_col2\" class=\"data row6 col2\" >9.035461</td>\n",
              "      <td id=\"T_a6d0e_row6_col3\" class=\"data row6 col3\" >8.595653</td>\n",
              "    </tr>\n",
              "    <tr>\n",
              "      <th id=\"T_a6d0e_level0_row7\" class=\"row_heading level0 row7\" >7</th>\n",
              "      <td id=\"T_a6d0e_row7_col0\" class=\"data row7 col0\" >Harry Potter and the Sorcerer's Stone (Book 1)</td>\n",
              "      <td id=\"T_a6d0e_row7_col1\" class=\"data row7 col1\" >119</td>\n",
              "      <td id=\"T_a6d0e_row7_col2\" class=\"data row7 col2\" >8.983193</td>\n",
              "      <td id=\"T_a6d0e_row7_col3\" class=\"data row7 col3\" >8.508791</td>\n",
              "    </tr>\n",
              "    <tr>\n",
              "      <th id=\"T_a6d0e_level0_row8\" class=\"row_heading level0 row8\" >8</th>\n",
              "      <td id=\"T_a6d0e_row8_col0\" class=\"data row8 col0\" >Harry Potter and the Chamber of Secrets (Book 2)</td>\n",
              "      <td id=\"T_a6d0e_row8_col1\" class=\"data row8 col1\" >189</td>\n",
              "      <td id=\"T_a6d0e_row8_col2\" class=\"data row8 col2\" >8.783069</td>\n",
              "      <td id=\"T_a6d0e_row8_col3\" class=\"data row8 col3\" >8.490549</td>\n",
              "    </tr>\n",
              "    <tr>\n",
              "      <th id=\"T_a6d0e_level0_row9\" class=\"row_heading level0 row9\" >9</th>\n",
              "      <td id=\"T_a6d0e_row9_col0\" class=\"data row9 col0\" >Harry Potter and the Chamber of Secrets (Book 2)</td>\n",
              "      <td id=\"T_a6d0e_row9_col1\" class=\"data row9 col1\" >126</td>\n",
              "      <td id=\"T_a6d0e_row9_col2\" class=\"data row9 col2\" >8.920635</td>\n",
              "      <td id=\"T_a6d0e_row9_col3\" class=\"data row9 col3\" >8.484783</td>\n",
              "    </tr>\n",
              "    <tr>\n",
              "      <th id=\"T_a6d0e_level0_row10\" class=\"row_heading level0 row10\" >10</th>\n",
              "      <td id=\"T_a6d0e_row10_col0\" class=\"data row10 col0\" >The Two Towers (The Lord of the Rings, Part 2)</td>\n",
              "      <td id=\"T_a6d0e_row10_col1\" class=\"data row10 col1\" >83</td>\n",
              "      <td id=\"T_a6d0e_row10_col2\" class=\"data row10 col2\" >9.120482</td>\n",
              "      <td id=\"T_a6d0e_row10_col3\" class=\"data row10 col3\" >8.470128</td>\n",
              "    </tr>\n",
              "    <tr>\n",
              "      <th id=\"T_a6d0e_level0_row11\" class=\"row_heading level0 row11\" >11</th>\n",
              "      <td id=\"T_a6d0e_row11_col0\" class=\"data row11 col0\" >Harry Potter and the Goblet of Fire (Book 4)</td>\n",
              "      <td id=\"T_a6d0e_row11_col1\" class=\"data row11 col1\" >110</td>\n",
              "      <td id=\"T_a6d0e_row11_col2\" class=\"data row11 col2\" >8.954545</td>\n",
              "      <td id=\"T_a6d0e_row11_col3\" class=\"data row11 col3\" >8.466143</td>\n",
              "    </tr>\n",
              "    <tr>\n",
              "      <th id=\"T_a6d0e_level0_row12\" class=\"row_heading level0 row12\" >12</th>\n",
              "      <td id=\"T_a6d0e_row12_col0\" class=\"data row12 col0\" >The Fellowship of the Ring (The Lord of the Rings, Part 1)</td>\n",
              "      <td id=\"T_a6d0e_row12_col1\" class=\"data row12 col1\" >131</td>\n",
              "      <td id=\"T_a6d0e_row12_col2\" class=\"data row12 col2\" >8.839695</td>\n",
              "      <td id=\"T_a6d0e_row12_col3\" class=\"data row12 col3\" >8.441584</td>\n",
              "    </tr>\n",
              "    <tr>\n",
              "      <th id=\"T_a6d0e_level0_row13\" class=\"row_heading level0 row13\" >13</th>\n",
              "      <td id=\"T_a6d0e_row13_col0\" class=\"data row13 col0\" >The Hobbit : The Enchanting Prelude to The Lord of the Rings</td>\n",
              "      <td id=\"T_a6d0e_row13_col1\" class=\"data row13 col1\" >161</td>\n",
              "      <td id=\"T_a6d0e_row13_col2\" class=\"data row13 col2\" >8.739130</td>\n",
              "      <td id=\"T_a6d0e_row13_col3\" class=\"data row13 col3\" >8.422706</td>\n",
              "    </tr>\n",
              "    <tr>\n",
              "      <th id=\"T_a6d0e_level0_row14\" class=\"row_heading level0 row14\" >14</th>\n",
              "      <td id=\"T_a6d0e_row14_col0\" class=\"data row14 col0\" >Ender's Game (Ender Wiggins Saga (Paperback))</td>\n",
              "      <td id=\"T_a6d0e_row14_col1\" class=\"data row14 col1\" >117</td>\n",
              "      <td id=\"T_a6d0e_row14_col2\" class=\"data row14 col2\" >8.837607</td>\n",
              "      <td id=\"T_a6d0e_row14_col3\" class=\"data row14 col3\" >8.409441</td>\n",
              "    </tr>\n",
              "    <tr>\n",
              "      <th id=\"T_a6d0e_level0_row15\" class=\"row_heading level0 row15\" >15</th>\n",
              "      <td id=\"T_a6d0e_row15_col0\" class=\"data row15 col0\" >Tuesdays with Morrie: An Old Man, a Young Man, and Life's Greatest Lesson</td>\n",
              "      <td id=\"T_a6d0e_row15_col1\" class=\"data row15 col1\" >200</td>\n",
              "      <td id=\"T_a6d0e_row15_col2\" class=\"data row15 col2\" >8.615000</td>\n",
              "      <td id=\"T_a6d0e_row15_col3\" class=\"data row15 col3\" >8.375412</td>\n",
              "    </tr>\n",
              "    <tr>\n",
              "      <th id=\"T_a6d0e_level0_row16\" class=\"row_heading level0 row16\" >16</th>\n",
              "      <td id=\"T_a6d0e_row16_col0\" class=\"data row16 col0\" >Charlotte's Web (Trophy Newbery)</td>\n",
              "      <td id=\"T_a6d0e_row16_col1\" class=\"data row16 col1\" >68</td>\n",
              "      <td id=\"T_a6d0e_row16_col2\" class=\"data row16 col2\" >9.073529</td>\n",
              "      <td id=\"T_a6d0e_row16_col3\" class=\"data row16 col3\" >8.372037</td>\n",
              "    </tr>\n",
              "    <tr>\n",
              "      <th id=\"T_a6d0e_level0_row17\" class=\"row_heading level0 row17\" >17</th>\n",
              "      <td id=\"T_a6d0e_row17_col0\" class=\"data row17 col0\" >Dune (Remembering Tomorrow)</td>\n",
              "      <td id=\"T_a6d0e_row17_col1\" class=\"data row17 col1\" >75</td>\n",
              "      <td id=\"T_a6d0e_row17_col2\" class=\"data row17 col2\" >8.973333</td>\n",
              "      <td id=\"T_a6d0e_row17_col3\" class=\"data row17 col3\" >8.353301</td>\n",
              "    </tr>\n",
              "    <tr>\n",
              "      <th id=\"T_a6d0e_level0_row18\" class=\"row_heading level0 row18\" >18</th>\n",
              "      <td id=\"T_a6d0e_row18_col0\" class=\"data row18 col0\" >A Prayer for Owen Meany</td>\n",
              "      <td id=\"T_a6d0e_row18_col1\" class=\"data row18 col1\" >181</td>\n",
              "      <td id=\"T_a6d0e_row18_col2\" class=\"data row18 col2\" >8.607735</td>\n",
              "      <td id=\"T_a6d0e_row18_col3\" class=\"data row18 col3\" >8.351465</td>\n",
              "    </tr>\n",
              "    <tr>\n",
              "      <th id=\"T_a6d0e_level0_row19\" class=\"row_heading level0 row19\" >19</th>\n",
              "      <td id=\"T_a6d0e_row19_col0\" class=\"data row19 col0\" >Fahrenheit 451</td>\n",
              "      <td id=\"T_a6d0e_row19_col1\" class=\"data row19 col1\" >164</td>\n",
              "      <td id=\"T_a6d0e_row19_col2\" class=\"data row19 col2\" >8.628049</td>\n",
              "      <td id=\"T_a6d0e_row19_col3\" class=\"data row19 col3\" >8.346969</td>\n",
              "    </tr>\n",
              "  </tbody>\n",
              "</table>\n"
            ],
            "text/plain": [
              "<pandas.io.formats.style.Styler at 0x7f7cdeaf2950>"
            ]
          },
          "metadata": {},
          "execution_count": 92
        }
      ]
    },
    {
      "cell_type": "markdown",
      "source": [
        "## The Popularity based recommender provide a general chart of recommended books to all the users. They are not sensitive to the interests and tastes of a particular user."
      ],
      "metadata": {
        "id": "3YBdD_Oy6KmL"
      }
    },
    {
      "cell_type": "markdown",
      "source": [
        "#**Model Based Collaborative Filtering Recommender**\n",
        "\n",
        "---\n",
        "\n",
        "\n",
        "##The goal of the recommender system is to predict user preference for a set of items based on the past experience. Two the most popular approaches are Content-Based and Collaborative Filtering.\n",
        "##Collaborative filtering is a technique used by websites like Amazon, YouTube, and Netflix. It filters out items that a user might like on the basis of reactions of similar users. There are two categories of collaborative filtering algorithms: memory based and model based.\n",
        "##Model based approach involves building machine learning algorithms to predict user's ratings. They involve dimensionality reduction methods that reduce high dimensional matrix containing abundant number of missing values with a much smaller matrix in lower-dimensional space.\n",
        "##The goal of this section is to compare SVD and NMF algorithms, try different configurations of parameters and explore obtained results."
      ],
      "metadata": {
        "id": "3sQ6uzO46_OA"
      }
    },
    {
      "cell_type": "markdown",
      "source": [
        "![image.png](data:image/png;base64,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)"
      ],
      "metadata": {
        "id": "_3xZRLpc6EKB"
      }
    },
    {
      "cell_type": "code",
      "source": [
        "import scipy\n",
        "import math\n",
        "import sklearn\n",
        "from nltk.corpus import stopwords\n",
        "from sklearn.model_selection import train_test_split\n",
        "from sklearn.feature_extraction.text import TfidfVectorizer\n",
        "from sklearn.metrics.pairwise import cosine_similarity\n",
        "from scipy.sparse.linalg import svds\n",
        "import matplotlib.pyplot as plt"
      ],
      "metadata": {
        "id": "Iv5K4RJ_6JPd"
      },
      "execution_count": null,
      "outputs": []
    },
    {
      "cell_type": "markdown",
      "source": [
        "##This analysis will focus on book recommendations based on Book-Crossing dataset. To reduce the dimensionality of the dataset and avoid running into memory error we will focus on users with at least 3 ratings and top 10% most frequently rated books.\n",
        "##The recommender systems will be built using surprise package (Matrix Factorization - based models)."
      ],
      "metadata": {
        "id": "g4byhAPH8BD-"
      }
    },
    {
      "cell_type": "code",
      "source": [
        "ratings_explicit.rename(columns = {'User-ID':'user_id' ,'ISBN':'isbn' ,'Book-Rating':'book_rating'},inplace=True)"
      ],
      "metadata": {
        "id": "MnVpluIY8ZbW"
      },
      "execution_count": null,
      "outputs": []
    },
    {
      "cell_type": "code",
      "source": [
        "user_ratings_threshold = 3\n",
        "\n",
        "filter_users = ratings_explicit['user_id'].value_counts()\n",
        "filter_users_list = filter_users[filter_users >= user_ratings_threshold].index.to_list()\n",
        "\n",
        "df_ratings_top = ratings_explicit[ratings_explicit['user_id'].isin(filter_users_list)]\n",
        "\n",
        "print('Filter: users with at least %d ratings\\nNumber of records: %d' % (user_ratings_threshold, len(df_ratings_top)))"
      ],
      "metadata": {
        "id": "gvLO0OFm8hxo",
        "outputId": "b48407b8-8728-4ee4-a11f-2d4bf83e6782",
        "colab": {
          "base_uri": "https://localhost:8080/"
        }
      },
      "execution_count": null,
      "outputs": [
        {
          "output_type": "stream",
          "name": "stdout",
          "text": [
            "Filter: users with at least 3 ratings\n",
            "Number of records: 327271\n"
          ]
        }
      ]
    },
    {
      "cell_type": "markdown",
      "source": [
        "##SVD and NMF models comparison\n",
        "##Singular Value Decomposition (SVD) and Non-negative Matrix Factorization (NMF) are matrix factorization techniques used for dimensionality reduction. Surprise package provides implementation of those algorithms."
      ],
      "metadata": {
        "id": "BWbgSguuYklY"
      }
    },
    {
      "cell_type": "code",
      "source": [
        "!pip install surprise"
      ],
      "metadata": {
        "colab": {
          "base_uri": "https://localhost:8080/"
        },
        "id": "RKlSWfUsYxNA",
        "outputId": "664d7864-a939-4b39-f87d-c1054b0392d4"
      },
      "execution_count": null,
      "outputs": [
        {
          "output_type": "stream",
          "name": "stdout",
          "text": [
            "Collecting surprise\n",
            "  Downloading surprise-0.1-py2.py3-none-any.whl (1.8 kB)\n",
            "Collecting scikit-surprise\n",
            "  Downloading scikit-surprise-1.1.1.tar.gz (11.8 MB)\n",
            "\u001b[K     |████████████████████████████████| 11.8 MB 5.0 MB/s \n",
            "\u001b[?25hRequirement already satisfied: joblib>=0.11 in /usr/local/lib/python3.7/dist-packages (from scikit-surprise->surprise) (1.1.0)\n",
            "Requirement already satisfied: numpy>=1.11.2 in /usr/local/lib/python3.7/dist-packages (from scikit-surprise->surprise) (1.21.5)\n",
            "Requirement already satisfied: scipy>=1.0.0 in /usr/local/lib/python3.7/dist-packages (from scikit-surprise->surprise) (1.4.1)\n",
            "Requirement already satisfied: six>=1.10.0 in /usr/local/lib/python3.7/dist-packages (from scikit-surprise->surprise) (1.15.0)\n",
            "Building wheels for collected packages: scikit-surprise\n",
            "  Building wheel for scikit-surprise (setup.py) ... \u001b[?25l\u001b[?25hdone\n",
            "  Created wheel for scikit-surprise: filename=scikit_surprise-1.1.1-cp37-cp37m-linux_x86_64.whl size=1630163 sha256=a31cd3672a6431d501934d38313b1eb3033c7c407969adfca008f28e31e3b4fa\n",
            "  Stored in directory: /root/.cache/pip/wheels/76/44/74/b498c42be47b2406bd27994e16c5188e337c657025ab400c1c\n",
            "Successfully built scikit-surprise\n",
            "Installing collected packages: scikit-surprise, surprise\n",
            "Successfully installed scikit-surprise-1.1.1 surprise-0.1\n"
          ]
        }
      ]
    },
    {
      "cell_type": "code",
      "source": [
        "from surprise import Dataset, Reader\n",
        "from surprise import SVD, NMF\n",
        "from surprise.model_selection import cross_validate, train_test_split, GridSearchCV"
      ],
      "metadata": {
        "id": "dZ2VIS1LbaOf"
      },
      "execution_count": null,
      "outputs": []
    },
    {
      "cell_type": "code",
      "source": [
        "df=df_ratings_top.copy()\n",
        "reader = Reader(rating_scale=(1, 10))\n",
        "data = Dataset.load_from_df(df[['user_id', 'isbn', 'rating']], reader)"
      ],
      "metadata": {
        "id": "gHitpwEycL5d"
      },
      "execution_count": null,
      "outputs": []
    },
    {
      "cell_type": "code",
      "source": [
        "model_svd = SVD()\n",
        "cv_results_svd = cross_validate(model_svd, data, cv=3)\n",
        "pd.DataFrame(cv_results_svd).mean()"
      ],
      "metadata": {
        "colab": {
          "base_uri": "https://localhost:8080/"
        },
        "id": "Li8M-oIQcScw",
        "outputId": "a413d61d-faa5-4600-ea07-06fc8d36375e"
      },
      "execution_count": null,
      "outputs": [
        {
          "output_type": "execute_result",
          "data": {
            "text/plain": [
              "test_rmse     1.615985\n",
              "test_mae      1.247284\n",
              "fit_time     22.117647\n",
              "test_time     1.807466\n",
              "dtype: float64"
            ]
          },
          "metadata": {},
          "execution_count": 99
        }
      ]
    },
    {
      "cell_type": "code",
      "source": [
        "model_nmf = NMF()\n",
        "cv_results_nmf = cross_validate(model_nmf, data, cv=3)\n",
        "pd.DataFrame(cv_results_nmf).mean()"
      ],
      "metadata": {
        "colab": {
          "base_uri": "https://localhost:8080/"
        },
        "id": "b_6dKJancbbl",
        "outputId": "e9ca0a7c-4adb-42a9-8c5b-2a99ced13c55"
      },
      "execution_count": null,
      "outputs": [
        {
          "output_type": "execute_result",
          "data": {
            "text/plain": [
              "test_rmse     2.512502\n",
              "test_mae      2.101204\n",
              "fit_time     42.559002\n",
              "test_time     1.373950\n",
              "dtype: float64"
            ]
          },
          "metadata": {},
          "execution_count": 100
        }
      ]
    },
    {
      "cell_type": "markdown",
      "source": [
        "##It's clear that for the given dataset much better results can be obtained with SVD approach - both in terms of accuracy and training / testing time."
      ],
      "metadata": {
        "id": "yfcYhrLPckoT"
      }
    },
    {
      "cell_type": "markdown",
      "source": [
        "# **Optimisation of SVD algorithm**\n",
        "##Grid Search Cross Validation computes accuracy metrics for an algorithm on various combinations of parameters, over a cross-validation procedure. It's useful for finding the best configuration of parameters.\n",
        "##It is used to find the best setting of parameters:\n",
        "##n_factors - the number of factors\n",
        "##n_epochs - the number of iteration of the SGD procedure\n",
        "##lr_all - the learning rate for all parameters\n",
        "##reg_all - the regularization term for all parameters\n",
        "##As a result, regarding the majority of parameters, the default setting is the most optimal one. The improvement obtained with Grid Search is very small."
      ],
      "metadata": {
        "id": "p0hNaXgAeB29"
      }
    },
    {
      "cell_type": "code",
      "source": [
        "param_grid = {'n_factors': [80,100],\n",
        "              'n_epochs': [5, 20],\n",
        "              'lr_all': [0.002, 0.005],\n",
        "              'reg_all': [0.2, 0.4]}\n",
        "\n",
        "gs = GridSearchCV(SVD, param_grid, measures=['rmse', 'mae'], cv=3)\n",
        "gs.fit(data)\n",
        "\n",
        "print(gs.best_score['rmse'])\n",
        "print(gs.best_params['rmse'])"
      ],
      "metadata": {
        "colab": {
          "base_uri": "https://localhost:8080/"
        },
        "id": "-ZgXKEjbd7bn",
        "outputId": "24ae25f4-0c99-4620-c2df-e980c5b67a77"
      },
      "execution_count": null,
      "outputs": [
        {
          "output_type": "stream",
          "name": "stdout",
          "text": [
            "1.6104842499922778\n",
            "{'n_factors': 80, 'n_epochs': 20, 'lr_all': 0.005, 'reg_all': 0.2}\n"
          ]
        }
      ]
    },
    {
      "cell_type": "markdown",
      "source": [
        "# **Analysis of Collaborative Filtering model results**\n",
        "##In this part, let's examine in detail the results obtained by the SVD model that provided the best RMSE score."
      ],
      "metadata": {
        "id": "U46TBUqP8k3l"
      }
    },
    {
      "cell_type": "code",
      "source": [
        "trainset, testset = train_test_split(data, test_size=0.2)\n",
        "\n",
        "model = SVD(n_factors=80, n_epochs=20, lr_all=0.005, reg_all=0.2)\n",
        "model.fit(trainset)\n",
        "predictions = model.test(testset)"
      ],
      "metadata": {
        "id": "ze1Wvt6O8s3_"
      },
      "execution_count": null,
      "outputs": []
    },
    {
      "cell_type": "code",
      "source": [
        "df_pred = pd.DataFrame(predictions, columns=['user_id', 'isbn', 'actual_rating', 'pred_rating', 'details'])\n",
        "df_pred['impossible'] = df_pred['details'].apply(lambda x: x['was_impossible'])\n",
        "df_pred['pred_rating_round'] = df_pred['pred_rating'].round()\n",
        "df_pred['abs_err'] = abs(df_pred['pred_rating'] - df_pred['actual_rating'])\n",
        "df_pred.drop(['details'], axis=1, inplace=True)\n",
        "df_pred.sample(5)"
      ],
      "metadata": {
        "colab": {
          "base_uri": "https://localhost:8080/",
          "height": 206
        },
        "id": "Ch_EydVS8v1l",
        "outputId": "89be531e-0e0f-4eb0-9357-021fb91873bd"
      },
      "execution_count": null,
      "outputs": [
        {
          "output_type": "execute_result",
          "data": {
            "text/html": [
              "\n",
              "  <div id=\"df-41951021-1a5b-4be7-9c80-e075e2c7ec1c\">\n",
              "    <div class=\"colab-df-container\">\n",
              "      <div>\n",
              "<style scoped>\n",
              "    .dataframe tbody tr th:only-of-type {\n",
              "        vertical-align: middle;\n",
              "    }\n",
              "\n",
              "    .dataframe tbody tr th {\n",
              "        vertical-align: top;\n",
              "    }\n",
              "\n",
              "    .dataframe thead th {\n",
              "        text-align: right;\n",
              "    }\n",
              "</style>\n",
              "<table border=\"1\" class=\"dataframe\">\n",
              "  <thead>\n",
              "    <tr style=\"text-align: right;\">\n",
              "      <th></th>\n",
              "      <th>user_id</th>\n",
              "      <th>isbn</th>\n",
              "      <th>actual_rating</th>\n",
              "      <th>pred_rating</th>\n",
              "      <th>impossible</th>\n",
              "      <th>pred_rating_round</th>\n",
              "      <th>abs_err</th>\n",
              "    </tr>\n",
              "  </thead>\n",
              "  <tbody>\n",
              "    <tr>\n",
              "      <th>40064</th>\n",
              "      <td>191188</td>\n",
              "      <td>0345425480</td>\n",
              "      <td>9.0</td>\n",
              "      <td>7.317021</td>\n",
              "      <td>False</td>\n",
              "      <td>7.0</td>\n",
              "      <td>1.682979</td>\n",
              "    </tr>\n",
              "    <tr>\n",
              "      <th>6502</th>\n",
              "      <td>89361</td>\n",
              "      <td>1400031354</td>\n",
              "      <td>10.0</td>\n",
              "      <td>7.930286</td>\n",
              "      <td>False</td>\n",
              "      <td>8.0</td>\n",
              "      <td>2.069714</td>\n",
              "    </tr>\n",
              "    <tr>\n",
              "      <th>12494</th>\n",
              "      <td>159732</td>\n",
              "      <td>0451628144</td>\n",
              "      <td>8.0</td>\n",
              "      <td>7.588828</td>\n",
              "      <td>False</td>\n",
              "      <td>8.0</td>\n",
              "      <td>0.411172</td>\n",
              "    </tr>\n",
              "    <tr>\n",
              "      <th>41258</th>\n",
              "      <td>26084</td>\n",
              "      <td>0156628708</td>\n",
              "      <td>9.0</td>\n",
              "      <td>8.259872</td>\n",
              "      <td>False</td>\n",
              "      <td>8.0</td>\n",
              "      <td>0.740128</td>\n",
              "    </tr>\n",
              "    <tr>\n",
              "      <th>24708</th>\n",
              "      <td>11676</td>\n",
              "      <td>0590409433</td>\n",
              "      <td>7.0</td>\n",
              "      <td>7.666080</td>\n",
              "      <td>False</td>\n",
              "      <td>8.0</td>\n",
              "      <td>0.666080</td>\n",
              "    </tr>\n",
              "  </tbody>\n",
              "</table>\n",
              "</div>\n",
              "      <button class=\"colab-df-convert\" onclick=\"convertToInteractive('df-41951021-1a5b-4be7-9c80-e075e2c7ec1c')\"\n",
              "              title=\"Convert this dataframe to an interactive table.\"\n",
              "              style=\"display:none;\">\n",
              "        \n",
              "  <svg xmlns=\"http://www.w3.org/2000/svg\" height=\"24px\"viewBox=\"0 0 24 24\"\n",
              "       width=\"24px\">\n",
              "    <path d=\"M0 0h24v24H0V0z\" fill=\"none\"/>\n",
              "    <path d=\"M18.56 5.44l.94 2.06.94-2.06 2.06-.94-2.06-.94-.94-2.06-.94 2.06-2.06.94zm-11 1L8.5 8.5l.94-2.06 2.06-.94-2.06-.94L8.5 2.5l-.94 2.06-2.06.94zm10 10l.94 2.06.94-2.06 2.06-.94-2.06-.94-.94-2.06-.94 2.06-2.06.94z\"/><path d=\"M17.41 7.96l-1.37-1.37c-.4-.4-.92-.59-1.43-.59-.52 0-1.04.2-1.43.59L10.3 9.45l-7.72 7.72c-.78.78-.78 2.05 0 2.83L4 21.41c.39.39.9.59 1.41.59.51 0 1.02-.2 1.41-.59l7.78-7.78 2.81-2.81c.8-.78.8-2.07 0-2.86zM5.41 20L4 18.59l7.72-7.72 1.47 1.35L5.41 20z\"/>\n",
              "  </svg>\n",
              "      </button>\n",
              "      \n",
              "  <style>\n",
              "    .colab-df-container {\n",
              "      display:flex;\n",
              "      flex-wrap:wrap;\n",
              "      gap: 12px;\n",
              "    }\n",
              "\n",
              "    .colab-df-convert {\n",
              "      background-color: #E8F0FE;\n",
              "      border: none;\n",
              "      border-radius: 50%;\n",
              "      cursor: pointer;\n",
              "      display: none;\n",
              "      fill: #1967D2;\n",
              "      height: 32px;\n",
              "      padding: 0 0 0 0;\n",
              "      width: 32px;\n",
              "    }\n",
              "\n",
              "    .colab-df-convert:hover {\n",
              "      background-color: #E2EBFA;\n",
              "      box-shadow: 0px 1px 2px rgba(60, 64, 67, 0.3), 0px 1px 3px 1px rgba(60, 64, 67, 0.15);\n",
              "      fill: #174EA6;\n",
              "    }\n",
              "\n",
              "    [theme=dark] .colab-df-convert {\n",
              "      background-color: #3B4455;\n",
              "      fill: #D2E3FC;\n",
              "    }\n",
              "\n",
              "    [theme=dark] .colab-df-convert:hover {\n",
              "      background-color: #434B5C;\n",
              "      box-shadow: 0px 1px 3px 1px rgba(0, 0, 0, 0.15);\n",
              "      filter: drop-shadow(0px 1px 2px rgba(0, 0, 0, 0.3));\n",
              "      fill: #FFFFFF;\n",
              "    }\n",
              "  </style>\n",
              "\n",
              "      <script>\n",
              "        const buttonEl =\n",
              "          document.querySelector('#df-41951021-1a5b-4be7-9c80-e075e2c7ec1c button.colab-df-convert');\n",
              "        buttonEl.style.display =\n",
              "          google.colab.kernel.accessAllowed ? 'block' : 'none';\n",
              "\n",
              "        async function convertToInteractive(key) {\n",
              "          const element = document.querySelector('#df-41951021-1a5b-4be7-9c80-e075e2c7ec1c');\n",
              "          const dataTable =\n",
              "            await google.colab.kernel.invokeFunction('convertToInteractive',\n",
              "                                                     [key], {});\n",
              "          if (!dataTable) return;\n",
              "\n",
              "          const docLinkHtml = 'Like what you see? Visit the ' +\n",
              "            '<a target=\"_blank\" href=https://colab.research.google.com/notebooks/data_table.ipynb>data table notebook</a>'\n",
              "            + ' to learn more about interactive tables.';\n",
              "          element.innerHTML = '';\n",
              "          dataTable['output_type'] = 'display_data';\n",
              "          await google.colab.output.renderOutput(dataTable, element);\n",
              "          const docLink = document.createElement('div');\n",
              "          docLink.innerHTML = docLinkHtml;\n",
              "          element.appendChild(docLink);\n",
              "        }\n",
              "      </script>\n",
              "    </div>\n",
              "  </div>\n",
              "  "
            ],
            "text/plain": [
              "       user_id        isbn  ...  pred_rating_round   abs_err\n",
              "40064   191188  0345425480  ...                7.0  1.682979\n",
              "6502     89361  1400031354  ...                8.0  2.069714\n",
              "12494   159732  0451628144  ...                8.0  0.411172\n",
              "41258    26084  0156628708  ...                8.0  0.740128\n",
              "24708    11676  0590409433  ...                8.0  0.666080\n",
              "\n",
              "[5 rows x 7 columns]"
            ]
          },
          "metadata": {},
          "execution_count": 103
        }
      ]
    },
    {
      "cell_type": "markdown",
      "source": [
        "##Distribution of actual and predicted ratings in the test set According to the distribution of actual ratings of books in the test set, the biggest part of users give positive scores - between 7 and 10. The mode equals 8 but count of ratings 7, 9, 10 is also noticeable. The distribution of predicted ratings in the test set is visibly different. One more time, 8 is a mode but scores 7, 9 and 10 are clearly less frequent.\n",
        "##It shows that the recommender system is not perfect and it cannot reflect the real distribution of book ratings."
      ],
      "metadata": {
        "id": "Yi5EZv4e95Lj"
      }
    },
    {
      "cell_type": "code",
      "source": [
        "palette = sns.color_palette(\"RdBu\", 10)\n",
        "fig, (ax1, ax2) = plt.subplots(nrows=1, ncols=2, figsize=(16, 5))\n",
        "\n",
        "sns.countplot(x='actual_rating', data=df_pred, palette=palette, ax=ax1)\n",
        "ax1.set_title('Distribution of actual ratings of books in the test set')\n",
        "\n",
        "sns.countplot(x='pred_rating_round', data=df_pred, palette=palette, ax=ax2)\n",
        "ax2.set_title('Distribution of predicted ratings of books in the test set')\n",
        "\n",
        "plt.show()"
      ],
      "metadata": {
        "colab": {
          "base_uri": "https://localhost:8080/"
        },
        "id": "RkH8cnUj-nK2",
        "outputId": "73d4115b-4fa4-43e5-a6f0-ba30c3e990ea"
      },
      "execution_count": null,
      "outputs": [
        {
          "output_type": "display_data",
          "data": {
            "image/png": "[encoded data removed]",
            "text/plain": [
              "<Figure size 1152x360 with 2 Axes>"
            ]
          },
          "metadata": {}
        }
      ]
    },
    {
      "cell_type": "markdown",
      "source": [
        "## **Absolute error of predicted ratings**\n",
        "## The distribution of absolute errors is right-skewed, showing that the majority of errors is small: between 0 and 1. There is a long tail that indicates that there are several observations for which the absolute error was close to 10.\n",
        "## How good/bad the model is with predicting certain scores? As expected from the above charts, the model deals very well with predicting score = 8 (the most frequent value). The further the rating from score = 8, the higher the absolute error. The biggest errors happen to observations with scores 1 or 2 which indicates that probably the model is predicting high ratings for those observations."
      ],
      "metadata": {
        "id": "Uj3KpgwFAW9P"
      }
    },
    {
      "cell_type": "code",
      "source": [
        "df_pred_err = df_pred.groupby('actual_rating')['abs_err'].mean().reset_index()\n",
        "\n",
        "fig, (ax1, ax2) = plt.subplots(nrows=1, ncols=2, figsize=(14, 4))\n",
        "\n",
        "sns.distplot(df_pred['abs_err'], color='#2f6194', ax=ax1)\n",
        "ax1.set_title('Distribution of absolute error in test set')\n",
        "\n",
        "sns.barplot(x='actual_rating', y='abs_err', data=df_pred_err, palette=palette, ax=ax2)\n",
        "ax2.set_title('Mean absolute error for rating in test set')\n",
        "\n",
        "plt.show()"
      ],
      "metadata": {
        "colab": {
          "base_uri": "https://localhost:8080/"
        },
        "id": "Zg-lH-dCBF-1",
        "outputId": "f4b35830-d414-45e9-db3f-63a2b696f5e7"
      },
      "execution_count": null,
      "outputs": [
        {
          "output_type": "display_data",
          "data": {
            "image/png": "[encoded data removed]",
            "text/plain": [
              "<Figure size 1008x288 with 2 Axes>"
            ]
          },
          "metadata": {}
        }
      ]
    },
    {
      "cell_type": "markdown",
      "source": [
        "##Analysis of predicted ratings of a particular user\n",
        "##For this part of the analysis, the user with id 193458 was selected. By analyzing book ratings by this user, it can be noted that he/she likes diverse types of readings: English romantic novels (Pride and Prejudice, Sense and Sensibility), fantasy (Narnia) as well as historical novels (Schindler's List). Among the recommended books there are other works from Narnia's series, two historical novels and one romance which correlates with user's previous preferences."
      ],
      "metadata": {
        "id": "CAoGxUCrGbJo"
      }
    },
    {
      "cell_type": "code",
      "source": [
        "df_books = books.copy()\n",
        "df_books.rename(columns = {'ISBN':'isbn' ,'Book-Title':'book_title'},inplace=True)\n",
        "df_ext = df.merge(df_books[['isbn', 'book_title']], on='isbn', how='left')\n",
        "df_ext = df_ext.merge(df_pred[['isbn', 'user_id', 'pred_rating']], on=['isbn', 'user_id'], how='left')"
      ],
      "metadata": {
        "id": "GHta12pxsMu3"
      },
      "execution_count": null,
      "outputs": []
    },
    {
      "cell_type": "markdown",
      "source": [
        "##Train set: Top rated books"
      ],
      "metadata": {
        "id": "fE5D1FZFsR8_"
      }
    },
    {
      "cell_type": "code",
      "source": [
        "selected_user_id = 193458\n",
        "df_user = df_ext[df_ext['user_id']==selected_user_id]\n",
        "\n",
        "df_user[(df_user['pred_rating'].isna())&(df_user['rating']>=9)].sample(10)"
      ],
      "metadata": {
        "colab": {
          "base_uri": "https://localhost:8080/"
        },
        "id": "_kWkRtFJsRdZ",
        "outputId": "05898a89-6069-446d-a399-d3b832b7be54"
      },
      "execution_count": null,
      "outputs": [
        {
          "output_type": "execute_result",
          "data": {
            "text/html": [
              "\n",
              "  <div id=\"df-e235eac0-b7f2-459e-866a-c38d2f5d535b\">\n",
              "    <div class=\"colab-df-container\">\n",
              "      <div>\n",
              "<style scoped>\n",
              "    .dataframe tbody tr th:only-of-type {\n",
              "        vertical-align: middle;\n",
              "    }\n",
              "\n",
              "    .dataframe tbody tr th {\n",
              "        vertical-align: top;\n",
              "    }\n",
              "\n",
              "    .dataframe thead th {\n",
              "        text-align: right;\n",
              "    }\n",
              "</style>\n",
              "<table border=\"1\" class=\"dataframe\">\n",
              "  <thead>\n",
              "    <tr style=\"text-align: right;\">\n",
              "      <th></th>\n",
              "      <th>user_id</th>\n",
              "      <th>isbn</th>\n",
              "      <th>rating</th>\n",
              "      <th>Avg_Rating</th>\n",
              "      <th>Total_No_Of_Users_Rated</th>\n",
              "      <th>book_title</th>\n",
              "      <th>pred_rating</th>\n",
              "    </tr>\n",
              "  </thead>\n",
              "  <tbody>\n",
              "    <tr>\n",
              "      <th>234959</th>\n",
              "      <td>193458</td>\n",
              "      <td>0671880314</td>\n",
              "      <td>9</td>\n",
              "      <td>8.305556</td>\n",
              "      <td>36</td>\n",
              "      <td>Schindler's List</td>\n",
              "      <td>NaN</td>\n",
              "    </tr>\n",
              "    <tr>\n",
              "      <th>234950</th>\n",
              "      <td>193458</td>\n",
              "      <td>0553258001</td>\n",
              "      <td>9</td>\n",
              "      <td>8.236842</td>\n",
              "      <td>38</td>\n",
              "      <td>The Cider House Rules</td>\n",
              "      <td>NaN</td>\n",
              "    </tr>\n",
              "    <tr>\n",
              "      <th>234890</th>\n",
              "      <td>193458</td>\n",
              "      <td>0064471047</td>\n",
              "      <td>9</td>\n",
              "      <td>8.714286</td>\n",
              "      <td>42</td>\n",
              "      <td>The Lion, the Witch, and the Wardrobe (The Chr...</td>\n",
              "      <td>NaN</td>\n",
              "    </tr>\n",
              "    <tr>\n",
              "      <th>234907</th>\n",
              "      <td>193458</td>\n",
              "      <td>0142001740</td>\n",
              "      <td>9</td>\n",
              "      <td>8.452769</td>\n",
              "      <td>307</td>\n",
              "      <td>The Secret Life of Bees</td>\n",
              "      <td>NaN</td>\n",
              "    </tr>\n",
              "    <tr>\n",
              "      <th>234891</th>\n",
              "      <td>193458</td>\n",
              "      <td>0064471055</td>\n",
              "      <td>9</td>\n",
              "      <td>8.545455</td>\n",
              "      <td>22</td>\n",
              "      <td>Prince Caspian (rack) : The Return to Narnia (...</td>\n",
              "      <td>NaN</td>\n",
              "    </tr>\n",
              "    <tr>\n",
              "      <th>234896</th>\n",
              "      <td>193458</td>\n",
              "      <td>0064471101</td>\n",
              "      <td>9</td>\n",
              "      <td>8.729730</td>\n",
              "      <td>37</td>\n",
              "      <td>The Magician's Nephew (rack) (Narnia)</td>\n",
              "      <td>NaN</td>\n",
              "    </tr>\n",
              "    <tr>\n",
              "      <th>234895</th>\n",
              "      <td>193458</td>\n",
              "      <td>0064471098</td>\n",
              "      <td>9</td>\n",
              "      <td>8.733333</td>\n",
              "      <td>15</td>\n",
              "      <td>The Silver Chair</td>\n",
              "      <td>NaN</td>\n",
              "    </tr>\n",
              "    <tr>\n",
              "      <th>234905</th>\n",
              "      <td>193458</td>\n",
              "      <td>0140620125</td>\n",
              "      <td>9</td>\n",
              "      <td>8.133333</td>\n",
              "      <td>15</td>\n",
              "      <td>Wuthering Heights (Penguin Popular Classics)</td>\n",
              "      <td>NaN</td>\n",
              "    </tr>\n",
              "    <tr>\n",
              "      <th>234921</th>\n",
              "      <td>193458</td>\n",
              "      <td>0345361792</td>\n",
              "      <td>10</td>\n",
              "      <td>8.607735</td>\n",
              "      <td>181</td>\n",
              "      <td>A Prayer for Owen Meany</td>\n",
              "      <td>NaN</td>\n",
              "    </tr>\n",
              "    <tr>\n",
              "      <th>234963</th>\n",
              "      <td>193458</td>\n",
              "      <td>0679429220</td>\n",
              "      <td>9</td>\n",
              "      <td>7.794393</td>\n",
              "      <td>107</td>\n",
              "      <td>Midnight in the Garden of Good and Evil: A Sav...</td>\n",
              "      <td>NaN</td>\n",
              "    </tr>\n",
              "  </tbody>\n",
              "</table>\n",
              "</div>\n",
              "      <button class=\"colab-df-convert\" onclick=\"convertToInteractive('df-e235eac0-b7f2-459e-866a-c38d2f5d535b')\"\n",
              "              title=\"Convert this dataframe to an interactive table.\"\n",
              "              style=\"display:none;\">\n",
              "        \n",
              "  <svg xmlns=\"http://www.w3.org/2000/svg\" height=\"24px\"viewBox=\"0 0 24 24\"\n",
              "       width=\"24px\">\n",
              "    <path d=\"M0 0h24v24H0V0z\" fill=\"none\"/>\n",
              "    <path d=\"M18.56 5.44l.94 2.06.94-2.06 2.06-.94-2.06-.94-.94-2.06-.94 2.06-2.06.94zm-11 1L8.5 8.5l.94-2.06 2.06-.94-2.06-.94L8.5 2.5l-.94 2.06-2.06.94zm10 10l.94 2.06.94-2.06 2.06-.94-2.06-.94-.94-2.06-.94 2.06-2.06.94z\"/><path d=\"M17.41 7.96l-1.37-1.37c-.4-.4-.92-.59-1.43-.59-.52 0-1.04.2-1.43.59L10.3 9.45l-7.72 7.72c-.78.78-.78 2.05 0 2.83L4 21.41c.39.39.9.59 1.41.59.51 0 1.02-.2 1.41-.59l7.78-7.78 2.81-2.81c.8-.78.8-2.07 0-2.86zM5.41 20L4 18.59l7.72-7.72 1.47 1.35L5.41 20z\"/>\n",
              "  </svg>\n",
              "      </button>\n",
              "      \n",
              "  <style>\n",
              "    .colab-df-container {\n",
              "      display:flex;\n",
              "      flex-wrap:wrap;\n",
              "      gap: 12px;\n",
              "    }\n",
              "\n",
              "    .colab-df-convert {\n",
              "      background-color: #E8F0FE;\n",
              "      border: none;\n",
              "      border-radius: 50%;\n",
              "      cursor: pointer;\n",
              "      display: none;\n",
              "      fill: #1967D2;\n",
              "      height: 32px;\n",
              "      padding: 0 0 0 0;\n",
              "      width: 32px;\n",
              "    }\n",
              "\n",
              "    .colab-df-convert:hover {\n",
              "      background-color: #E2EBFA;\n",
              "      box-shadow: 0px 1px 2px rgba(60, 64, 67, 0.3), 0px 1px 3px 1px rgba(60, 64, 67, 0.15);\n",
              "      fill: #174EA6;\n",
              "    }\n",
              "\n",
              "    [theme=dark] .colab-df-convert {\n",
              "      background-color: #3B4455;\n",
              "      fill: #D2E3FC;\n",
              "    }\n",
              "\n",
              "    [theme=dark] .colab-df-convert:hover {\n",
              "      background-color: #434B5C;\n",
              "      box-shadow: 0px 1px 3px 1px rgba(0, 0, 0, 0.15);\n",
              "      filter: drop-shadow(0px 1px 2px rgba(0, 0, 0, 0.3));\n",
              "      fill: #FFFFFF;\n",
              "    }\n",
              "  </style>\n",
              "\n",
              "      <script>\n",
              "        const buttonEl =\n",
              "          document.querySelector('#df-e235eac0-b7f2-459e-866a-c38d2f5d535b button.colab-df-convert');\n",
              "        buttonEl.style.display =\n",
              "          google.colab.kernel.accessAllowed ? 'block' : 'none';\n",
              "\n",
              "        async function convertToInteractive(key) {\n",
              "          const element = document.querySelector('#df-e235eac0-b7f2-459e-866a-c38d2f5d535b');\n",
              "          const dataTable =\n",
              "            await google.colab.kernel.invokeFunction('convertToInteractive',\n",
              "                                                     [key], {});\n",
              "          if (!dataTable) return;\n",
              "\n",
              "          const docLinkHtml = 'Like what you see? Visit the ' +\n",
              "            '<a target=\"_blank\" href=https://colab.research.google.com/notebooks/data_table.ipynb>data table notebook</a>'\n",
              "            + ' to learn more about interactive tables.';\n",
              "          element.innerHTML = '';\n",
              "          dataTable['output_type'] = 'display_data';\n",
              "          await google.colab.output.renderOutput(dataTable, element);\n",
              "          const docLink = document.createElement('div');\n",
              "          docLink.innerHTML = docLinkHtml;\n",
              "          element.appendChild(docLink);\n",
              "        }\n",
              "      </script>\n",
              "    </div>\n",
              "  </div>\n",
              "  "
            ],
            "text/plain": [
              "        user_id  ... pred_rating\n",
              "234959   193458  ...         NaN\n",
              "234950   193458  ...         NaN\n",
              "234890   193458  ...         NaN\n",
              "234907   193458  ...         NaN\n",
              "234891   193458  ...         NaN\n",
              "234896   193458  ...         NaN\n",
              "234895   193458  ...         NaN\n",
              "234905   193458  ...         NaN\n",
              "234921   193458  ...         NaN\n",
              "234963   193458  ...         NaN\n",
              "\n",
              "[10 rows x 7 columns]"
            ]
          },
          "metadata": {},
          "execution_count": 107
        }
      ]
    },
    {
      "cell_type": "markdown",
      "source": [
        "## Test set: predicted top rated books"
      ],
      "metadata": {
        "id": "voD7wr3msZVj"
      }
    },
    {
      "cell_type": "code",
      "source": [
        "df_user[df_user['pred_rating'].notna()].sort_values('pred_rating', ascending=False).head(5)"
      ],
      "metadata": {
        "colab": {
          "base_uri": "https://localhost:8080/"
        },
        "id": "3Yd6LLZUsa4w",
        "outputId": "b5749ea5-76ac-4dbc-e369-a6fa1f1fc3a7"
      },
      "execution_count": null,
      "outputs": [
        {
          "output_type": "execute_result",
          "data": {
            "text/html": [
              "\n",
              "  <div id=\"df-781a41db-f343-4297-8e21-0e2ff07764c4\">\n",
              "    <div class=\"colab-df-container\">\n",
              "      <div>\n",
              "<style scoped>\n",
              "    .dataframe tbody tr th:only-of-type {\n",
              "        vertical-align: middle;\n",
              "    }\n",
              "\n",
              "    .dataframe tbody tr th {\n",
              "        vertical-align: top;\n",
              "    }\n",
              "\n",
              "    .dataframe thead th {\n",
              "        text-align: right;\n",
              "    }\n",
              "</style>\n",
              "<table border=\"1\" class=\"dataframe\">\n",
              "  <thead>\n",
              "    <tr style=\"text-align: right;\">\n",
              "      <th></th>\n",
              "      <th>user_id</th>\n",
              "      <th>isbn</th>\n",
              "      <th>rating</th>\n",
              "      <th>Avg_Rating</th>\n",
              "      <th>Total_No_Of_Users_Rated</th>\n",
              "      <th>book_title</th>\n",
              "      <th>pred_rating</th>\n",
              "    </tr>\n",
              "  </thead>\n",
              "  <tbody>\n",
              "    <tr>\n",
              "      <th>234894</th>\n",
              "      <td>193458</td>\n",
              "      <td>006447108X</td>\n",
              "      <td>9</td>\n",
              "      <td>8.833333</td>\n",
              "      <td>18</td>\n",
              "      <td>The Last Battle</td>\n",
              "      <td>8.156599</td>\n",
              "    </tr>\n",
              "    <tr>\n",
              "      <th>234994</th>\n",
              "      <td>193458</td>\n",
              "      <td>1853260002</td>\n",
              "      <td>10</td>\n",
              "      <td>8.217391</td>\n",
              "      <td>23</td>\n",
              "      <td>Pride &amp;amp; Prejudice (Wordsworth Classics)</td>\n",
              "      <td>8.013707</td>\n",
              "    </tr>\n",
              "    <tr>\n",
              "      <th>234893</th>\n",
              "      <td>193458</td>\n",
              "      <td>0064471071</td>\n",
              "      <td>9</td>\n",
              "      <td>8.733333</td>\n",
              "      <td>15</td>\n",
              "      <td>The Voyage of the Dawn Treader (rack) (Narnia)</td>\n",
              "      <td>7.980881</td>\n",
              "    </tr>\n",
              "    <tr>\n",
              "      <th>234987</th>\n",
              "      <td>193458</td>\n",
              "      <td>1559703237</td>\n",
              "      <td>7</td>\n",
              "      <td>8.000000</td>\n",
              "      <td>4</td>\n",
              "      <td>Trying to Save Piggy Sneed</td>\n",
              "      <td>7.679480</td>\n",
              "    </tr>\n",
              "    <tr>\n",
              "      <th>234947</th>\n",
              "      <td>193458</td>\n",
              "      <td>0486204871</td>\n",
              "      <td>9</td>\n",
              "      <td>8.666667</td>\n",
              "      <td>3</td>\n",
              "      <td>The Devil's Dictionary</td>\n",
              "      <td>7.638327</td>\n",
              "    </tr>\n",
              "  </tbody>\n",
              "</table>\n",
              "</div>\n",
              "      <button class=\"colab-df-convert\" onclick=\"convertToInteractive('df-781a41db-f343-4297-8e21-0e2ff07764c4')\"\n",
              "              title=\"Convert this dataframe to an interactive table.\"\n",
              "              style=\"display:none;\">\n",
              "        \n",
              "  <svg xmlns=\"http://www.w3.org/2000/svg\" height=\"24px\"viewBox=\"0 0 24 24\"\n",
              "       width=\"24px\">\n",
              "    <path d=\"M0 0h24v24H0V0z\" fill=\"none\"/>\n",
              "    <path d=\"M18.56 5.44l.94 2.06.94-2.06 2.06-.94-2.06-.94-.94-2.06-.94 2.06-2.06.94zm-11 1L8.5 8.5l.94-2.06 2.06-.94-2.06-.94L8.5 2.5l-.94 2.06-2.06.94zm10 10l.94 2.06.94-2.06 2.06-.94-2.06-.94-.94-2.06-.94 2.06-2.06.94z\"/><path d=\"M17.41 7.96l-1.37-1.37c-.4-.4-.92-.59-1.43-.59-.52 0-1.04.2-1.43.59L10.3 9.45l-7.72 7.72c-.78.78-.78 2.05 0 2.83L4 21.41c.39.39.9.59 1.41.59.51 0 1.02-.2 1.41-.59l7.78-7.78 2.81-2.81c.8-.78.8-2.07 0-2.86zM5.41 20L4 18.59l7.72-7.72 1.47 1.35L5.41 20z\"/>\n",
              "  </svg>\n",
              "      </button>\n",
              "      \n",
              "  <style>\n",
              "    .colab-df-container {\n",
              "      display:flex;\n",
              "      flex-wrap:wrap;\n",
              "      gap: 12px;\n",
              "    }\n",
              "\n",
              "    .colab-df-convert {\n",
              "      background-color: #E8F0FE;\n",
              "      border: none;\n",
              "      border-radius: 50%;\n",
              "      cursor: pointer;\n",
              "      display: none;\n",
              "      fill: #1967D2;\n",
              "      height: 32px;\n",
              "      padding: 0 0 0 0;\n",
              "      width: 32px;\n",
              "    }\n",
              "\n",
              "    .colab-df-convert:hover {\n",
              "      background-color: #E2EBFA;\n",
              "      box-shadow: 0px 1px 2px rgba(60, 64, 67, 0.3), 0px 1px 3px 1px rgba(60, 64, 67, 0.15);\n",
              "      fill: #174EA6;\n",
              "    }\n",
              "\n",
              "    [theme=dark] .colab-df-convert {\n",
              "      background-color: #3B4455;\n",
              "      fill: #D2E3FC;\n",
              "    }\n",
              "\n",
              "    [theme=dark] .colab-df-convert:hover {\n",
              "      background-color: #434B5C;\n",
              "      box-shadow: 0px 1px 3px 1px rgba(0, 0, 0, 0.15);\n",
              "      filter: drop-shadow(0px 1px 2px rgba(0, 0, 0, 0.3));\n",
              "      fill: #FFFFFF;\n",
              "    }\n",
              "  </style>\n",
              "\n",
              "      <script>\n",
              "        const buttonEl =\n",
              "          document.querySelector('#df-781a41db-f343-4297-8e21-0e2ff07764c4 button.colab-df-convert');\n",
              "        buttonEl.style.display =\n",
              "          google.colab.kernel.accessAllowed ? 'block' : 'none';\n",
              "\n",
              "        async function convertToInteractive(key) {\n",
              "          const element = document.querySelector('#df-781a41db-f343-4297-8e21-0e2ff07764c4');\n",
              "          const dataTable =\n",
              "            await google.colab.kernel.invokeFunction('convertToInteractive',\n",
              "                                                     [key], {});\n",
              "          if (!dataTable) return;\n",
              "\n",
              "          const docLinkHtml = 'Like what you see? Visit the ' +\n",
              "            '<a target=\"_blank\" href=https://colab.research.google.com/notebooks/data_table.ipynb>data table notebook</a>'\n",
              "            + ' to learn more about interactive tables.';\n",
              "          element.innerHTML = '';\n",
              "          dataTable['output_type'] = 'display_data';\n",
              "          await google.colab.output.renderOutput(dataTable, element);\n",
              "          const docLink = document.createElement('div');\n",
              "          docLink.innerHTML = docLinkHtml;\n",
              "          element.appendChild(docLink);\n",
              "        }\n",
              "      </script>\n",
              "    </div>\n",
              "  </div>\n",
              "  "
            ],
            "text/plain": [
              "        user_id  ... pred_rating\n",
              "234894   193458  ...    8.156599\n",
              "234994   193458  ...    8.013707\n",
              "234893   193458  ...    7.980881\n",
              "234987   193458  ...    7.679480\n",
              "234947   193458  ...    7.638327\n",
              "\n",
              "[5 rows x 7 columns]"
            ]
          },
          "metadata": {},
          "execution_count": 108
        }
      ]
    },
    {
      "cell_type": "markdown",
      "source": [
        "## Test set: actual top rated books"
      ],
      "metadata": {
        "id": "v2aFV3vSsjuy"
      }
    },
    {
      "cell_type": "code",
      "source": [
        "df_user[df_user['pred_rating'].notna()].sort_values('rating', ascending=False).head(5)"
      ],
      "metadata": {
        "colab": {
          "base_uri": "https://localhost:8080/"
        },
        "id": "E3PZBj7_sgYp",
        "outputId": "63c0c8c7-3d64-4290-8f75-7a6e0da06889"
      },
      "execution_count": null,
      "outputs": [
        {
          "output_type": "execute_result",
          "data": {
            "text/html": [
              "\n",
              "  <div id=\"df-a7fc34b8-5785-4f65-a199-7ac5803210a4\">\n",
              "    <div class=\"colab-df-container\">\n",
              "      <div>\n",
              "<style scoped>\n",
              "    .dataframe tbody tr th:only-of-type {\n",
              "        vertical-align: middle;\n",
              "    }\n",
              "\n",
              "    .dataframe tbody tr th {\n",
              "        vertical-align: top;\n",
              "    }\n",
              "\n",
              "    .dataframe thead th {\n",
              "        text-align: right;\n",
              "    }\n",
              "</style>\n",
              "<table border=\"1\" class=\"dataframe\">\n",
              "  <thead>\n",
              "    <tr style=\"text-align: right;\">\n",
              "      <th></th>\n",
              "      <th>user_id</th>\n",
              "      <th>isbn</th>\n",
              "      <th>rating</th>\n",
              "      <th>Avg_Rating</th>\n",
              "      <th>Total_No_Of_Users_Rated</th>\n",
              "      <th>book_title</th>\n",
              "      <th>pred_rating</th>\n",
              "    </tr>\n",
              "  </thead>\n",
              "  <tbody>\n",
              "    <tr>\n",
              "      <th>234994</th>\n",
              "      <td>193458</td>\n",
              "      <td>1853260002</td>\n",
              "      <td>10</td>\n",
              "      <td>8.217391</td>\n",
              "      <td>23</td>\n",
              "      <td>Pride &amp;amp; Prejudice (Wordsworth Classics)</td>\n",
              "      <td>8.013707</td>\n",
              "    </tr>\n",
              "    <tr>\n",
              "      <th>234893</th>\n",
              "      <td>193458</td>\n",
              "      <td>0064471071</td>\n",
              "      <td>9</td>\n",
              "      <td>8.733333</td>\n",
              "      <td>15</td>\n",
              "      <td>The Voyage of the Dawn Treader (rack) (Narnia)</td>\n",
              "      <td>7.980881</td>\n",
              "    </tr>\n",
              "    <tr>\n",
              "      <th>234970</th>\n",
              "      <td>193458</td>\n",
              "      <td>0792274989</td>\n",
              "      <td>9</td>\n",
              "      <td>8.666667</td>\n",
              "      <td>3</td>\n",
              "      <td>National Geographic Photography Field Guide: S...</td>\n",
              "      <td>7.590139</td>\n",
              "    </tr>\n",
              "    <tr>\n",
              "      <th>234947</th>\n",
              "      <td>193458</td>\n",
              "      <td>0486204871</td>\n",
              "      <td>9</td>\n",
              "      <td>8.666667</td>\n",
              "      <td>3</td>\n",
              "      <td>The Devil's Dictionary</td>\n",
              "      <td>7.638327</td>\n",
              "    </tr>\n",
              "    <tr>\n",
              "      <th>234894</th>\n",
              "      <td>193458</td>\n",
              "      <td>006447108X</td>\n",
              "      <td>9</td>\n",
              "      <td>8.833333</td>\n",
              "      <td>18</td>\n",
              "      <td>The Last Battle</td>\n",
              "      <td>8.156599</td>\n",
              "    </tr>\n",
              "  </tbody>\n",
              "</table>\n",
              "</div>\n",
              "      <button class=\"colab-df-convert\" onclick=\"convertToInteractive('df-a7fc34b8-5785-4f65-a199-7ac5803210a4')\"\n",
              "              title=\"Convert this dataframe to an interactive table.\"\n",
              "              style=\"display:none;\">\n",
              "        \n",
              "  <svg xmlns=\"http://www.w3.org/2000/svg\" height=\"24px\"viewBox=\"0 0 24 24\"\n",
              "       width=\"24px\">\n",
              "    <path d=\"M0 0h24v24H0V0z\" fill=\"none\"/>\n",
              "    <path d=\"M18.56 5.44l.94 2.06.94-2.06 2.06-.94-2.06-.94-.94-2.06-.94 2.06-2.06.94zm-11 1L8.5 8.5l.94-2.06 2.06-.94-2.06-.94L8.5 2.5l-.94 2.06-2.06.94zm10 10l.94 2.06.94-2.06 2.06-.94-2.06-.94-.94-2.06-.94 2.06-2.06.94z\"/><path d=\"M17.41 7.96l-1.37-1.37c-.4-.4-.92-.59-1.43-.59-.52 0-1.04.2-1.43.59L10.3 9.45l-7.72 7.72c-.78.78-.78 2.05 0 2.83L4 21.41c.39.39.9.59 1.41.59.51 0 1.02-.2 1.41-.59l7.78-7.78 2.81-2.81c.8-.78.8-2.07 0-2.86zM5.41 20L4 18.59l7.72-7.72 1.47 1.35L5.41 20z\"/>\n",
              "  </svg>\n",
              "      </button>\n",
              "      \n",
              "  <style>\n",
              "    .colab-df-container {\n",
              "      display:flex;\n",
              "      flex-wrap:wrap;\n",
              "      gap: 12px;\n",
              "    }\n",
              "\n",
              "    .colab-df-convert {\n",
              "      background-color: #E8F0FE;\n",
              "      border: none;\n",
              "      border-radius: 50%;\n",
              "      cursor: pointer;\n",
              "      display: none;\n",
              "      fill: #1967D2;\n",
              "      height: 32px;\n",
              "      padding: 0 0 0 0;\n",
              "      width: 32px;\n",
              "    }\n",
              "\n",
              "    .colab-df-convert:hover {\n",
              "      background-color: #E2EBFA;\n",
              "      box-shadow: 0px 1px 2px rgba(60, 64, 67, 0.3), 0px 1px 3px 1px rgba(60, 64, 67, 0.15);\n",
              "      fill: #174EA6;\n",
              "    }\n",
              "\n",
              "    [theme=dark] .colab-df-convert {\n",
              "      background-color: #3B4455;\n",
              "      fill: #D2E3FC;\n",
              "    }\n",
              "\n",
              "    [theme=dark] .colab-df-convert:hover {\n",
              "      background-color: #434B5C;\n",
              "      box-shadow: 0px 1px 3px 1px rgba(0, 0, 0, 0.15);\n",
              "      filter: drop-shadow(0px 1px 2px rgba(0, 0, 0, 0.3));\n",
              "      fill: #FFFFFF;\n",
              "    }\n",
              "  </style>\n",
              "\n",
              "      <script>\n",
              "        const buttonEl =\n",
              "          document.querySelector('#df-a7fc34b8-5785-4f65-a199-7ac5803210a4 button.colab-df-convert');\n",
              "        buttonEl.style.display =\n",
              "          google.colab.kernel.accessAllowed ? 'block' : 'none';\n",
              "\n",
              "        async function convertToInteractive(key) {\n",
              "          const element = document.querySelector('#df-a7fc34b8-5785-4f65-a199-7ac5803210a4');\n",
              "          const dataTable =\n",
              "            await google.colab.kernel.invokeFunction('convertToInteractive',\n",
              "                                                     [key], {});\n",
              "          if (!dataTable) return;\n",
              "\n",
              "          const docLinkHtml = 'Like what you see? Visit the ' +\n",
              "            '<a target=\"_blank\" href=https://colab.research.google.com/notebooks/data_table.ipynb>data table notebook</a>'\n",
              "            + ' to learn more about interactive tables.';\n",
              "          element.innerHTML = '';\n",
              "          dataTable['output_type'] = 'display_data';\n",
              "          await google.colab.output.renderOutput(dataTable, element);\n",
              "          const docLink = document.createElement('div');\n",
              "          docLink.innerHTML = docLinkHtml;\n",
              "          element.appendChild(docLink);\n",
              "        }\n",
              "      </script>\n",
              "    </div>\n",
              "  </div>\n",
              "  "
            ],
            "text/plain": [
              "        user_id  ... pred_rating\n",
              "234994   193458  ...    8.013707\n",
              "234893   193458  ...    7.980881\n",
              "234970   193458  ...    7.590139\n",
              "234947   193458  ...    7.638327\n",
              "234894   193458  ...    8.156599\n",
              "\n",
              "[5 rows x 7 columns]"
            ]
          },
          "metadata": {},
          "execution_count": 109
        }
      ]
    },
    {
      "cell_type": "markdown",
      "source": [
        "## **Collaborative Filtering based Recommendation System--(User-Item Based)**"
      ],
      "metadata": {
        "id": "0XpZuvruweAn"
      }
    },
    {
      "cell_type": "code",
      "source": [
        "from sklearn.neighbors import NearestNeighbors\n",
        "from sklearn.feature_extraction import DictVectorizer\n",
        "from sklearn.metrics.pairwise import cosine_similarity\n",
        "from sklearn.feature_extraction.text import TfidfVectorizer\n",
        "from scipy.spatial.distance import correlation\n",
        "import operator\n",
        "from sklearn.metrics.pairwise import pairwise_distances\n",
        "import ipywidgets as widgets\n",
        "from IPython.display import display, clear_output\n",
        "from contextlib import contextmanager\n",
        "import numpy as np\n",
        "import os, sys\n",
        "import re\n",
        "from scipy.sparse import csr_matrix"
      ],
      "metadata": {
        "id": "eDOiYRCpwjvT"
      },
      "execution_count": null,
      "outputs": []
    },
    {
      "cell_type": "code",
      "source": [
        "## Taking book name and Number of recommendation of book\n",
        "bookName = input(\"Enter a book name: \")\n",
        "number = int(input(\"Enter number of books to recommend: \"))"
      ],
      "metadata": {
        "colab": {
          "base_uri": "https://localhost:8080/"
        },
        "id": "VYMwtc8eR38X",
        "outputId": "ef19e792-1481-4a59-a1da-081cd3e65721"
      },
      "execution_count": null,
      "outputs": [
        {
          "name": "stdout",
          "output_type": "stream",
          "text": [
            "Enter a book name: Harry Potter and the Sorcerer's Stone (Harry Potter (Paperback))\n",
            "Enter number of books to recommend: 5\n"
          ]
        }
      ]
    },
    {
      "cell_type": "code",
      "source": [
        "df = pd.DataFrame(dataset['Book-Title'].value_counts())\n",
        "df['Total-Ratings'] = df['Book-Title']\n",
        "df['Book-Title'] = df.index\n",
        "df.reset_index(level=0, inplace=True)\n",
        "df = df.drop('index',axis=1)\n",
        "\n",
        "df = dataset.merge(df, left_on = 'Book-Title', right_on = 'Book-Title', how = 'left')\n",
        "df = df.drop(['Year-Of-Publication','Publisher','Age','City','State','Country'], axis=1)\n",
        "\n",
        "popularity_threshold = 50\n",
        "popular_book = df[df['Total-Ratings'] >= popularity_threshold]\n",
        "popular_book = popular_book.reset_index(drop = True)"
      ],
      "metadata": {
        "id": "IqqPTMR6OH0z"
      },
      "execution_count": null,
      "outputs": []
    },
    {
      "cell_type": "code",
      "source": [
        "testdf = pd.DataFrame()\n",
        "testdf['ISBN'] = popular_book['ISBN']\n",
        "testdf['rating'] = popular_book['rating']\n",
        "testdf['User-ID'] = popular_book['User-ID']\n",
        "testdf = testdf[['User-ID','rating']].groupby(testdf['ISBN'])"
      ],
      "metadata": {
        "id": "mVb_o1c5QlOx"
      },
      "execution_count": null,
      "outputs": []
    },
    {
      "cell_type": "code",
      "source": [
        "listOfDictonaries=[]\n",
        "indexMap = {}\n",
        "reverseIndexMap = {}\n",
        "ptr=0\n",
        "\n",
        "for groupKey in testdf.groups.keys():\n",
        "    tempDict={}\n",
        "    groupDF = testdf.get_group(groupKey)\n",
        "    for i in range(0,len(groupDF)):\n",
        "        tempDict[groupDF.iloc[i,0]] = groupDF.iloc[i,1]\n",
        "    indexMap[ptr]=groupKey\n",
        "    reverseIndexMap[groupKey] = ptr\n",
        "    ptr=ptr+1\n",
        "    listOfDictonaries.append(tempDict)\n",
        "\n",
        "dictVectorizer = DictVectorizer(sparse=True)\n",
        "vector = dictVectorizer.fit_transform(listOfDictonaries)\n",
        "pairwiseSimilarity = cosine_similarity(vector)"
      ],
      "metadata": {
        "id": "nThms4zHQ4kH"
      },
      "execution_count": null,
      "outputs": []
    },
    {
      "cell_type": "code",
      "source": [
        "def printBookDetails(bookID):\n",
        "    print(dataset[dataset['ISBN']==bookID]['Book-Title'].values[0])\n",
        "   \n",
        "\n",
        "def getTopRecommandations(bookID):\n",
        "    collaborative = []\n",
        "    row = reverseIndexMap[bookID]\n",
        "    print(\"Input Book:\")\n",
        "    printBookDetails(bookID)\n",
        "    \n",
        "    print(\"\\nRECOMMENDATIONS:\\n\")\n",
        "    \n",
        "    mn = 0\n",
        "    similar = []\n",
        "    for i in np.argsort(pairwiseSimilarity[row])[:-2][::-1]:\n",
        "          if dataset[dataset['ISBN']==indexMap[i]]['Book-Title'].values[0] not in similar:\n",
        "                if mn>=number:\n",
        "                      break\n",
        "                mn+=1\n",
        "                similar.append(dataset[dataset['ISBN']==indexMap[i]]['Book-Title'].values[0])\n",
        "                printBookDetails(indexMap[i])\n",
        "                collaborative.append(dataset[dataset['ISBN']==indexMap[i]]['Book-Title'].values[0])\n",
        "    return collaborative"
      ],
      "metadata": {
        "id": "iGh1lGzTRSBa"
      },
      "execution_count": null,
      "outputs": []
    },
    {
      "cell_type": "code",
      "source": [
        "k = list(dataset['Book-Title'])\n",
        "m = list(dataset['ISBN'])\n",
        "\n",
        "collaborative = getTopRecommandations(m[k.index(bookName)])"
      ],
      "metadata": {
        "colab": {
          "base_uri": "https://localhost:8080/"
        },
        "id": "YQ_xyfPjRjX-",
        "outputId": "bcbdefd3-2197-4a9b-8f8d-3fc3114e3a0e"
      },
      "execution_count": null,
      "outputs": [
        {
          "output_type": "stream",
          "name": "stdout",
          "text": [
            "Input Book:\n",
            "Harry Potter and the Sorcerer's Stone (Harry Potter (Paperback))\n",
            "\n",
            "RECOMMENDATIONS:\n",
            "\n",
            "Harry Potter and the Prisoner of Azkaban (Book 3)\n",
            "Harry Potter and the Goblet of Fire (Book 4)\n",
            "Harry Potter and the Order of the Phoenix (Book 5)\n",
            "Harry Potter and the Chamber of Secrets (Book 2)\n",
            "Fried Green Tomatoes at the Whistle Stop Cafe\n"
          ]
        }
      ]
    },
    {
      "cell_type": "markdown",
      "source": [
        "## **Correlation Based**"
      ],
      "metadata": {
        "id": "iVkSoEI5Uacb"
      }
    },
    {
      "cell_type": "code",
      "source": [
        "popularity_threshold = 50\n",
        "\n",
        "user_count = dataset['User-ID'].value_counts()\n",
        "data = dataset[dataset['User-ID'].isin(user_count[user_count >= popularity_threshold].index)]\n",
        "rat_count = data['rating'].value_counts()\n",
        "data = data[data['rating'].isin(rat_count[rat_count >= popularity_threshold].index)]\n",
        "\n",
        "matrix = data.pivot_table(index='User-ID', columns='ISBN', values = 'rating').fillna(0)"
      ],
      "metadata": {
        "id": "MT-IVxy9UXwx"
      },
      "execution_count": null,
      "outputs": []
    },
    {
      "cell_type": "code",
      "source": [
        "average_rating = pd.DataFrame(dataset.groupby('ISBN')['rating'].mean())\n",
        "average_rating['ratingCount'] = pd.DataFrame(ratings.groupby('ISBN')['rating'].count())\n",
        "average_rating.sort_values('ratingCount', ascending=False).head()"
      ],
      "metadata": {
        "colab": {
          "base_uri": "https://localhost:8080/",
          "height": 238
        },
        "id": "-zVgE9mpUzTt",
        "outputId": "e3e15c01-1e3a-4c67-ce9c-befdc096f9cf"
      },
      "execution_count": null,
      "outputs": [
        {
          "output_type": "execute_result",
          "data": {
            "text/html": [
              "\n",
              "  <div id=\"df-43e389ca-5489-4527-ab66-38c286ce77cb\">\n",
              "    <div class=\"colab-df-container\">\n",
              "      <div>\n",
              "<style scoped>\n",
              "    .dataframe tbody tr th:only-of-type {\n",
              "        vertical-align: middle;\n",
              "    }\n",
              "\n",
              "    .dataframe tbody tr th {\n",
              "        vertical-align: top;\n",
              "    }\n",
              "\n",
              "    .dataframe thead th {\n",
              "        text-align: right;\n",
              "    }\n",
              "</style>\n",
              "<table border=\"1\" class=\"dataframe\">\n",
              "  <thead>\n",
              "    <tr style=\"text-align: right;\">\n",
              "      <th></th>\n",
              "      <th>rating</th>\n",
              "      <th>ratingCount</th>\n",
              "    </tr>\n",
              "    <tr>\n",
              "      <th>ISBN</th>\n",
              "      <th></th>\n",
              "      <th></th>\n",
              "    </tr>\n",
              "  </thead>\n",
              "  <tbody>\n",
              "    <tr>\n",
              "      <th>0971880107</th>\n",
              "      <td>4.390706</td>\n",
              "      <td>2502</td>\n",
              "    </tr>\n",
              "    <tr>\n",
              "      <th>0316666343</th>\n",
              "      <td>8.185290</td>\n",
              "      <td>1295</td>\n",
              "    </tr>\n",
              "    <tr>\n",
              "      <th>0385504209</th>\n",
              "      <td>8.435318</td>\n",
              "      <td>883</td>\n",
              "    </tr>\n",
              "    <tr>\n",
              "      <th>0060928336</th>\n",
              "      <td>7.887500</td>\n",
              "      <td>732</td>\n",
              "    </tr>\n",
              "    <tr>\n",
              "      <th>0312195516</th>\n",
              "      <td>8.182768</td>\n",
              "      <td>723</td>\n",
              "    </tr>\n",
              "  </tbody>\n",
              "</table>\n",
              "</div>\n",
              "      <button class=\"colab-df-convert\" onclick=\"convertToInteractive('df-43e389ca-5489-4527-ab66-38c286ce77cb')\"\n",
              "              title=\"Convert this dataframe to an interactive table.\"\n",
              "              style=\"display:none;\">\n",
              "        \n",
              "  <svg xmlns=\"http://www.w3.org/2000/svg\" height=\"24px\"viewBox=\"0 0 24 24\"\n",
              "       width=\"24px\">\n",
              "    <path d=\"M0 0h24v24H0V0z\" fill=\"none\"/>\n",
              "    <path d=\"M18.56 5.44l.94 2.06.94-2.06 2.06-.94-2.06-.94-.94-2.06-.94 2.06-2.06.94zm-11 1L8.5 8.5l.94-2.06 2.06-.94-2.06-.94L8.5 2.5l-.94 2.06-2.06.94zm10 10l.94 2.06.94-2.06 2.06-.94-2.06-.94-.94-2.06-.94 2.06-2.06.94z\"/><path d=\"M17.41 7.96l-1.37-1.37c-.4-.4-.92-.59-1.43-.59-.52 0-1.04.2-1.43.59L10.3 9.45l-7.72 7.72c-.78.78-.78 2.05 0 2.83L4 21.41c.39.39.9.59 1.41.59.51 0 1.02-.2 1.41-.59l7.78-7.78 2.81-2.81c.8-.78.8-2.07 0-2.86zM5.41 20L4 18.59l7.72-7.72 1.47 1.35L5.41 20z\"/>\n",
              "  </svg>\n",
              "      </button>\n",
              "      \n",
              "  <style>\n",
              "    .colab-df-container {\n",
              "      display:flex;\n",
              "      flex-wrap:wrap;\n",
              "      gap: 12px;\n",
              "    }\n",
              "\n",
              "    .colab-df-convert {\n",
              "      background-color: #E8F0FE;\n",
              "      border: none;\n",
              "      border-radius: 50%;\n",
              "      cursor: pointer;\n",
              "      display: none;\n",
              "      fill: #1967D2;\n",
              "      height: 32px;\n",
              "      padding: 0 0 0 0;\n",
              "      width: 32px;\n",
              "    }\n",
              "\n",
              "    .colab-df-convert:hover {\n",
              "      background-color: #E2EBFA;\n",
              "      box-shadow: 0px 1px 2px rgba(60, 64, 67, 0.3), 0px 1px 3px 1px rgba(60, 64, 67, 0.15);\n",
              "      fill: #174EA6;\n",
              "    }\n",
              "\n",
              "    [theme=dark] .colab-df-convert {\n",
              "      background-color: #3B4455;\n",
              "      fill: #D2E3FC;\n",
              "    }\n",
              "\n",
              "    [theme=dark] .colab-df-convert:hover {\n",
              "      background-color: #434B5C;\n",
              "      box-shadow: 0px 1px 3px 1px rgba(0, 0, 0, 0.15);\n",
              "      filter: drop-shadow(0px 1px 2px rgba(0, 0, 0, 0.3));\n",
              "      fill: #FFFFFF;\n",
              "    }\n",
              "  </style>\n",
              "\n",
              "      <script>\n",
              "        const buttonEl =\n",
              "          document.querySelector('#df-43e389ca-5489-4527-ab66-38c286ce77cb button.colab-df-convert');\n",
              "        buttonEl.style.display =\n",
              "          google.colab.kernel.accessAllowed ? 'block' : 'none';\n",
              "\n",
              "        async function convertToInteractive(key) {\n",
              "          const element = document.querySelector('#df-43e389ca-5489-4527-ab66-38c286ce77cb');\n",
              "          const dataTable =\n",
              "            await google.colab.kernel.invokeFunction('convertToInteractive',\n",
              "                                                     [key], {});\n",
              "          if (!dataTable) return;\n",
              "\n",
              "          const docLinkHtml = 'Like what you see? Visit the ' +\n",
              "            '<a target=\"_blank\" href=https://colab.research.google.com/notebooks/data_table.ipynb>data table notebook</a>'\n",
              "            + ' to learn more about interactive tables.';\n",
              "          element.innerHTML = '';\n",
              "          dataTable['output_type'] = 'display_data';\n",
              "          await google.colab.output.renderOutput(dataTable, element);\n",
              "          const docLink = document.createElement('div');\n",
              "          docLink.innerHTML = docLinkHtml;\n",
              "          element.appendChild(docLink);\n",
              "        }\n",
              "      </script>\n",
              "    </div>\n",
              "  </div>\n",
              "  "
            ],
            "text/plain": [
              "              rating  ratingCount\n",
              "ISBN                             \n",
              "0971880107  4.390706         2502\n",
              "0316666343  8.185290         1295\n",
              "0385504209  8.435318          883\n",
              "0060928336  7.887500          732\n",
              "0312195516  8.182768          723"
            ]
          },
          "metadata": {},
          "execution_count": 118
        }
      ]
    },
    {
      "cell_type": "code",
      "source": [
        "isbn = books.loc[books['Book-Title'] == bookName].reset_index(drop = True).iloc[0]['ISBN']\n",
        "row = matrix[isbn]\n",
        "correlation = pd.DataFrame(matrix.corrwith(row), columns = ['Pearson Corr'])\n",
        "corr = correlation.join(average_rating['ratingCount'])\n",
        "\n",
        "res = corr.sort_values('Pearson Corr', ascending=False).head(number+1)[1:].index\n",
        "corr_books = pd.merge(pd.DataFrame(res, columns = ['ISBN']), books, on='ISBN')\n",
        "print(\"\\n Recommended Books: \\n\")\n",
        "corr_books"
      ],
      "metadata": {
        "colab": {
          "base_uri": "https://localhost:8080/",
          "height": 258
        },
        "id": "z_ctG82NVX70",
        "outputId": "351f15ed-5ee9-42b1-e19c-7273d7cc2a1d"
      },
      "execution_count": null,
      "outputs": [
        {
          "output_type": "stream",
          "name": "stdout",
          "text": [
            "\n",
            " Recommended Books: \n",
            "\n"
          ]
        },
        {
          "output_type": "execute_result",
          "data": {
            "text/html": [
              "\n",
              "  <div id=\"df-aca76750-f065-4487-8ce1-caa2f8128d8b\">\n",
              "    <div class=\"colab-df-container\">\n",
              "      <div>\n",
              "<style scoped>\n",
              "    .dataframe tbody tr th:only-of-type {\n",
              "        vertical-align: middle;\n",
              "    }\n",
              "\n",
              "    .dataframe tbody tr th {\n",
              "        vertical-align: top;\n",
              "    }\n",
              "\n",
              "    .dataframe thead th {\n",
              "        text-align: right;\n",
              "    }\n",
              "</style>\n",
              "<table border=\"1\" class=\"dataframe\">\n",
              "  <thead>\n",
              "    <tr style=\"text-align: right;\">\n",
              "      <th></th>\n",
              "      <th>ISBN</th>\n",
              "      <th>Book-Title</th>\n",
              "      <th>Book-Author</th>\n",
              "      <th>Year-Of-Publication</th>\n",
              "      <th>Publisher</th>\n",
              "    </tr>\n",
              "  </thead>\n",
              "  <tbody>\n",
              "    <tr>\n",
              "      <th>0</th>\n",
              "      <td>0439064872</td>\n",
              "      <td>Harry Potter and the Chamber of Secrets (Book 2)</td>\n",
              "      <td>J. K. Rowling</td>\n",
              "      <td>2000</td>\n",
              "      <td>Scholastic</td>\n",
              "    </tr>\n",
              "    <tr>\n",
              "      <th>1</th>\n",
              "      <td>0439136369</td>\n",
              "      <td>Harry Potter and the Prisoner of Azkaban (Book 3)</td>\n",
              "      <td>J. K. Rowling</td>\n",
              "      <td>2001</td>\n",
              "      <td>Scholastic</td>\n",
              "    </tr>\n",
              "    <tr>\n",
              "      <th>2</th>\n",
              "      <td>0439139597</td>\n",
              "      <td>Harry Potter and the Goblet of Fire (Book 4)</td>\n",
              "      <td>J. K. Rowling</td>\n",
              "      <td>2000</td>\n",
              "      <td>Scholastic</td>\n",
              "    </tr>\n",
              "    <tr>\n",
              "      <th>3</th>\n",
              "      <td>0804115613</td>\n",
              "      <td>Fried Green Tomatoes at the Whistle Stop Cafe</td>\n",
              "      <td>Fannie Flagg</td>\n",
              "      <td>2000</td>\n",
              "      <td>Ballantine Books</td>\n",
              "    </tr>\n",
              "    <tr>\n",
              "      <th>4</th>\n",
              "      <td>0439139600</td>\n",
              "      <td>Harry Potter and the Goblet of Fire (Book 4)</td>\n",
              "      <td>J. K. Rowling</td>\n",
              "      <td>2002</td>\n",
              "      <td>Scholastic Paperbacks</td>\n",
              "    </tr>\n",
              "  </tbody>\n",
              "</table>\n",
              "</div>\n",
              "      <button class=\"colab-df-convert\" onclick=\"convertToInteractive('df-aca76750-f065-4487-8ce1-caa2f8128d8b')\"\n",
              "              title=\"Convert this dataframe to an interactive table.\"\n",
              "              style=\"display:none;\">\n",
              "        \n",
              "  <svg xmlns=\"http://www.w3.org/2000/svg\" height=\"24px\"viewBox=\"0 0 24 24\"\n",
              "       width=\"24px\">\n",
              "    <path d=\"M0 0h24v24H0V0z\" fill=\"none\"/>\n",
              "    <path d=\"M18.56 5.44l.94 2.06.94-2.06 2.06-.94-2.06-.94-.94-2.06-.94 2.06-2.06.94zm-11 1L8.5 8.5l.94-2.06 2.06-.94-2.06-.94L8.5 2.5l-.94 2.06-2.06.94zm10 10l.94 2.06.94-2.06 2.06-.94-2.06-.94-.94-2.06-.94 2.06-2.06.94z\"/><path d=\"M17.41 7.96l-1.37-1.37c-.4-.4-.92-.59-1.43-.59-.52 0-1.04.2-1.43.59L10.3 9.45l-7.72 7.72c-.78.78-.78 2.05 0 2.83L4 21.41c.39.39.9.59 1.41.59.51 0 1.02-.2 1.41-.59l7.78-7.78 2.81-2.81c.8-.78.8-2.07 0-2.86zM5.41 20L4 18.59l7.72-7.72 1.47 1.35L5.41 20z\"/>\n",
              "  </svg>\n",
              "      </button>\n",
              "      \n",
              "  <style>\n",
              "    .colab-df-container {\n",
              "      display:flex;\n",
              "      flex-wrap:wrap;\n",
              "      gap: 12px;\n",
              "    }\n",
              "\n",
              "    .colab-df-convert {\n",
              "      background-color: #E8F0FE;\n",
              "      border: none;\n",
              "      border-radius: 50%;\n",
              "      cursor: pointer;\n",
              "      display: none;\n",
              "      fill: #1967D2;\n",
              "      height: 32px;\n",
              "      padding: 0 0 0 0;\n",
              "      width: 32px;\n",
              "    }\n",
              "\n",
              "    .colab-df-convert:hover {\n",
              "      background-color: #E2EBFA;\n",
              "      box-shadow: 0px 1px 2px rgba(60, 64, 67, 0.3), 0px 1px 3px 1px rgba(60, 64, 67, 0.15);\n",
              "      fill: #174EA6;\n",
              "    }\n",
              "\n",
              "    [theme=dark] .colab-df-convert {\n",
              "      background-color: #3B4455;\n",
              "      fill: #D2E3FC;\n",
              "    }\n",
              "\n",
              "    [theme=dark] .colab-df-convert:hover {\n",
              "      background-color: #434B5C;\n",
              "      box-shadow: 0px 1px 3px 1px rgba(0, 0, 0, 0.15);\n",
              "      filter: drop-shadow(0px 1px 2px rgba(0, 0, 0, 0.3));\n",
              "      fill: #FFFFFF;\n",
              "    }\n",
              "  </style>\n",
              "\n",
              "      <script>\n",
              "        const buttonEl =\n",
              "          document.querySelector('#df-aca76750-f065-4487-8ce1-caa2f8128d8b button.colab-df-convert');\n",
              "        buttonEl.style.display =\n",
              "          google.colab.kernel.accessAllowed ? 'block' : 'none';\n",
              "\n",
              "        async function convertToInteractive(key) {\n",
              "          const element = document.querySelector('#df-aca76750-f065-4487-8ce1-caa2f8128d8b');\n",
              "          const dataTable =\n",
              "            await google.colab.kernel.invokeFunction('convertToInteractive',\n",
              "                                                     [key], {});\n",
              "          if (!dataTable) return;\n",
              "\n",
              "          const docLinkHtml = 'Like what you see? Visit the ' +\n",
              "            '<a target=\"_blank\" href=https://colab.research.google.com/notebooks/data_table.ipynb>data table notebook</a>'\n",
              "            + ' to learn more about interactive tables.';\n",
              "          element.innerHTML = '';\n",
              "          dataTable['output_type'] = 'display_data';\n",
              "          await google.colab.output.renderOutput(dataTable, element);\n",
              "          const docLink = document.createElement('div');\n",
              "          docLink.innerHTML = docLinkHtml;\n",
              "          element.appendChild(docLink);\n",
              "        }\n",
              "      </script>\n",
              "    </div>\n",
              "  </div>\n",
              "  "
            ],
            "text/plain": [
              "         ISBN  ...              Publisher\n",
              "0  0439064872  ...             Scholastic\n",
              "1  0439136369  ...             Scholastic\n",
              "2  0439139597  ...             Scholastic\n",
              "3  0804115613  ...       Ballantine Books\n",
              "4  0439139600  ...  Scholastic Paperbacks\n",
              "\n",
              "[5 rows x 5 columns]"
            ]
          },
          "metadata": {},
          "execution_count": 119
        }
      ]
    },
    {
      "cell_type": "markdown",
      "source": [
        "## **Nearest Neighbours Based**"
      ],
      "metadata": {
        "id": "wDvLHqoVnfHu"
      }
    },
    {
      "cell_type": "code",
      "source": [
        "\n",
        "data = (dataset.groupby(by = ['Book-Title'])['rating'].count().reset_index().\n",
        "        rename(columns = {'Book-Rating': 'Total-Rating'})[['Book-Title', 'rating']])\n",
        "result = pd.merge(data, dataset, on='Book-Title')\n",
        "result = result[result['rating_x'] >= popularity_threshold]\n",
        "result = result.reset_index(drop = True)"
      ],
      "metadata": {
        "id": "hnMP1-QojyOS"
      },
      "execution_count": null,
      "outputs": []
    },
    {
      "cell_type": "code",
      "source": [
        "## table pivot\n",
        "matrix = result.pivot_table(index = 'Book-Title', columns = 'User-ID', values = 'rating_x').fillna(0)\n",
        "up_matrix = csr_matrix(matrix)"
      ],
      "metadata": {
        "id": "27bAIwD_kjue"
      },
      "execution_count": null,
      "outputs": []
    },
    {
      "cell_type": "code",
      "source": [
        "model = NearestNeighbors(metric = 'cosine', algorithm = 'brute')\n",
        "model.fit(up_matrix)\n",
        "\n",
        "distances, indices = model.kneighbors(matrix.loc[bookName].values.reshape(1, -1), n_neighbors = number+1)\n",
        "print(\"\\nRecommended books:\\n\")\n",
        "for i in range(0, len(distances.flatten())):\n",
        "    if i > 0:\n",
        "        print(matrix.index[indices.flatten()[i]]) "
      ],
      "metadata": {
        "colab": {
          "base_uri": "https://localhost:8080/"
        },
        "id": "5lvzZCaZkurP",
        "outputId": "869a5f13-531c-4a8d-e7b5-460ec4ba7f38"
      },
      "execution_count": null,
      "outputs": [
        {
          "output_type": "stream",
          "name": "stdout",
          "text": [
            "\n",
            "Recommended books:\n",
            "\n",
            "Harry Potter and the Chamber of Secrets (Book 2)\n",
            "Harry Potter and the Prisoner of Azkaban (Book 3)\n",
            "Harry Potter and the Goblet of Fire (Book 4)\n",
            "Harry Potter and the Order of the Phoenix (Book 5)\n",
            "The Fellowship of the Ring (The Lord of the Rings, Part 1)\n"
          ]
        }
      ]
    },
    {
      "cell_type": "markdown",
      "source": [
        "## Content Based"
      ],
      "metadata": {
        "id": "Rf-NO2v35bPi"
      }
    },
    {
      "cell_type": "code",
      "source": [
        "popularity_threshold = 80\n",
        "popular_book = df[df['Total-Ratings'] >= popularity_threshold]\n",
        "popular_book = popular_book.reset_index(drop = True)\n",
        "popular_book.shape"
      ],
      "metadata": {
        "colab": {
          "base_uri": "https://localhost:8080/"
        },
        "id": "jI6oG5935YPF",
        "outputId": "5e1ada38-b13b-4dc3-b02d-ee312d9e727b"
      },
      "execution_count": null,
      "outputs": [
        {
          "output_type": "execute_result",
          "data": {
            "text/plain": [
              "(44619, 8)"
            ]
          },
          "metadata": {},
          "execution_count": 127
        }
      ]
    },
    {
      "cell_type": "code",
      "source": [
        "tf = TfidfVectorizer(ngram_range=(1, 2), min_df = 1, stop_words='english')\n",
        "tfidf_matrix = tf.fit_transform(popular_book['Book-Title'])\n",
        "tfidf_matrix.shape"
      ],
      "metadata": {
        "colab": {
          "base_uri": "https://localhost:8080/"
        },
        "id": "1q82RuR98R1Z",
        "outputId": "70d9fb88-3fdc-4362-b45a-0b1f65493e46"
      },
      "execution_count": null,
      "outputs": [
        {
          "output_type": "execute_result",
          "data": {
            "text/plain": [
              "(44619, 1112)"
            ]
          },
          "metadata": {},
          "execution_count": 124
        }
      ]
    },
    {
      "cell_type": "code",
      "source": [
        "normalized_df = tfidf_matrix.astype(np.float32)\n",
        "cosine_similarities = cosine_similarity(normalized_df, normalized_df)\n",
        "cosine_similarities.shape"
      ],
      "metadata": {
        "colab": {
          "base_uri": "https://localhost:8080/"
        },
        "id": "3cleHqWq8e9U",
        "outputId": "e9928411-4708-40b2-839e-7e94e3853e07"
      },
      "execution_count": null,
      "outputs": [
        {
          "output_type": "execute_result",
          "data": {
            "text/plain": [
              "(44619, 44619)"
            ]
          },
          "metadata": {},
          "execution_count": 125
        }
      ]
    },
    {
      "cell_type": "code",
      "source": [
        "print(\"Recommended Books:\\n\")\n",
        "isbn = books.loc[books['Book-Title'] == bookName].reset_index(drop = True).iloc[0]['ISBN']\n",
        "content = []\n",
        "\n",
        "idx = popular_book.index[popular_book['ISBN'] == isbn].tolist()[0]\n",
        "similar_indices = cosine_similarities[idx].argsort()[::-1]\n",
        "similar_items = []\n",
        "for i in similar_indices:\n",
        "    if popular_book['Book-Title'][i] != bookName and popular_book['Book-Title'][i] not in similar_items and len(similar_items) < number:\n",
        "        similar_items.append(popular_book['Book-Title'][i])\n",
        "        content.append(popular_book['Book-Title'][i])\n",
        "\n",
        "for book in similar_items:\n",
        "    print(book)"
      ],
      "metadata": {
        "colab": {
          "base_uri": "https://localhost:8080/"
        },
        "id": "C_BXk_3K8jCu",
        "outputId": "2147d37d-050e-4000-83db-c33bb743598e"
      },
      "execution_count": null,
      "outputs": [
        {
          "output_type": "stream",
          "name": "stdout",
          "text": [
            "Recommended Books:\n",
            "\n",
            "Harry Potter and the Sorcerer's Stone (Book 1)\n",
            "Harry Potter and the Goblet of Fire (Book 4)\n",
            "Harry Potter and the Chamber of Secrets (Book 2)\n",
            "Harry Potter and the Prisoner of Azkaban (Book 3)\n",
            "Harry Potter and the Order of the Phoenix (Book 5)\n"
          ]
        }
      ]
    },
    {
      "cell_type": "markdown",
      "source": [
        "## Hybrid Approach (Content+Collaborative) Using percentile"
      ],
      "metadata": {
        "id": "fzt6M9NMB0u9"
      }
    },
    {
      "cell_type": "code",
      "source": [
        "z = list()\n",
        "k = float(1/number)\n",
        "for x in range(number):\n",
        "      z.append(1-k*x)\n",
        "\n",
        "dictISBN = {}\n",
        "for x in collaborative:\n",
        "      dictISBN[x] = z[collaborative.index(x)]\n",
        "\n",
        "for x in content:\n",
        "    if x not in dictISBN:\n",
        "        dictISBN[x] = z[content.index(x)]\n",
        "    else:\n",
        "        dictISBN[x] += z[content.index(x)]\n",
        "\n",
        "ISBN = dict(sorted(dictISBN.items(),key=operator.itemgetter(1),reverse=True))\n",
        "w=0\n",
        "print(\"Input Book:\\n\")\n",
        "print(bookName)\n",
        "print(\"\\nRecommended Books:\\n\")\n",
        "for x in ISBN.keys():\n",
        "    if w>=number:\n",
        "        break\n",
        "    w+=1\n",
        "    print(x)"
      ],
      "metadata": {
        "colab": {
          "base_uri": "https://localhost:8080/"
        },
        "id": "774nIxtQB2nA",
        "outputId": "babb0978-52c8-4e91-e52f-73212d61129b"
      },
      "execution_count": null,
      "outputs": [
        {
          "output_type": "stream",
          "name": "stdout",
          "text": [
            "Input Book:\n",
            "\n",
            "Harry Potter and the Sorcerer's Stone (Harry Potter (Paperback))\n",
            "\n",
            "Recommended Books:\n",
            "\n",
            "Harry Potter and the Goblet of Fire (Book 4)\n",
            "Harry Potter and the Prisoner of Azkaban (Book 3)\n",
            "Harry Potter and the Sorcerer's Stone (Book 1)\n",
            "Harry Potter and the Chamber of Secrets (Book 2)\n",
            "Harry Potter and the Order of the Phoenix (Book 5)\n"
          ]
        }
      ]
    }
  ]
}